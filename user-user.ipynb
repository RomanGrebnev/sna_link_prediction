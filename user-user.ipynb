{
 "cells": [
  {
   "cell_type": "markdown",
   "metadata": {},
   "source": [
    "# Social Network Analysis user-user graph"
   ]
  },
  {
   "cell_type": "markdown",
   "metadata": {},
   "source": [
    "## Data"
   ]
  },
  {
   "cell_type": "code",
   "execution_count": 4,
   "metadata": {
    "ExecuteTime": {
     "end_time": "2023-12-04T17:49:47.043265Z",
     "start_time": "2023-12-04T17:49:46.959805Z"
    }
   },
   "outputs": [],
   "source": [
    "import numpy as np\n",
    "import networkx as nx\n",
    "import pandas as pd\n",
    "import matplotlib.pyplot as plt"
   ]
  },
  {
   "cell_type": "markdown",
   "metadata": {},
   "source": [
    "## File raw"
   ]
  },
  {
   "cell_type": "code",
   "execution_count": 18,
   "metadata": {
    "ExecuteTime": {
     "end_time": "2023-12-04T18:32:06.349135Z",
     "start_time": "2023-12-04T18:32:04.251502Z"
    }
   },
   "outputs": [
    {
     "data": {
      "text/plain": "    ID_Posting  ID_Posting_Parent  ID_CommunityIdentity  \\\n0   1041073586       1.041073e+09                671476   \n1   1041073839       1.041073e+09                566938   \n2   1041073872       1.041069e+09                669286   \n3   1041080734       1.041080e+09                671476   \n4   1041080828                NaN                671476   \n5   1041080938       1.041081e+09                671476   \n6   1041073564       1.041073e+09                523527   \n7   1041073653       1.041073e+09                 74674   \n8   1041073766       1.041074e+09                 74674   \n9   1041073991                NaN                 81444   \n10  1041074052       1.041073e+09                 74674   \n11  1041074142       1.041073e+09                 74674   \n12  1041080903                NaN                 81444   \n13  1041126226       1.041126e+09                608361   \n14  1041126236       1.041125e+09                237970   \n15  1041126445       1.041126e+09                587187   \n16  1041126457       1.041126e+09                 75733   \n17  1041126471       1.041126e+09                 75733   \n18  1041126541                NaN                551823   \n19  1041058284                NaN                574705   \n20  1041098226                NaN                530702   \n21  1041058340                NaN                680648   \n22  1041058579                NaN                680648   \n23  1041058600                NaN                527643   \n24  1041058672       1.041058e+09                574705   \n25  1041058132                NaN                525170   \n26  1041058336       1.041058e+09                634887   \n27  1041058482       1.041058e+09                563778   \n28  1041058755                NaN                546698   \n29  1041058251       1.041058e+09                  4145   \n\n                                      PostingHeadline  \\\n0   Das hat gestern bereits der Voggenhuber angefü...   \n1                                                 NaN   \n2                                                 NaN   \n3                   Sie haben doch nichts gefordert??   \n4   Heute wäre der perfekte Tag für die SPÖ gewese...   \n5               Wer sollte die ÖVP bzw. FPÖ ersetzen?   \n6   Ja, als die Genossen in der Regierung war würd...   \n7                                                 NaN   \n8                                                 NaN   \n9            Wie viele GenossInnen waren es wirklich?   \n10                                                NaN   \n11                                                NaN   \n12                             Falsche Überschrift...   \n13                                                NaN   \n14                                vollkommen richtig.   \n15  https://www.kleinezeitung.at/politik/innenpoli...   \n16                                                NaN   \n17                                                NaN   \n18                                                NaN   \n19                                                NaN   \n20  Die Vorgänge in Venezuela stammen aus dem Regi...   \n21                   Endlich performen ist die Lösung   \n22                                        Ich will...   \n23  ...die Aiblinger ist ein Hammer. Als ob in der...   \n24                                                NaN   \n25                                                NaN   \n26                                                NaN   \n27                                                NaN   \n28                                                NaN   \n29                                                NaN   \n\n                                       PostingComment  \\\n0   schieder hatte dem inhaltlich nichts entgegenz...   \n1      ...und meinen Bezirk bekommst du als Erbe mit.   \n2   Nein, bei der ÖVP/FPÖ genauso passiert. Ich wo...   \n3   sie haben nur die regierung kritisiert. das di...   \n4   ihr noch nicht erfülltes versprechen, den silb...   \n5   die SPÖ ist derzeit weder regierungsfähig, noc...   \n6   Und: eine schwarze Null haben rotbeteiligte Re...   \n7   Woher haben Sie diese angeblichen Zahlen der P...   \n8                                                 Wo?   \n9   Die SPÖ sagt 120.000, die Polizei hat gezählt ...   \n10  Andreas Schieder hat eine geniale Rede gehalte...   \n11  Ich habe heute am Maiaufmarsch viele gute Idee...   \n12  ...denn richtig müsste es heisen: SPÖler förde...   \n13                                                NaN   \n14  bei aller unsympathie der F und konsorten hilf...   \n15  https://diepresse.com/home/bildung/schule/5172...   \n16  Em ja das Land hat (zum Glück mittlerweile) ei...   \n17  Zahlen interessieren sie wohl nicht so ehr, oder?   \n18           Mit verschlossenen Augen gegen die Wand.   \n19  Eine Debatte über die Ausrichtung. Mal wieder....   \n20  die USA wussten, dass ihre Partei ( VP ) und i...   \n21  Wenn du an die Macht willst um gutes zu tun, m...   \n22  ... eine SPÖ die hart arbeitet, wo die  Maßhem...   \n23  ...so lange es derart viele Wähler gibt, die d...   \n24  Dazu ist man sich aber in den SPX-Parteien eur...   \n25  Kleiner Input für die ideologischen Debatten. ...   \n26  Wer darf es denn dann sein, dass es für mehr a...   \n27  Weil andere Parteien nicht herumeiern.  Es wir...   \n28  Genau das braucht die Partei am 1. Mai. Eine E...   \n29  Einen? Daneben gibt's ja noch den Gastkommenta...   \n\n           PostingCreatedAt     ID_Article   ArticlePublishingDate  \\\n0   2019-05-01 18:21:15.127  2000102330973  2019-05-01 10:28:57.49   \n1   2019-05-01 18:28:22.040  2000102330973  2019-05-01 10:28:57.49   \n2   2019-05-01 18:29:05.533  2000102330973  2019-05-01 10:28:57.49   \n3   2019-05-01 22:37:56.010  2000102330973  2019-05-01 10:28:57.49   \n4   2019-05-01 22:42:06.310  2000102330973  2019-05-01 10:28:57.49   \n5   2019-05-01 22:46:05.570  2000102330973  2019-05-01 10:28:57.49   \n6   2019-05-01 18:20:52.583  2000102330973  2019-05-01 10:28:57.49   \n7   2019-05-01 18:23:04.450  2000102330973  2019-05-01 10:28:57.49   \n8   2019-05-01 18:26:02.700  2000102330973  2019-05-01 10:28:57.49   \n9   2019-05-01 18:31:34.057  2000102330973  2019-05-01 10:28:57.49   \n10  2019-05-01 18:32:47.470  2000102330973  2019-05-01 10:28:57.49   \n11  2019-05-01 18:35:15.857  2000102330973  2019-05-01 10:28:57.49   \n12  2019-05-01 22:45:02.803  2000102330973  2019-05-01 10:28:57.49   \n13  2019-05-03 15:13:03.717  2000102386715  2019-05-03 11:45:14.00   \n14  2019-05-03 15:13:25.120  2000102386715  2019-05-03 11:45:14.00   \n15  2019-05-03 15:21:10.357  2000102386715  2019-05-03 11:45:14.00   \n16  2019-05-03 15:21:25.817  2000102386715  2019-05-03 11:45:14.00   \n17  2019-05-03 15:21:45.503  2000102386715  2019-05-03 11:45:14.00   \n18  2019-05-03 15:24:10.987  2000102386715  2019-05-03 11:45:14.00   \n19  2019-05-01 08:33:30.043  2000102257779  2019-05-01 08:00:00.00   \n20  2019-05-02 15:20:42.953  2000102370556  2019-05-02 09:30:02.84   \n21  2019-05-01 08:37:00.830  2000102257779  2019-05-01 08:00:00.00   \n22  2019-05-01 08:50:15.740  2000102257779  2019-05-01 08:00:00.00   \n23  2019-05-01 08:51:11.370  2000102257779  2019-05-01 08:00:00.00   \n24  2019-05-01 08:54:26.993  2000102257779  2019-05-01 08:00:00.00   \n25  2019-05-01 08:25:13.710  2000102257779  2019-05-01 08:00:00.00   \n26  2019-05-01 08:36:51.393  2000102257779  2019-05-01 08:00:00.00   \n27  2019-05-01 08:46:00.067  2000102257779  2019-05-01 08:00:00.00   \n28  2019-05-01 08:58:39.723  2000102257779  2019-05-01 08:00:00.00   \n29  2019-05-01 08:31:45.527  2000102263929  2019-05-01 08:00:00.00   \n\n                                         ArticleTitle ArticleChannel  \\\n0   1. Mai in Wien: SPÖ fordert von Strache Rücktritt         Inland   \n1   1. Mai in Wien: SPÖ fordert von Strache Rücktritt         Inland   \n2   1. Mai in Wien: SPÖ fordert von Strache Rücktritt         Inland   \n3   1. Mai in Wien: SPÖ fordert von Strache Rücktritt         Inland   \n4   1. Mai in Wien: SPÖ fordert von Strache Rücktritt         Inland   \n5   1. Mai in Wien: SPÖ fordert von Strache Rücktritt         Inland   \n6   1. Mai in Wien: SPÖ fordert von Strache Rücktritt         Inland   \n7   1. Mai in Wien: SPÖ fordert von Strache Rücktritt         Inland   \n8   1. Mai in Wien: SPÖ fordert von Strache Rücktritt         Inland   \n9   1. Mai in Wien: SPÖ fordert von Strache Rücktritt         Inland   \n10  1. Mai in Wien: SPÖ fordert von Strache Rücktritt         Inland   \n11  1. Mai in Wien: SPÖ fordert von Strache Rücktritt         Inland   \n12  1. Mai in Wien: SPÖ fordert von Strache Rücktritt         Inland   \n13  Welcher \"Austausch\" der Bevölkerung in Österre...         Inland   \n14  Welcher \"Austausch\" der Bevölkerung in Österre...         Inland   \n15  Welcher \"Austausch\" der Bevölkerung in Österre...         Inland   \n16  Welcher \"Austausch\" der Bevölkerung in Österre...         Inland   \n17  Welcher \"Austausch\" der Bevölkerung in Österre...         Inland   \n18  Welcher \"Austausch\" der Bevölkerung in Österre...         Inland   \n19  Vom Umgang der SPÖ mit der FPÖ: In Parteistatu...        Meinung   \n20  Haftbefehl gegen Oppositionsführer López in Ve...  International   \n21  Vom Umgang der SPÖ mit der FPÖ: In Parteistatu...        Meinung   \n22  Vom Umgang der SPÖ mit der FPÖ: In Parteistatu...        Meinung   \n23  Vom Umgang der SPÖ mit der FPÖ: In Parteistatu...        Meinung   \n24  Vom Umgang der SPÖ mit der FPÖ: In Parteistatu...        Meinung   \n25  Vom Umgang der SPÖ mit der FPÖ: In Parteistatu...        Meinung   \n26  Vom Umgang der SPÖ mit der FPÖ: In Parteistatu...        Meinung   \n27  Vom Umgang der SPÖ mit der FPÖ: In Parteistatu...        Meinung   \n28  Vom Umgang der SPÖ mit der FPÖ: In Parteistatu...        Meinung   \n29  Roter Weltrevolutionär trifft Pragmatiker: \"In...         Inland   \n\n        ArticleRessortName                  UserCommunityName UserGender  \\\n0                 Parteien                        Ravenspower        NaN   \n1                 Parteien                         AlphaRomeo          m   \n2                 Parteien                         Hpolditsch        NaN   \n3                 Parteien                        Ravenspower        NaN   \n4                 Parteien                        Ravenspower        NaN   \n5                 Parteien                        Ravenspower        NaN   \n6                 Parteien                       icecold_lips          m   \n7                 Parteien                  GuteNachtSchaukel        NaN   \n8                 Parteien                  GuteNachtSchaukel        NaN   \n9                 Parteien                     Hausverstand55          m   \n10                Parteien                  GuteNachtSchaukel        NaN   \n11                Parteien                  GuteNachtSchaukel        NaN   \n12                Parteien                     Hausverstand55          m   \n13             Sachpolitik                       urban_reload          m   \n14             Sachpolitik                           sysiphos          m   \n15             Sachpolitik                        hello dolly          w   \n16             Sachpolitik                  girls in the cage          m   \n17             Sachpolitik                  girls in the cage          m   \n18             Sachpolitik                              tssab          m   \n19  Kommentare der anderen                      Horst Hoppala          m   \n20               Venezuela                         ZapataEZLN          m   \n21  Kommentare der anderen                        Devianticos        NaN   \n22  Kommentare der anderen                        Devianticos        NaN   \n23  Kommentare der anderen  optimistisch in die Vergangenheit          w   \n24  Kommentare der anderen                      Horst Hoppala          m   \n25  Kommentare der anderen             mmmmmmmmmmmmmmmmmmmmmm          m   \n26  Kommentare der anderen                          lucky1107        NaN   \n27  Kommentare der anderen                           Glumanda          m   \n28  Kommentare der anderen                        Beachy Head          m   \n29                     SPÖ                          \\caliban/          m   \n\n              UserCreatedAt  \n0   2018-04-14 13:42:28.470  \n1   2015-08-28 17:07:41.110  \n2   2018-03-06 20:03:42.737  \n3   2018-04-14 13:42:28.470  \n4   2018-04-14 13:42:28.470  \n5   2018-04-14 13:42:28.470  \n6   2013-09-04 12:37:09.603  \n7   2007-04-02 20:34:49.397  \n8   2007-04-02 20:34:49.397  \n9   2011-01-02 21:33:17.030  \n10  2007-04-02 20:34:49.397  \n11  2007-04-02 20:34:49.397  \n12  2011-01-02 21:33:17.030  \n13  2017-02-09 00:41:44.360  \n14  2000-08-29 15:27:20.000  \n15  2016-07-06 13:42:19.900  \n16  2005-12-07 13:29:16.990  \n17  2005-12-07 13:29:16.990  \n18  2014-10-31 18:21:24.403  \n19  2016-01-11 22:10:29.677  \n20  2013-12-11 10:35:00.163  \n21  2018-09-24 19:55:30.437  \n22  2018-09-24 19:55:30.437  \n23  2013-10-26 08:12:22.637  \n24  2016-01-11 22:10:29.677  \n25  2013-09-20 18:55:13.707  \n26  2017-06-20 08:09:46.577  \n27  2015-06-26 07:21:53.540  \n28  2014-07-23 09:45:49.503  \n29  2009-02-09 15:12:35.810  ",
      "text/html": "<div>\n<style scoped>\n    .dataframe tbody tr th:only-of-type {\n        vertical-align: middle;\n    }\n\n    .dataframe tbody tr th {\n        vertical-align: top;\n    }\n\n    .dataframe thead th {\n        text-align: right;\n    }\n</style>\n<table border=\"1\" class=\"dataframe\">\n  <thead>\n    <tr style=\"text-align: right;\">\n      <th></th>\n      <th>ID_Posting</th>\n      <th>ID_Posting_Parent</th>\n      <th>ID_CommunityIdentity</th>\n      <th>PostingHeadline</th>\n      <th>PostingComment</th>\n      <th>PostingCreatedAt</th>\n      <th>ID_Article</th>\n      <th>ArticlePublishingDate</th>\n      <th>ArticleTitle</th>\n      <th>ArticleChannel</th>\n      <th>ArticleRessortName</th>\n      <th>UserCommunityName</th>\n      <th>UserGender</th>\n      <th>UserCreatedAt</th>\n    </tr>\n  </thead>\n  <tbody>\n    <tr>\n      <th>0</th>\n      <td>1041073586</td>\n      <td>1.041073e+09</td>\n      <td>671476</td>\n      <td>Das hat gestern bereits der Voggenhuber angefü...</td>\n      <td>schieder hatte dem inhaltlich nichts entgegenz...</td>\n      <td>2019-05-01 18:21:15.127</td>\n      <td>2000102330973</td>\n      <td>2019-05-01 10:28:57.49</td>\n      <td>1. Mai in Wien: SPÖ fordert von Strache Rücktritt</td>\n      <td>Inland</td>\n      <td>Parteien</td>\n      <td>Ravenspower</td>\n      <td>NaN</td>\n      <td>2018-04-14 13:42:28.470</td>\n    </tr>\n    <tr>\n      <th>1</th>\n      <td>1041073839</td>\n      <td>1.041073e+09</td>\n      <td>566938</td>\n      <td>NaN</td>\n      <td>...und meinen Bezirk bekommst du als Erbe mit.</td>\n      <td>2019-05-01 18:28:22.040</td>\n      <td>2000102330973</td>\n      <td>2019-05-01 10:28:57.49</td>\n      <td>1. Mai in Wien: SPÖ fordert von Strache Rücktritt</td>\n      <td>Inland</td>\n      <td>Parteien</td>\n      <td>AlphaRomeo</td>\n      <td>m</td>\n      <td>2015-08-28 17:07:41.110</td>\n    </tr>\n    <tr>\n      <th>2</th>\n      <td>1041073872</td>\n      <td>1.041069e+09</td>\n      <td>669286</td>\n      <td>NaN</td>\n      <td>Nein, bei der ÖVP/FPÖ genauso passiert. Ich wo...</td>\n      <td>2019-05-01 18:29:05.533</td>\n      <td>2000102330973</td>\n      <td>2019-05-01 10:28:57.49</td>\n      <td>1. Mai in Wien: SPÖ fordert von Strache Rücktritt</td>\n      <td>Inland</td>\n      <td>Parteien</td>\n      <td>Hpolditsch</td>\n      <td>NaN</td>\n      <td>2018-03-06 20:03:42.737</td>\n    </tr>\n    <tr>\n      <th>3</th>\n      <td>1041080734</td>\n      <td>1.041080e+09</td>\n      <td>671476</td>\n      <td>Sie haben doch nichts gefordert??</td>\n      <td>sie haben nur die regierung kritisiert. das di...</td>\n      <td>2019-05-01 22:37:56.010</td>\n      <td>2000102330973</td>\n      <td>2019-05-01 10:28:57.49</td>\n      <td>1. Mai in Wien: SPÖ fordert von Strache Rücktritt</td>\n      <td>Inland</td>\n      <td>Parteien</td>\n      <td>Ravenspower</td>\n      <td>NaN</td>\n      <td>2018-04-14 13:42:28.470</td>\n    </tr>\n    <tr>\n      <th>4</th>\n      <td>1041080828</td>\n      <td>NaN</td>\n      <td>671476</td>\n      <td>Heute wäre der perfekte Tag für die SPÖ gewese...</td>\n      <td>ihr noch nicht erfülltes versprechen, den silb...</td>\n      <td>2019-05-01 22:42:06.310</td>\n      <td>2000102330973</td>\n      <td>2019-05-01 10:28:57.49</td>\n      <td>1. Mai in Wien: SPÖ fordert von Strache Rücktritt</td>\n      <td>Inland</td>\n      <td>Parteien</td>\n      <td>Ravenspower</td>\n      <td>NaN</td>\n      <td>2018-04-14 13:42:28.470</td>\n    </tr>\n    <tr>\n      <th>5</th>\n      <td>1041080938</td>\n      <td>1.041081e+09</td>\n      <td>671476</td>\n      <td>Wer sollte die ÖVP bzw. FPÖ ersetzen?</td>\n      <td>die SPÖ ist derzeit weder regierungsfähig, noc...</td>\n      <td>2019-05-01 22:46:05.570</td>\n      <td>2000102330973</td>\n      <td>2019-05-01 10:28:57.49</td>\n      <td>1. Mai in Wien: SPÖ fordert von Strache Rücktritt</td>\n      <td>Inland</td>\n      <td>Parteien</td>\n      <td>Ravenspower</td>\n      <td>NaN</td>\n      <td>2018-04-14 13:42:28.470</td>\n    </tr>\n    <tr>\n      <th>6</th>\n      <td>1041073564</td>\n      <td>1.041073e+09</td>\n      <td>523527</td>\n      <td>Ja, als die Genossen in der Regierung war würd...</td>\n      <td>Und: eine schwarze Null haben rotbeteiligte Re...</td>\n      <td>2019-05-01 18:20:52.583</td>\n      <td>2000102330973</td>\n      <td>2019-05-01 10:28:57.49</td>\n      <td>1. Mai in Wien: SPÖ fordert von Strache Rücktritt</td>\n      <td>Inland</td>\n      <td>Parteien</td>\n      <td>icecold_lips</td>\n      <td>m</td>\n      <td>2013-09-04 12:37:09.603</td>\n    </tr>\n    <tr>\n      <th>7</th>\n      <td>1041073653</td>\n      <td>1.041073e+09</td>\n      <td>74674</td>\n      <td>NaN</td>\n      <td>Woher haben Sie diese angeblichen Zahlen der P...</td>\n      <td>2019-05-01 18:23:04.450</td>\n      <td>2000102330973</td>\n      <td>2019-05-01 10:28:57.49</td>\n      <td>1. Mai in Wien: SPÖ fordert von Strache Rücktritt</td>\n      <td>Inland</td>\n      <td>Parteien</td>\n      <td>GuteNachtSchaukel</td>\n      <td>NaN</td>\n      <td>2007-04-02 20:34:49.397</td>\n    </tr>\n    <tr>\n      <th>8</th>\n      <td>1041073766</td>\n      <td>1.041074e+09</td>\n      <td>74674</td>\n      <td>NaN</td>\n      <td>Wo?</td>\n      <td>2019-05-01 18:26:02.700</td>\n      <td>2000102330973</td>\n      <td>2019-05-01 10:28:57.49</td>\n      <td>1. Mai in Wien: SPÖ fordert von Strache Rücktritt</td>\n      <td>Inland</td>\n      <td>Parteien</td>\n      <td>GuteNachtSchaukel</td>\n      <td>NaN</td>\n      <td>2007-04-02 20:34:49.397</td>\n    </tr>\n    <tr>\n      <th>9</th>\n      <td>1041073991</td>\n      <td>NaN</td>\n      <td>81444</td>\n      <td>Wie viele GenossInnen waren es wirklich?</td>\n      <td>Die SPÖ sagt 120.000, die Polizei hat gezählt ...</td>\n      <td>2019-05-01 18:31:34.057</td>\n      <td>2000102330973</td>\n      <td>2019-05-01 10:28:57.49</td>\n      <td>1. Mai in Wien: SPÖ fordert von Strache Rücktritt</td>\n      <td>Inland</td>\n      <td>Parteien</td>\n      <td>Hausverstand55</td>\n      <td>m</td>\n      <td>2011-01-02 21:33:17.030</td>\n    </tr>\n    <tr>\n      <th>10</th>\n      <td>1041074052</td>\n      <td>1.041073e+09</td>\n      <td>74674</td>\n      <td>NaN</td>\n      <td>Andreas Schieder hat eine geniale Rede gehalte...</td>\n      <td>2019-05-01 18:32:47.470</td>\n      <td>2000102330973</td>\n      <td>2019-05-01 10:28:57.49</td>\n      <td>1. Mai in Wien: SPÖ fordert von Strache Rücktritt</td>\n      <td>Inland</td>\n      <td>Parteien</td>\n      <td>GuteNachtSchaukel</td>\n      <td>NaN</td>\n      <td>2007-04-02 20:34:49.397</td>\n    </tr>\n    <tr>\n      <th>11</th>\n      <td>1041074142</td>\n      <td>1.041073e+09</td>\n      <td>74674</td>\n      <td>NaN</td>\n      <td>Ich habe heute am Maiaufmarsch viele gute Idee...</td>\n      <td>2019-05-01 18:35:15.857</td>\n      <td>2000102330973</td>\n      <td>2019-05-01 10:28:57.49</td>\n      <td>1. Mai in Wien: SPÖ fordert von Strache Rücktritt</td>\n      <td>Inland</td>\n      <td>Parteien</td>\n      <td>GuteNachtSchaukel</td>\n      <td>NaN</td>\n      <td>2007-04-02 20:34:49.397</td>\n    </tr>\n    <tr>\n      <th>12</th>\n      <td>1041080903</td>\n      <td>NaN</td>\n      <td>81444</td>\n      <td>Falsche Überschrift...</td>\n      <td>...denn richtig müsste es heisen: SPÖler förde...</td>\n      <td>2019-05-01 22:45:02.803</td>\n      <td>2000102330973</td>\n      <td>2019-05-01 10:28:57.49</td>\n      <td>1. Mai in Wien: SPÖ fordert von Strache Rücktritt</td>\n      <td>Inland</td>\n      <td>Parteien</td>\n      <td>Hausverstand55</td>\n      <td>m</td>\n      <td>2011-01-02 21:33:17.030</td>\n    </tr>\n    <tr>\n      <th>13</th>\n      <td>1041126226</td>\n      <td>1.041126e+09</td>\n      <td>608361</td>\n      <td>NaN</td>\n      <td>NaN</td>\n      <td>2019-05-03 15:13:03.717</td>\n      <td>2000102386715</td>\n      <td>2019-05-03 11:45:14.00</td>\n      <td>Welcher \"Austausch\" der Bevölkerung in Österre...</td>\n      <td>Inland</td>\n      <td>Sachpolitik</td>\n      <td>urban_reload</td>\n      <td>m</td>\n      <td>2017-02-09 00:41:44.360</td>\n    </tr>\n    <tr>\n      <th>14</th>\n      <td>1041126236</td>\n      <td>1.041125e+09</td>\n      <td>237970</td>\n      <td>vollkommen richtig.</td>\n      <td>bei aller unsympathie der F und konsorten hilf...</td>\n      <td>2019-05-03 15:13:25.120</td>\n      <td>2000102386715</td>\n      <td>2019-05-03 11:45:14.00</td>\n      <td>Welcher \"Austausch\" der Bevölkerung in Österre...</td>\n      <td>Inland</td>\n      <td>Sachpolitik</td>\n      <td>sysiphos</td>\n      <td>m</td>\n      <td>2000-08-29 15:27:20.000</td>\n    </tr>\n    <tr>\n      <th>15</th>\n      <td>1041126445</td>\n      <td>1.041126e+09</td>\n      <td>587187</td>\n      <td>https://www.kleinezeitung.at/politik/innenpoli...</td>\n      <td>https://diepresse.com/home/bildung/schule/5172...</td>\n      <td>2019-05-03 15:21:10.357</td>\n      <td>2000102386715</td>\n      <td>2019-05-03 11:45:14.00</td>\n      <td>Welcher \"Austausch\" der Bevölkerung in Österre...</td>\n      <td>Inland</td>\n      <td>Sachpolitik</td>\n      <td>hello dolly</td>\n      <td>w</td>\n      <td>2016-07-06 13:42:19.900</td>\n    </tr>\n    <tr>\n      <th>16</th>\n      <td>1041126457</td>\n      <td>1.041126e+09</td>\n      <td>75733</td>\n      <td>NaN</td>\n      <td>Em ja das Land hat (zum Glück mittlerweile) ei...</td>\n      <td>2019-05-03 15:21:25.817</td>\n      <td>2000102386715</td>\n      <td>2019-05-03 11:45:14.00</td>\n      <td>Welcher \"Austausch\" der Bevölkerung in Österre...</td>\n      <td>Inland</td>\n      <td>Sachpolitik</td>\n      <td>girls in the cage</td>\n      <td>m</td>\n      <td>2005-12-07 13:29:16.990</td>\n    </tr>\n    <tr>\n      <th>17</th>\n      <td>1041126471</td>\n      <td>1.041126e+09</td>\n      <td>75733</td>\n      <td>NaN</td>\n      <td>Zahlen interessieren sie wohl nicht so ehr, oder?</td>\n      <td>2019-05-03 15:21:45.503</td>\n      <td>2000102386715</td>\n      <td>2019-05-03 11:45:14.00</td>\n      <td>Welcher \"Austausch\" der Bevölkerung in Österre...</td>\n      <td>Inland</td>\n      <td>Sachpolitik</td>\n      <td>girls in the cage</td>\n      <td>m</td>\n      <td>2005-12-07 13:29:16.990</td>\n    </tr>\n    <tr>\n      <th>18</th>\n      <td>1041126541</td>\n      <td>NaN</td>\n      <td>551823</td>\n      <td>NaN</td>\n      <td>Mit verschlossenen Augen gegen die Wand.</td>\n      <td>2019-05-03 15:24:10.987</td>\n      <td>2000102386715</td>\n      <td>2019-05-03 11:45:14.00</td>\n      <td>Welcher \"Austausch\" der Bevölkerung in Österre...</td>\n      <td>Inland</td>\n      <td>Sachpolitik</td>\n      <td>tssab</td>\n      <td>m</td>\n      <td>2014-10-31 18:21:24.403</td>\n    </tr>\n    <tr>\n      <th>19</th>\n      <td>1041058284</td>\n      <td>NaN</td>\n      <td>574705</td>\n      <td>NaN</td>\n      <td>Eine Debatte über die Ausrichtung. Mal wieder....</td>\n      <td>2019-05-01 08:33:30.043</td>\n      <td>2000102257779</td>\n      <td>2019-05-01 08:00:00.00</td>\n      <td>Vom Umgang der SPÖ mit der FPÖ: In Parteistatu...</td>\n      <td>Meinung</td>\n      <td>Kommentare der anderen</td>\n      <td>Horst Hoppala</td>\n      <td>m</td>\n      <td>2016-01-11 22:10:29.677</td>\n    </tr>\n    <tr>\n      <th>20</th>\n      <td>1041098226</td>\n      <td>NaN</td>\n      <td>530702</td>\n      <td>Die Vorgänge in Venezuela stammen aus dem Regi...</td>\n      <td>die USA wussten, dass ihre Partei ( VP ) und i...</td>\n      <td>2019-05-02 15:20:42.953</td>\n      <td>2000102370556</td>\n      <td>2019-05-02 09:30:02.84</td>\n      <td>Haftbefehl gegen Oppositionsführer López in Ve...</td>\n      <td>International</td>\n      <td>Venezuela</td>\n      <td>ZapataEZLN</td>\n      <td>m</td>\n      <td>2013-12-11 10:35:00.163</td>\n    </tr>\n    <tr>\n      <th>21</th>\n      <td>1041058340</td>\n      <td>NaN</td>\n      <td>680648</td>\n      <td>Endlich performen ist die Lösung</td>\n      <td>Wenn du an die Macht willst um gutes zu tun, m...</td>\n      <td>2019-05-01 08:37:00.830</td>\n      <td>2000102257779</td>\n      <td>2019-05-01 08:00:00.00</td>\n      <td>Vom Umgang der SPÖ mit der FPÖ: In Parteistatu...</td>\n      <td>Meinung</td>\n      <td>Kommentare der anderen</td>\n      <td>Devianticos</td>\n      <td>NaN</td>\n      <td>2018-09-24 19:55:30.437</td>\n    </tr>\n    <tr>\n      <th>22</th>\n      <td>1041058579</td>\n      <td>NaN</td>\n      <td>680648</td>\n      <td>Ich will...</td>\n      <td>... eine SPÖ die hart arbeitet, wo die  Maßhem...</td>\n      <td>2019-05-01 08:50:15.740</td>\n      <td>2000102257779</td>\n      <td>2019-05-01 08:00:00.00</td>\n      <td>Vom Umgang der SPÖ mit der FPÖ: In Parteistatu...</td>\n      <td>Meinung</td>\n      <td>Kommentare der anderen</td>\n      <td>Devianticos</td>\n      <td>NaN</td>\n      <td>2018-09-24 19:55:30.437</td>\n    </tr>\n    <tr>\n      <th>23</th>\n      <td>1041058600</td>\n      <td>NaN</td>\n      <td>527643</td>\n      <td>...die Aiblinger ist ein Hammer. Als ob in der...</td>\n      <td>...so lange es derart viele Wähler gibt, die d...</td>\n      <td>2019-05-01 08:51:11.370</td>\n      <td>2000102257779</td>\n      <td>2019-05-01 08:00:00.00</td>\n      <td>Vom Umgang der SPÖ mit der FPÖ: In Parteistatu...</td>\n      <td>Meinung</td>\n      <td>Kommentare der anderen</td>\n      <td>optimistisch in die Vergangenheit</td>\n      <td>w</td>\n      <td>2013-10-26 08:12:22.637</td>\n    </tr>\n    <tr>\n      <th>24</th>\n      <td>1041058672</td>\n      <td>1.041058e+09</td>\n      <td>574705</td>\n      <td>NaN</td>\n      <td>Dazu ist man sich aber in den SPX-Parteien eur...</td>\n      <td>2019-05-01 08:54:26.993</td>\n      <td>2000102257779</td>\n      <td>2019-05-01 08:00:00.00</td>\n      <td>Vom Umgang der SPÖ mit der FPÖ: In Parteistatu...</td>\n      <td>Meinung</td>\n      <td>Kommentare der anderen</td>\n      <td>Horst Hoppala</td>\n      <td>m</td>\n      <td>2016-01-11 22:10:29.677</td>\n    </tr>\n    <tr>\n      <th>25</th>\n      <td>1041058132</td>\n      <td>NaN</td>\n      <td>525170</td>\n      <td>NaN</td>\n      <td>Kleiner Input für die ideologischen Debatten. ...</td>\n      <td>2019-05-01 08:25:13.710</td>\n      <td>2000102257779</td>\n      <td>2019-05-01 08:00:00.00</td>\n      <td>Vom Umgang der SPÖ mit der FPÖ: In Parteistatu...</td>\n      <td>Meinung</td>\n      <td>Kommentare der anderen</td>\n      <td>mmmmmmmmmmmmmmmmmmmmmm</td>\n      <td>m</td>\n      <td>2013-09-20 18:55:13.707</td>\n    </tr>\n    <tr>\n      <th>26</th>\n      <td>1041058336</td>\n      <td>1.041058e+09</td>\n      <td>634887</td>\n      <td>NaN</td>\n      <td>Wer darf es denn dann sein, dass es für mehr a...</td>\n      <td>2019-05-01 08:36:51.393</td>\n      <td>2000102257779</td>\n      <td>2019-05-01 08:00:00.00</td>\n      <td>Vom Umgang der SPÖ mit der FPÖ: In Parteistatu...</td>\n      <td>Meinung</td>\n      <td>Kommentare der anderen</td>\n      <td>lucky1107</td>\n      <td>NaN</td>\n      <td>2017-06-20 08:09:46.577</td>\n    </tr>\n    <tr>\n      <th>27</th>\n      <td>1041058482</td>\n      <td>1.041058e+09</td>\n      <td>563778</td>\n      <td>NaN</td>\n      <td>Weil andere Parteien nicht herumeiern.  Es wir...</td>\n      <td>2019-05-01 08:46:00.067</td>\n      <td>2000102257779</td>\n      <td>2019-05-01 08:00:00.00</td>\n      <td>Vom Umgang der SPÖ mit der FPÖ: In Parteistatu...</td>\n      <td>Meinung</td>\n      <td>Kommentare der anderen</td>\n      <td>Glumanda</td>\n      <td>m</td>\n      <td>2015-06-26 07:21:53.540</td>\n    </tr>\n    <tr>\n      <th>28</th>\n      <td>1041058755</td>\n      <td>NaN</td>\n      <td>546698</td>\n      <td>NaN</td>\n      <td>Genau das braucht die Partei am 1. Mai. Eine E...</td>\n      <td>2019-05-01 08:58:39.723</td>\n      <td>2000102257779</td>\n      <td>2019-05-01 08:00:00.00</td>\n      <td>Vom Umgang der SPÖ mit der FPÖ: In Parteistatu...</td>\n      <td>Meinung</td>\n      <td>Kommentare der anderen</td>\n      <td>Beachy Head</td>\n      <td>m</td>\n      <td>2014-07-23 09:45:49.503</td>\n    </tr>\n    <tr>\n      <th>29</th>\n      <td>1041058251</td>\n      <td>1.041058e+09</td>\n      <td>4145</td>\n      <td>NaN</td>\n      <td>Einen? Daneben gibt's ja noch den Gastkommenta...</td>\n      <td>2019-05-01 08:31:45.527</td>\n      <td>2000102263929</td>\n      <td>2019-05-01 08:00:00.00</td>\n      <td>Roter Weltrevolutionär trifft Pragmatiker: \"In...</td>\n      <td>Inland</td>\n      <td>SPÖ</td>\n      <td>\\caliban/</td>\n      <td>m</td>\n      <td>2009-02-09 15:12:35.810</td>\n    </tr>\n  </tbody>\n</table>\n</div>"
     },
     "execution_count": 18,
     "metadata": {},
     "output_type": "execute_result"
    }
   ],
   "source": [
    "posting_1 = pd.read_csv('data/Postings_01052019_15052019.csv', sep=';')\n",
    "posting_1.head(30)"
   ]
  },
  {
   "cell_type": "code",
   "execution_count": 19,
   "outputs": [
    {
     "data": {
      "text/plain": "ArticleChannel\nPanorama         58288\nInland           54751\nMeinung          33224\nWeb              31145\nWirtschaft       31015\nInternational    29043\nSport            24121\nEtat             20420\nKultur           15057\nGesundheit        6146\nWissenschaft      5679\nBildung           5559\nLifestyle         5203\ndieStandard       4567\nImmobilien        3259\nUser              3096\nAutoMobil         2735\nReisen            2553\nDiverses          2396\nZukunft           2187\nKarriere          1451\nFamilie           1265\nName: count, dtype: int64"
     },
     "execution_count": 19,
     "metadata": {},
     "output_type": "execute_result"
    }
   ],
   "source": [
    "posting_1['ArticleChannel'].value_counts()"
   ],
   "metadata": {
    "collapsed": false,
    "ExecuteTime": {
     "end_time": "2023-12-04T18:53:08.514091Z",
     "start_time": "2023-12-04T18:53:08.501852Z"
    }
   }
  },
  {
   "cell_type": "code",
   "execution_count": 20,
   "outputs": [
    {
     "data": {
      "text/plain": "ArticleRessortName\nÖsterreich                22675\nInland                    11913\nNetzpolitik                9856\nKommentare der anderen     8031\nWirtschaftspolitik         7474\n                          ...  \n10., Favoriten                1\nZypern                        1\nArgentinien                   1\nBoxen                         1\nWiener Politik                1\nName: count, Length: 535, dtype: int64"
     },
     "execution_count": 20,
     "metadata": {},
     "output_type": "execute_result"
    }
   ],
   "source": [
    "posting_1['ArticleRessortName'].value_counts()"
   ],
   "metadata": {
    "collapsed": false,
    "ExecuteTime": {
     "end_time": "2023-12-04T18:54:02.663830Z",
     "start_time": "2023-12-04T18:54:02.649888Z"
    }
   }
  },
  {
   "cell_type": "code",
   "execution_count": 6,
   "metadata": {
    "ExecuteTime": {
     "end_time": "2023-12-04T17:49:50.542978Z",
     "start_time": "2023-12-04T17:49:48.604699Z"
    }
   },
   "outputs": [
    {
     "data": {
      "text/plain": "   ID_Posting  ID_Posting_Parent  ID_CommunityIdentity  \\\n0  1041515171                NaN                182351   \n1  1041515292       1.041515e+09                182351   \n2  1041515412       1.041514e+09                182351   \n3  1041596110       1.041589e+09                630965   \n4  1041544483       1.041544e+09                 36135   \n\n                                     PostingHeadline  \\\n0  da hat er aber recht ...auch wenn hier nun ein...   \n1                                                NaN   \n2                                                NaN   \n3                                                NaN   \n4                                                NaN   \n\n                                      PostingComment         PostingCreatedAt  \\\n0  denn Österreich ist von lauter sicheren (EU) L...  2019-05-16 11:25:39.287   \n1  außer von den Naiven die aus 2015 nichts geler...  2019-05-16 11:28:44.703   \n2  no dan schrieb man auch schon hier ma https://...  2019-05-16 11:31:31.110   \n3  ein verbrechersyndikat zeigt dem volk auch, da...  2019-05-18 10:12:47.417   \n4  Und sie denken (?) illegalität schützt vor dem...  2019-05-16 23:11:43.447   \n\n      ID_Article   ArticlePublishingDate  \\\n0  2000103241947  2019-05-16 10:57:22.00   \n1  2000103241947  2019-05-16 10:57:22.00   \n2  2000103241947  2019-05-16 10:57:22.00   \n3  2000103378024  2019-05-18 07:43:14.23   \n4  2000103287009  2019-05-16 18:42:18.00   \n\n                                        ArticleTitle ArticleChannel  \\\n0  Innenminister Kickl will überhaupt keine Asyla...         Inland   \n1  Innenminister Kickl will überhaupt keine Asyla...         Inland   \n2  Innenminister Kickl will überhaupt keine Asyla...         Inland   \n3  Kurz ist mit der FPÖ gescheitert – und will tr...        Meinung   \n4  Abtreibungsverbot in Alabama: Frauen werden st...        Meinung   \n\n    ArticleRessortName UserCommunityName UserGender            UserCreatedAt  \n0  Integrationspolitik  nadaschauichaber          m  2012-11-25 15:09:03.087  \n1  Integrationspolitik  nadaschauichaber          m  2012-11-25 15:09:03.087  \n2  Integrationspolitik  nadaschauichaber          m  2012-11-25 15:09:03.087  \n3        Hans Rauscher           ma heix        NaN  2017-04-09 18:41:15.267  \n4          Bianca Blei        BlackAdder          m  2003-02-23 10:21:54.000  ",
      "text/html": "<div>\n<style scoped>\n    .dataframe tbody tr th:only-of-type {\n        vertical-align: middle;\n    }\n\n    .dataframe tbody tr th {\n        vertical-align: top;\n    }\n\n    .dataframe thead th {\n        text-align: right;\n    }\n</style>\n<table border=\"1\" class=\"dataframe\">\n  <thead>\n    <tr style=\"text-align: right;\">\n      <th></th>\n      <th>ID_Posting</th>\n      <th>ID_Posting_Parent</th>\n      <th>ID_CommunityIdentity</th>\n      <th>PostingHeadline</th>\n      <th>PostingComment</th>\n      <th>PostingCreatedAt</th>\n      <th>ID_Article</th>\n      <th>ArticlePublishingDate</th>\n      <th>ArticleTitle</th>\n      <th>ArticleChannel</th>\n      <th>ArticleRessortName</th>\n      <th>UserCommunityName</th>\n      <th>UserGender</th>\n      <th>UserCreatedAt</th>\n    </tr>\n  </thead>\n  <tbody>\n    <tr>\n      <th>0</th>\n      <td>1041515171</td>\n      <td>NaN</td>\n      <td>182351</td>\n      <td>da hat er aber recht ...auch wenn hier nun ein...</td>\n      <td>denn Österreich ist von lauter sicheren (EU) L...</td>\n      <td>2019-05-16 11:25:39.287</td>\n      <td>2000103241947</td>\n      <td>2019-05-16 10:57:22.00</td>\n      <td>Innenminister Kickl will überhaupt keine Asyla...</td>\n      <td>Inland</td>\n      <td>Integrationspolitik</td>\n      <td>nadaschauichaber</td>\n      <td>m</td>\n      <td>2012-11-25 15:09:03.087</td>\n    </tr>\n    <tr>\n      <th>1</th>\n      <td>1041515292</td>\n      <td>1.041515e+09</td>\n      <td>182351</td>\n      <td>NaN</td>\n      <td>außer von den Naiven die aus 2015 nichts geler...</td>\n      <td>2019-05-16 11:28:44.703</td>\n      <td>2000103241947</td>\n      <td>2019-05-16 10:57:22.00</td>\n      <td>Innenminister Kickl will überhaupt keine Asyla...</td>\n      <td>Inland</td>\n      <td>Integrationspolitik</td>\n      <td>nadaschauichaber</td>\n      <td>m</td>\n      <td>2012-11-25 15:09:03.087</td>\n    </tr>\n    <tr>\n      <th>2</th>\n      <td>1041515412</td>\n      <td>1.041514e+09</td>\n      <td>182351</td>\n      <td>NaN</td>\n      <td>no dan schrieb man auch schon hier ma https://...</td>\n      <td>2019-05-16 11:31:31.110</td>\n      <td>2000103241947</td>\n      <td>2019-05-16 10:57:22.00</td>\n      <td>Innenminister Kickl will überhaupt keine Asyla...</td>\n      <td>Inland</td>\n      <td>Integrationspolitik</td>\n      <td>nadaschauichaber</td>\n      <td>m</td>\n      <td>2012-11-25 15:09:03.087</td>\n    </tr>\n    <tr>\n      <th>3</th>\n      <td>1041596110</td>\n      <td>1.041589e+09</td>\n      <td>630965</td>\n      <td>NaN</td>\n      <td>ein verbrechersyndikat zeigt dem volk auch, da...</td>\n      <td>2019-05-18 10:12:47.417</td>\n      <td>2000103378024</td>\n      <td>2019-05-18 07:43:14.23</td>\n      <td>Kurz ist mit der FPÖ gescheitert – und will tr...</td>\n      <td>Meinung</td>\n      <td>Hans Rauscher</td>\n      <td>ma heix</td>\n      <td>NaN</td>\n      <td>2017-04-09 18:41:15.267</td>\n    </tr>\n    <tr>\n      <th>4</th>\n      <td>1041544483</td>\n      <td>1.041544e+09</td>\n      <td>36135</td>\n      <td>NaN</td>\n      <td>Und sie denken (?) illegalität schützt vor dem...</td>\n      <td>2019-05-16 23:11:43.447</td>\n      <td>2000103287009</td>\n      <td>2019-05-16 18:42:18.00</td>\n      <td>Abtreibungsverbot in Alabama: Frauen werden st...</td>\n      <td>Meinung</td>\n      <td>Bianca Blei</td>\n      <td>BlackAdder</td>\n      <td>m</td>\n      <td>2003-02-23 10:21:54.000</td>\n    </tr>\n  </tbody>\n</table>\n</div>"
     },
     "execution_count": 6,
     "metadata": {},
     "output_type": "execute_result"
    }
   ],
   "source": [
    "posting_2 = pd.read_csv('data/Postings_16052019_31052019.csv', sep=';')\n",
    "posting_2.head()"
   ]
  },
  {
   "cell_type": "code",
   "execution_count": 7,
   "metadata": {
    "ExecuteTime": {
     "end_time": "2023-12-04T17:49:51.997516Z",
     "start_time": "2023-12-04T17:49:50.541521Z"
    }
   },
   "outputs": [
    {
     "data": {
      "text/plain": "   ID_CommunityIdentity  ID_Posting  VoteNegative  VotePositive  \\\n0                675862  1041076570             1             0   \n1                689023  1041076570             1             0   \n2                 24810  1041076745             0             1   \n3                673781  1041076745             0             1   \n4                 24810  1041076831             0             1   \n\n             VoteCreatedAt    UserCommunityName UserGender  \\\n0  2019-05-06 16:47:46.883  Heckscheibenwischer          m   \n1  2019-05-01 22:19:06.240      Heinz Fettleber        NaN   \n2  2019-05-01 23:54:54.600       Bruce Campbell          m   \n3  2019-05-01 20:59:29.910         Erdäpfelsack        NaN   \n4  2019-05-01 23:51:42.730       Bruce Campbell          m   \n\n             UserCreatedAt  \n0  2018-06-26 06:04:30.513  \n1  2019-03-08 21:23:11.463  \n2  2011-01-12 16:50:40.597  \n3  2018-05-29 07:13:49.350  \n4  2011-01-12 16:50:40.597  ",
      "text/html": "<div>\n<style scoped>\n    .dataframe tbody tr th:only-of-type {\n        vertical-align: middle;\n    }\n\n    .dataframe tbody tr th {\n        vertical-align: top;\n    }\n\n    .dataframe thead th {\n        text-align: right;\n    }\n</style>\n<table border=\"1\" class=\"dataframe\">\n  <thead>\n    <tr style=\"text-align: right;\">\n      <th></th>\n      <th>ID_CommunityIdentity</th>\n      <th>ID_Posting</th>\n      <th>VoteNegative</th>\n      <th>VotePositive</th>\n      <th>VoteCreatedAt</th>\n      <th>UserCommunityName</th>\n      <th>UserGender</th>\n      <th>UserCreatedAt</th>\n    </tr>\n  </thead>\n  <tbody>\n    <tr>\n      <th>0</th>\n      <td>675862</td>\n      <td>1041076570</td>\n      <td>1</td>\n      <td>0</td>\n      <td>2019-05-06 16:47:46.883</td>\n      <td>Heckscheibenwischer</td>\n      <td>m</td>\n      <td>2018-06-26 06:04:30.513</td>\n    </tr>\n    <tr>\n      <th>1</th>\n      <td>689023</td>\n      <td>1041076570</td>\n      <td>1</td>\n      <td>0</td>\n      <td>2019-05-01 22:19:06.240</td>\n      <td>Heinz Fettleber</td>\n      <td>NaN</td>\n      <td>2019-03-08 21:23:11.463</td>\n    </tr>\n    <tr>\n      <th>2</th>\n      <td>24810</td>\n      <td>1041076745</td>\n      <td>0</td>\n      <td>1</td>\n      <td>2019-05-01 23:54:54.600</td>\n      <td>Bruce Campbell</td>\n      <td>m</td>\n      <td>2011-01-12 16:50:40.597</td>\n    </tr>\n    <tr>\n      <th>3</th>\n      <td>673781</td>\n      <td>1041076745</td>\n      <td>0</td>\n      <td>1</td>\n      <td>2019-05-01 20:59:29.910</td>\n      <td>Erdäpfelsack</td>\n      <td>NaN</td>\n      <td>2018-05-29 07:13:49.350</td>\n    </tr>\n    <tr>\n      <th>4</th>\n      <td>24810</td>\n      <td>1041076831</td>\n      <td>0</td>\n      <td>1</td>\n      <td>2019-05-01 23:51:42.730</td>\n      <td>Bruce Campbell</td>\n      <td>m</td>\n      <td>2011-01-12 16:50:40.597</td>\n    </tr>\n  </tbody>\n</table>\n</div>"
     },
     "execution_count": 7,
     "metadata": {},
     "output_type": "execute_result"
    }
   ],
   "source": [
    "votes_1 = pd.read_csv('data/Votes_01052019_15052019.csv', sep=';')\n",
    "votes_1.head()"
   ]
  },
  {
   "cell_type": "code",
   "execution_count": 8,
   "metadata": {
    "ExecuteTime": {
     "end_time": "2023-12-04T17:49:54.206566Z",
     "start_time": "2023-12-04T17:49:51.996463Z"
    }
   },
   "outputs": [
    {
     "data": {
      "text/plain": "   ID_CommunityIdentity  ID_Posting  VoteNegative  VotePositive  \\\n0                571503  1041620947             0             1   \n1                178936  1041622392             0             1   \n2                178936  1041623153             0             1   \n3                 68791  1041623762             0             1   \n4                507625  1041623762             1             0   \n\n             VoteCreatedAt UserCommunityName UserGender  \\\n0  2019-05-18 16:34:10.213         vonWeitem          m   \n1  2019-05-18 15:57:07.637           phischi          m   \n2  2019-05-18 15:57:02.103           phischi          m   \n3  2019-05-18 22:25:06.707         guitarero          m   \n4  2019-05-18 16:06:04.650         Srpftpfrt          m   \n\n             UserCreatedAt  \n0  2015-11-04 15:45:11.493  \n1  2008-09-19 02:02:59.060  \n2  2008-09-19 02:02:59.060  \n3  2004-06-30 00:34:39.990  \n4  2006-11-22 14:50:55.347  ",
      "text/html": "<div>\n<style scoped>\n    .dataframe tbody tr th:only-of-type {\n        vertical-align: middle;\n    }\n\n    .dataframe tbody tr th {\n        vertical-align: top;\n    }\n\n    .dataframe thead th {\n        text-align: right;\n    }\n</style>\n<table border=\"1\" class=\"dataframe\">\n  <thead>\n    <tr style=\"text-align: right;\">\n      <th></th>\n      <th>ID_CommunityIdentity</th>\n      <th>ID_Posting</th>\n      <th>VoteNegative</th>\n      <th>VotePositive</th>\n      <th>VoteCreatedAt</th>\n      <th>UserCommunityName</th>\n      <th>UserGender</th>\n      <th>UserCreatedAt</th>\n    </tr>\n  </thead>\n  <tbody>\n    <tr>\n      <th>0</th>\n      <td>571503</td>\n      <td>1041620947</td>\n      <td>0</td>\n      <td>1</td>\n      <td>2019-05-18 16:34:10.213</td>\n      <td>vonWeitem</td>\n      <td>m</td>\n      <td>2015-11-04 15:45:11.493</td>\n    </tr>\n    <tr>\n      <th>1</th>\n      <td>178936</td>\n      <td>1041622392</td>\n      <td>0</td>\n      <td>1</td>\n      <td>2019-05-18 15:57:07.637</td>\n      <td>phischi</td>\n      <td>m</td>\n      <td>2008-09-19 02:02:59.060</td>\n    </tr>\n    <tr>\n      <th>2</th>\n      <td>178936</td>\n      <td>1041623153</td>\n      <td>0</td>\n      <td>1</td>\n      <td>2019-05-18 15:57:02.103</td>\n      <td>phischi</td>\n      <td>m</td>\n      <td>2008-09-19 02:02:59.060</td>\n    </tr>\n    <tr>\n      <th>3</th>\n      <td>68791</td>\n      <td>1041623762</td>\n      <td>0</td>\n      <td>1</td>\n      <td>2019-05-18 22:25:06.707</td>\n      <td>guitarero</td>\n      <td>m</td>\n      <td>2004-06-30 00:34:39.990</td>\n    </tr>\n    <tr>\n      <th>4</th>\n      <td>507625</td>\n      <td>1041623762</td>\n      <td>1</td>\n      <td>0</td>\n      <td>2019-05-18 16:06:04.650</td>\n      <td>Srpftpfrt</td>\n      <td>m</td>\n      <td>2006-11-22 14:50:55.347</td>\n    </tr>\n  </tbody>\n</table>\n</div>"
     },
     "execution_count": 8,
     "metadata": {},
     "output_type": "execute_result"
    }
   ],
   "source": [
    "votes_2 = pd.read_csv('data/Votes_16052019_31052019.csv', sep=';')\n",
    "votes_2.head()"
   ]
  },
  {
   "cell_type": "code",
   "execution_count": 9,
   "metadata": {
    "ExecuteTime": {
     "end_time": "2023-12-04T17:49:54.792055Z",
     "start_time": "2023-12-04T17:49:54.191426Z"
    }
   },
   "outputs": [],
   "source": [
    "posts = pd.concat([posting_1, posting_2])\n",
    "votes = pd.concat([votes_1, votes_2])"
   ]
  },
  {
   "cell_type": "code",
   "execution_count": 10,
   "metadata": {
    "ExecuteTime": {
     "end_time": "2023-12-04T17:49:54.895346Z",
     "start_time": "2023-12-04T17:49:54.791277Z"
    }
   },
   "outputs": [
    {
     "data": {
      "text/plain": "         ID_Posting  ID_Posting_Parent  ID_CommunityIdentity    ID_Article\ncount  7.390940e+05       5.003130e+05         739094.000000  7.390940e+05\nmean   1.041637e+09       1.041630e+09         426815.772693  2.000092e+12\nstd    3.767585e+05       3.793703e+05         237313.261620  4.652979e+09\nmin    1.041057e+09       1.041057e+09             30.000000  2.515612e+06\n25%    1.041307e+09       1.041299e+09         179108.000000  2.000103e+12\n50%    1.041559e+09       1.041548e+09         532199.000000  2.000103e+12\n75%    1.041980e+09       1.041979e+09         633157.000000  2.000104e+12\nmax    1.042391e+09       1.042391e+09         694522.000000  2.000104e+12",
      "text/html": "<div>\n<style scoped>\n    .dataframe tbody tr th:only-of-type {\n        vertical-align: middle;\n    }\n\n    .dataframe tbody tr th {\n        vertical-align: top;\n    }\n\n    .dataframe thead th {\n        text-align: right;\n    }\n</style>\n<table border=\"1\" class=\"dataframe\">\n  <thead>\n    <tr style=\"text-align: right;\">\n      <th></th>\n      <th>ID_Posting</th>\n      <th>ID_Posting_Parent</th>\n      <th>ID_CommunityIdentity</th>\n      <th>ID_Article</th>\n    </tr>\n  </thead>\n  <tbody>\n    <tr>\n      <th>count</th>\n      <td>7.390940e+05</td>\n      <td>5.003130e+05</td>\n      <td>739094.000000</td>\n      <td>7.390940e+05</td>\n    </tr>\n    <tr>\n      <th>mean</th>\n      <td>1.041637e+09</td>\n      <td>1.041630e+09</td>\n      <td>426815.772693</td>\n      <td>2.000092e+12</td>\n    </tr>\n    <tr>\n      <th>std</th>\n      <td>3.767585e+05</td>\n      <td>3.793703e+05</td>\n      <td>237313.261620</td>\n      <td>4.652979e+09</td>\n    </tr>\n    <tr>\n      <th>min</th>\n      <td>1.041057e+09</td>\n      <td>1.041057e+09</td>\n      <td>30.000000</td>\n      <td>2.515612e+06</td>\n    </tr>\n    <tr>\n      <th>25%</th>\n      <td>1.041307e+09</td>\n      <td>1.041299e+09</td>\n      <td>179108.000000</td>\n      <td>2.000103e+12</td>\n    </tr>\n    <tr>\n      <th>50%</th>\n      <td>1.041559e+09</td>\n      <td>1.041548e+09</td>\n      <td>532199.000000</td>\n      <td>2.000103e+12</td>\n    </tr>\n    <tr>\n      <th>75%</th>\n      <td>1.041980e+09</td>\n      <td>1.041979e+09</td>\n      <td>633157.000000</td>\n      <td>2.000104e+12</td>\n    </tr>\n    <tr>\n      <th>max</th>\n      <td>1.042391e+09</td>\n      <td>1.042391e+09</td>\n      <td>694522.000000</td>\n      <td>2.000104e+12</td>\n    </tr>\n  </tbody>\n</table>\n</div>"
     },
     "execution_count": 10,
     "metadata": {},
     "output_type": "execute_result"
    }
   ],
   "source": [
    "# describe the osts and votes \n",
    "posts.describe()"
   ]
  },
  {
   "cell_type": "code",
   "execution_count": 11,
   "metadata": {
    "ExecuteTime": {
     "end_time": "2023-12-04T17:49:55.297593Z",
     "start_time": "2023-12-04T17:49:54.898311Z"
    }
   },
   "outputs": [
    {
     "data": {
      "text/plain": "       ID_CommunityIdentity    ID_Posting  VoteNegative  VotePositive\ncount          3.824984e+06  3.824984e+06  3.824984e+06  3.824984e+06\nmean           4.224524e+05  1.041648e+09  2.123483e-01  7.876517e-01\nstd            2.353095e+05  3.858786e+05  4.089701e-01  4.089701e-01\nmin            4.000000e+00  1.041057e+09  0.000000e+00  0.000000e+00\n25%            1.768740e+05  1.041272e+09  0.000000e+00  1.000000e+00\n50%            5.291340e+05  1.041595e+09  0.000000e+00  1.000000e+00\n75%            6.065550e+05  1.041989e+09  0.000000e+00  1.000000e+00\nmax            6.945120e+05  1.042391e+09  1.000000e+00  1.000000e+00",
      "text/html": "<div>\n<style scoped>\n    .dataframe tbody tr th:only-of-type {\n        vertical-align: middle;\n    }\n\n    .dataframe tbody tr th {\n        vertical-align: top;\n    }\n\n    .dataframe thead th {\n        text-align: right;\n    }\n</style>\n<table border=\"1\" class=\"dataframe\">\n  <thead>\n    <tr style=\"text-align: right;\">\n      <th></th>\n      <th>ID_CommunityIdentity</th>\n      <th>ID_Posting</th>\n      <th>VoteNegative</th>\n      <th>VotePositive</th>\n    </tr>\n  </thead>\n  <tbody>\n    <tr>\n      <th>count</th>\n      <td>3.824984e+06</td>\n      <td>3.824984e+06</td>\n      <td>3.824984e+06</td>\n      <td>3.824984e+06</td>\n    </tr>\n    <tr>\n      <th>mean</th>\n      <td>4.224524e+05</td>\n      <td>1.041648e+09</td>\n      <td>2.123483e-01</td>\n      <td>7.876517e-01</td>\n    </tr>\n    <tr>\n      <th>std</th>\n      <td>2.353095e+05</td>\n      <td>3.858786e+05</td>\n      <td>4.089701e-01</td>\n      <td>4.089701e-01</td>\n    </tr>\n    <tr>\n      <th>min</th>\n      <td>4.000000e+00</td>\n      <td>1.041057e+09</td>\n      <td>0.000000e+00</td>\n      <td>0.000000e+00</td>\n    </tr>\n    <tr>\n      <th>25%</th>\n      <td>1.768740e+05</td>\n      <td>1.041272e+09</td>\n      <td>0.000000e+00</td>\n      <td>1.000000e+00</td>\n    </tr>\n    <tr>\n      <th>50%</th>\n      <td>5.291340e+05</td>\n      <td>1.041595e+09</td>\n      <td>0.000000e+00</td>\n      <td>1.000000e+00</td>\n    </tr>\n    <tr>\n      <th>75%</th>\n      <td>6.065550e+05</td>\n      <td>1.041989e+09</td>\n      <td>0.000000e+00</td>\n      <td>1.000000e+00</td>\n    </tr>\n    <tr>\n      <th>max</th>\n      <td>6.945120e+05</td>\n      <td>1.042391e+09</td>\n      <td>1.000000e+00</td>\n      <td>1.000000e+00</td>\n    </tr>\n  </tbody>\n</table>\n</div>"
     },
     "execution_count": 11,
     "metadata": {},
     "output_type": "execute_result"
    }
   ],
   "source": [
    "votes.describe()"
   ]
  },
  {
   "cell_type": "code",
   "execution_count": 12,
   "metadata": {
    "ExecuteTime": {
     "end_time": "2023-12-04T17:49:55.298208Z",
     "start_time": "2023-12-04T17:49:55.293390Z"
    }
   },
   "outputs": [
    {
     "name": "stdout",
     "output_type": "stream",
     "text": [
      "Index(['ID_CommunityIdentity', 'ID_Posting', 'VoteNegative', 'VotePositive',\n",
      "       'VoteCreatedAt', 'UserCommunityName', 'UserGender', 'UserCreatedAt'],\n",
      "      dtype='object')\n"
     ]
    },
    {
     "data": {
      "text/plain": "Index(['ID_Posting', 'ID_Posting_Parent', 'ID_CommunityIdentity',\n       'PostingHeadline', 'PostingComment', 'PostingCreatedAt', 'ID_Article',\n       'ArticlePublishingDate', 'ArticleTitle', 'ArticleChannel',\n       'ArticleRessortName', 'UserCommunityName', 'UserGender',\n       'UserCreatedAt'],\n      dtype='object')"
     },
     "execution_count": 12,
     "metadata": {},
     "output_type": "execute_result"
    }
   ],
   "source": [
    "print(votes.columns)\n",
    "posts.columns"
   ]
  },
  {
   "cell_type": "markdown",
   "metadata": {},
   "source": [
    "## Graph"
   ]
  },
  {
   "cell_type": "code",
   "execution_count": 13,
   "metadata": {
    "ExecuteTime": {
     "end_time": "2023-12-04T17:49:55.525289Z",
     "start_time": "2023-12-04T17:49:55.305806Z"
    }
   },
   "outputs": [
    {
     "name": "stderr",
     "output_type": "stream",
     "text": [
      "/var/folders/x2/jj0kgq010j128mdwvs89btf00000gp/T/ipykernel_69936/3383323263.py:3: SettingWithCopyWarning: \n",
      "A value is trying to be set on a copy of a slice from a DataFrame.\n",
      "Try using .loc[row_indexer,col_indexer] = value instead\n",
      "\n",
      "See the caveats in the documentation: https://pandas.pydata.org/pandas-docs/stable/user_guide/indexing.html#returning-a-view-versus-a-copy\n",
      "  data[\"ID_Posting_Parent\"] = data[\"ID_Posting_Parent\"].fillna(-1)\n",
      "/var/folders/x2/jj0kgq010j128mdwvs89btf00000gp/T/ipykernel_69936/3383323263.py:4: SettingWithCopyWarning: \n",
      "A value is trying to be set on a copy of a slice from a DataFrame.\n",
      "Try using .loc[row_indexer,col_indexer] = value instead\n",
      "\n",
      "See the caveats in the documentation: https://pandas.pydata.org/pandas-docs/stable/user_guide/indexing.html#returning-a-view-versus-a-copy\n",
      "  data[\"ID_Posting_Parent\"] = data[\"ID_Posting_Parent\"].apply(lambda x: '{:.0f}'.format(x))\n"
     ]
    },
    {
     "data": {
      "text/plain": "   ID_CommunityIdentity  ID_Posting ID_Posting_Parent\n0                671476  1041073586        1041073234\n1                566938  1041073839        1041072504\n2                669286  1041073872        1041068600\n3                671476  1041080734        1041080236\n4                671476  1041080828                -1",
      "text/html": "<div>\n<style scoped>\n    .dataframe tbody tr th:only-of-type {\n        vertical-align: middle;\n    }\n\n    .dataframe tbody tr th {\n        vertical-align: top;\n    }\n\n    .dataframe thead th {\n        text-align: right;\n    }\n</style>\n<table border=\"1\" class=\"dataframe\">\n  <thead>\n    <tr style=\"text-align: right;\">\n      <th></th>\n      <th>ID_CommunityIdentity</th>\n      <th>ID_Posting</th>\n      <th>ID_Posting_Parent</th>\n    </tr>\n  </thead>\n  <tbody>\n    <tr>\n      <th>0</th>\n      <td>671476</td>\n      <td>1041073586</td>\n      <td>1041073234</td>\n    </tr>\n    <tr>\n      <th>1</th>\n      <td>566938</td>\n      <td>1041073839</td>\n      <td>1041072504</td>\n    </tr>\n    <tr>\n      <th>2</th>\n      <td>669286</td>\n      <td>1041073872</td>\n      <td>1041068600</td>\n    </tr>\n    <tr>\n      <th>3</th>\n      <td>671476</td>\n      <td>1041080734</td>\n      <td>1041080236</td>\n    </tr>\n    <tr>\n      <th>4</th>\n      <td>671476</td>\n      <td>1041080828</td>\n      <td>-1</td>\n    </tr>\n  </tbody>\n</table>\n</div>"
     },
     "execution_count": 13,
     "metadata": {},
     "output_type": "execute_result"
    }
   ],
   "source": [
    "# Users \n",
    "data = posts[[\"ID_CommunityIdentity\", \"ID_Posting\", \"ID_Posting_Parent\"]]\n",
    "data[\"ID_Posting_Parent\"] = data[\"ID_Posting_Parent\"].fillna(-1)\n",
    "data[\"ID_Posting_Parent\"] = data[\"ID_Posting_Parent\"].apply(lambda x: '{:.0f}'.format(x))\n",
    "\n",
    "data.head()"
   ]
  },
  {
   "cell_type": "code",
   "execution_count": 14,
   "metadata": {
    "ExecuteTime": {
     "end_time": "2023-12-04T17:49:55.530860Z",
     "start_time": "2023-12-04T17:49:55.526914Z"
    }
   },
   "outputs": [
    {
     "data": {
      "text/plain": "   ID_CommunityIdentity  ID_Posting ID_Posting_Parent\n0                671476  1041073586        1041073234\n1                566938  1041073839        1041072504\n2                669286  1041073872        1041068600\n3                671476  1041080734        1041080236\n4                671476  1041080828                -1",
      "text/html": "<div>\n<style scoped>\n    .dataframe tbody tr th:only-of-type {\n        vertical-align: middle;\n    }\n\n    .dataframe tbody tr th {\n        vertical-align: top;\n    }\n\n    .dataframe thead th {\n        text-align: right;\n    }\n</style>\n<table border=\"1\" class=\"dataframe\">\n  <thead>\n    <tr style=\"text-align: right;\">\n      <th></th>\n      <th>ID_CommunityIdentity</th>\n      <th>ID_Posting</th>\n      <th>ID_Posting_Parent</th>\n    </tr>\n  </thead>\n  <tbody>\n    <tr>\n      <th>0</th>\n      <td>671476</td>\n      <td>1041073586</td>\n      <td>1041073234</td>\n    </tr>\n    <tr>\n      <th>1</th>\n      <td>566938</td>\n      <td>1041073839</td>\n      <td>1041072504</td>\n    </tr>\n    <tr>\n      <th>2</th>\n      <td>669286</td>\n      <td>1041073872</td>\n      <td>1041068600</td>\n    </tr>\n    <tr>\n      <th>3</th>\n      <td>671476</td>\n      <td>1041080734</td>\n      <td>1041080236</td>\n    </tr>\n    <tr>\n      <th>4</th>\n      <td>671476</td>\n      <td>1041080828</td>\n      <td>-1</td>\n    </tr>\n  </tbody>\n</table>\n</div>"
     },
     "execution_count": 14,
     "metadata": {},
     "output_type": "execute_result"
    }
   ],
   "source": [
    "# select 1000 first elements\n",
    "data = data.head(10000) \n",
    "data.head()"
   ]
  },
  {
   "cell_type": "code",
   "execution_count": 15,
   "metadata": {
    "ExecuteTime": {
     "end_time": "2023-12-04T17:49:55.614978Z",
     "start_time": "2023-12-04T17:49:55.532255Z"
    }
   },
   "outputs": [
    {
     "ename": "NameError",
     "evalue": "name 'df' is not defined",
     "output_type": "error",
     "traceback": [
      "\u001B[0;31m---------------------------------------------------------------------------\u001B[0m",
      "\u001B[0;31mNameError\u001B[0m                                 Traceback (most recent call last)",
      "Cell \u001B[0;32mIn[15], line 1\u001B[0m\n\u001B[0;32m----> 1\u001B[0m df \u001B[38;5;241m=\u001B[39m \u001B[43mdf\u001B[49m\u001B[38;5;241m.\u001B[39mloc[df[\u001B[38;5;124m'\u001B[39m\u001B[38;5;124mID_Posting\u001B[39m\u001B[38;5;124m'\u001B[39m] \u001B[38;5;241m==\u001B[39m df[\u001B[38;5;124m'\u001B[39m\u001B[38;5;124mID_Posting_Parent\u001B[39m\u001B[38;5;124m'\u001B[39m]]\u001B[38;5;241m.\u001B[39mindex\n\u001B[1;32m      2\u001B[0m df\n",
      "\u001B[0;31mNameError\u001B[0m: name 'df' is not defined"
     ]
    }
   ],
   "source": [
    "df = df.loc[df['ID_Posting'] == df['ID_Posting_Parent']].index\n",
    "df"
   ]
  },
  {
   "cell_type": "code",
   "execution_count": 16,
   "metadata": {
    "ExecuteTime": {
     "end_time": "2023-12-04T17:53:33.719105Z",
     "start_time": "2023-12-04T17:53:33.715868Z"
    }
   },
   "outputs": [
    {
     "name": "stdout",
     "output_type": "stream",
     "text": []
    }
   ],
   "source": [
    "edgeList= []\n",
    "try:\n",
    "    edgeList = [\n",
    "        [post[\"ID_CommunityIdentity\"], next(iter(data[data[\"ID_Posting\"] == post[\"ID_Posting_Parent\"]][\"ID_CommunityIdentity\"]))]\n",
    "        for idx, post in data.iterrows()]\n",
    "except Exception as e:\n",
    "    print(e)"
   ]
  },
  {
   "cell_type": "code",
   "execution_count": 17,
   "metadata": {
    "ExecuteTime": {
     "end_time": "2023-12-04T17:53:34.834326Z",
     "start_time": "2023-12-04T17:53:34.809321Z"
    }
   },
   "outputs": [
    {
     "data": {
      "text/plain": "[]"
     },
     "execution_count": 17,
     "metadata": {},
     "output_type": "execute_result"
    }
   ],
   "source": [
    "edgeList"
   ]
  },
  {
   "cell_type": "code",
   "execution_count": null,
   "outputs": [],
   "source": [],
   "metadata": {
    "collapsed": false
   }
  }
 ],
 "metadata": {
  "kernelspec": {
   "display_name": "adbs",
   "language": "python",
   "name": "python3"
  },
  "language_info": {
   "codemirror_mode": {
    "name": "ipython",
    "version": 3
   },
   "file_extension": ".py",
   "mimetype": "text/x-python",
   "name": "python",
   "nbconvert_exporter": "python",
   "pygments_lexer": "ipython3",
   "version": "3.10.10"
  }
 },
 "nbformat": 4,
 "nbformat_minor": 2
}
