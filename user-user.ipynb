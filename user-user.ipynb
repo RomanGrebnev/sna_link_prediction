{
 "cells": [
  {
   "cell_type": "markdown",
   "metadata": {},
   "source": [
    "# Social Network Analysis user-user graph"
   ]
  },
  {
   "cell_type": "markdown",
   "metadata": {},
   "source": [
    "## Data"
   ]
  },
  {
   "cell_type": "code",
   "execution_count": 4,
   "metadata": {
    "ExecuteTime": {
     "end_time": "2023-12-04T17:49:47.043265Z",
     "start_time": "2023-12-04T17:49:46.959805Z"
    }
   },
   "outputs": [],
   "source": [
    "import numpy as np\n",
    "import networkx as nx\n",
    "import pandas as pd\n",
    "import matplotlib.pyplot as plt"
   ]
  },
  {
   "cell_type": "markdown",
   "metadata": {},
   "source": [
    "## File raw"
   ]
  },
  {
   "cell_type": "code",
   "execution_count": 5,
   "metadata": {
    "ExecuteTime": {
     "end_time": "2023-12-04T17:49:48.607125Z",
     "start_time": "2023-12-04T17:49:46.970782Z"
    }
   },
   "outputs": [
    {
     "data": {
      "text/plain": "   ID_Posting  ID_Posting_Parent  ID_CommunityIdentity  \\\n0  1041073586       1.041073e+09                671476   \n1  1041073839       1.041073e+09                566938   \n2  1041073872       1.041069e+09                669286   \n3  1041080734       1.041080e+09                671476   \n4  1041080828                NaN                671476   \n\n                                     PostingHeadline  \\\n0  Das hat gestern bereits der Voggenhuber angefü...   \n1                                                NaN   \n2                                                NaN   \n3                  Sie haben doch nichts gefordert??   \n4  Heute wäre der perfekte Tag für die SPÖ gewese...   \n\n                                      PostingComment         PostingCreatedAt  \\\n0  schieder hatte dem inhaltlich nichts entgegenz...  2019-05-01 18:21:15.127   \n1     ...und meinen Bezirk bekommst du als Erbe mit.  2019-05-01 18:28:22.040   \n2  Nein, bei der ÖVP/FPÖ genauso passiert. Ich wo...  2019-05-01 18:29:05.533   \n3  sie haben nur die regierung kritisiert. das di...  2019-05-01 22:37:56.010   \n4  ihr noch nicht erfülltes versprechen, den silb...  2019-05-01 22:42:06.310   \n\n      ID_Article   ArticlePublishingDate  \\\n0  2000102330973  2019-05-01 10:28:57.49   \n1  2000102330973  2019-05-01 10:28:57.49   \n2  2000102330973  2019-05-01 10:28:57.49   \n3  2000102330973  2019-05-01 10:28:57.49   \n4  2000102330973  2019-05-01 10:28:57.49   \n\n                                        ArticleTitle ArticleChannel  \\\n0  1. Mai in Wien: SPÖ fordert von Strache Rücktritt         Inland   \n1  1. Mai in Wien: SPÖ fordert von Strache Rücktritt         Inland   \n2  1. Mai in Wien: SPÖ fordert von Strache Rücktritt         Inland   \n3  1. Mai in Wien: SPÖ fordert von Strache Rücktritt         Inland   \n4  1. Mai in Wien: SPÖ fordert von Strache Rücktritt         Inland   \n\n  ArticleRessortName UserCommunityName UserGender            UserCreatedAt  \n0           Parteien       Ravenspower        NaN  2018-04-14 13:42:28.470  \n1           Parteien        AlphaRomeo          m  2015-08-28 17:07:41.110  \n2           Parteien        Hpolditsch        NaN  2018-03-06 20:03:42.737  \n3           Parteien       Ravenspower        NaN  2018-04-14 13:42:28.470  \n4           Parteien       Ravenspower        NaN  2018-04-14 13:42:28.470  ",
      "text/html": "<div>\n<style scoped>\n    .dataframe tbody tr th:only-of-type {\n        vertical-align: middle;\n    }\n\n    .dataframe tbody tr th {\n        vertical-align: top;\n    }\n\n    .dataframe thead th {\n        text-align: right;\n    }\n</style>\n<table border=\"1\" class=\"dataframe\">\n  <thead>\n    <tr style=\"text-align: right;\">\n      <th></th>\n      <th>ID_Posting</th>\n      <th>ID_Posting_Parent</th>\n      <th>ID_CommunityIdentity</th>\n      <th>PostingHeadline</th>\n      <th>PostingComment</th>\n      <th>PostingCreatedAt</th>\n      <th>ID_Article</th>\n      <th>ArticlePublishingDate</th>\n      <th>ArticleTitle</th>\n      <th>ArticleChannel</th>\n      <th>ArticleRessortName</th>\n      <th>UserCommunityName</th>\n      <th>UserGender</th>\n      <th>UserCreatedAt</th>\n    </tr>\n  </thead>\n  <tbody>\n    <tr>\n      <th>0</th>\n      <td>1041073586</td>\n      <td>1.041073e+09</td>\n      <td>671476</td>\n      <td>Das hat gestern bereits der Voggenhuber angefü...</td>\n      <td>schieder hatte dem inhaltlich nichts entgegenz...</td>\n      <td>2019-05-01 18:21:15.127</td>\n      <td>2000102330973</td>\n      <td>2019-05-01 10:28:57.49</td>\n      <td>1. Mai in Wien: SPÖ fordert von Strache Rücktritt</td>\n      <td>Inland</td>\n      <td>Parteien</td>\n      <td>Ravenspower</td>\n      <td>NaN</td>\n      <td>2018-04-14 13:42:28.470</td>\n    </tr>\n    <tr>\n      <th>1</th>\n      <td>1041073839</td>\n      <td>1.041073e+09</td>\n      <td>566938</td>\n      <td>NaN</td>\n      <td>...und meinen Bezirk bekommst du als Erbe mit.</td>\n      <td>2019-05-01 18:28:22.040</td>\n      <td>2000102330973</td>\n      <td>2019-05-01 10:28:57.49</td>\n      <td>1. Mai in Wien: SPÖ fordert von Strache Rücktritt</td>\n      <td>Inland</td>\n      <td>Parteien</td>\n      <td>AlphaRomeo</td>\n      <td>m</td>\n      <td>2015-08-28 17:07:41.110</td>\n    </tr>\n    <tr>\n      <th>2</th>\n      <td>1041073872</td>\n      <td>1.041069e+09</td>\n      <td>669286</td>\n      <td>NaN</td>\n      <td>Nein, bei der ÖVP/FPÖ genauso passiert. Ich wo...</td>\n      <td>2019-05-01 18:29:05.533</td>\n      <td>2000102330973</td>\n      <td>2019-05-01 10:28:57.49</td>\n      <td>1. Mai in Wien: SPÖ fordert von Strache Rücktritt</td>\n      <td>Inland</td>\n      <td>Parteien</td>\n      <td>Hpolditsch</td>\n      <td>NaN</td>\n      <td>2018-03-06 20:03:42.737</td>\n    </tr>\n    <tr>\n      <th>3</th>\n      <td>1041080734</td>\n      <td>1.041080e+09</td>\n      <td>671476</td>\n      <td>Sie haben doch nichts gefordert??</td>\n      <td>sie haben nur die regierung kritisiert. das di...</td>\n      <td>2019-05-01 22:37:56.010</td>\n      <td>2000102330973</td>\n      <td>2019-05-01 10:28:57.49</td>\n      <td>1. Mai in Wien: SPÖ fordert von Strache Rücktritt</td>\n      <td>Inland</td>\n      <td>Parteien</td>\n      <td>Ravenspower</td>\n      <td>NaN</td>\n      <td>2018-04-14 13:42:28.470</td>\n    </tr>\n    <tr>\n      <th>4</th>\n      <td>1041080828</td>\n      <td>NaN</td>\n      <td>671476</td>\n      <td>Heute wäre der perfekte Tag für die SPÖ gewese...</td>\n      <td>ihr noch nicht erfülltes versprechen, den silb...</td>\n      <td>2019-05-01 22:42:06.310</td>\n      <td>2000102330973</td>\n      <td>2019-05-01 10:28:57.49</td>\n      <td>1. Mai in Wien: SPÖ fordert von Strache Rücktritt</td>\n      <td>Inland</td>\n      <td>Parteien</td>\n      <td>Ravenspower</td>\n      <td>NaN</td>\n      <td>2018-04-14 13:42:28.470</td>\n    </tr>\n  </tbody>\n</table>\n</div>"
     },
     "execution_count": 5,
     "metadata": {},
     "output_type": "execute_result"
    }
   ],
   "source": [
    "posting_1 = pd.read_csv('data/Postings_01052019_15052019.csv', sep=';')\n",
    "posting_1.head()"
   ]
  },
  {
   "cell_type": "code",
   "execution_count": 6,
   "metadata": {
    "ExecuteTime": {
     "end_time": "2023-12-04T17:49:50.542978Z",
     "start_time": "2023-12-04T17:49:48.604699Z"
    }
   },
   "outputs": [
    {
     "data": {
      "text/plain": "   ID_Posting  ID_Posting_Parent  ID_CommunityIdentity  \\\n0  1041515171                NaN                182351   \n1  1041515292       1.041515e+09                182351   \n2  1041515412       1.041514e+09                182351   \n3  1041596110       1.041589e+09                630965   \n4  1041544483       1.041544e+09                 36135   \n\n                                     PostingHeadline  \\\n0  da hat er aber recht ...auch wenn hier nun ein...   \n1                                                NaN   \n2                                                NaN   \n3                                                NaN   \n4                                                NaN   \n\n                                      PostingComment         PostingCreatedAt  \\\n0  denn Österreich ist von lauter sicheren (EU) L...  2019-05-16 11:25:39.287   \n1  außer von den Naiven die aus 2015 nichts geler...  2019-05-16 11:28:44.703   \n2  no dan schrieb man auch schon hier ma https://...  2019-05-16 11:31:31.110   \n3  ein verbrechersyndikat zeigt dem volk auch, da...  2019-05-18 10:12:47.417   \n4  Und sie denken (?) illegalität schützt vor dem...  2019-05-16 23:11:43.447   \n\n      ID_Article   ArticlePublishingDate  \\\n0  2000103241947  2019-05-16 10:57:22.00   \n1  2000103241947  2019-05-16 10:57:22.00   \n2  2000103241947  2019-05-16 10:57:22.00   \n3  2000103378024  2019-05-18 07:43:14.23   \n4  2000103287009  2019-05-16 18:42:18.00   \n\n                                        ArticleTitle ArticleChannel  \\\n0  Innenminister Kickl will überhaupt keine Asyla...         Inland   \n1  Innenminister Kickl will überhaupt keine Asyla...         Inland   \n2  Innenminister Kickl will überhaupt keine Asyla...         Inland   \n3  Kurz ist mit der FPÖ gescheitert – und will tr...        Meinung   \n4  Abtreibungsverbot in Alabama: Frauen werden st...        Meinung   \n\n    ArticleRessortName UserCommunityName UserGender            UserCreatedAt  \n0  Integrationspolitik  nadaschauichaber          m  2012-11-25 15:09:03.087  \n1  Integrationspolitik  nadaschauichaber          m  2012-11-25 15:09:03.087  \n2  Integrationspolitik  nadaschauichaber          m  2012-11-25 15:09:03.087  \n3        Hans Rauscher           ma heix        NaN  2017-04-09 18:41:15.267  \n4          Bianca Blei        BlackAdder          m  2003-02-23 10:21:54.000  ",
      "text/html": "<div>\n<style scoped>\n    .dataframe tbody tr th:only-of-type {\n        vertical-align: middle;\n    }\n\n    .dataframe tbody tr th {\n        vertical-align: top;\n    }\n\n    .dataframe thead th {\n        text-align: right;\n    }\n</style>\n<table border=\"1\" class=\"dataframe\">\n  <thead>\n    <tr style=\"text-align: right;\">\n      <th></th>\n      <th>ID_Posting</th>\n      <th>ID_Posting_Parent</th>\n      <th>ID_CommunityIdentity</th>\n      <th>PostingHeadline</th>\n      <th>PostingComment</th>\n      <th>PostingCreatedAt</th>\n      <th>ID_Article</th>\n      <th>ArticlePublishingDate</th>\n      <th>ArticleTitle</th>\n      <th>ArticleChannel</th>\n      <th>ArticleRessortName</th>\n      <th>UserCommunityName</th>\n      <th>UserGender</th>\n      <th>UserCreatedAt</th>\n    </tr>\n  </thead>\n  <tbody>\n    <tr>\n      <th>0</th>\n      <td>1041515171</td>\n      <td>NaN</td>\n      <td>182351</td>\n      <td>da hat er aber recht ...auch wenn hier nun ein...</td>\n      <td>denn Österreich ist von lauter sicheren (EU) L...</td>\n      <td>2019-05-16 11:25:39.287</td>\n      <td>2000103241947</td>\n      <td>2019-05-16 10:57:22.00</td>\n      <td>Innenminister Kickl will überhaupt keine Asyla...</td>\n      <td>Inland</td>\n      <td>Integrationspolitik</td>\n      <td>nadaschauichaber</td>\n      <td>m</td>\n      <td>2012-11-25 15:09:03.087</td>\n    </tr>\n    <tr>\n      <th>1</th>\n      <td>1041515292</td>\n      <td>1.041515e+09</td>\n      <td>182351</td>\n      <td>NaN</td>\n      <td>außer von den Naiven die aus 2015 nichts geler...</td>\n      <td>2019-05-16 11:28:44.703</td>\n      <td>2000103241947</td>\n      <td>2019-05-16 10:57:22.00</td>\n      <td>Innenminister Kickl will überhaupt keine Asyla...</td>\n      <td>Inland</td>\n      <td>Integrationspolitik</td>\n      <td>nadaschauichaber</td>\n      <td>m</td>\n      <td>2012-11-25 15:09:03.087</td>\n    </tr>\n    <tr>\n      <th>2</th>\n      <td>1041515412</td>\n      <td>1.041514e+09</td>\n      <td>182351</td>\n      <td>NaN</td>\n      <td>no dan schrieb man auch schon hier ma https://...</td>\n      <td>2019-05-16 11:31:31.110</td>\n      <td>2000103241947</td>\n      <td>2019-05-16 10:57:22.00</td>\n      <td>Innenminister Kickl will überhaupt keine Asyla...</td>\n      <td>Inland</td>\n      <td>Integrationspolitik</td>\n      <td>nadaschauichaber</td>\n      <td>m</td>\n      <td>2012-11-25 15:09:03.087</td>\n    </tr>\n    <tr>\n      <th>3</th>\n      <td>1041596110</td>\n      <td>1.041589e+09</td>\n      <td>630965</td>\n      <td>NaN</td>\n      <td>ein verbrechersyndikat zeigt dem volk auch, da...</td>\n      <td>2019-05-18 10:12:47.417</td>\n      <td>2000103378024</td>\n      <td>2019-05-18 07:43:14.23</td>\n      <td>Kurz ist mit der FPÖ gescheitert – und will tr...</td>\n      <td>Meinung</td>\n      <td>Hans Rauscher</td>\n      <td>ma heix</td>\n      <td>NaN</td>\n      <td>2017-04-09 18:41:15.267</td>\n    </tr>\n    <tr>\n      <th>4</th>\n      <td>1041544483</td>\n      <td>1.041544e+09</td>\n      <td>36135</td>\n      <td>NaN</td>\n      <td>Und sie denken (?) illegalität schützt vor dem...</td>\n      <td>2019-05-16 23:11:43.447</td>\n      <td>2000103287009</td>\n      <td>2019-05-16 18:42:18.00</td>\n      <td>Abtreibungsverbot in Alabama: Frauen werden st...</td>\n      <td>Meinung</td>\n      <td>Bianca Blei</td>\n      <td>BlackAdder</td>\n      <td>m</td>\n      <td>2003-02-23 10:21:54.000</td>\n    </tr>\n  </tbody>\n</table>\n</div>"
     },
     "execution_count": 6,
     "metadata": {},
     "output_type": "execute_result"
    }
   ],
   "source": [
    "posting_2 = pd.read_csv('data/Postings_16052019_31052019.csv', sep=';')\n",
    "posting_2.head()"
   ]
  },
  {
   "cell_type": "code",
   "execution_count": 7,
   "metadata": {
    "ExecuteTime": {
     "end_time": "2023-12-04T17:49:51.997516Z",
     "start_time": "2023-12-04T17:49:50.541521Z"
    }
   },
   "outputs": [
    {
     "data": {
      "text/plain": "   ID_CommunityIdentity  ID_Posting  VoteNegative  VotePositive  \\\n0                675862  1041076570             1             0   \n1                689023  1041076570             1             0   \n2                 24810  1041076745             0             1   \n3                673781  1041076745             0             1   \n4                 24810  1041076831             0             1   \n\n             VoteCreatedAt    UserCommunityName UserGender  \\\n0  2019-05-06 16:47:46.883  Heckscheibenwischer          m   \n1  2019-05-01 22:19:06.240      Heinz Fettleber        NaN   \n2  2019-05-01 23:54:54.600       Bruce Campbell          m   \n3  2019-05-01 20:59:29.910         Erdäpfelsack        NaN   \n4  2019-05-01 23:51:42.730       Bruce Campbell          m   \n\n             UserCreatedAt  \n0  2018-06-26 06:04:30.513  \n1  2019-03-08 21:23:11.463  \n2  2011-01-12 16:50:40.597  \n3  2018-05-29 07:13:49.350  \n4  2011-01-12 16:50:40.597  ",
      "text/html": "<div>\n<style scoped>\n    .dataframe tbody tr th:only-of-type {\n        vertical-align: middle;\n    }\n\n    .dataframe tbody tr th {\n        vertical-align: top;\n    }\n\n    .dataframe thead th {\n        text-align: right;\n    }\n</style>\n<table border=\"1\" class=\"dataframe\">\n  <thead>\n    <tr style=\"text-align: right;\">\n      <th></th>\n      <th>ID_CommunityIdentity</th>\n      <th>ID_Posting</th>\n      <th>VoteNegative</th>\n      <th>VotePositive</th>\n      <th>VoteCreatedAt</th>\n      <th>UserCommunityName</th>\n      <th>UserGender</th>\n      <th>UserCreatedAt</th>\n    </tr>\n  </thead>\n  <tbody>\n    <tr>\n      <th>0</th>\n      <td>675862</td>\n      <td>1041076570</td>\n      <td>1</td>\n      <td>0</td>\n      <td>2019-05-06 16:47:46.883</td>\n      <td>Heckscheibenwischer</td>\n      <td>m</td>\n      <td>2018-06-26 06:04:30.513</td>\n    </tr>\n    <tr>\n      <th>1</th>\n      <td>689023</td>\n      <td>1041076570</td>\n      <td>1</td>\n      <td>0</td>\n      <td>2019-05-01 22:19:06.240</td>\n      <td>Heinz Fettleber</td>\n      <td>NaN</td>\n      <td>2019-03-08 21:23:11.463</td>\n    </tr>\n    <tr>\n      <th>2</th>\n      <td>24810</td>\n      <td>1041076745</td>\n      <td>0</td>\n      <td>1</td>\n      <td>2019-05-01 23:54:54.600</td>\n      <td>Bruce Campbell</td>\n      <td>m</td>\n      <td>2011-01-12 16:50:40.597</td>\n    </tr>\n    <tr>\n      <th>3</th>\n      <td>673781</td>\n      <td>1041076745</td>\n      <td>0</td>\n      <td>1</td>\n      <td>2019-05-01 20:59:29.910</td>\n      <td>Erdäpfelsack</td>\n      <td>NaN</td>\n      <td>2018-05-29 07:13:49.350</td>\n    </tr>\n    <tr>\n      <th>4</th>\n      <td>24810</td>\n      <td>1041076831</td>\n      <td>0</td>\n      <td>1</td>\n      <td>2019-05-01 23:51:42.730</td>\n      <td>Bruce Campbell</td>\n      <td>m</td>\n      <td>2011-01-12 16:50:40.597</td>\n    </tr>\n  </tbody>\n</table>\n</div>"
     },
     "execution_count": 7,
     "metadata": {},
     "output_type": "execute_result"
    }
   ],
   "source": [
    "votes_1 = pd.read_csv('data/Votes_01052019_15052019.csv', sep=';')\n",
    "votes_1.head()"
   ]
  },
  {
   "cell_type": "code",
   "execution_count": 8,
   "metadata": {
    "ExecuteTime": {
     "end_time": "2023-12-04T17:49:54.206566Z",
     "start_time": "2023-12-04T17:49:51.996463Z"
    }
   },
   "outputs": [
    {
     "data": {
      "text/plain": "   ID_CommunityIdentity  ID_Posting  VoteNegative  VotePositive  \\\n0                571503  1041620947             0             1   \n1                178936  1041622392             0             1   \n2                178936  1041623153             0             1   \n3                 68791  1041623762             0             1   \n4                507625  1041623762             1             0   \n\n             VoteCreatedAt UserCommunityName UserGender  \\\n0  2019-05-18 16:34:10.213         vonWeitem          m   \n1  2019-05-18 15:57:07.637           phischi          m   \n2  2019-05-18 15:57:02.103           phischi          m   \n3  2019-05-18 22:25:06.707         guitarero          m   \n4  2019-05-18 16:06:04.650         Srpftpfrt          m   \n\n             UserCreatedAt  \n0  2015-11-04 15:45:11.493  \n1  2008-09-19 02:02:59.060  \n2  2008-09-19 02:02:59.060  \n3  2004-06-30 00:34:39.990  \n4  2006-11-22 14:50:55.347  ",
      "text/html": "<div>\n<style scoped>\n    .dataframe tbody tr th:only-of-type {\n        vertical-align: middle;\n    }\n\n    .dataframe tbody tr th {\n        vertical-align: top;\n    }\n\n    .dataframe thead th {\n        text-align: right;\n    }\n</style>\n<table border=\"1\" class=\"dataframe\">\n  <thead>\n    <tr style=\"text-align: right;\">\n      <th></th>\n      <th>ID_CommunityIdentity</th>\n      <th>ID_Posting</th>\n      <th>VoteNegative</th>\n      <th>VotePositive</th>\n      <th>VoteCreatedAt</th>\n      <th>UserCommunityName</th>\n      <th>UserGender</th>\n      <th>UserCreatedAt</th>\n    </tr>\n  </thead>\n  <tbody>\n    <tr>\n      <th>0</th>\n      <td>571503</td>\n      <td>1041620947</td>\n      <td>0</td>\n      <td>1</td>\n      <td>2019-05-18 16:34:10.213</td>\n      <td>vonWeitem</td>\n      <td>m</td>\n      <td>2015-11-04 15:45:11.493</td>\n    </tr>\n    <tr>\n      <th>1</th>\n      <td>178936</td>\n      <td>1041622392</td>\n      <td>0</td>\n      <td>1</td>\n      <td>2019-05-18 15:57:07.637</td>\n      <td>phischi</td>\n      <td>m</td>\n      <td>2008-09-19 02:02:59.060</td>\n    </tr>\n    <tr>\n      <th>2</th>\n      <td>178936</td>\n      <td>1041623153</td>\n      <td>0</td>\n      <td>1</td>\n      <td>2019-05-18 15:57:02.103</td>\n      <td>phischi</td>\n      <td>m</td>\n      <td>2008-09-19 02:02:59.060</td>\n    </tr>\n    <tr>\n      <th>3</th>\n      <td>68791</td>\n      <td>1041623762</td>\n      <td>0</td>\n      <td>1</td>\n      <td>2019-05-18 22:25:06.707</td>\n      <td>guitarero</td>\n      <td>m</td>\n      <td>2004-06-30 00:34:39.990</td>\n    </tr>\n    <tr>\n      <th>4</th>\n      <td>507625</td>\n      <td>1041623762</td>\n      <td>1</td>\n      <td>0</td>\n      <td>2019-05-18 16:06:04.650</td>\n      <td>Srpftpfrt</td>\n      <td>m</td>\n      <td>2006-11-22 14:50:55.347</td>\n    </tr>\n  </tbody>\n</table>\n</div>"
     },
     "execution_count": 8,
     "metadata": {},
     "output_type": "execute_result"
    }
   ],
   "source": [
    "votes_2 = pd.read_csv('data/Votes_16052019_31052019.csv', sep=';')\n",
    "votes_2.head()"
   ]
  },
  {
   "cell_type": "code",
   "execution_count": 9,
   "metadata": {
    "ExecuteTime": {
     "end_time": "2023-12-04T17:49:54.792055Z",
     "start_time": "2023-12-04T17:49:54.191426Z"
    }
   },
   "outputs": [],
   "source": [
    "posts = pd.concat([posting_1, posting_2])\n",
    "votes = pd.concat([votes_1, votes_2])"
   ]
  },
  {
   "cell_type": "code",
   "execution_count": 10,
   "metadata": {
    "ExecuteTime": {
     "end_time": "2023-12-04T17:49:54.895346Z",
     "start_time": "2023-12-04T17:49:54.791277Z"
    }
   },
   "outputs": [
    {
     "data": {
      "text/plain": "         ID_Posting  ID_Posting_Parent  ID_CommunityIdentity    ID_Article\ncount  7.390940e+05       5.003130e+05         739094.000000  7.390940e+05\nmean   1.041637e+09       1.041630e+09         426815.772693  2.000092e+12\nstd    3.767585e+05       3.793703e+05         237313.261620  4.652979e+09\nmin    1.041057e+09       1.041057e+09             30.000000  2.515612e+06\n25%    1.041307e+09       1.041299e+09         179108.000000  2.000103e+12\n50%    1.041559e+09       1.041548e+09         532199.000000  2.000103e+12\n75%    1.041980e+09       1.041979e+09         633157.000000  2.000104e+12\nmax    1.042391e+09       1.042391e+09         694522.000000  2.000104e+12",
      "text/html": "<div>\n<style scoped>\n    .dataframe tbody tr th:only-of-type {\n        vertical-align: middle;\n    }\n\n    .dataframe tbody tr th {\n        vertical-align: top;\n    }\n\n    .dataframe thead th {\n        text-align: right;\n    }\n</style>\n<table border=\"1\" class=\"dataframe\">\n  <thead>\n    <tr style=\"text-align: right;\">\n      <th></th>\n      <th>ID_Posting</th>\n      <th>ID_Posting_Parent</th>\n      <th>ID_CommunityIdentity</th>\n      <th>ID_Article</th>\n    </tr>\n  </thead>\n  <tbody>\n    <tr>\n      <th>count</th>\n      <td>7.390940e+05</td>\n      <td>5.003130e+05</td>\n      <td>739094.000000</td>\n      <td>7.390940e+05</td>\n    </tr>\n    <tr>\n      <th>mean</th>\n      <td>1.041637e+09</td>\n      <td>1.041630e+09</td>\n      <td>426815.772693</td>\n      <td>2.000092e+12</td>\n    </tr>\n    <tr>\n      <th>std</th>\n      <td>3.767585e+05</td>\n      <td>3.793703e+05</td>\n      <td>237313.261620</td>\n      <td>4.652979e+09</td>\n    </tr>\n    <tr>\n      <th>min</th>\n      <td>1.041057e+09</td>\n      <td>1.041057e+09</td>\n      <td>30.000000</td>\n      <td>2.515612e+06</td>\n    </tr>\n    <tr>\n      <th>25%</th>\n      <td>1.041307e+09</td>\n      <td>1.041299e+09</td>\n      <td>179108.000000</td>\n      <td>2.000103e+12</td>\n    </tr>\n    <tr>\n      <th>50%</th>\n      <td>1.041559e+09</td>\n      <td>1.041548e+09</td>\n      <td>532199.000000</td>\n      <td>2.000103e+12</td>\n    </tr>\n    <tr>\n      <th>75%</th>\n      <td>1.041980e+09</td>\n      <td>1.041979e+09</td>\n      <td>633157.000000</td>\n      <td>2.000104e+12</td>\n    </tr>\n    <tr>\n      <th>max</th>\n      <td>1.042391e+09</td>\n      <td>1.042391e+09</td>\n      <td>694522.000000</td>\n      <td>2.000104e+12</td>\n    </tr>\n  </tbody>\n</table>\n</div>"
     },
     "execution_count": 10,
     "metadata": {},
     "output_type": "execute_result"
    }
   ],
   "source": [
    "# describe the osts and votes \n",
    "posts.describe()"
   ]
  },
  {
   "cell_type": "code",
   "execution_count": 11,
   "metadata": {
    "ExecuteTime": {
     "end_time": "2023-12-04T17:49:55.297593Z",
     "start_time": "2023-12-04T17:49:54.898311Z"
    }
   },
   "outputs": [
    {
     "data": {
      "text/plain": "       ID_CommunityIdentity    ID_Posting  VoteNegative  VotePositive\ncount          3.824984e+06  3.824984e+06  3.824984e+06  3.824984e+06\nmean           4.224524e+05  1.041648e+09  2.123483e-01  7.876517e-01\nstd            2.353095e+05  3.858786e+05  4.089701e-01  4.089701e-01\nmin            4.000000e+00  1.041057e+09  0.000000e+00  0.000000e+00\n25%            1.768740e+05  1.041272e+09  0.000000e+00  1.000000e+00\n50%            5.291340e+05  1.041595e+09  0.000000e+00  1.000000e+00\n75%            6.065550e+05  1.041989e+09  0.000000e+00  1.000000e+00\nmax            6.945120e+05  1.042391e+09  1.000000e+00  1.000000e+00",
      "text/html": "<div>\n<style scoped>\n    .dataframe tbody tr th:only-of-type {\n        vertical-align: middle;\n    }\n\n    .dataframe tbody tr th {\n        vertical-align: top;\n    }\n\n    .dataframe thead th {\n        text-align: right;\n    }\n</style>\n<table border=\"1\" class=\"dataframe\">\n  <thead>\n    <tr style=\"text-align: right;\">\n      <th></th>\n      <th>ID_CommunityIdentity</th>\n      <th>ID_Posting</th>\n      <th>VoteNegative</th>\n      <th>VotePositive</th>\n    </tr>\n  </thead>\n  <tbody>\n    <tr>\n      <th>count</th>\n      <td>3.824984e+06</td>\n      <td>3.824984e+06</td>\n      <td>3.824984e+06</td>\n      <td>3.824984e+06</td>\n    </tr>\n    <tr>\n      <th>mean</th>\n      <td>4.224524e+05</td>\n      <td>1.041648e+09</td>\n      <td>2.123483e-01</td>\n      <td>7.876517e-01</td>\n    </tr>\n    <tr>\n      <th>std</th>\n      <td>2.353095e+05</td>\n      <td>3.858786e+05</td>\n      <td>4.089701e-01</td>\n      <td>4.089701e-01</td>\n    </tr>\n    <tr>\n      <th>min</th>\n      <td>4.000000e+00</td>\n      <td>1.041057e+09</td>\n      <td>0.000000e+00</td>\n      <td>0.000000e+00</td>\n    </tr>\n    <tr>\n      <th>25%</th>\n      <td>1.768740e+05</td>\n      <td>1.041272e+09</td>\n      <td>0.000000e+00</td>\n      <td>1.000000e+00</td>\n    </tr>\n    <tr>\n      <th>50%</th>\n      <td>5.291340e+05</td>\n      <td>1.041595e+09</td>\n      <td>0.000000e+00</td>\n      <td>1.000000e+00</td>\n    </tr>\n    <tr>\n      <th>75%</th>\n      <td>6.065550e+05</td>\n      <td>1.041989e+09</td>\n      <td>0.000000e+00</td>\n      <td>1.000000e+00</td>\n    </tr>\n    <tr>\n      <th>max</th>\n      <td>6.945120e+05</td>\n      <td>1.042391e+09</td>\n      <td>1.000000e+00</td>\n      <td>1.000000e+00</td>\n    </tr>\n  </tbody>\n</table>\n</div>"
     },
     "execution_count": 11,
     "metadata": {},
     "output_type": "execute_result"
    }
   ],
   "source": [
    "votes.describe()"
   ]
  },
  {
   "cell_type": "code",
   "execution_count": 12,
   "metadata": {
    "ExecuteTime": {
     "end_time": "2023-12-04T17:49:55.298208Z",
     "start_time": "2023-12-04T17:49:55.293390Z"
    }
   },
   "outputs": [
    {
     "name": "stdout",
     "output_type": "stream",
     "text": [
      "Index(['ID_CommunityIdentity', 'ID_Posting', 'VoteNegative', 'VotePositive',\n",
      "       'VoteCreatedAt', 'UserCommunityName', 'UserGender', 'UserCreatedAt'],\n",
      "      dtype='object')\n"
     ]
    },
    {
     "data": {
      "text/plain": "Index(['ID_Posting', 'ID_Posting_Parent', 'ID_CommunityIdentity',\n       'PostingHeadline', 'PostingComment', 'PostingCreatedAt', 'ID_Article',\n       'ArticlePublishingDate', 'ArticleTitle', 'ArticleChannel',\n       'ArticleRessortName', 'UserCommunityName', 'UserGender',\n       'UserCreatedAt'],\n      dtype='object')"
     },
     "execution_count": 12,
     "metadata": {},
     "output_type": "execute_result"
    }
   ],
   "source": [
    "print(votes.columns)\n",
    "posts.columns"
   ]
  },
  {
   "cell_type": "markdown",
   "metadata": {},
   "source": [
    "## Graph"
   ]
  },
  {
   "cell_type": "code",
   "execution_count": 13,
   "metadata": {
    "ExecuteTime": {
     "end_time": "2023-12-04T17:49:55.525289Z",
     "start_time": "2023-12-04T17:49:55.305806Z"
    }
   },
   "outputs": [
    {
     "name": "stderr",
     "output_type": "stream",
     "text": [
      "/var/folders/x2/jj0kgq010j128mdwvs89btf00000gp/T/ipykernel_69936/3383323263.py:3: SettingWithCopyWarning: \n",
      "A value is trying to be set on a copy of a slice from a DataFrame.\n",
      "Try using .loc[row_indexer,col_indexer] = value instead\n",
      "\n",
      "See the caveats in the documentation: https://pandas.pydata.org/pandas-docs/stable/user_guide/indexing.html#returning-a-view-versus-a-copy\n",
      "  data[\"ID_Posting_Parent\"] = data[\"ID_Posting_Parent\"].fillna(-1)\n",
      "/var/folders/x2/jj0kgq010j128mdwvs89btf00000gp/T/ipykernel_69936/3383323263.py:4: SettingWithCopyWarning: \n",
      "A value is trying to be set on a copy of a slice from a DataFrame.\n",
      "Try using .loc[row_indexer,col_indexer] = value instead\n",
      "\n",
      "See the caveats in the documentation: https://pandas.pydata.org/pandas-docs/stable/user_guide/indexing.html#returning-a-view-versus-a-copy\n",
      "  data[\"ID_Posting_Parent\"] = data[\"ID_Posting_Parent\"].apply(lambda x: '{:.0f}'.format(x))\n"
     ]
    },
    {
     "data": {
      "text/plain": "   ID_CommunityIdentity  ID_Posting ID_Posting_Parent\n0                671476  1041073586        1041073234\n1                566938  1041073839        1041072504\n2                669286  1041073872        1041068600\n3                671476  1041080734        1041080236\n4                671476  1041080828                -1",
      "text/html": "<div>\n<style scoped>\n    .dataframe tbody tr th:only-of-type {\n        vertical-align: middle;\n    }\n\n    .dataframe tbody tr th {\n        vertical-align: top;\n    }\n\n    .dataframe thead th {\n        text-align: right;\n    }\n</style>\n<table border=\"1\" class=\"dataframe\">\n  <thead>\n    <tr style=\"text-align: right;\">\n      <th></th>\n      <th>ID_CommunityIdentity</th>\n      <th>ID_Posting</th>\n      <th>ID_Posting_Parent</th>\n    </tr>\n  </thead>\n  <tbody>\n    <tr>\n      <th>0</th>\n      <td>671476</td>\n      <td>1041073586</td>\n      <td>1041073234</td>\n    </tr>\n    <tr>\n      <th>1</th>\n      <td>566938</td>\n      <td>1041073839</td>\n      <td>1041072504</td>\n    </tr>\n    <tr>\n      <th>2</th>\n      <td>669286</td>\n      <td>1041073872</td>\n      <td>1041068600</td>\n    </tr>\n    <tr>\n      <th>3</th>\n      <td>671476</td>\n      <td>1041080734</td>\n      <td>1041080236</td>\n    </tr>\n    <tr>\n      <th>4</th>\n      <td>671476</td>\n      <td>1041080828</td>\n      <td>-1</td>\n    </tr>\n  </tbody>\n</table>\n</div>"
     },
     "execution_count": 13,
     "metadata": {},
     "output_type": "execute_result"
    }
   ],
   "source": [
    "# Users \n",
    "data = posts[[\"ID_CommunityIdentity\", \"ID_Posting\", \"ID_Posting_Parent\"]]\n",
    "data[\"ID_Posting_Parent\"] = data[\"ID_Posting_Parent\"].fillna(-1)\n",
    "data[\"ID_Posting_Parent\"] = data[\"ID_Posting_Parent\"].apply(lambda x: '{:.0f}'.format(x))\n",
    "\n",
    "data.head()"
   ]
  },
  {
   "cell_type": "code",
   "execution_count": 14,
   "metadata": {
    "ExecuteTime": {
     "end_time": "2023-12-04T17:49:55.530860Z",
     "start_time": "2023-12-04T17:49:55.526914Z"
    }
   },
   "outputs": [
    {
     "data": {
      "text/plain": "   ID_CommunityIdentity  ID_Posting ID_Posting_Parent\n0                671476  1041073586        1041073234\n1                566938  1041073839        1041072504\n2                669286  1041073872        1041068600\n3                671476  1041080734        1041080236\n4                671476  1041080828                -1",
      "text/html": "<div>\n<style scoped>\n    .dataframe tbody tr th:only-of-type {\n        vertical-align: middle;\n    }\n\n    .dataframe tbody tr th {\n        vertical-align: top;\n    }\n\n    .dataframe thead th {\n        text-align: right;\n    }\n</style>\n<table border=\"1\" class=\"dataframe\">\n  <thead>\n    <tr style=\"text-align: right;\">\n      <th></th>\n      <th>ID_CommunityIdentity</th>\n      <th>ID_Posting</th>\n      <th>ID_Posting_Parent</th>\n    </tr>\n  </thead>\n  <tbody>\n    <tr>\n      <th>0</th>\n      <td>671476</td>\n      <td>1041073586</td>\n      <td>1041073234</td>\n    </tr>\n    <tr>\n      <th>1</th>\n      <td>566938</td>\n      <td>1041073839</td>\n      <td>1041072504</td>\n    </tr>\n    <tr>\n      <th>2</th>\n      <td>669286</td>\n      <td>1041073872</td>\n      <td>1041068600</td>\n    </tr>\n    <tr>\n      <th>3</th>\n      <td>671476</td>\n      <td>1041080734</td>\n      <td>1041080236</td>\n    </tr>\n    <tr>\n      <th>4</th>\n      <td>671476</td>\n      <td>1041080828</td>\n      <td>-1</td>\n    </tr>\n  </tbody>\n</table>\n</div>"
     },
     "execution_count": 14,
     "metadata": {},
     "output_type": "execute_result"
    }
   ],
   "source": [
    "# select 1000 first elements\n",
    "data = data.head(10000) \n",
    "data.head()"
   ]
  },
  {
   "cell_type": "code",
   "execution_count": 15,
   "metadata": {
    "ExecuteTime": {
     "end_time": "2023-12-04T17:49:55.614978Z",
     "start_time": "2023-12-04T17:49:55.532255Z"
    }
   },
   "outputs": [
    {
     "ename": "NameError",
     "evalue": "name 'df' is not defined",
     "output_type": "error",
     "traceback": [
      "\u001B[0;31m---------------------------------------------------------------------------\u001B[0m",
      "\u001B[0;31mNameError\u001B[0m                                 Traceback (most recent call last)",
      "Cell \u001B[0;32mIn[15], line 1\u001B[0m\n\u001B[0;32m----> 1\u001B[0m df \u001B[38;5;241m=\u001B[39m \u001B[43mdf\u001B[49m\u001B[38;5;241m.\u001B[39mloc[df[\u001B[38;5;124m'\u001B[39m\u001B[38;5;124mID_Posting\u001B[39m\u001B[38;5;124m'\u001B[39m] \u001B[38;5;241m==\u001B[39m df[\u001B[38;5;124m'\u001B[39m\u001B[38;5;124mID_Posting_Parent\u001B[39m\u001B[38;5;124m'\u001B[39m]]\u001B[38;5;241m.\u001B[39mindex\n\u001B[1;32m      2\u001B[0m df\n",
      "\u001B[0;31mNameError\u001B[0m: name 'df' is not defined"
     ]
    }
   ],
   "source": [
    "df = df.loc[df['ID_Posting'] == df['ID_Posting_Parent']].index\n",
    "df"
   ]
  },
  {
   "cell_type": "code",
   "execution_count": 16,
   "metadata": {
    "ExecuteTime": {
     "end_time": "2023-12-04T17:53:33.719105Z",
     "start_time": "2023-12-04T17:53:33.715868Z"
    }
   },
   "outputs": [
    {
     "name": "stdout",
     "output_type": "stream",
     "text": []
    }
   ],
   "source": [
    "edgeList= []\n",
    "try:\n",
    "    edgeList = [\n",
    "        [post[\"ID_CommunityIdentity\"], next(iter(data[data[\"ID_Posting\"] == post[\"ID_Posting_Parent\"]][\"ID_CommunityIdentity\"]))]\n",
    "        for idx, post in data.iterrows()]\n",
    "except Exception as e:\n",
    "    print(e)"
   ]
  },
  {
   "cell_type": "code",
   "execution_count": 17,
   "metadata": {
    "ExecuteTime": {
     "end_time": "2023-12-04T17:53:34.834326Z",
     "start_time": "2023-12-04T17:53:34.809321Z"
    }
   },
   "outputs": [
    {
     "data": {
      "text/plain": "[]"
     },
     "execution_count": 17,
     "metadata": {},
     "output_type": "execute_result"
    }
   ],
   "source": [
    "edgeList"
   ]
  },
  {
   "cell_type": "code",
   "execution_count": null,
   "outputs": [],
   "source": [],
   "metadata": {
    "collapsed": false
   }
  }
 ],
 "metadata": {
  "kernelspec": {
   "display_name": "adbs",
   "language": "python",
   "name": "python3"
  },
  "language_info": {
   "codemirror_mode": {
    "name": "ipython",
    "version": 3
   },
   "file_extension": ".py",
   "mimetype": "text/x-python",
   "name": "python",
   "nbconvert_exporter": "python",
   "pygments_lexer": "ipython3",
   "version": "3.10.10"
  }
 },
 "nbformat": 4,
 "nbformat_minor": 2
}
