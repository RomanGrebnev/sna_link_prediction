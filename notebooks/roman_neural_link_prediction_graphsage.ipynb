{
 "cells": [
  {
   "cell_type": "markdown",
   "metadata": {},
   "source": [
    "# Inspiration\n",
    "- https://medium.com/@xjurajkmec/pairwise-learning-for-neural-link-prediction-f1d16a0d28f6#:~:text=The%20idea%20of%20using%20graph,edges%20in%20the%20given%20graph"
   ]
  },
  {
   "cell_type": "code",
   "execution_count": 1,
   "metadata": {},
   "outputs": [],
   "source": [
    "import numpy as np\n",
    "import networkx as nx\n",
    "import pandas as pd\n",
    "import matplotlib.pyplot as plt\n",
    "from torch import torch\n",
    "from sklearn import preprocessing\n",
    "\n",
    "from torch_geometric.data import Data\n",
    "from torch_geometric.transforms.to_undirected import ToUndirected"
   ]
  },
  {
   "cell_type": "code",
   "execution_count": 5,
   "metadata": {},
   "outputs": [],
   "source": [
    "postings_1 = pd.read_csv(\"../data/Postings_01052019_15052019.csv\", sep = ';')\n",
    "postings_2 = pd.read_csv(\"../data/Postings_16052019_31052019.csv\", sep = ';')\n",
    "votes_1 = pd.read_csv(\"../data/Votes_01052019_15052019.csv\", sep = ';')\n",
    "votes_2 = pd.read_csv(\"../data/Votes_16052019_31052019.csv\", sep = ';')\n",
    "postings = pd.concat([postings_1, postings_2])\n",
    "votes = pd.concat([votes_1, votes_2])"
   ]
  },
  {
   "cell_type": "code",
   "execution_count": 6,
   "metadata": {},
   "outputs": [],
   "source": [
    "post_article = postings.groupby(by = ['ID_CommunityIdentity', 'ID_Article']).agg({\"ArticlePublishingDate\": \"min\"})\n",
    "post_article = post_article.reset_index()\n",
    "votes_trunc = votes[['ID_CommunityIdentity', 'ID_Posting']]\n",
    "postings_trunc = postings.groupby(by = ['ID_Posting', 'ID_Article']).agg({\"ArticlePublishingDate\": \"min\"}).reset_index().drop(columns = ['ArticlePublishingDate'])\n",
    "vote_user_article = votes_trunc.merge(postings_trunc, left_on = ['ID_Posting'], right_on = ['ID_Posting'])\n",
    "vote_article = vote_user_article.groupby(by = ['ID_CommunityIdentity', 'ID_Article']).agg({\"ID_Posting\": \"count\"}).reset_index().drop(columns = ['ID_Posting'])\n",
    "user_article_interaction = pd.concat([post_article, vote_article]).drop(columns=['ArticlePublishingDate'])"
   ]
  },
  {
   "cell_type": "markdown",
   "metadata": {},
   "source": [
    "### Subsetting edges"
   ]
  },
  {
   "cell_type": "code",
   "execution_count": 7,
   "metadata": {},
   "outputs": [],
   "source": [
    "# random sampling\n",
    "# user_article_interaction = user_article_interaction.sample(n=int(user_article_interaction.shape[0]/20), random_state=1)\n",
    "\n",
    "# sequential sampling\n",
    "user_article_interaction = user_article_interaction.iloc[:int(user_article_interaction.shape[0]/4), :]"
   ]
  },
  {
   "cell_type": "code",
   "execution_count": 8,
   "metadata": {},
   "outputs": [
    {
     "data": {
      "text/plain": [
       "(272983, 2)"
      ]
     },
     "execution_count": 8,
     "metadata": {},
     "output_type": "execute_result"
    }
   ],
   "source": [
    "user_article_interaction.shape"
   ]
  },
  {
   "cell_type": "code",
   "execution_count": 9,
   "metadata": {},
   "outputs": [],
   "source": [
    "# create edge names\n",
    "user_article_interaction[\"user_id\"] = \"u-\" + user_article_interaction[\"ID_CommunityIdentity\"].astype(str)\n",
    "user_article_interaction[\"article_id\"] = \"a-\" + user_article_interaction[\"ID_Article\"].astype(str)\n",
    "\n",
    "# concatenate nodes and create node encodings\n",
    "nodes = np.concatenate((np.unique(user_article_interaction['user_id']), np.unique(user_article_interaction['article_id'])))\n",
    "nodes_user = np.unique(user_article_interaction['user_id'])\n",
    "nodes_article = np.unique(user_article_interaction['article_id'])\n",
    "\n",
    "label_encoder_nodes = preprocessing.LabelEncoder()\n",
    "label_encoder_nodes.fit(nodes)\n",
    "nodes_enc = label_encoder_nodes.transform(nodes)\n",
    "\n",
    "user_article_interaction[\"user_id_enc\"] = label_encoder_nodes.transform(user_article_interaction[\"user_id\"])\n",
    "user_article_interaction[\"article_enc\"] = label_encoder_nodes.transform(user_article_interaction[\"article_id\"])"
   ]
  },
  {
   "cell_type": "markdown",
   "metadata": {},
   "source": [
    "### Graph construction"
   ]
  },
  {
   "cell_type": "code",
   "execution_count": 10,
   "metadata": {},
   "outputs": [
    {
     "data": {
      "text/plain": [
       "True"
      ]
     },
     "execution_count": 10,
     "metadata": {},
     "output_type": "execute_result"
    }
   ],
   "source": [
    "\n",
    "# generate edge list\n",
    "edge_list = []\n",
    "for row in user_article_interaction.itertuples():\n",
    "    edge_list.append([row.user_id_enc, row.article_enc])\n",
    "\n",
    "# create tensor with nodes\n",
    "x = torch.tensor(nodes_enc, dtype=torch.long)\n",
    "\n",
    "# create tensor with edges\n",
    "edge_index = torch.tensor(edge_list, dtype=torch.long)\n",
    "\n",
    "# initialize graph with nodes and edges\n",
    "graph = Data(x=x, edge_index=edge_index.t())\n",
    "\n",
    "# validate graph\n",
    "graph.validate(raise_on_error=True)\n",
    "\n",
    "# add reverse edges to the graph\n",
    "graph = ToUndirected()(graph)\n"
   ]
  },
  {
   "cell_type": "markdown",
   "metadata": {},
   "source": [
    "### Modelling with graphSAGE GNN"
   ]
  },
  {
   "cell_type": "code",
   "execution_count": 15,
   "metadata": {},
   "outputs": [],
   "source": [
    "import torch\n",
    "import torch.nn as nn\n",
    "import torch.nn.functional as F\n",
    "import torch_geometric as pyg\n",
    "from torch_geometric.loader import DataLoader\n",
    "from torch_geometric.utils import negative_sampling\n",
    "from ogb.linkproppred import PygLinkPropPredDataset, Evaluator \n",
    "from torch_geometric.transforms import RandomLinkSplit, RandomNodeSplit\n",
    "import matplotlib.pyplot as plt \n",
    "import numpy as np \n",
    "\n",
    "import subprocess as sp\n",
    "import os\n",
    "from tqdm import tqdm\n"
   ]
  },
  {
   "cell_type": "code",
   "execution_count": 16,
   "metadata": {},
   "outputs": [],
   "source": [
    "class GNNStack(torch.nn.Module):\n",
    "    def __init__(self, input_dim, hidden_dim, output_dim, num_layers, dropout, emb=False):\n",
    "        super(GNNStack, self).__init__()\n",
    "\n",
    "        # GraphSAGE convolutional layers\n",
    "        conv_model = pyg.nn.SAGEConv\n",
    "\n",
    "        self.convs = nn.ModuleList()\n",
    "\n",
    "        # add the first convolutional layer\n",
    "        self.convs.append(conv_model(input_dim, hidden_dim))\n",
    "        self.dropout = dropout\n",
    "        self.num_layers = num_layers\n",
    "        self.emb = emb\n",
    "\n",
    "        # Create num_layers GraphSAGE convs\n",
    "        assert (self.num_layers >= 1), 'Number of layers is not >=1'\n",
    "        for l in range(self.num_layers - 1):\n",
    "            self.convs.append(conv_model(hidden_dim, hidden_dim))\n",
    "\n",
    "        # post-message-passing processing \n",
    "        self.post_mp = nn.Sequential(\n",
    "            nn.Linear(hidden_dim, hidden_dim), nn.Dropout(self.dropout),\n",
    "            nn.Linear(hidden_dim, output_dim))\n",
    "\n",
    "    def forward(self, x, edge_index):\n",
    "\n",
    "        for i in range(self.num_layers):\n",
    "            x = self.convs[i](x, edge_index)\n",
    "            x = F.relu(x)\n",
    "            x = F.dropout(x, p=self.dropout, training=self.training)\n",
    "\n",
    "        x = self.post_mp(x)\n",
    "\n",
    "        # Return final layer of embeddings if specified\n",
    "        if self.emb:\n",
    "            return x\n",
    "\n",
    "        # Else return class probabilities\n",
    "        return F.log_softmax(x, dim=1)\n",
    "\n",
    "    def loss(self, pred, label):\n",
    "        return F.nll_loss(pred, label)"
   ]
  },
  {
   "cell_type": "code",
   "execution_count": 17,
   "metadata": {},
   "outputs": [],
   "source": [
    "class LinkPredictor(nn.Module):\n",
    "    def __init__(self, in_channels, hidden_channels, out_channels, num_layers,\n",
    "                 dropout):\n",
    "        super(LinkPredictor, self).__init__()\n",
    "\n",
    "        # Create linear layers\n",
    "        self.lins = nn.ModuleList()\n",
    "        self.lins.append(nn.Linear(in_channels, hidden_channels))\n",
    "        for _ in range(num_layers - 2):\n",
    "            self.lins.append(nn.Linear(hidden_channels, hidden_channels))\n",
    "        self.lins.append(nn.Linear(hidden_channels, out_channels))\n",
    "\n",
    "        self.dropout = dropout\n",
    "\n",
    "    def reset_parameters(self):\n",
    "        for lin in self.lins:\n",
    "            lin.reset_parameters()\n",
    "\n",
    "    def forward(self, x_i, x_j):\n",
    "        # x_i and x_j are both of shape (E, D)\n",
    "        x = x_i * x_j\n",
    "        for lin in self.lins[:-1]:\n",
    "            x = lin(x)\n",
    "            x = F.relu(x)\n",
    "            x = F.dropout(x, p=self.dropout, training=self.training)\n",
    "        x = self.lins[-1](x)\n",
    "        return torch.sigmoid(x)"
   ]
  },
  {
   "cell_type": "code",
   "execution_count": 18,
   "metadata": {},
   "outputs": [],
   "source": [
    "def get_gpu_memory():\n",
    "    command = \"nvidia-smi --query-gpu=memory.free --format=csv\"\n",
    "    memory_free_info = sp.check_output(command.split()).decode('ascii').split('\\n')[:-1][1:]\n",
    "    memory_free_values = [int(x.split()[0]) for i, x in enumerate(memory_free_info)]\n",
    "    return memory_free_values"
   ]
  },
  {
   "cell_type": "code",
   "execution_count": 19,
   "metadata": {},
   "outputs": [],
   "source": [
    "def train(model, link_predictor, emb, edge_index, pos_train_edge, batch_size, optimizer, debug=False):\n",
    "    \"\"\"\n",
    "    Runs offline training for model, link_predictor and node embeddings given the message\n",
    "    edges and supervision edges.\n",
    "    :param model: Torch Graph model used for updating node embeddings based on message passing\n",
    "    :param link_predictor: Torch model used for predicting whether edge exists or not\n",
    "    :param emb: (N, d) Initial node embeddings for all N nodes in graph\n",
    "    :param edge_index: (2, E) Edge index for all edges in the graph\n",
    "    :param pos_train_edge: (PE, 2) Positive edges used for training supervision loss\n",
    "    :param batch_size: Number of positive (and negative) supervision edges to sample per batch\n",
    "    :param optimizer: Torch Optimizer to update model parameters\n",
    "    :return: Average supervision loss over all positive (and correspondingly sampled negative) edges\n",
    "    \"\"\"\n",
    "    model.train()\n",
    "    link_predictor.train()\n",
    "    train_losses = []\n",
    "    \n",
    "    pos_train_edge = torch.tensor(pos_train_edge, dtype=torch.long).T\n",
    "    dataloader = DataLoader(range(pos_train_edge.shape[0]), batch_size, shuffle=True)\n",
    "\n",
    "    for edge_id in dataloader:\n",
    "        \n",
    "        optimizer.zero_grad()\n",
    "\n",
    "        # Run message passing on the inital node embeddings to get updated embeddings\n",
    "        node_emb = model(emb, edge_index)  # (N, d)\n",
    "\n",
    "        # Predict the class probabilities on the batch of positive edges using link_predictor\n",
    "        pos_edge = pos_train_edge[edge_id]  # (2, B)\n",
    "        pos_pred = link_predictor(node_emb[pos_edge[0]], node_emb[pos_edge[1]])  # (B, )\n",
    "        \n",
    "        # Sample negative edges (same number as number of positive edges) and predict class probabilities \n",
    "        neg_edge = negative_sampling(edge_index, num_nodes=emb.shape[0],\n",
    "                                    num_neg_samples=edge_id.shape[0], method='dense')  # (Ne,2)\n",
    "        neg_pred = link_predictor(node_emb[neg_edge[0]], node_emb[neg_edge[1]])  # (Ne,)\n",
    "\n",
    "        # Compute the corresponding negative log likelihood loss on the positive and negative edges\n",
    "        loss = -torch.log(pos_pred + 1e-15).mean() - torch.log(1 - neg_pred + 1e-15).mean()\n",
    "        \n",
    "        # Backpropagate and update parameters\n",
    "        loss.backward()\n",
    "        optimizer.step()\n",
    "\n",
    "        train_losses.append(loss.item())\n",
    "        if debug:\n",
    "            print(\"Train edges batch shape: \", edge_id.shape)\n",
    "            print(\"Train node embedding shape: \", node_emb.shape)\n",
    "            print(\"Train positive edge shape: \", pos_edge.shape)\n",
    "            print(\"Shape of positive edges (source): \", pos_edge.T[0].shape)\n",
    "            print(\"Shape of positive edges (target): \", pos_edge.T[1].shape)\n",
    "            print(\"Node embedding shape: \", node_emb[pos_edge[0]].shape)\n",
    "            print(\"Train positive prediction shape: \", pos_pred.shape)\n",
    "            print(\"Train negative prediction shape: \", neg_pred.shape)\n",
    "    if debug:\n",
    "        print(\"Train losses: \", train_losses)\n",
    "        print(\"Train losses length: \", i)\n",
    "\n",
    "    print(\"Train loss: \", sum(train_losses) / len(train_losses))\n",
    "\n",
    "    return sum(train_losses) / len(train_losses)"
   ]
  },
  {
   "cell_type": "code",
   "execution_count": 20,
   "metadata": {},
   "outputs": [
    {
     "data": {
      "text/plain": [
       "[1642]"
      ]
     },
     "execution_count": 20,
     "metadata": {},
     "output_type": "execute_result"
    }
   ],
   "source": [
    "get_gpu_memory()"
   ]
  },
  {
   "cell_type": "code",
   "execution_count": 21,
   "metadata": {},
   "outputs": [],
   "source": [
    "# from utils import do_edge_split\n",
    "# split_edge = do_edge_split(graph, fast_split = False)"
   ]
  },
  {
   "cell_type": "code",
   "execution_count": 22,
   "metadata": {},
   "outputs": [],
   "source": [
    "def test(model, predictor, emb, edge_index, split_edge, batch_size, evaluator):\n",
    "    \"\"\"\n",
    "    Evaluates graph model on validation and test edges\n",
    "    :param model: Torch Graph model used for updating node embeddings based on message passing\n",
    "    :param predictor: Torch model used for predicting whether edge exists or not\n",
    "    :param emb: (N, d) Initial node embeddings for all N nodes in graph\n",
    "    :param edge_index: (2, E) Edge index for all edges in the graph\n",
    "    :param split_edge: Dictionary of (e, 2) edges for val pos/neg and test pos/neg edges\n",
    "    :param batch_size: Number of positive (and negative) supervision edges to sample per batch\n",
    "    :param evaluator: OGB evaluator to calculate hits @ k metric\n",
    "    :return: hits @ k results\n",
    "    \"\"\"\n",
    "    model.eval()\n",
    "    predictor.eval()\n",
    "\n",
    "    node_emb = model(emb, edge_index)\n",
    "\n",
    "    pos_valid_edge = split_edge['valid']['edge'].T.to(emb.device)\n",
    "    neg_valid_edge = split_edge['valid']['edge_neg'].T.to(emb.device)\n",
    "    pos_test_edge = split_edge['test']['edge'].T.to(emb.device)\n",
    "    neg_test_edge = split_edge['test']['edge_neg'].T.to(emb.device)\n",
    "\n",
    "    with torch.no_grad():\n",
    "\n",
    "        loss_val_pos = []\n",
    "        pos_valid_preds = []\n",
    "        for perm in DataLoader(range(pos_valid_edge.size(0)), batch_size):\n",
    "            edge = pos_valid_edge[perm].t()\n",
    "            pos_valid_preds += [predictor(node_emb[edge[0]], node_emb[edge[1]]).squeeze().cpu()]\n",
    "            loss_val_pos.append(-torch.log(predictor(node_emb[edge[0]], node_emb[edge[1]]).squeeze().cpu() + 1e-15).mean())\n",
    "        pos_valid_pred = torch.cat(pos_valid_preds, dim=0)\n",
    "        loss_val_pos_val = sum(loss_val_pos) / len(loss_val_pos)\n",
    "\n",
    "        loss_val_neg = []\n",
    "        neg_valid_preds = []\n",
    "        for perm in DataLoader(range(neg_valid_edge.size(0)), batch_size):\n",
    "            edge = neg_valid_edge[perm].t()\n",
    "            neg_valid_preds += [predictor(node_emb[edge[0]], node_emb[edge[1]]).squeeze().cpu()]\n",
    "            loss_val_neg.append(-torch.log(1 - predictor(node_emb[edge[0]], node_emb[edge[1]]).squeeze().cpu() + 1e-15).mean())\n",
    "        neg_valid_pred = torch.cat(neg_valid_preds, dim=0)\n",
    "        loss_val_neg_val = sum(loss_val_neg) / len(loss_val_neg)\n",
    "\n",
    "        loss_test_pos = []\n",
    "        pos_test_preds = []\n",
    "        for perm in DataLoader(range(pos_test_edge.size(0)), batch_size):\n",
    "            edge = pos_test_edge[perm].t()\n",
    "            pos_test_preds += [predictor(node_emb[edge[0]], node_emb[edge[1]]).squeeze().cpu()]\n",
    "            loss_test_pos.append(-torch.log(predictor(node_emb[edge[0]], node_emb[edge[1]]).squeeze().cpu() + 1e-15).mean())\n",
    "        pos_test_pred = torch.cat(pos_test_preds, dim=0)\n",
    "        loss_test_pos_val = sum(loss_test_pos) / len(loss_test_pos)\n",
    "\n",
    "        loss_test_neg = []\n",
    "        neg_test_preds = []\n",
    "        for perm in DataLoader(range(neg_test_edge.size(0)), batch_size):\n",
    "            edge = neg_test_edge[perm].t()\n",
    "            neg_test_preds += [predictor(node_emb[edge[0]], node_emb[edge[1]]).squeeze().cpu()]\n",
    "            loss_test_neg.append(-torch.log(1 - predictor(node_emb[edge[0]], node_emb[edge[1]]).squeeze().cpu() + 1e-15).mean())\n",
    "        neg_test_pred = torch.cat(neg_test_preds, dim=0)\n",
    "        loss_test_neg_val = sum(loss_test_neg) / len(loss_test_neg)\n",
    "\n",
    "        results = {}\n",
    "        results[\"loss_val_pos\"] = loss_val_pos_val\n",
    "        results[\"loss_val_neg\"] = loss_val_neg_val\n",
    "        results[\"loss_test_pos\"] = loss_test_pos_val\n",
    "        results[\"loss_test_neg\"] = loss_test_neg_val\n",
    "\n",
    "        print(\"Loss val pos: \", loss_val_pos_val)\n",
    "        print(\"Loss val neg: \", loss_val_neg_val)\n",
    "        print(\"Loss test pos: \", loss_test_pos_val)\n",
    "        print(\"Loss test neg: \", loss_test_neg_val)\n",
    "\n",
    "    return results"
   ]
  },
  {
   "cell_type": "code",
   "execution_count": 23,
   "metadata": {},
   "outputs": [],
   "source": [
    "# hyperparameters\n",
    "device = torch.device('cuda' if torch.cuda.is_available() else 'cpu')\n",
    "\n",
    "# device = \"cpu\"\n",
    "optim_wd = 0\n",
    "epochs = 20\n",
    "hidden_dim = 256\n",
    "dropout = 0.3\n",
    "num_layers = 2\n",
    "lr = 5e-5\n",
    "node_emb_dim = 256\n",
    "batch_size = 512"
   ]
  },
  {
   "cell_type": "code",
   "execution_count": 24,
   "metadata": {},
   "outputs": [
    {
     "name": "stdout",
     "output_type": "stream",
     "text": [
      "Train edges:  torch.Size([2, 218387])\n",
      "Valid positive edges:  torch.Size([2, 27298])\n",
      "Valid negative edges:  torch.Size([2, 27298])\n",
      "Test positive edges:  torch.Size([2, 27298])\n",
      "Test negative edges:  torch.Size([2, 27298])\n"
     ]
    }
   ],
   "source": [
    "from utils import create_train_test_split_rls\n",
    "\n",
    "# create train, test, validation splits with negative sampling and stores them in split_edge dictionary\n",
    "split_edge = create_train_test_split_rls(graph)"
   ]
  },
  {
   "cell_type": "code",
   "execution_count": 25,
   "metadata": {},
   "outputs": [
    {
     "name": "stdout",
     "output_type": "stream",
     "text": [
      "==== Expected input format of Evaluator for ogbl-ddi\n",
      "{'y_pred_pos': y_pred_pos, 'y_pred_neg': y_pred_neg}\n",
      "- y_pred_pos: numpy ndarray or torch tensor of shape (num_edges, ). Torch tensor on GPU is recommended for efficiency.\n",
      "- y_pred_neg: numpy ndarray or torch tensor of shape (num_edges, ). Torch tensor on GPU is recommended for efficiency.\n",
      "y_pred_pos is the predicted scores for positive edges.\n",
      "y_pred_neg is the predicted scores for negative edges.\n",
      "Note: As the evaluation metric is ranking-based, the predicted scores need to be different for different edges.\n"
     ]
    }
   ],
   "source": [
    "evaluator = Evaluator(name='ogbl-ddi')\n",
    "print(evaluator.expected_input_format)"
   ]
  },
  {
   "cell_type": "code",
   "execution_count": 26,
   "metadata": {},
   "outputs": [
    {
     "data": {
      "text/plain": [
       "tensor([[  593,  1488,  2400,  ...,  1680,   989,  1890],\n",
       "        [18580, 11422, 10614,  ..., 14865, 14355, 10035]])"
      ]
     },
     "execution_count": 26,
     "metadata": {},
     "output_type": "execute_result"
    }
   ],
   "source": [
    "split_edge['train']['edge']"
   ]
  },
  {
   "cell_type": "code",
   "execution_count": 27,
   "metadata": {},
   "outputs": [
    {
     "data": {
      "text/plain": [
       "tensor([[ 2051,  3715,  3451,  ...,  4116,   721,  4055],\n",
       "        [12828, 12303,  8492,  ..., 13299, 13113, 13571]])"
      ]
     },
     "execution_count": 27,
     "metadata": {},
     "output_type": "execute_result"
    }
   ],
   "source": [
    "split_edge['valid']['edge']"
   ]
  },
  {
   "cell_type": "code",
   "execution_count": 28,
   "metadata": {},
   "outputs": [
    {
     "data": {
      "text/plain": [
       "tensor([[  457,    16,  2337,  ...,   867,  2925,  3205],\n",
       "        [15310, 12491, 10892,  ..., 19064,  6912, 12345]])"
      ]
     },
     "execution_count": 28,
     "metadata": {},
     "output_type": "execute_result"
    }
   ],
   "source": [
    "split_edge['test']['edge']"
   ]
  },
  {
   "cell_type": "code",
   "execution_count": 29,
   "metadata": {},
   "outputs": [
    {
     "name": "stdout",
     "output_type": "stream",
     "text": [
      "Before training. Available GPU memory:  [1618]\n"
     ]
    },
    {
     "name": "stderr",
     "output_type": "stream",
     "text": [
      "  0%|          | 0/20 [00:00<?, ?it/s]/tmp/ipykernel_158677/70710965.py:20: UserWarning: To copy construct from a tensor, it is recommended to use sourceTensor.clone().detach() or sourceTensor.clone().detach().requires_grad_(True), rather than torch.tensor(sourceTensor).\n",
      "  pos_train_edge = torch.tensor(pos_train_edge, dtype=torch.long).T\n"
     ]
    },
    {
     "name": "stdout",
     "output_type": "stream",
     "text": [
      "Train loss:  1.3263686440309261\n"
     ]
    },
    {
     "name": "stderr",
     "output_type": "stream",
     "text": [
      "  5%|▌         | 1/20 [01:26<27:32, 86.99s/it]"
     ]
    },
    {
     "name": "stdout",
     "output_type": "stream",
     "text": [
      "Loss val pos:  tensor(0.6253)\n",
      "Loss val neg:  tensor(0.6005)\n",
      "Loss test pos:  tensor(0.6249)\n",
      "Loss test neg:  tensor(0.5999)\n"
     ]
    }
   ],
   "source": [
    "# https://colab.research.google.com/drive/1mzvskulGoM9uXCkc4Cke3_Ch0-lz_HnN#scrollTo=gG6mGvs9Uqnt\n",
    "\n",
    "pos_train_edge = split_edge['train']['edge'].to(device)\n",
    "\n",
    "emb = torch.nn.Embedding(graph.num_nodes, node_emb_dim).to(device) # each node has an embedding that has to be learnt\n",
    "model = GNNStack(node_emb_dim, hidden_dim, hidden_dim, num_layers, dropout, emb=True).to(device)\n",
    "link_predictor = LinkPredictor(hidden_dim, hidden_dim, 1, num_layers + 1, dropout).to(device)\n",
    "\n",
    "evaluator = Evaluator(name='ogbl-ddi')\n",
    "\n",
    "optimizer = torch.optim.Adam(\n",
    "    list(model.parameters()) + list(link_predictor.parameters()) + list(emb.parameters()),\n",
    "    lr=lr, weight_decay=optim_wd\n",
    ")\n",
    "edge_index = graph.edge_index.to(device)\n",
    "\n",
    "print(\"Before training. Available GPU memory: \", get_gpu_memory())\n",
    "\n",
    "train_loss = []\n",
    "loss_val_pos_list = []\n",
    "loss_val_neg_list = []\n",
    "loss_test_pos_list = []\n",
    "loss_test_neg_list = []\n",
    "\n",
    "val_hits = []\n",
    "test_hits = []\n",
    "for e in tqdm(range(epochs)):\n",
    "    loss = train(model, link_predictor, emb.weight, edge_index, pos_train_edge, batch_size, optimizer)\n",
    "    \n",
    "    train_loss.append(loss)\n",
    "    if (e+1)%50 == 0:\n",
    "        print(f\"Epoch {e + 1}: loss: {round(loss, 5)}\")\n",
    "    \n",
    "    result = test(model, link_predictor, emb.weight, edge_index, split_edge, batch_size, evaluator)\n",
    "    \n",
    "    loss_val_pos_list.append(result[\"loss_val_pos\"])\n",
    "    loss_val_neg_list.append(result[\"loss_val_neg\"])\n",
    "    loss_test_pos_list.append(result[\"loss_test_pos\"])\n",
    "    loss_test_neg_list.append(result[\"loss_test_neg\"])"
   ]
  },
  {
   "cell_type": "code",
   "execution_count": null,
   "metadata": {},
   "outputs": [
    {
     "data": {
      "image/png": "[encoded data removed]",
      "text/plain": [
       "<Figure size 640x480 with 1 Axes>"
      ]
     },
     "metadata": {},
     "output_type": "display_data"
    }
   ],
   "source": [
    "plt.title('Link Prediction on OGB-ddi using GraphSAGE GNN')\n",
    "plt.plot(train_loss,label=\"training loss\")\n",
    "plt.plot(loss_val_pos_list,label=\"validation loss positive\")\n",
    "plt.plot(loss_val_neg_list,label=\"validation loss negative\")\n",
    "plt.plot(loss_test_pos_list,label=\"test loss positive\")\n",
    "plt.plot(loss_test_neg_list,label=\"test loss negative\")\n",
    "plt.xlabel('Epochs')\n",
    "plt.legend()\n",
    "plt.show()"
   ]
  }
 ],
 "metadata": {
  "kernelspec": {
   "display_name": "sna_link_prediction",
   "language": "python",
   "name": "python3"
  },
  "language_info": {
   "codemirror_mode": {
    "name": "ipython",
    "version": 3
   },
   "file_extension": ".py",
   "mimetype": "text/x-python",
   "name": "python",
   "nbconvert_exporter": "python",
   "pygments_lexer": "ipython3",
   "version": "3.9.18"
  }
 },
 "nbformat": 4,
 "nbformat_minor": 2
}
