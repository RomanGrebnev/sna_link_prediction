{
 "cells": [
  {
   "cell_type": "markdown",
   "source": [
    "## Data exploration votes\n",
    "This notebook is for exploring the votes datasets."
   ],
   "metadata": {
    "collapsed": false
   },
   "id": "11032e0eb49a6791"
  },
  {
   "cell_type": "code",
   "execution_count": 3,
   "id": "initial_id",
   "metadata": {
    "collapsed": true,
    "ExecuteTime": {
     "end_time": "2023-12-07T14:45:39.926787Z",
     "start_time": "2023-12-07T14:45:39.911985Z"
    }
   },
   "outputs": [],
   "source": [
    "import pandas as pd\n",
    "import os"
   ]
  },
  {
   "cell_type": "code",
   "execution_count": 5,
   "outputs": [
    {
     "data": {
      "text/plain": "'/Users/emilejohnston/DataspellProjects/sna_link_prediction'"
     },
     "execution_count": 5,
     "metadata": {},
     "output_type": "execute_result"
    }
   ],
   "source": [
    "os.chdir('/Users/emilejohnston/DataspellProjects/sna_link_prediction')\n",
    "os.getcwd()"
   ],
   "metadata": {
    "collapsed": false,
    "ExecuteTime": {
     "end_time": "2023-12-07T14:46:19.772535Z",
     "start_time": "2023-12-07T14:46:19.765593Z"
    }
   },
   "id": "70e2ceeb382ea01c"
  },
  {
   "cell_type": "code",
   "execution_count": 10,
   "outputs": [],
   "source": [
    "votes_1 = pd.read_csv('data/Votes_01052019_15052019.csv', sep=';')\n",
    "votes_2 = pd.read_csv('data/Votes_16052019_31052019.csv', sep=';')\n",
    "votes = pd.concat([votes_1, votes_2])"
   ],
   "metadata": {
    "collapsed": false,
    "ExecuteTime": {
     "end_time": "2023-12-07T14:47:49.885123Z",
     "start_time": "2023-12-07T14:47:46.591564Z"
    }
   },
   "id": "d531cdeaa8ca8acc"
  },
  {
   "cell_type": "code",
   "execution_count": 12,
   "outputs": [
    {
     "data": {
      "text/plain": "         ID_CommunityIdentity  ID_Posting  VoteNegative  VotePositive  \\\n0                      675862  1041076570             1             0   \n1                      689023  1041076570             1             0   \n2                       24810  1041076745             0             1   \n3                      673781  1041076745             0             1   \n4                       24810  1041076831             0             1   \n...                       ...         ...           ...           ...   \n2254242                553628  1042362731             0             1   \n2254243                553628  1042362772             0             1   \n2254244                553628  1042363572             0             1   \n2254245                503247  1042366280             0             1   \n2254246                553628  1042368779             0             1   \n\n                   VoteCreatedAt    UserCommunityName UserGender  \\\n0        2019-05-06 16:47:46.883  Heckscheibenwischer          m   \n1        2019-05-01 22:19:06.240      Heinz Fettleber        NaN   \n2        2019-05-01 23:54:54.600       Bruce Campbell          m   \n3        2019-05-01 20:59:29.910         Erdäpfelsack        NaN   \n4        2019-05-01 23:51:42.730       Bruce Campbell          m   \n...                          ...                  ...        ...   \n2254242  2019-06-03 17:47:17.467        404 not found        NaN   \n2254243  2019-06-03 17:48:07.213        404 not found        NaN   \n2254244  2019-06-03 17:46:52.170        404 not found        NaN   \n2254245  2019-06-03 20:50:24.820              Scorpio          m   \n2254246  2019-06-03 20:11:51.247        404 not found        NaN   \n\n                   UserCreatedAt  \n0        2018-06-26 06:04:30.513  \n1        2019-03-08 21:23:11.463  \n2        2011-01-12 16:50:40.597  \n3        2018-05-29 07:13:49.350  \n4        2011-01-12 16:50:40.597  \n...                          ...  \n2254242  2014-12-06 15:15:06.280  \n2254243  2014-12-06 15:15:06.280  \n2254244  2014-12-06 15:15:06.280  \n2254245  2012-12-19 10:42:30.780  \n2254246  2014-12-06 15:15:06.280  \n\n[3824984 rows x 8 columns]",
      "text/html": "<div>\n<style scoped>\n    .dataframe tbody tr th:only-of-type {\n        vertical-align: middle;\n    }\n\n    .dataframe tbody tr th {\n        vertical-align: top;\n    }\n\n    .dataframe thead th {\n        text-align: right;\n    }\n</style>\n<table border=\"1\" class=\"dataframe\">\n  <thead>\n    <tr style=\"text-align: right;\">\n      <th></th>\n      <th>ID_CommunityIdentity</th>\n      <th>ID_Posting</th>\n      <th>VoteNegative</th>\n      <th>VotePositive</th>\n      <th>VoteCreatedAt</th>\n      <th>UserCommunityName</th>\n      <th>UserGender</th>\n      <th>UserCreatedAt</th>\n    </tr>\n  </thead>\n  <tbody>\n    <tr>\n      <th>0</th>\n      <td>675862</td>\n      <td>1041076570</td>\n      <td>1</td>\n      <td>0</td>\n      <td>2019-05-06 16:47:46.883</td>\n      <td>Heckscheibenwischer</td>\n      <td>m</td>\n      <td>2018-06-26 06:04:30.513</td>\n    </tr>\n    <tr>\n      <th>1</th>\n      <td>689023</td>\n      <td>1041076570</td>\n      <td>1</td>\n      <td>0</td>\n      <td>2019-05-01 22:19:06.240</td>\n      <td>Heinz Fettleber</td>\n      <td>NaN</td>\n      <td>2019-03-08 21:23:11.463</td>\n    </tr>\n    <tr>\n      <th>2</th>\n      <td>24810</td>\n      <td>1041076745</td>\n      <td>0</td>\n      <td>1</td>\n      <td>2019-05-01 23:54:54.600</td>\n      <td>Bruce Campbell</td>\n      <td>m</td>\n      <td>2011-01-12 16:50:40.597</td>\n    </tr>\n    <tr>\n      <th>3</th>\n      <td>673781</td>\n      <td>1041076745</td>\n      <td>0</td>\n      <td>1</td>\n      <td>2019-05-01 20:59:29.910</td>\n      <td>Erdäpfelsack</td>\n      <td>NaN</td>\n      <td>2018-05-29 07:13:49.350</td>\n    </tr>\n    <tr>\n      <th>4</th>\n      <td>24810</td>\n      <td>1041076831</td>\n      <td>0</td>\n      <td>1</td>\n      <td>2019-05-01 23:51:42.730</td>\n      <td>Bruce Campbell</td>\n      <td>m</td>\n      <td>2011-01-12 16:50:40.597</td>\n    </tr>\n    <tr>\n      <th>...</th>\n      <td>...</td>\n      <td>...</td>\n      <td>...</td>\n      <td>...</td>\n      <td>...</td>\n      <td>...</td>\n      <td>...</td>\n      <td>...</td>\n    </tr>\n    <tr>\n      <th>2254242</th>\n      <td>553628</td>\n      <td>1042362731</td>\n      <td>0</td>\n      <td>1</td>\n      <td>2019-06-03 17:47:17.467</td>\n      <td>404 not found</td>\n      <td>NaN</td>\n      <td>2014-12-06 15:15:06.280</td>\n    </tr>\n    <tr>\n      <th>2254243</th>\n      <td>553628</td>\n      <td>1042362772</td>\n      <td>0</td>\n      <td>1</td>\n      <td>2019-06-03 17:48:07.213</td>\n      <td>404 not found</td>\n      <td>NaN</td>\n      <td>2014-12-06 15:15:06.280</td>\n    </tr>\n    <tr>\n      <th>2254244</th>\n      <td>553628</td>\n      <td>1042363572</td>\n      <td>0</td>\n      <td>1</td>\n      <td>2019-06-03 17:46:52.170</td>\n      <td>404 not found</td>\n      <td>NaN</td>\n      <td>2014-12-06 15:15:06.280</td>\n    </tr>\n    <tr>\n      <th>2254245</th>\n      <td>503247</td>\n      <td>1042366280</td>\n      <td>0</td>\n      <td>1</td>\n      <td>2019-06-03 20:50:24.820</td>\n      <td>Scorpio</td>\n      <td>m</td>\n      <td>2012-12-19 10:42:30.780</td>\n    </tr>\n    <tr>\n      <th>2254246</th>\n      <td>553628</td>\n      <td>1042368779</td>\n      <td>0</td>\n      <td>1</td>\n      <td>2019-06-03 20:11:51.247</td>\n      <td>404 not found</td>\n      <td>NaN</td>\n      <td>2014-12-06 15:15:06.280</td>\n    </tr>\n  </tbody>\n</table>\n<p>3824984 rows × 8 columns</p>\n</div>"
     },
     "execution_count": 12,
     "metadata": {},
     "output_type": "execute_result"
    }
   ],
   "source": [
    "votes"
   ],
   "metadata": {
    "collapsed": false,
    "ExecuteTime": {
     "end_time": "2023-12-07T14:47:58.237190Z",
     "start_time": "2023-12-07T14:47:58.230817Z"
    }
   },
   "id": "606b49604d3aa3b0"
  },
  {
   "cell_type": "code",
   "execution_count": 20,
   "outputs": [
    {
     "data": {
      "text/plain": "29933"
     },
     "execution_count": 20,
     "metadata": {},
     "output_type": "execute_result"
    }
   ],
   "source": [
    "n_users = votes['ID_CommunityIdentity'].nunique()\n",
    "n_users"
   ],
   "metadata": {
    "collapsed": false,
    "ExecuteTime": {
     "end_time": "2023-12-07T16:00:58.770649Z",
     "start_time": "2023-12-07T16:00:58.726443Z"
    }
   },
   "id": "9613124038d80f95"
  },
  {
   "cell_type": "code",
   "execution_count": 25,
   "outputs": [
    {
     "data": {
      "text/plain": "         ID_CommunityIdentity    UserCommunityName UserGender  \\\n0                      675862  Heckscheibenwischer          m   \n1                      689023      Heinz Fettleber        NaN   \n2                       24810       Bruce Campbell          m   \n3                      673781         Erdäpfelsack        NaN   \n5                       40177             der held          m   \n...                       ...                  ...        ...   \n2251797                155470        Mrs. Dalloway          w   \n2252070                 84374    Hofratz Schweiger          m   \n2254011                653670                 hela        NaN   \n2254051                694305        ala.tobischek        NaN   \n2254069                694303            Fisch0815          m   \n\n                   UserCreatedAt  \n0        2018-06-26 06:04:30.513  \n1        2019-03-08 21:23:11.463  \n2        2011-01-12 16:50:40.597  \n3        2018-05-29 07:13:49.350  \n5        2006-03-02 21:58:24.830  \n...                          ...  \n2251797  2011-11-23 16:36:03.510  \n2252070  2011-03-20 07:12:38.693  \n2254011  2017-12-01 17:56:09.640  \n2254051  2019-05-31 15:20:27.420  \n2254069  2013-05-07 19:59:22.210  \n\n[29933 rows x 4 columns]",
      "text/html": "<div>\n<style scoped>\n    .dataframe tbody tr th:only-of-type {\n        vertical-align: middle;\n    }\n\n    .dataframe tbody tr th {\n        vertical-align: top;\n    }\n\n    .dataframe thead th {\n        text-align: right;\n    }\n</style>\n<table border=\"1\" class=\"dataframe\">\n  <thead>\n    <tr style=\"text-align: right;\">\n      <th></th>\n      <th>ID_CommunityIdentity</th>\n      <th>UserCommunityName</th>\n      <th>UserGender</th>\n      <th>UserCreatedAt</th>\n    </tr>\n  </thead>\n  <tbody>\n    <tr>\n      <th>0</th>\n      <td>675862</td>\n      <td>Heckscheibenwischer</td>\n      <td>m</td>\n      <td>2018-06-26 06:04:30.513</td>\n    </tr>\n    <tr>\n      <th>1</th>\n      <td>689023</td>\n      <td>Heinz Fettleber</td>\n      <td>NaN</td>\n      <td>2019-03-08 21:23:11.463</td>\n    </tr>\n    <tr>\n      <th>2</th>\n      <td>24810</td>\n      <td>Bruce Campbell</td>\n      <td>m</td>\n      <td>2011-01-12 16:50:40.597</td>\n    </tr>\n    <tr>\n      <th>3</th>\n      <td>673781</td>\n      <td>Erdäpfelsack</td>\n      <td>NaN</td>\n      <td>2018-05-29 07:13:49.350</td>\n    </tr>\n    <tr>\n      <th>5</th>\n      <td>40177</td>\n      <td>der held</td>\n      <td>m</td>\n      <td>2006-03-02 21:58:24.830</td>\n    </tr>\n    <tr>\n      <th>...</th>\n      <td>...</td>\n      <td>...</td>\n      <td>...</td>\n      <td>...</td>\n    </tr>\n    <tr>\n      <th>2251797</th>\n      <td>155470</td>\n      <td>Mrs. Dalloway</td>\n      <td>w</td>\n      <td>2011-11-23 16:36:03.510</td>\n    </tr>\n    <tr>\n      <th>2252070</th>\n      <td>84374</td>\n      <td>Hofratz Schweiger</td>\n      <td>m</td>\n      <td>2011-03-20 07:12:38.693</td>\n    </tr>\n    <tr>\n      <th>2254011</th>\n      <td>653670</td>\n      <td>hela</td>\n      <td>NaN</td>\n      <td>2017-12-01 17:56:09.640</td>\n    </tr>\n    <tr>\n      <th>2254051</th>\n      <td>694305</td>\n      <td>ala.tobischek</td>\n      <td>NaN</td>\n      <td>2019-05-31 15:20:27.420</td>\n    </tr>\n    <tr>\n      <th>2254069</th>\n      <td>694303</td>\n      <td>Fisch0815</td>\n      <td>m</td>\n      <td>2013-05-07 19:59:22.210</td>\n    </tr>\n  </tbody>\n</table>\n<p>29933 rows × 4 columns</p>\n</div>"
     },
     "execution_count": 25,
     "metadata": {},
     "output_type": "execute_result"
    }
   ],
   "source": [
    "users = votes[['ID_CommunityIdentity','UserCommunityName','UserGender','UserCreatedAt']].drop_duplicates()\n",
    "users"
   ],
   "metadata": {
    "collapsed": false,
    "ExecuteTime": {
     "end_time": "2023-12-07T18:10:57.432361Z",
     "start_time": "2023-12-07T18:10:56.601042Z"
    }
   },
   "id": "ba4e92e463359325"
  },
  {
   "cell_type": "code",
   "execution_count": 26,
   "outputs": [],
   "source": [
    "users.to_csv('data/Users_votes.csv', index=False)"
   ],
   "metadata": {
    "collapsed": false,
    "ExecuteTime": {
     "end_time": "2023-12-07T18:11:18.665717Z",
     "start_time": "2023-12-07T18:11:18.615066Z"
    }
   },
   "id": "5e8a47fe189c2005"
  },
  {
   "cell_type": "code",
   "execution_count": 18,
   "outputs": [
    {
     "data": {
      "text/plain": "UserCreatedAt\n2012-12-05 01:47:43.317    59\n2000-08-29 13:51:12.000     3\n2000-08-29 14:24:08.000     2\n2000-09-05 14:20:43.000     2\n2000-08-29 13:42:02.000     2\n                           ..\n2006-04-02 21:47:56.657     1\n2003-08-05 09:44:23.453     1\n2014-05-28 12:55:50.660     1\n2017-10-22 09:14:16.993     1\n2013-05-07 19:59:22.210     1\nName: count, Length: 29853, dtype: int64"
     },
     "execution_count": 18,
     "metadata": {},
     "output_type": "execute_result"
    }
   ],
   "source": [
    "# checking that there are no inconsistencies in the data:\n",
    "#users['ID_CommunityIdentity'].value_counts()\n",
    "#users['UserCommunityName'].value_counts()\n",
    "users['UserCreatedAt'].value_counts()"
   ],
   "metadata": {
    "collapsed": false,
    "ExecuteTime": {
     "end_time": "2023-12-07T15:26:02.176151Z",
     "start_time": "2023-12-07T15:26:02.168942Z"
    }
   },
   "id": "323d586a9a18e93b"
  },
  {
   "cell_type": "code",
   "execution_count": 22,
   "outputs": [
    {
     "data": {
      "text/plain": "         ID_CommunityIdentity  ID_Posting  VoteNegative  VotePositive  \\\n2650                   686949  1041080588             1             0   \n3992                   604715  1041271063             0             1   \n5108                   604715  1041270974             0             1   \n5109                   604715  1041271174             0             1   \n5111                   604715  1041271342             0             1   \n...                       ...         ...           ...           ...   \n2208303                693962  1042169810             0             1   \n2216525                693962  1042258134             0             1   \n2224609                692184  1042271844             1             0   \n2242143                693962  1042236449             0             1   \n2243018                694419  1042304444             0             1   \n\n                   VoteCreatedAt                     UserCommunityName  \\\n2650     2019-05-01 23:32:59.160  8b3b3b54-7e11-4708-8ec6-f0a46275cf28   \n3992     2019-05-08 13:07:08.083  c7690439-ba63-4cd4-aa60-0b5248e449ca   \n5108     2019-05-08 13:07:15.803  c7690439-ba63-4cd4-aa60-0b5248e449ca   \n5109     2019-05-08 12:58:18.747  c7690439-ba63-4cd4-aa60-0b5248e449ca   \n5111     2019-05-08 13:01:37.987  c7690439-ba63-4cd4-aa60-0b5248e449ca   \n...                          ...                                   ...   \n2208303  2019-05-29 06:06:34.783  028c49ce-8444-41cd-adfa-18ccbe1e5802   \n2216525  2019-05-31 13:03:53.960  028c49ce-8444-41cd-adfa-18ccbe1e5802   \n2224609  2019-06-01 10:15:38.203  efbe9307-cb67-4f39-b115-d6ac6da223f2   \n2242143  2019-05-30 20:37:52.880  028c49ce-8444-41cd-adfa-18ccbe1e5802   \n2243018  2019-06-03 11:32:49.667  7e7cb1c3-12b2-4cf8-b4b3-f19593cf6efa   \n\n        UserGender            UserCreatedAt  \n2650             m  2012-12-05 01:47:43.317  \n3992             m  2012-12-05 01:47:43.317  \n5108             m  2012-12-05 01:47:43.317  \n5109             m  2012-12-05 01:47:43.317  \n5111             m  2012-12-05 01:47:43.317  \n...            ...                      ...  \n2208303          m  2012-12-05 01:47:43.317  \n2216525          m  2012-12-05 01:47:43.317  \n2224609          m  2012-12-05 01:47:43.317  \n2242143          m  2012-12-05 01:47:43.317  \n2243018          m  2012-12-05 01:47:43.317  \n\n[6996 rows x 8 columns]",
      "text/html": "<div>\n<style scoped>\n    .dataframe tbody tr th:only-of-type {\n        vertical-align: middle;\n    }\n\n    .dataframe tbody tr th {\n        vertical-align: top;\n    }\n\n    .dataframe thead th {\n        text-align: right;\n    }\n</style>\n<table border=\"1\" class=\"dataframe\">\n  <thead>\n    <tr style=\"text-align: right;\">\n      <th></th>\n      <th>ID_CommunityIdentity</th>\n      <th>ID_Posting</th>\n      <th>VoteNegative</th>\n      <th>VotePositive</th>\n      <th>VoteCreatedAt</th>\n      <th>UserCommunityName</th>\n      <th>UserGender</th>\n      <th>UserCreatedAt</th>\n    </tr>\n  </thead>\n  <tbody>\n    <tr>\n      <th>2650</th>\n      <td>686949</td>\n      <td>1041080588</td>\n      <td>1</td>\n      <td>0</td>\n      <td>2019-05-01 23:32:59.160</td>\n      <td>8b3b3b54-7e11-4708-8ec6-f0a46275cf28</td>\n      <td>m</td>\n      <td>2012-12-05 01:47:43.317</td>\n    </tr>\n    <tr>\n      <th>3992</th>\n      <td>604715</td>\n      <td>1041271063</td>\n      <td>0</td>\n      <td>1</td>\n      <td>2019-05-08 13:07:08.083</td>\n      <td>c7690439-ba63-4cd4-aa60-0b5248e449ca</td>\n      <td>m</td>\n      <td>2012-12-05 01:47:43.317</td>\n    </tr>\n    <tr>\n      <th>5108</th>\n      <td>604715</td>\n      <td>1041270974</td>\n      <td>0</td>\n      <td>1</td>\n      <td>2019-05-08 13:07:15.803</td>\n      <td>c7690439-ba63-4cd4-aa60-0b5248e449ca</td>\n      <td>m</td>\n      <td>2012-12-05 01:47:43.317</td>\n    </tr>\n    <tr>\n      <th>5109</th>\n      <td>604715</td>\n      <td>1041271174</td>\n      <td>0</td>\n      <td>1</td>\n      <td>2019-05-08 12:58:18.747</td>\n      <td>c7690439-ba63-4cd4-aa60-0b5248e449ca</td>\n      <td>m</td>\n      <td>2012-12-05 01:47:43.317</td>\n    </tr>\n    <tr>\n      <th>5111</th>\n      <td>604715</td>\n      <td>1041271342</td>\n      <td>0</td>\n      <td>1</td>\n      <td>2019-05-08 13:01:37.987</td>\n      <td>c7690439-ba63-4cd4-aa60-0b5248e449ca</td>\n      <td>m</td>\n      <td>2012-12-05 01:47:43.317</td>\n    </tr>\n    <tr>\n      <th>...</th>\n      <td>...</td>\n      <td>...</td>\n      <td>...</td>\n      <td>...</td>\n      <td>...</td>\n      <td>...</td>\n      <td>...</td>\n      <td>...</td>\n    </tr>\n    <tr>\n      <th>2208303</th>\n      <td>693962</td>\n      <td>1042169810</td>\n      <td>0</td>\n      <td>1</td>\n      <td>2019-05-29 06:06:34.783</td>\n      <td>028c49ce-8444-41cd-adfa-18ccbe1e5802</td>\n      <td>m</td>\n      <td>2012-12-05 01:47:43.317</td>\n    </tr>\n    <tr>\n      <th>2216525</th>\n      <td>693962</td>\n      <td>1042258134</td>\n      <td>0</td>\n      <td>1</td>\n      <td>2019-05-31 13:03:53.960</td>\n      <td>028c49ce-8444-41cd-adfa-18ccbe1e5802</td>\n      <td>m</td>\n      <td>2012-12-05 01:47:43.317</td>\n    </tr>\n    <tr>\n      <th>2224609</th>\n      <td>692184</td>\n      <td>1042271844</td>\n      <td>1</td>\n      <td>0</td>\n      <td>2019-06-01 10:15:38.203</td>\n      <td>efbe9307-cb67-4f39-b115-d6ac6da223f2</td>\n      <td>m</td>\n      <td>2012-12-05 01:47:43.317</td>\n    </tr>\n    <tr>\n      <th>2242143</th>\n      <td>693962</td>\n      <td>1042236449</td>\n      <td>0</td>\n      <td>1</td>\n      <td>2019-05-30 20:37:52.880</td>\n      <td>028c49ce-8444-41cd-adfa-18ccbe1e5802</td>\n      <td>m</td>\n      <td>2012-12-05 01:47:43.317</td>\n    </tr>\n    <tr>\n      <th>2243018</th>\n      <td>694419</td>\n      <td>1042304444</td>\n      <td>0</td>\n      <td>1</td>\n      <td>2019-06-03 11:32:49.667</td>\n      <td>7e7cb1c3-12b2-4cf8-b4b3-f19593cf6efa</td>\n      <td>m</td>\n      <td>2012-12-05 01:47:43.317</td>\n    </tr>\n  </tbody>\n</table>\n<p>6996 rows × 8 columns</p>\n</div>"
     },
     "execution_count": 22,
     "metadata": {},
     "output_type": "execute_result"
    }
   ],
   "source": [
    "sus_votes = votes[votes['UserCreatedAt'] == '2012-12-05 01:47:43.317']\n",
    "sus_votes"
   ],
   "metadata": {
    "collapsed": false,
    "ExecuteTime": {
     "end_time": "2023-12-07T16:01:58.265055Z",
     "start_time": "2023-12-07T16:01:58.175999Z"
    }
   },
   "id": "6f5ab123c9b54337"
  },
  {
   "cell_type": "code",
   "execution_count": 21,
   "outputs": [
    {
     "data": {
      "text/plain": "127.78485283800488"
     },
     "execution_count": 21,
     "metadata": {},
     "output_type": "execute_result"
    }
   ],
   "source": [
    "votes_per_user = len(votes)/n_users\n",
    "votes_per_user"
   ],
   "metadata": {
    "collapsed": false,
    "ExecuteTime": {
     "end_time": "2023-12-07T16:01:23.819276Z",
     "start_time": "2023-12-07T16:01:23.802483Z"
    }
   },
   "id": "6918db537618f01a"
  },
  {
   "cell_type": "code",
   "execution_count": 24,
   "outputs": [
    {
     "data": {
      "text/plain": "118.57627118644068"
     },
     "execution_count": 24,
     "metadata": {},
     "output_type": "execute_result"
    }
   ],
   "source": [
    "votes_per_bot = len(sus_votes)/59\n",
    "votes_per_bot"
   ],
   "metadata": {
    "collapsed": false,
    "ExecuteTime": {
     "end_time": "2023-12-07T16:02:18.553377Z",
     "start_time": "2023-12-07T16:02:18.544423Z"
    }
   },
   "id": "947d98f74cbcfefe"
  },
  {
   "cell_type": "code",
   "execution_count": null,
   "outputs": [],
   "source": [],
   "metadata": {
    "collapsed": false
   },
   "id": "6e45256d39e702d1"
  }
 ],
 "metadata": {
  "kernelspec": {
   "display_name": "Python 3",
   "language": "python",
   "name": "python3"
  },
  "language_info": {
   "codemirror_mode": {
    "name": "ipython",
    "version": 2
   },
   "file_extension": ".py",
   "mimetype": "text/x-python",
   "name": "python",
   "nbconvert_exporter": "python",
   "pygments_lexer": "ipython2",
   "version": "2.7.6"
  }
 },
 "nbformat": 4,
 "nbformat_minor": 5
}
