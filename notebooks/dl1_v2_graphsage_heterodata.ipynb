{
 "cells": [
  {
   "cell_type": "code",
   "execution_count": 82,
   "metadata": {},
   "outputs": [
    {
     "name": "stdout",
     "output_type": "stream",
     "text": [
      "2.1.1+cu118\n"
     ]
    }
   ],
   "source": []
  },
  {
   "cell_type": "markdown",
   "metadata": {},
   "source": [
    "# GraphSAGE model on heterogeneous user-article graph"
   ]
  },
  {
   "cell_type": "code",
   "execution_count": 1,
   "metadata": {},
   "outputs": [
    {
     "name": "stdout",
     "output_type": "stream",
     "text": [
      "2.1.1+cu118\n"
     ]
    }
   ],
   "source": [
    "import os\n",
    "\n",
    "import torch\n",
    "os.environ['TORCH'] = torch.__version__\n",
    "from torch import Tensor\n",
    "print(torch.__version__)\n",
    "\n",
    "import numpy as np\n",
    "import networkx as nx\n",
    "import pandas as pd\n",
    "import matplotlib.pyplot as plt\n",
    "from torch import torch\n",
    "from sklearn import preprocessing\n",
    "\n",
    "from torch_geometric.data import Data\n",
    "\n",
    "from torch_geometric.data import HeteroData\n",
    "from torch_geometric.transforms import ToUndirected\n",
    "\n",
    "from torch_geometric.loader import LinkNeighborLoader\n",
    "import torch_geometric.transforms as T\n",
    "from torch_geometric.nn import SAGEConv, to_hetero, GAT\n",
    "import torch.nn.functional as F\n"
   ]
  },
  {
   "cell_type": "markdown",
   "metadata": {},
   "source": [
    "## Import data"
   ]
  },
  {
   "cell_type": "code",
   "execution_count": 2,
   "metadata": {},
   "outputs": [],
   "source": [
    "postings_1 = pd.read_csv(\"../data/Postings_01052019_15052019.csv\", sep = ';')\n",
    "postings_2 = pd.read_csv(\"../data/Postings_16052019_31052019.csv\", sep = ';')\n",
    "votes_1 = pd.read_csv(\"../data/Votes_01052019_15052019.csv\", sep = ';')\n",
    "votes_2 = pd.read_csv(\"../data/Votes_16052019_31052019.csv\", sep = ';')\n",
    "postings = pd.concat([postings_1, postings_2])\n",
    "votes = pd.concat([votes_1, votes_2])\n",
    "\n",
    "post_article = postings.groupby(by = ['ID_CommunityIdentity', 'ID_Article']).agg({\"ArticlePublishingDate\": \"min\"})\n",
    "post_article = post_article.reset_index()\n",
    "votes_trunc = votes[['ID_CommunityIdentity', 'ID_Posting']]\n",
    "postings_trunc = postings.groupby(by = ['ID_Posting', 'ID_Article']).agg({\"ArticlePublishingDate\": \"min\"}).reset_index().drop(columns = ['ArticlePublishingDate'])\n",
    "vote_user_article = votes_trunc.merge(postings_trunc, left_on = ['ID_Posting'], right_on = ['ID_Posting'])\n",
    "vote_article = vote_user_article.groupby(by = ['ID_CommunityIdentity', 'ID_Article']).agg({\"ID_Posting\": \"count\"}).reset_index().drop(columns = ['ID_Posting'])\n",
    "user_article_interaction = pd.concat([post_article, vote_article]).drop(columns=['ArticlePublishingDate'])\n",
    "\n",
    "user_article_interaction = user_article_interaction.groupby(by = ['ID_CommunityIdentity', 'ID_Article']).count().reset_index()\n",
    "\n",
    "user_article_interaction[\"user_id\"] = \"u-\" + user_article_interaction[\"ID_CommunityIdentity\"].astype(str)\n",
    "user_article_interaction[\"article_id\"] = \"a-\" + user_article_interaction[\"ID_Article\"].astype(str)"
   ]
  },
  {
   "cell_type": "markdown",
   "metadata": {},
   "source": [
    "## Do node encoding"
   ]
  },
  {
   "cell_type": "code",
   "execution_count": 8,
   "metadata": {},
   "outputs": [],
   "source": [
    "user_article_interaction_subsampled = user_article_interaction.sample(n=int(user_article_interaction.shape[0]), random_state=1)\n",
    "\n",
    "# concatenate nodes and create node encodings\n",
    "nodes = np.concatenate((np.unique(user_article_interaction_subsampled['user_id']), np.unique(user_article_interaction_subsampled['article_id'])))\n",
    "nodes_user = np.unique(user_article_interaction_subsampled['user_id'])\n",
    "nodes_article = np.unique(user_article_interaction_subsampled['article_id'])\n",
    "\n",
    "label_encoder_nodes = preprocessing.LabelEncoder()\n",
    "label_encoder_nodes.fit(nodes)\n",
    "nodes_enc = label_encoder_nodes.transform(nodes)\n",
    "\n",
    "user_article_interaction_subsampled['user_id_enc'] = label_encoder_nodes.transform(user_article_interaction_subsampled['user_id'])\n",
    "user_article_interaction_subsampled['article_id_enc'] = label_encoder_nodes.transform(user_article_interaction_subsampled['article_id'])\n"
   ]
  },
  {
   "cell_type": "code",
   "execution_count": 9,
   "metadata": {},
   "outputs": [],
   "source": [
    "user_id_key_val = dict(zip(list(range(0, len(np.unique(user_article_interaction_subsampled['user_id_enc'])))), \n",
    "                           list(np.unique(user_article_interaction_subsampled['user_id_enc']))))\n",
    "article_id_val_key = dict(zip(list(range(0, len(np.unique(user_article_interaction_subsampled['article_id_enc'])))),\n",
    "                               list(np.unique(user_article_interaction_subsampled['article_id_enc']))))\n",
    "user_id_val_key = {v:k for k, v in user_id_key_val.items()}\n",
    "article_id_key_val = {v:k for k, v in article_id_val_key.items()}"
   ]
  },
  {
   "cell_type": "markdown",
   "metadata": {},
   "source": [
    "## Construct graph"
   ]
  },
  {
   "cell_type": "code",
   "execution_count": 10,
   "metadata": {},
   "outputs": [],
   "source": [
    "# generate edge list\n",
    "edge_list = []\n",
    "for row in user_article_interaction_subsampled.itertuples():\n",
    "    edge_list.append([user_id_val_key[row.user_id_enc], article_id_key_val[row.article_id_enc]])\n",
    "\n",
    "# create tensor with nodes\n",
    "x_s = torch.tensor([user_id_val_key[user_id] for user_id in np.unique(user_article_interaction_subsampled['user_id_enc'])], dtype=torch.long)\n",
    "x_t = torch.tensor([article_id_key_val[article_id] for article_id in np.unique(user_article_interaction_subsampled['article_id_enc'])], dtype=torch.long)    "
   ]
  },
  {
   "cell_type": "code",
   "execution_count": 11,
   "metadata": {},
   "outputs": [],
   "source": [
    "edge_index_s2t = torch.tensor(edge_list).t()\n",
    "edge_index_t2s = edge_index_s2t.flip(0)"
   ]
  },
  {
   "cell_type": "code",
   "execution_count": 12,
   "metadata": {},
   "outputs": [],
   "source": [
    "data = HeteroData()\n",
    "\n",
    "data['user'].x = x_s\n",
    "data['article'].x = x_t\n",
    "data['user'].num_nodes = x_s.size(0)\n",
    "data['article'].num_nodes = x_t.size(0)\n",
    "\n",
    "data['user', 'article'].edge_index = edge_index_s2t\n",
    "data['article', 'user'].edge_index = edge_index_t2s\n",
    "\n",
    "data[\"user\"].node_id = torch.arange(len(nodes_user))\n",
    "data[\"article\"].node_id = torch.arange(len(nodes_article))\n",
    "\n",
    "data.num_nodes = x_s.size(0) + x_t.size(0)\n",
    "\n",
    "# PyTorch tensor functionality:\n",
    "data = data.pin_memory()\n",
    "data = data.to('cuda:0', non_blocking=True)"
   ]
  },
  {
   "cell_type": "code",
   "execution_count": 13,
   "metadata": {},
   "outputs": [],
   "source": [
    "# data = ToUndirected()(data)"
   ]
  },
  {
   "cell_type": "code",
   "execution_count": 14,
   "metadata": {},
   "outputs": [
    {
     "data": {
      "text/plain": [
       "tensor([[14397,  8965, 11221,  ..., 13589, 14400, 33337],\n",
       "        [ 2646,  1691,   881,  ...,  4239,   483,  2508]], device='cuda:0')"
      ]
     },
     "execution_count": 14,
     "metadata": {},
     "output_type": "execute_result"
    }
   ],
   "source": [
    "data[(\"user\", \"to\", \"article\")].edge_index"
   ]
  },
  {
   "cell_type": "markdown",
   "metadata": {},
   "source": [
    "## Define the model"
   ]
  },
  {
   "cell_type": "markdown",
   "metadata": {},
   "source": [
    "### Define node embedder"
   ]
  },
  {
   "cell_type": "code",
   "execution_count": 15,
   "metadata": {},
   "outputs": [],
   "source": [
    "class GNN(torch.nn.Module):\n",
    "    def __init__(self, hidden_channels):\n",
    "        super().__init__()\n",
    "        self.conv1 = SAGEConv(hidden_channels, hidden_channels)\n",
    "        self.conv2 = SAGEConv(hidden_channels, hidden_channels)\n",
    "\n",
    "    def forward(self, x: Tensor, edge_index: Tensor) -> Tensor:\n",
    "        x = F.relu(self.conv1(x, edge_index))\n",
    "        x = self.conv2(x, edge_index)\n",
    "        return x"
   ]
  },
  {
   "cell_type": "markdown",
   "metadata": {},
   "source": [
    "### Define classifier model"
   ]
  },
  {
   "cell_type": "code",
   "execution_count": 16,
   "metadata": {},
   "outputs": [],
   "source": [
    "class Classifier(torch.nn.Module):\n",
    "\n",
    "    def forward(self, x_user: Tensor, x_movie: Tensor, edge_label_index: Tensor) -> Tensor:\n",
    "        # Convert node embeddings to edge-level representations:\n",
    "        edge_feat_user = x_user[edge_label_index[0]] # select source node embeddings\n",
    "        edge_feat_movie = x_movie[edge_label_index[1]] # select target node embeddings\n",
    "        # Apply dot-product to get a prediction per supervision edge:\n",
    "        return (edge_feat_user * edge_feat_movie).sum(dim=-1) # calculate element-wise product"
   ]
  },
  {
   "cell_type": "markdown",
   "metadata": {},
   "source": [
    "### Define model as a combination of node encoding and edge classification with dot-product"
   ]
  },
  {
   "cell_type": "code",
   "execution_count": 17,
   "metadata": {},
   "outputs": [],
   "source": [
    "class Model(torch.nn.Module):\n",
    "    \n",
    "    def __init__(self, hidden_channels):\n",
    "        super().__init__()\n",
    "        # Since the dataset does not come with rich features, we also learn two\n",
    "        # embedding matrices for users and movies:\n",
    "        self.user_emb = torch.nn.Embedding(data[\"user\"].num_nodes, hidden_channels)\n",
    "        self.movie_emb = torch.nn.Embedding(data[\"article\"].num_nodes, hidden_channels)\n",
    "        # Instantiate homogeneous GNN:\n",
    "        self.gnn = GNN(hidden_channels)\n",
    "        # Convert GNN model into a heterogeneous variant:\n",
    "        self.gnn = to_hetero(self.gnn, metadata=data.metadata())\n",
    "        self.classifier = Classifier()\n",
    "        \n",
    "    def forward(self, data: HeteroData) -> Tensor:\n",
    "        x_dict = {\n",
    "          \"user\": self.user_emb(data[\"user\"].node_id),\n",
    "          \"article\": self.movie_emb(data[\"article\"].node_id),\n",
    "        } \n",
    "        # `x_dict` holds feature matrices of all node types\n",
    "        # `edge_index_dict` holds all edge indices of all edge types\n",
    "        x_dict = self.gnn(x_dict, data.edge_index_dict)\n",
    "        pred = self.classifier(\n",
    "            x_dict[\"user\"], # user embeddings\n",
    "            x_dict[\"article\"], # item embeddings\n",
    "            data[\"user\", \"to\", \"article\"].edge_label_index, # supervised edge indices\n",
    "        )\n",
    "        # return torch.sigmoid(pred)\n",
    "        return pred\n",
    "    "
   ]
  },
  {
   "cell_type": "code",
   "execution_count": 19,
   "metadata": {},
   "outputs": [
    {
     "data": {
      "text/plain": [
       "HeteroData(\n",
       "  num_nodes=38054,\n",
       "  user={\n",
       "    x=[33703],\n",
       "    num_nodes=33703,\n",
       "    node_id=[33703],\n",
       "  },\n",
       "  article={\n",
       "    x=[4351],\n",
       "    num_nodes=4351,\n",
       "    node_id=[4351],\n",
       "  },\n",
       "  (user, to, article)={ edge_index=[2, 895196] },\n",
       "  (article, to, user)={ edge_index=[2, 895196] }\n",
       ")"
      ]
     },
     "execution_count": 19,
     "metadata": {},
     "output_type": "execute_result"
    }
   ],
   "source": [
    "data"
   ]
  },
  {
   "cell_type": "markdown",
   "metadata": {},
   "source": [
    "## Model training"
   ]
  },
  {
   "cell_type": "markdown",
   "metadata": {},
   "source": [
    "### Training parameters"
   ]
  },
  {
   "cell_type": "code",
   "execution_count": 20,
   "metadata": {},
   "outputs": [
    {
     "name": "stdout",
     "output_type": "stream",
     "text": [
      "Device: 'cuda'\n"
     ]
    }
   ],
   "source": [
    "device = torch.device('cuda' if torch.cuda.is_available() else 'cpu')\n",
    "print(f\"Device: '{device}'\")\n",
    "\n",
    "NUM_TRAINING_EPOCHS = 20\n",
    "LEARNING_RATE = 0.0001\n",
    "SPLIT_VAL_RATIO = 0.1\n",
    "SPLIT_TEST_RATIO = 0.1\n",
    "SPLIT_DISJOINT_RATIO = 0.3\n",
    "SPLIT_NEG_SAMPLING_RATIO = 2.0\n",
    "TRAINING_NUM_NEIGHBORS = [50]\n",
    "TRAINING_NEG_SAMPLING_RATIO = 2.0\n",
    "TRAININING_BATCH_SIZE = 128"
   ]
  },
  {
   "cell_type": "markdown",
   "metadata": {},
   "source": [
    "### Random link split. Train and test link neighbor loaders"
   ]
  },
  {
   "cell_type": "code",
   "execution_count": 21,
   "metadata": {},
   "outputs": [
    {
     "name": "stderr",
     "output_type": "stream",
     "text": [
      "/home/rgrebnev/anaconda3/envs/sna_link_prediction/lib/python3.9/site-packages/torch_geometric/sampler/neighbor_sampler.py:60: UserWarning: Using 'NeighborSampler' without a 'pyg-lib' installation is deprecated and will be removed soon. Please install 'pyg-lib' for accelerated neighborhood sampling\n",
      "  warnings.warn(f\"Using '{self.__class__.__name__}' without a \"\n"
     ]
    }
   ],
   "source": [
    "import tqdm\n",
    "import torch.nn.functional as F\n",
    "from sklearn.metrics import roc_auc_score\n",
    "\n",
    "transform = T.RandomLinkSplit(\n",
    "    num_val=SPLIT_VAL_RATIO,\n",
    "    num_test=SPLIT_TEST_RATIO,\n",
    "    disjoint_train_ratio=SPLIT_DISJOINT_RATIO,\n",
    "    neg_sampling_ratio=SPLIT_NEG_SAMPLING_RATIO,\n",
    "    add_negative_train_samples=False,\n",
    "    edge_types=(\"user\", \"to\", \"article\"),\n",
    "    rev_edge_types=(\"article\", \"to\", \"user\"), \n",
    ")\n",
    "\n",
    "train_data, val_data, test_data = transform(data)\n",
    "\n",
    "train_loader = LinkNeighborLoader(\n",
    "    data=train_data,\n",
    "    num_neighbors=TRAINING_NUM_NEIGHBORS,\n",
    "    neg_sampling_ratio=TRAINING_NEG_SAMPLING_RATIO,\n",
    "    edge_label_index=((\"user\", \"to\", \"article\"), train_data[(\"user\", \"to\", \"article\")].edge_label_index,),\n",
    "    edge_label=train_data[(\"user\", \"to\", \"article\")].edge_label,\n",
    "    batch_size=TRAININING_BATCH_SIZE,\n",
    "    shuffle=True,\n",
    ")\n",
    "\n",
    "test_loader = LinkNeighborLoader(\n",
    "    data=test_data,\n",
    "    num_neighbors=TRAINING_NUM_NEIGHBORS,\n",
    "    edge_label_index=((\"user\", \"to\", \"article\"), test_data[(\"user\", \"to\", \"article\")].edge_label_index),\n",
    "    edge_label=test_data[(\"user\", \"to\", \"article\")].edge_label,\n",
    "    batch_size=128,\n",
    "    shuffle=False,\n",
    ")"
   ]
  },
  {
   "cell_type": "markdown",
   "metadata": {},
   "source": [
    "### Training procedure"
   ]
  },
  {
   "cell_type": "code",
   "execution_count": 22,
   "metadata": {},
   "outputs": [],
   "source": [
    "def train(model, loader_train, loader_test, optimizer, device):\n",
    "\n",
    "    train_ground_truth = []\n",
    "    train_preds = []\n",
    "\n",
    "    test_ground_truth = []\n",
    "    test_preds = []\n",
    "\n",
    "    train_total_loss = 0\n",
    "    train_total_examples = 0\n",
    "\n",
    "    test_total_loss = 0\n",
    "    test_total_examples = 0\n",
    "    \n",
    "    for sampled_data in tqdm.tqdm(loader_train):\n",
    "        optimizer.zero_grad()\n",
    "        sampled_data.to(device)\n",
    "        pred = model(sampled_data)\n",
    "        ground_truth = sampled_data[\"user\", \"to\", \"article\"].edge_label\n",
    "        train_ground_truth.append(ground_truth.cpu())\n",
    "        train_preds.append(pred.cpu())\n",
    "\n",
    "        # loss_train = F.binary_cross_entropy(pred, ground_truth)\n",
    "        loss_train = F.binary_cross_entropy_with_logits(pred, ground_truth)\n",
    "        loss_train.backward()\n",
    "        optimizer.step()\n",
    "        train_total_loss += float(loss_train.item()) * pred.numel()\n",
    "        train_total_examples += pred.numel()\n",
    "        \n",
    "    for sampled_data in tqdm.tqdm(loader_test):\n",
    "        with torch.no_grad():\n",
    "            sampled_data.to(device)\n",
    "            pred = model(sampled_data)\n",
    "            ground_truth = sampled_data[\"user\", \"to\", \"article\"].edge_label\n",
    "            test_ground_truth.append(ground_truth.cpu())\n",
    "            test_preds.append(pred.cpu())\n",
    "            # loss_test = F.binary_cross_entropy(pred, ground_truth)\n",
    "            loss_test = F.binary_cross_entropy_with_logits(pred, ground_truth)\n",
    "            test_total_loss += float(loss_test.item()) * pred.numel()\n",
    "            test_total_examples += pred.numel()\n",
    "\n",
    "    metrics = {}\n",
    "    metrics['TRAIN_ROC_AUC'] = roc_auc_score(torch.cat(train_ground_truth).cpu().detach().numpy(), torch.cat(train_preds).cpu().detach().numpy())\n",
    "    metrics['TEST_ROC_AUC'] = roc_auc_score(torch.cat(test_ground_truth).cpu().detach().numpy(), torch.cat(test_preds).cpu().detach().numpy())\n",
    "    metrics['TRAIN_LOSS'] = train_total_loss / train_total_examples\n",
    "    metrics['TEST_LOSS'] = test_total_loss / test_total_examples\n",
    "    return metrics"
   ]
  },
  {
   "cell_type": "markdown",
   "metadata": {},
   "source": [
    "## Run training"
   ]
  },
  {
   "cell_type": "code",
   "execution_count": 23,
   "metadata": {},
   "outputs": [
    {
     "name": "stderr",
     "output_type": "stream",
     "text": [
      "/home/rgrebnev/anaconda3/envs/sna_link_prediction/lib/python3.9/site-packages/torch/overrides.py:110: UserWarning: 'has_cuda' is deprecated, please use 'torch.backends.cuda.is_built()'\n",
      "  torch.has_cuda,\n",
      "/home/rgrebnev/anaconda3/envs/sna_link_prediction/lib/python3.9/site-packages/torch/overrides.py:111: UserWarning: 'has_cudnn' is deprecated, please use 'torch.backends.cudnn.is_available()'\n",
      "  torch.has_cudnn,\n",
      "/home/rgrebnev/anaconda3/envs/sna_link_prediction/lib/python3.9/site-packages/torch/overrides.py:117: UserWarning: 'has_mps' is deprecated, please use 'torch.backends.mps.is_built()'\n",
      "  torch.has_mps,\n",
      "/home/rgrebnev/anaconda3/envs/sna_link_prediction/lib/python3.9/site-packages/torch/overrides.py:118: UserWarning: 'has_mkldnn' is deprecated, please use 'torch.backends.mkldnn.is_available()'\n",
      "  torch.has_mkldnn,\n",
      "  0%|          | 0/1679 [00:00<?, ?it/s]"
     ]
    },
    {
     "name": "stderr",
     "output_type": "stream",
     "text": [
      "100%|██████████| 1679/1679 [00:51<00:00, 32.55it/s]\n",
      "100%|██████████| 2099/2099 [00:28<00:00, 74.24it/s] \n"
     ]
    },
    {
     "name": "stdout",
     "output_type": "stream",
     "text": [
      "Epoch: 000, \n",
      " TRAIN_LOSS: 0.5071, \n",
      " TEST_LOSS: 0.4454, \n",
      " TRAIN_ROC_AUC: 0.7902, \n",
      " TEST_ROC_AUC: 0.8549\n"
     ]
    },
    {
     "name": "stderr",
     "output_type": "stream",
     "text": [
      "100%|██████████| 1679/1679 [00:55<00:00, 30.34it/s]\n",
      "100%|██████████| 2099/2099 [00:24<00:00, 86.68it/s] \n"
     ]
    },
    {
     "name": "stdout",
     "output_type": "stream",
     "text": [
      "Epoch: 001, \n",
      " TRAIN_LOSS: 0.3885, \n",
      " TEST_LOSS: 0.3915, \n",
      " TRAIN_ROC_AUC: 0.8915, \n",
      " TEST_ROC_AUC: 0.8922\n"
     ]
    },
    {
     "name": "stderr",
     "output_type": "stream",
     "text": [
      "100%|██████████| 1679/1679 [00:50<00:00, 32.95it/s]\n",
      "100%|██████████| 2099/2099 [00:27<00:00, 75.18it/s] \n"
     ]
    },
    {
     "name": "stdout",
     "output_type": "stream",
     "text": [
      "Epoch: 002, \n",
      " TRAIN_LOSS: 0.3597, \n",
      " TEST_LOSS: 0.3710, \n",
      " TRAIN_ROC_AUC: 0.9088, \n",
      " TEST_ROC_AUC: 0.9037\n"
     ]
    },
    {
     "name": "stderr",
     "output_type": "stream",
     "text": [
      "100%|██████████| 1679/1679 [00:54<00:00, 31.07it/s]\n",
      "100%|██████████| 2099/2099 [00:24<00:00, 87.38it/s] \n"
     ]
    },
    {
     "name": "stdout",
     "output_type": "stream",
     "text": [
      "Epoch: 003, \n",
      " TRAIN_LOSS: 0.3464, \n",
      " TEST_LOSS: 0.3635, \n",
      " TRAIN_ROC_AUC: 0.9159, \n",
      " TEST_ROC_AUC: 0.9096\n"
     ]
    },
    {
     "name": "stderr",
     "output_type": "stream",
     "text": [
      "100%|██████████| 1679/1679 [00:52<00:00, 32.24it/s]\n",
      "100%|██████████| 2099/2099 [00:27<00:00, 75.91it/s] \n"
     ]
    },
    {
     "name": "stdout",
     "output_type": "stream",
     "text": [
      "Epoch: 004, \n",
      " TRAIN_LOSS: 0.3386, \n",
      " TEST_LOSS: 0.3561, \n",
      " TRAIN_ROC_AUC: 0.9199, \n",
      " TEST_ROC_AUC: 0.9131\n"
     ]
    },
    {
     "name": "stderr",
     "output_type": "stream",
     "text": [
      "100%|██████████| 1679/1679 [00:56<00:00, 29.56it/s]\n",
      "100%|██████████| 2099/2099 [00:24<00:00, 85.78it/s] \n"
     ]
    },
    {
     "name": "stdout",
     "output_type": "stream",
     "text": [
      "Epoch: 005, \n",
      " TRAIN_LOSS: 0.3337, \n",
      " TEST_LOSS: 0.3499, \n",
      " TRAIN_ROC_AUC: 0.9223, \n",
      " TEST_ROC_AUC: 0.9154\n"
     ]
    },
    {
     "name": "stderr",
     "output_type": "stream",
     "text": [
      "100%|██████████| 1679/1679 [00:54<00:00, 30.76it/s]\n",
      "100%|██████████| 2099/2099 [00:30<00:00, 68.71it/s] \n"
     ]
    },
    {
     "name": "stdout",
     "output_type": "stream",
     "text": [
      "Epoch: 006, \n",
      " TRAIN_LOSS: 0.3299, \n",
      " TEST_LOSS: 0.3505, \n",
      " TRAIN_ROC_AUC: 0.9241, \n",
      " TEST_ROC_AUC: 0.9166\n"
     ]
    },
    {
     "name": "stderr",
     "output_type": "stream",
     "text": [
      "100%|██████████| 1679/1679 [00:57<00:00, 29.10it/s]\n",
      "100%|██████████| 2099/2099 [00:29<00:00, 70.05it/s] \n"
     ]
    },
    {
     "name": "stdout",
     "output_type": "stream",
     "text": [
      "Epoch: 007, \n",
      " TRAIN_LOSS: 0.3265, \n",
      " TEST_LOSS: 0.3520, \n",
      " TRAIN_ROC_AUC: 0.9256, \n",
      " TEST_ROC_AUC: 0.9172\n"
     ]
    },
    {
     "name": "stderr",
     "output_type": "stream",
     "text": [
      "100%|██████████| 1679/1679 [00:57<00:00, 29.24it/s]\n",
      "100%|██████████| 2099/2099 [00:25<00:00, 83.51it/s] \n"
     ]
    },
    {
     "name": "stdout",
     "output_type": "stream",
     "text": [
      "Epoch: 008, \n",
      " TRAIN_LOSS: 0.3245, \n",
      " TEST_LOSS: 0.3465, \n",
      " TRAIN_ROC_AUC: 0.9265, \n",
      " TEST_ROC_AUC: 0.9184\n"
     ]
    },
    {
     "name": "stderr",
     "output_type": "stream",
     "text": [
      "100%|██████████| 1679/1679 [00:50<00:00, 32.93it/s]\n",
      "100%|██████████| 2099/2099 [00:24<00:00, 86.66it/s] \n"
     ]
    },
    {
     "name": "stdout",
     "output_type": "stream",
     "text": [
      "Epoch: 009, \n",
      " TRAIN_LOSS: 0.3212, \n",
      " TEST_LOSS: 0.3429, \n",
      " TRAIN_ROC_AUC: 0.9281, \n",
      " TEST_ROC_AUC: 0.9195\n"
     ]
    },
    {
     "name": "stderr",
     "output_type": "stream",
     "text": [
      "100%|██████████| 1679/1679 [00:51<00:00, 32.37it/s]\n",
      "100%|██████████| 2099/2099 [00:24<00:00, 84.99it/s] \n"
     ]
    },
    {
     "name": "stdout",
     "output_type": "stream",
     "text": [
      "Epoch: 010, \n",
      " TRAIN_LOSS: 0.3188, \n",
      " TEST_LOSS: 0.3424, \n",
      " TRAIN_ROC_AUC: 0.9291, \n",
      " TEST_ROC_AUC: 0.9199\n"
     ]
    },
    {
     "name": "stderr",
     "output_type": "stream",
     "text": [
      "100%|██████████| 1679/1679 [00:50<00:00, 33.00it/s]\n",
      "100%|██████████| 2099/2099 [00:24<00:00, 87.09it/s] \n"
     ]
    },
    {
     "name": "stdout",
     "output_type": "stream",
     "text": [
      "Epoch: 011, \n",
      " TRAIN_LOSS: 0.3173, \n",
      " TEST_LOSS: 0.3431, \n",
      " TRAIN_ROC_AUC: 0.9298, \n",
      " TEST_ROC_AUC: 0.9203\n"
     ]
    },
    {
     "name": "stderr",
     "output_type": "stream",
     "text": [
      "100%|██████████| 1679/1679 [00:50<00:00, 32.99it/s]\n",
      "100%|██████████| 2099/2099 [00:25<00:00, 83.51it/s] \n"
     ]
    },
    {
     "name": "stdout",
     "output_type": "stream",
     "text": [
      "Epoch: 012, \n",
      " TRAIN_LOSS: 0.3150, \n",
      " TEST_LOSS: 0.3480, \n",
      " TRAIN_ROC_AUC: 0.9307, \n",
      " TEST_ROC_AUC: 0.9207\n"
     ]
    },
    {
     "name": "stderr",
     "output_type": "stream",
     "text": [
      "100%|██████████| 1679/1679 [00:51<00:00, 32.68it/s]\n",
      "100%|██████████| 2099/2099 [00:25<00:00, 82.58it/s] \n"
     ]
    },
    {
     "name": "stdout",
     "output_type": "stream",
     "text": [
      "Epoch: 013, \n",
      " TRAIN_LOSS: 0.3147, \n",
      " TEST_LOSS: 0.3426, \n",
      " TRAIN_ROC_AUC: 0.9308, \n",
      " TEST_ROC_AUC: 0.9211\n"
     ]
    },
    {
     "name": "stderr",
     "output_type": "stream",
     "text": [
      "100%|██████████| 1679/1679 [00:51<00:00, 32.37it/s]\n",
      "100%|██████████| 2099/2099 [00:26<00:00, 80.20it/s] \n"
     ]
    },
    {
     "name": "stdout",
     "output_type": "stream",
     "text": [
      "Epoch: 014, \n",
      " TRAIN_LOSS: 0.3118, \n",
      " TEST_LOSS: 0.3407, \n",
      " TRAIN_ROC_AUC: 0.9321, \n",
      " TEST_ROC_AUC: 0.9214\n"
     ]
    },
    {
     "name": "stderr",
     "output_type": "stream",
     "text": [
      "100%|██████████| 1679/1679 [00:52<00:00, 32.22it/s]\n",
      "100%|██████████| 2099/2099 [00:25<00:00, 80.80it/s] \n"
     ]
    },
    {
     "name": "stdout",
     "output_type": "stream",
     "text": [
      "Epoch: 015, \n",
      " TRAIN_LOSS: 0.3098, \n",
      " TEST_LOSS: 0.3405, \n",
      " TRAIN_ROC_AUC: 0.9330, \n",
      " TEST_ROC_AUC: 0.9218\n"
     ]
    },
    {
     "name": "stderr",
     "output_type": "stream",
     "text": [
      "100%|██████████| 1679/1679 [00:51<00:00, 32.44it/s]\n",
      "100%|██████████| 2099/2099 [00:25<00:00, 82.27it/s] \n"
     ]
    },
    {
     "name": "stdout",
     "output_type": "stream",
     "text": [
      "Epoch: 016, \n",
      " TRAIN_LOSS: 0.3088, \n",
      " TEST_LOSS: 0.3382, \n",
      " TRAIN_ROC_AUC: 0.9334, \n",
      " TEST_ROC_AUC: 0.9217\n"
     ]
    },
    {
     "name": "stderr",
     "output_type": "stream",
     "text": [
      "100%|██████████| 1679/1679 [00:52<00:00, 32.22it/s]\n",
      "100%|██████████| 2099/2099 [00:26<00:00, 80.63it/s] \n"
     ]
    },
    {
     "name": "stdout",
     "output_type": "stream",
     "text": [
      "Epoch: 017, \n",
      " TRAIN_LOSS: 0.3072, \n",
      " TEST_LOSS: 0.3376, \n",
      " TRAIN_ROC_AUC: 0.9340, \n",
      " TEST_ROC_AUC: 0.9222\n"
     ]
    },
    {
     "name": "stderr",
     "output_type": "stream",
     "text": [
      "100%|██████████| 1679/1679 [00:52<00:00, 32.14it/s]\n",
      "100%|██████████| 2099/2099 [00:26<00:00, 80.60it/s] \n"
     ]
    },
    {
     "name": "stdout",
     "output_type": "stream",
     "text": [
      "Epoch: 018, \n",
      " TRAIN_LOSS: 0.3055, \n",
      " TEST_LOSS: 0.3361, \n",
      " TRAIN_ROC_AUC: 0.9347, \n",
      " TEST_ROC_AUC: 0.9225\n"
     ]
    },
    {
     "name": "stderr",
     "output_type": "stream",
     "text": [
      "100%|██████████| 1679/1679 [00:51<00:00, 32.55it/s]\n",
      "100%|██████████| 2099/2099 [00:26<00:00, 80.17it/s] \n"
     ]
    },
    {
     "name": "stdout",
     "output_type": "stream",
     "text": [
      "Epoch: 019, \n",
      " TRAIN_LOSS: 0.3046, \n",
      " TEST_LOSS: 0.3367, \n",
      " TRAIN_ROC_AUC: 0.9351, \n",
      " TEST_ROC_AUC: 0.9224\n"
     ]
    },
    {
     "name": "stderr",
     "output_type": "stream",
     "text": [
      "100%|██████████| 1679/1679 [00:51<00:00, 32.41it/s]\n",
      "100%|██████████| 2099/2099 [00:25<00:00, 83.26it/s] \n"
     ]
    },
    {
     "name": "stdout",
     "output_type": "stream",
     "text": [
      "Epoch: 020, \n",
      " TRAIN_LOSS: 0.3034, \n",
      " TEST_LOSS: 0.3396, \n",
      " TRAIN_ROC_AUC: 0.9356, \n",
      " TEST_ROC_AUC: 0.9226\n"
     ]
    }
   ],
   "source": [
    "metrics_train_roc_auc_list = []\n",
    "metrics_test_roc_auc_list = []\n",
    "metrics_train_loss_list = []\n",
    "metrics_test_loss_list = []\n",
    "\n",
    "\n",
    "model = Model(hidden_channels=64)\n",
    "model = model.to(device)\n",
    "optimizer = torch.optim.Adam(model.parameters(), lr=LEARNING_RATE)\n",
    "\n",
    "for epoch in range(0, NUM_TRAINING_EPOCHS + 1):\n",
    "    metrics = train(model, train_loader, test_loader, optimizer, device)\n",
    "    metrics_train_roc_auc_list.append(metrics['TRAIN_ROC_AUC'])\n",
    "    metrics_test_roc_auc_list.append(metrics['TEST_ROC_AUC'])\n",
    "    metrics_train_loss_list.append(metrics['TRAIN_LOSS'])\n",
    "    metrics_test_loss_list.append(metrics['TEST_LOSS'])\n",
    "    print(f\"Epoch: {epoch:03d}, \\n TRAIN_LOSS: {metrics['TRAIN_LOSS']:.4f}, \\n TEST_LOSS: {metrics['TEST_LOSS']:.4f}, \\n TRAIN_ROC_AUC: {metrics['TRAIN_ROC_AUC']:.4f}, \\n TEST_ROC_AUC: {metrics['TEST_ROC_AUC']:.4f}\")\n"
   ]
  },
  {
   "cell_type": "code",
   "execution_count": 24,
   "metadata": {},
   "outputs": [
    {
     "data": {
      "text/plain": [
       "<matplotlib.legend.Legend at 0x7f0da43299d0>"
      ]
     },
     "execution_count": 24,
     "metadata": {},
     "output_type": "execute_result"
    },
    {
     "data": {
      "image/png": "[encoded data removed]",
      "text/plain": [
       "<Figure size 640x480 with 1 Axes>"
      ]
     },
     "metadata": {},
     "output_type": "display_data"
    }
   ],
   "source": [
    "plt.title(\"ROC AUC\")\n",
    "plt.plot(metrics_train_roc_auc_list, label = 'train ROC AUC')\n",
    "plt.plot(metrics_test_roc_auc_list, label = 'test ROC AUC')\n",
    "plt.legend()"
   ]
  },
  {
   "cell_type": "code",
   "execution_count": 25,
   "metadata": {},
   "outputs": [
    {
     "data": {
      "text/plain": [
       "<matplotlib.legend.Legend at 0x7f0d9c855e50>"
      ]
     },
     "execution_count": 25,
     "metadata": {},
     "output_type": "execute_result"
    },
    {
     "data": {
      "image/png": "[encoded data removed]",
      "text/plain": [
       "<Figure size 640x480 with 1 Axes>"
      ]
     },
     "metadata": {},
     "output_type": "display_data"
    }
   ],
   "source": [
    "plt.title(\"Loss\")\n",
    "plt.plot(metrics_train_loss_list, label = 'train loss')\n",
    "plt.plot(metrics_test_loss_list, label = 'test loss')\n",
    "plt.legend()"
   ]
  },
  {
   "cell_type": "markdown",
   "metadata": {},
   "source": [
    "## Validation"
   ]
  },
  {
   "cell_type": "markdown",
   "metadata": {},
   "source": [
    "### Create validation link neighbor loader"
   ]
  },
  {
   "cell_type": "code",
   "execution_count": 26,
   "metadata": {},
   "outputs": [
    {
     "name": "stderr",
     "output_type": "stream",
     "text": [
      "/home/rgrebnev/anaconda3/envs/sna_link_prediction/lib/python3.9/site-packages/torch_geometric/sampler/neighbor_sampler.py:60: UserWarning: Using 'NeighborSampler' without a 'pyg-lib' installation is deprecated and will be removed soon. Please install 'pyg-lib' for accelerated neighborhood sampling\n",
      "  warnings.warn(f\"Using '{self.__class__.__name__}' without a \"\n"
     ]
    }
   ],
   "source": [
    "# Define the validation seed edges:\n",
    "\n",
    "val_loader = LinkNeighborLoader(\n",
    "    data=val_data,\n",
    "    num_neighbors=[50],\n",
    "    edge_label_index=((\"user\", \"to\", \"article\"), val_data[(\"user\", \"to\", \"article\")].edge_label_index),\n",
    "    edge_label=val_data[(\"user\", \"to\", \"article\")].edge_label,\n",
    "    batch_size=128,\n",
    "    shuffle=False,\n",
    ")\n",
    "sampled_data = next(iter(val_loader))"
   ]
  },
  {
   "cell_type": "markdown",
   "metadata": {},
   "source": [
    "### Run validation"
   ]
  },
  {
   "cell_type": "code",
   "execution_count": 27,
   "metadata": {},
   "outputs": [
    {
     "name": "stderr",
     "output_type": "stream",
     "text": [
      "100%|██████████| 2099/2099 [00:23<00:00, 88.09it/s] \n"
     ]
    },
    {
     "name": "stdout",
     "output_type": "stream",
     "text": [
      "\n",
      "Validation AUC: 0.9234\n"
     ]
    }
   ],
   "source": [
    "from sklearn.metrics import roc_auc_score\n",
    "\n",
    "\n",
    "preds = []\n",
    "ground_truths = []\n",
    "for sampled_data in tqdm.tqdm(val_loader):\n",
    "    with torch.no_grad():\n",
    "        sampled_data.to(device)\n",
    "        preds.append(model(sampled_data))\n",
    "        ground_truths.append(sampled_data[\"user\", \"to\", \"article\"].edge_label)\n",
    "pred = torch.cat(preds, dim=0).cpu().numpy()\n",
    "ground_truth = torch.cat(ground_truths, dim=0).cpu().numpy()\n",
    "auc = roc_auc_score(ground_truth, pred)\n",
    "\n",
    "print()\n",
    "print(f\"Validation AUC: {auc:.4f}\")"
   ]
  }
 ],
 "metadata": {
  "kernelspec": {
   "display_name": "sna_link_prediction",
   "language": "python",
   "name": "python3"
  },
  "language_info": {
   "codemirror_mode": {
    "name": "ipython",
    "version": 3
   },
   "file_extension": ".py",
   "mimetype": "text/x-python",
   "name": "python",
   "nbconvert_exporter": "python",
   "pygments_lexer": "ipython3",
   "version": "3.9.18"
  }
 },
 "nbformat": 4,
 "nbformat_minor": 2
}
