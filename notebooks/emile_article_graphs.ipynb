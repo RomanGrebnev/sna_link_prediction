{
 "cells": [
  {
   "cell_type": "markdown",
   "source": [
    "# Link prediction on article graphs\n",
    "This notebook is for creating an article-article graph using the FastArticleGraph class, and testing different algorithms for link prediction."
   ],
   "metadata": {
    "collapsed": false
   },
   "id": "ff8f588a3357f312"
  },
  {
   "cell_type": "code",
   "execution_count": 1,
   "outputs": [],
   "source": [
    "from fast_graphs import *"
   ],
   "metadata": {
    "collapsed": false,
    "ExecuteTime": {
     "end_time": "2024-01-09T14:55:27.441019Z",
     "start_time": "2024-01-09T14:55:25.936311Z"
    }
   },
   "id": "358a86c4191cee09"
  },
  {
   "cell_type": "markdown",
   "source": [
    "## Binary classification task"
   ],
   "metadata": {
    "collapsed": false
   },
   "id": "78163c205b19110d"
  },
  {
   "cell_type": "code",
   "execution_count": null,
   "id": "initial_id",
   "metadata": {
    "collapsed": true
   },
   "outputs": [],
   "source": [
    "G = FastArticleGraph()\n"
   ]
  },
  {
   "cell_type": "markdown",
   "source": [
    "## Regression task"
   ],
   "metadata": {
    "collapsed": false
   },
   "id": "91c1e1775ef940a8"
  },
  {
   "cell_type": "code",
   "execution_count": null,
   "outputs": [],
   "source": [],
   "metadata": {
    "collapsed": false
   },
   "id": "70444c7a471be957"
  }
 ],
 "metadata": {
  "kernelspec": {
   "display_name": "Python 3",
   "language": "python",
   "name": "python3"
  },
  "language_info": {
   "codemirror_mode": {
    "name": "ipython",
    "version": 2
   },
   "file_extension": ".py",
   "mimetype": "text/x-python",
   "name": "python",
   "nbconvert_exporter": "python",
   "pygments_lexer": "ipython2",
   "version": "2.7.6"
  }
 },
 "nbformat": 4,
 "nbformat_minor": 5
}
