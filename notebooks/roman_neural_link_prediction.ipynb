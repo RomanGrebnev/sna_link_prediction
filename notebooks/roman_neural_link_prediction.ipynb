{
 "cells": [
  {
   "cell_type": "markdown",
   "metadata": {},
   "source": [
    "# Inspiration\n",
    "- https://medium.com/@xjurajkmec/pairwise-learning-for-neural-link-prediction-f1d16a0d28f6#:~:text=The%20idea%20of%20using%20graph,edges%20in%20the%20given%20graph\n",
    "-"
   ]
  },
  {
   "cell_type": "code",
   "execution_count": 4,
   "metadata": {},
   "outputs": [],
   "source": [
    "import numpy as np\n",
    "import networkx as nx\n",
    "import pandas as pd\n",
    "import matplotlib.pyplot as plt\n",
    "from torch import torch"
   ]
  },
  {
   "cell_type": "code",
   "execution_count": 5,
   "metadata": {},
   "outputs": [],
   "source": [
    "postings_1 = pd.read_csv(\"../data/Postings_01052019_15052019.csv\", sep = ';')\n",
    "postings_2 = pd.read_csv(\"../data/Postings_16052019_31052019.csv\", sep = ';')\n",
    "votes_1 = pd.read_csv(\"../data/Votes_01052019_15052019.csv\", sep = ';')\n",
    "votes_2 = pd.read_csv(\"../data/Votes_16052019_31052019.csv\", sep = ';')\n",
    "\n",
    "postings = pd.concat([postings_1, postings_2])\n",
    "votes = pd.concat([votes_1, votes_2])"
   ]
  },
  {
   "cell_type": "code",
   "execution_count": 6,
   "metadata": {},
   "outputs": [],
   "source": [
    "from sklearn import preprocessing\n",
    "\n",
    "post_article = postings.groupby(by = ['ID_CommunityIdentity', 'ID_Article']).agg({\"ArticlePublishingDate\": \"min\"})\n",
    "post_article = post_article.reset_index()\n",
    "votes_trunc = votes[['ID_CommunityIdentity', 'ID_Posting']]\n",
    "postings_trunc = postings.groupby(by = ['ID_Posting', 'ID_Article']).agg({\"ArticlePublishingDate\": \"min\"}).reset_index().drop(columns = ['ArticlePublishingDate'])\n",
    "vote_user_article = votes_trunc.merge(postings_trunc, left_on = ['ID_Posting'], right_on = ['ID_Posting'])\n",
    "vote_article = vote_user_article.groupby(by = ['ID_CommunityIdentity', 'ID_Article']).agg({\"ID_Posting\": \"count\"}).reset_index().drop(columns = ['ID_Posting'])\n",
    "user_article_interaction = pd.concat([post_article, vote_article]).drop(columns=['ArticlePublishingDate'])"
   ]
  },
  {
   "cell_type": "code",
   "execution_count": 7,
   "metadata": {},
   "outputs": [],
   "source": [
    "# subset edges\n",
    "# user_article_interaction = user_article_interaction.sample(n=int(user_article_interaction.shape[0]/20), random_state=1)\n",
    "user_article_interaction = user_article_interaction.iloc[:int(user_article_interaction.shape[0]/4), :]"
   ]
  },
  {
   "cell_type": "code",
   "execution_count": 8,
   "metadata": {},
   "outputs": [
    {
     "data": {
      "text/plain": [
       "(272983, 2)"
      ]
     },
     "execution_count": 8,
     "metadata": {},
     "output_type": "execute_result"
    }
   ],
   "source": [
    "user_article_interaction.shape"
   ]
  },
  {
   "cell_type": "code",
   "execution_count": 9,
   "metadata": {},
   "outputs": [],
   "source": [
    "user_article_interaction[\"user_id\"] = \"u-\" + user_article_interaction[\"ID_CommunityIdentity\"].astype(str)\n",
    "user_article_interaction[\"article_id\"] = \"a-\" + user_article_interaction[\"ID_Article\"].astype(str)\n",
    "\n",
    "nodes = np.concatenate((np.unique(user_article_interaction['user_id']), np.unique(user_article_interaction['article_id'])))\n",
    "nodes_user = np.unique(user_article_interaction['user_id'])\n",
    "nodes_article = np.unique(user_article_interaction['article_id'])\n",
    "\n",
    "label_encoder_nodes = preprocessing.LabelEncoder()\n",
    "label_encoder_nodes.fit(nodes)\n",
    "nodes_enc = label_encoder_nodes.transform(nodes)\n",
    "\n",
    "user_article_interaction[\"user_id_enc\"] = label_encoder_nodes.transform(user_article_interaction[\"user_id\"])\n",
    "user_article_interaction[\"article_enc\"] = label_encoder_nodes.transform(user_article_interaction[\"article_id\"])"
   ]
  },
  {
   "cell_type": "code",
   "execution_count": 10,
   "metadata": {},
   "outputs": [
    {
     "data": {
      "text/plain": [
       "True"
      ]
     },
     "execution_count": 10,
     "metadata": {},
     "output_type": "execute_result"
    }
   ],
   "source": [
    "edge_list = []\n",
    "for row in user_article_interaction.itertuples():\n",
    "    edge_list.append([row.user_id_enc, row.article_enc])\n",
    "\n",
    "from torch_geometric.data import Data\n",
    "\n",
    "x = torch.tensor(nodes_enc, dtype=torch.long)\n",
    "edge_index = torch.tensor(edge_list, dtype=torch.long)\n",
    "graph = Data(x=x, edge_index=edge_index.t())\n",
    "\n",
    "graph.validate(raise_on_error=True)\n"
   ]
  },
  {
   "cell_type": "code",
   "execution_count": 11,
   "metadata": {},
   "outputs": [],
   "source": [
    "from torch_geometric.transforms.to_undirected import ToUndirected\n",
    "graph = ToUndirected()(graph)\n"
   ]
  },
  {
   "cell_type": "code",
   "execution_count": 12,
   "metadata": {},
   "outputs": [
    {
     "data": {
      "text/plain": [
       "Data(x=[22426], edge_index=[2, 545966])"
      ]
     },
     "execution_count": 12,
     "metadata": {},
     "output_type": "execute_result"
    }
   ],
   "source": [
    "graph"
   ]
  },
  {
   "cell_type": "code",
   "execution_count": 13,
   "metadata": {},
   "outputs": [
    {
     "name": "stdout",
     "output_type": "stream",
     "text": [
      "Cuda is available:  True\n"
     ]
    }
   ],
   "source": [
    "device = 'cuda' if torch.cuda.is_available() else \"cpu\"\n",
    "print(\"Cuda is available: \", torch.cuda.is_available())"
   ]
  },
  {
   "cell_type": "code",
   "execution_count": 14,
   "metadata": {},
   "outputs": [
    {
     "data": {
      "text/plain": [
       "tensor([[    0,     1,     2,  ..., 22425, 22425, 22425],\n",
       "        [14443,  8027,  4315,  ...,  3420,  3848,  4040]], device='cuda:0')"
      ]
     },
     "execution_count": 14,
     "metadata": {},
     "output_type": "execute_result"
    }
   ],
   "source": [
    "graph.edge_index.to(device)"
   ]
  },
  {
   "cell_type": "code",
   "execution_count": 42,
   "metadata": {},
   "outputs": [],
   "source": [
    "import torch\n",
    "import torch.nn as nn\n",
    "import torch.nn.functional as F\n",
    "import torch_geometric as pyg\n",
    "from torch_geometric.loader import DataLoader\n",
    "from torch_geometric.utils import negative_sampling\n",
    "from ogb.linkproppred import PygLinkPropPredDataset, Evaluator #needed to extract and evaluate the ogb-ddi dataset\n",
    "import matplotlib.pyplot as plt #needed to visualize loss curves\n",
    "import numpy as np "
   ]
  },
  {
   "cell_type": "code",
   "execution_count": 43,
   "metadata": {},
   "outputs": [],
   "source": [
    "class GNNStack(torch.nn.Module):\n",
    "    def __init__(self, input_dim, hidden_dim, output_dim, num_layers, dropout, emb=False):\n",
    "        super(GNNStack, self).__init__()\n",
    "        conv_model = pyg.nn.SAGEConv\n",
    "\n",
    "        self.convs = nn.ModuleList()\n",
    "        self.convs.append(conv_model(input_dim, hidden_dim))\n",
    "        self.dropout = dropout\n",
    "        self.num_layers = num_layers\n",
    "        self.emb = emb\n",
    "\n",
    "        # Create num_layers GraphSAGE convs\n",
    "        assert (self.num_layers >= 1), 'Number of layers is not >=1'\n",
    "        for l in range(self.num_layers - 1):\n",
    "            self.convs.append(conv_model(hidden_dim, hidden_dim))\n",
    "\n",
    "        # post-message-passing processing \n",
    "        self.post_mp = nn.Sequential(\n",
    "            nn.Linear(hidden_dim, hidden_dim), nn.Dropout(self.dropout),\n",
    "            nn.Linear(hidden_dim, output_dim))\n",
    "\n",
    "    def forward(self, x, edge_index):\n",
    "        \n",
    "\n",
    "        for i in range(self.num_layers):\n",
    "            x = self.convs[i](x, edge_index)\n",
    "            x = F.relu(x)\n",
    "            x = F.dropout(x, p=self.dropout, training=self.training)\n",
    "\n",
    "        x = self.post_mp(x)\n",
    "\n",
    "        # Return final layer of embeddings if specified\n",
    "        if self.emb:\n",
    "            return x\n",
    "\n",
    "        # Else return class probabilities\n",
    "        return F.log_softmax(x, dim=1)\n",
    "\n",
    "    def loss(self, pred, label):\n",
    "        return F.nll_loss(pred, label)"
   ]
  },
  {
   "cell_type": "code",
   "execution_count": 44,
   "metadata": {},
   "outputs": [],
   "source": [
    "class LinkPredictor(nn.Module):\n",
    "    def __init__(self, in_channels, hidden_channels, out_channels, num_layers,\n",
    "                 dropout):\n",
    "        super(LinkPredictor, self).__init__()\n",
    "\n",
    "        # Create linear layers\n",
    "        self.lins = nn.ModuleList()\n",
    "        self.lins.append(nn.Linear(in_channels, hidden_channels))\n",
    "        for _ in range(num_layers - 2):\n",
    "            self.lins.append(nn.Linear(hidden_channels, hidden_channels))\n",
    "        self.lins.append(nn.Linear(hidden_channels, out_channels))\n",
    "\n",
    "        self.dropout = dropout\n",
    "\n",
    "    def reset_parameters(self):\n",
    "        for lin in self.lins:\n",
    "            lin.reset_parameters()\n",
    "\n",
    "    def forward(self, x_i, x_j):\n",
    "        # x_i and x_j are both of shape (E, D)\n",
    "        x = x_i * x_j\n",
    "        for lin in self.lins[:-1]:\n",
    "            x = lin(x)\n",
    "            x = F.relu(x)\n",
    "            x = F.dropout(x, p=self.dropout, training=self.training)\n",
    "        x = self.lins[-1](x)\n",
    "        return torch.sigmoid(x)"
   ]
  },
  {
   "cell_type": "code",
   "execution_count": 45,
   "metadata": {},
   "outputs": [],
   "source": [
    "import subprocess as sp\n",
    "import os\n",
    "from tqdm import tqdm\n",
    "\n",
    "def get_gpu_memory():\n",
    "    command = \"nvidia-smi --query-gpu=memory.free --format=csv\"\n",
    "    memory_free_info = sp.check_output(command.split()).decode('ascii').split('\\n')[:-1][1:]\n",
    "    memory_free_values = [int(x.split()[0]) for i, x in enumerate(memory_free_info)]\n",
    "    return memory_free_values"
   ]
  },
  {
   "cell_type": "code",
   "execution_count": 219,
   "metadata": {},
   "outputs": [],
   "source": [
    "def train(model, link_predictor, emb, edge_index, pos_train_edge, batch_size, optimizer, debug=False):\n",
    "    \"\"\"\n",
    "    Runs offline training for model, link_predictor and node embeddings given the message\n",
    "    edges and supervision edges.\n",
    "    :param model: Torch Graph model used for updating node embeddings based on message passing\n",
    "    :param link_predictor: Torch model used for predicting whether edge exists or not\n",
    "    :param emb: (N, d) Initial node embeddings for all N nodes in graph\n",
    "    :param edge_index: (2, E) Edge index for all edges in the graph\n",
    "    :param pos_train_edge: (PE, 2) Positive edges used for training supervision loss\n",
    "    :param batch_size: Number of positive (and negative) supervision edges to sample per batch\n",
    "    :param optimizer: Torch Optimizer to update model parameters\n",
    "    :return: Average supervision loss over all positive (and correspondingly sampled negative) edges\n",
    "    \"\"\"\n",
    "    model.train()\n",
    "    link_predictor.train()\n",
    "    train_losses = []\n",
    "    # define data loader for edges\n",
    "    # dataloader = DataLoader(pos_train_edge, batch_size=batch_size, shuffle=True)\n",
    "    # print(pos_train_edge.shape[1])\n",
    "    pos_train_edge = torch.tensor(pos_train_edge, dtype=torch.long).T\n",
    "    dataloader = DataLoader(range(pos_train_edge.shape[0]), batch_size, shuffle=True)\n",
    "    # dataloader = DataLoader(range(pos_train_edge.shape[1]), batch_size, shuffle=True)\n",
    "    i = 0\n",
    "    # print(pos_train_edge)\n",
    "    for edge_id in dataloader:\n",
    "        # print(edge_id)\n",
    "        # print(edge_id)\n",
    "        i+=1\n",
    "        \n",
    "        optimizer.zero_grad()\n",
    "        # Run message passing on the inital node embeddings to get updated embeddings\n",
    "        node_emb = model(emb, edge_index)  # (N, d)\n",
    "\n",
    "        # Predict the class probabilities on the batch of positive edges using link_predictor\n",
    "        # pos_edge = pos_train_edge.T[edge_id]  # (2, B)\n",
    "        pos_edge = pos_train_edge[edge_id]  # (2, B)\n",
    "\n",
    "        # pos_pred = link_predictor(node_emb[pos_edge.T[0]], node_emb[pos_edge.T[1]])  # (B, )\n",
    "        pos_pred = link_predictor(node_emb[pos_edge[0]], node_emb[pos_edge[1]])  # (B, )\n",
    "        \n",
    "\n",
    "        # print(\"Number of negative edges to sample: \", edge_id.shape[0])\n",
    "        # Sample negative edges (same number as number of positive edges) and predict class probabilities \n",
    "        neg_edge = negative_sampling(edge_index, num_nodes=emb.shape[0],\n",
    "                                    num_neg_samples=edge_id.shape[0], method='dense')  # (Ne,2)\n",
    "        neg_pred = link_predictor(node_emb[neg_edge[0]], node_emb[neg_edge[1]])  # (Ne,)\n",
    "\n",
    "        # Compute the corresponding negative log likelihood loss on the positive and negative edges\n",
    "        loss = -torch.log(pos_pred + 1e-15).mean() - torch.log(1 - neg_pred + 1e-15).mean()\n",
    "        # print(\"Train loss: \", loss)\n",
    "\n",
    "        # Backpropagate and update parameters\n",
    "        loss.backward()\n",
    "        optimizer.step()\n",
    "\n",
    "        train_losses.append(loss.item())\n",
    "        if debug:\n",
    "            print(\"Train edges batch shape: \", edge_id.shape)\n",
    "            print(\"Train node embedding shape: \", node_emb.shape)\n",
    "            print(\"Train positive edge shape: \", pos_edge.shape)\n",
    "            print(\"Shape of positive edges (source): \", pos_edge.T[0].shape)\n",
    "            print(\"Shape of positive edges (target): \", pos_edge.T[1].shape)\n",
    "            print(\"Node embedding shape: \", node_emb[pos_edge[0]].shape)\n",
    "            print(\"Train positive prediction shape: \", pos_pred.shape)\n",
    "            print(\"Train negative prediction shape: \", neg_pred.shape)\n",
    "    if debug:\n",
    "        print(\"Train losses: \", train_losses)\n",
    "        print(\"Train losses length: \", i)\n",
    "\n",
    "    print(\"Train loss: \", sum(train_losses) / len(train_losses))\n",
    "\n",
    "    return sum(train_losses) / len(train_losses)"
   ]
  },
  {
   "cell_type": "code",
   "execution_count": 220,
   "metadata": {},
   "outputs": [
    {
     "data": {
      "text/plain": [
       "[427]"
      ]
     },
     "execution_count": 220,
     "metadata": {},
     "output_type": "execute_result"
    }
   ],
   "source": [
    "get_gpu_memory()"
   ]
  },
  {
   "cell_type": "code",
   "execution_count": 221,
   "metadata": {},
   "outputs": [],
   "source": [
    "# from utils import do_edge_split\n",
    "# split_edge = do_edge_split(graph, fast_split = False)"
   ]
  },
  {
   "cell_type": "code",
   "execution_count": 222,
   "metadata": {},
   "outputs": [],
   "source": [
    "# def test(model, predictor, emb, edge_index, split_edge, batch_size, evaluator):\n",
    "#     \"\"\"\n",
    "#     Evaluates graph model on validation and test edges\n",
    "#     :param model: Torch Graph model used for updating node embeddings based on message passing\n",
    "#     :param predictor: Torch model used for predicting whether edge exists or not\n",
    "#     :param emb: (N, d) Initial node embeddings for all N nodes in graph\n",
    "#     :param edge_index: (2, E) Edge index for all edges in the graph\n",
    "#     :param split_edge: Dictionary of (e, 2) edges for val pos/neg and test pos/neg edges\n",
    "#     :param batch_size: Number of positive (and negative) supervision edges to sample per batch\n",
    "#     :param evaluator: OGB evaluator to calculate hits @ k metric\n",
    "#     :return: hits @ k results\n",
    "#     \"\"\"\n",
    "    # model.eval()\n",
    "    # predictor.eval()\n",
    "\n",
    "    # node_emb = model(emb, edge_index)\n",
    "\n",
    "#     pos_valid_edge = split_edge['valid']['edge'].T.to(emb.device)\n",
    "#     neg_valid_edge = split_edge['valid']['edge_neg'].T.to(emb.device)\n",
    "#     pos_test_edge = split_edge['test']['edge'].T.to(emb.device)\n",
    "#     neg_test_edge = split_edge['test']['edge_neg'].T.to(emb.device)\n",
    "    \n",
    "#     # pos_valid_pred = []\n",
    "#     # for perm in DataLoader(range(pos_valid_edge.size(1)), batch_size):\n",
    "#     #     edges = pos_valid_edge[perm].t()\n",
    "#     #     for edge in edges:\n",
    "#     #         pos_valid_pred.append(predictor(node_emb[edge[0]], node_emb[edge[1]]).squeeze().cpu())\n",
    "#     # pos_valid_pred = torch.tensor(pos_valid_pred)\n",
    "\n",
    "#     # neg_valid_preds = []\n",
    "#     # for perm in DataLoader(range(neg_valid_preds.size(1)), batch_size):\n",
    "#     #     edges = neg_valid_preds[perm].t()\n",
    "#     #     for edge in edges:\n",
    "#     #         pos_valid_pred.append(predictor(node_emb[edge[0]], node_emb[edge[1]]).squeeze().cpu())\n",
    "#     # neg_valid_preds = torch.tensor(neg_valid_preds)\n",
    "    \n",
    "    \n",
    "#     # compute loss for validation set\n",
    "#     # loss_val = -torch.log(pos_valid_pred + 1e-15).mean() - torch.log(1 - neg_valid_preds + 1e-15).mean()\n",
    "    \n",
    "#     # print(edge)\n",
    "#     #     pos_valid_preds += [predictor(node_emb[edge[0]], node_emb[edge[1]]).squeeze().cpu()]\n",
    "#     #     print(predictor(node_emb[edge[0]], node_emb[edge[1]]).squeeze().cpu())\n",
    "#     # pos_valid_pred = torch.cat(pos_valid_preds, dim=0)\n",
    "\n",
    "#     # print(pos_valid_pred)\n",
    "\n",
    "#     with torch.no_grad():\n",
    "\n",
    "#         loss_val_pos = []\n",
    "#         pos_valid_preds = []\n",
    "#         for perm in DataLoader(range(pos_valid_edge.size(0)), batch_size):\n",
    "#             edge = pos_valid_edge[perm].t()\n",
    "#             pos_valid_preds += [predictor(node_emb[edge[0]], node_emb[edge[1]]).squeeze().cpu()]\n",
    "#             loss_val_pos.append(-torch.log(predictor(node_emb[edge[0]], node_emb[edge[1]]).squeeze().cpu() + 1e-15).mean())\n",
    "#         pos_valid_pred = torch.cat(pos_valid_preds, dim=0)\n",
    "#         loss_val_pos_val = sum(loss_val_pos) / len(loss_val_pos)\n",
    "\n",
    "#         loss_val_neg = []\n",
    "#         neg_valid_preds = []\n",
    "#         for perm in DataLoader(range(neg_valid_edge.size(0)), batch_size):\n",
    "#             edge = neg_valid_edge[perm].t()\n",
    "#             neg_valid_preds += [predictor(node_emb[edge[0]], node_emb[edge[1]]).squeeze().cpu()]\n",
    "#             loss_val_neg.append(-torch.log(1 - predictor(node_emb[edge[0]], node_emb[edge[1]]).squeeze().cpu() + 1e-15).mean())\n",
    "#         neg_valid_pred = torch.cat(neg_valid_preds, dim=0)\n",
    "#         loss_val_neg_val = sum(loss_val_neg) / len(loss_val_neg)\n",
    "\n",
    "#         loss_test_pos = []\n",
    "#         pos_test_preds = []\n",
    "#         for perm in DataLoader(range(pos_test_edge.size(0)), batch_size):\n",
    "#             edge = pos_test_edge[perm].t()\n",
    "#             pos_test_preds += [predictor(node_emb[edge[0]], node_emb[edge[1]]).squeeze().cpu()]\n",
    "#             loss_test_pos.append(-torch.log(predictor(node_emb[edge[0]], node_emb[edge[1]]).squeeze().cpu() + 1e-15).mean())\n",
    "#         pos_test_pred = torch.cat(pos_test_preds, dim=0)\n",
    "#         loss_test_pos_val = sum(loss_test_pos) / len(loss_test_pos)\n",
    "\n",
    "#         loss_test_neg = []\n",
    "#         neg_test_preds = []\n",
    "#         for perm in DataLoader(range(neg_test_edge.size(0)), batch_size):\n",
    "#             edge = neg_test_edge[perm].t()\n",
    "#             neg_test_preds += [predictor(node_emb[edge[0]], node_emb[edge[1]]).squeeze().cpu()]\n",
    "#             loss_test_neg.append(-torch.log(1 - predictor(node_emb[edge[0]], node_emb[edge[1]]).squeeze().cpu() + 1e-15).mean())\n",
    "#         neg_test_pred = torch.cat(neg_test_preds, dim=0)\n",
    "#         loss_test_neg_val = sum(loss_test_neg) / len(loss_test_neg)\n",
    "\n",
    "#         results = {}\n",
    "#         results[\"loss_val_pos\"] = loss_val_pos_val\n",
    "#         results[\"loss_val_neg\"] = loss_val_neg_val\n",
    "#         results[\"loss_test_pos\"] = loss_test_pos_val\n",
    "#         results[\"loss_test_neg\"] = loss_test_neg_val\n",
    "\n",
    "#         print(\"Loss val pos: \", loss_val_pos_val)\n",
    "#         print(\"Loss val neg: \", loss_val_neg_val)\n",
    "#         print(\"Loss test pos: \", loss_test_pos_val)\n",
    "#         print(\"Loss test neg: \", loss_test_neg_val)\n",
    "\n",
    "\n",
    "#     # print(pos_valid_pred.shape)\n",
    "#     # print(neg_valid_pred.shape)\n",
    "\n",
    "#     # calculate roc auc with sklearn with tensors\n",
    "#     # from sklearn.metrics import roc_auc_score\n",
    "#     # roc_auc = roc_auc_score(torch.cat([torch.ones(pos_valid_pred.shape[0]), torch.zeros(neg_valid_pred.shape[0])]).detach().numpy(), \n",
    "#     #                         torch.cat([pos_valid_pred, neg_valid_pred]).detach().numpy())\n",
    "    \n",
    "#     # print(\"ROC AUC: \", roc_auc)\n",
    "#     # for K in [20, 50, 100]:\n",
    "#     #     evaluator.K = K\n",
    "#     #     valid_hits = evaluator.eval({\n",
    "#     #         'y_pred_pos': pos_valid_pred,\n",
    "#     #         'y_pred_neg': neg_valid_pred,\n",
    "#     #     })[f'hits@{K}']\n",
    "#     #     test_hits = evaluator.eval({\n",
    "#     #         'y_pred_pos': pos_test_pred,\n",
    "#     #         'y_pred_neg': neg_test_pred,\n",
    "#     #     })[f'hits@{K}']\n",
    "\n",
    "#     #     results[f'Hits@{K}'] = (valid_hits, test_hits)\n",
    "#         # results[f'Hits@{K}'] = (test_hits)\n",
    "\n",
    "#     # calculate auc\n",
    "\n",
    "#     # print(pos_valid_pred)\n",
    "#     # print(neg_valid_pred)\n",
    "\n",
    "#     # valid_auc = evaluator.eval({\n",
    "#     #     'y_pred_pos': pos_valid_pred,\n",
    "#     #     'y_pred_neg': neg_valid_pred,\n",
    "#     # })['rocauc']\n",
    "#     # test_auc = evaluator.eval({\n",
    "#     #     'y_pred_pos': pos_test_pred,\n",
    "#     #     'y_pred_neg': neg_test_pred,\n",
    "#     # })['rocauc']\n",
    "#     # results['AUC'] = (valid_auc, test_auc)\n",
    "    \n",
    "\n",
    "#     return results\n",
    "\n",
    "def select_user_article_negative_edges(label_encoder_nodes, edges):\n",
    "    \n",
    "    # edges = edges.T\n",
    "    \n",
    "    sources = edges[0]\n",
    "    targets = edges[1]\n",
    "\n",
    "    sources_is_article = pd.Series(label_encoder_nodes.inverse_transform(sources)).apply(lambda x: x.startswith(\"a-\"))\n",
    "    targets_is_article = pd.Series(label_encoder_nodes.inverse_transform(targets)).apply(lambda x: x.startswith(\"a-\"))\n",
    "\n",
    "    mask = (sources_is_article & ~targets_is_article) | (~sources_is_article & targets_is_article)\n",
    "\n",
    "    sources_masked = sources[mask]\n",
    "    targes_masked = targets[mask]\n",
    "\n",
    "    new_edges = np.vstack((sources_masked, targes_masked))\n",
    "    # print(sources_masked)\n",
    "    return torch.tensor(new_edges)\n",
    "\n",
    "from sklearn.metrics import roc_auc_score\n",
    "\n",
    "def test(model, predictor, emb, edge_index, split_edge, batch_size, evaluator):\n",
    "\n",
    "    device = 'cuda' if torch.cuda.is_available() else \"cpu\"\n",
    "\n",
    "    pos_valid_edge = split_edge['valid']['edge'].T.to(device)\n",
    "    neg_valid_edge = select_user_article_negative_edges(label_encoder_nodes, split_edge['valid']['edge_neg'])\n",
    "    neg_valid_edge = neg_valid_edge.T.to(device)\n",
    "    # neg_valid_edge = split_edge['valid']['edge_neg'].T.to(device)\n",
    "    pos_test_edge = split_edge['test']['edge'].T.to(device)\n",
    "    # neg_test_edge = split_edge['test']['edge_neg'].T.to(device)\n",
    "    neg_test_edge = select_user_article_negative_edges(label_encoder_nodes, split_edge['test']['edge_neg'])\n",
    "    neg_test_edge = neg_test_edge.T.to(device)\n",
    "\n",
    "    # model = models[\"model\"]\n",
    "    # predictor = models[\"link_predictor\"]\n",
    "    # node_emb = models[\"emb\"].weight\n",
    "\n",
    "    model.eval()\n",
    "    predictor.eval()\n",
    "\n",
    "    node_emb = model(emb, edge_index)\n",
    "\n",
    "    # model.eval()\n",
    "    # predictor.eval()\n",
    "    # node_emb = model(emb, edge_index)\n",
    "\n",
    "    with torch.no_grad():\n",
    "\n",
    "\n",
    "        # valid_loss = []\n",
    "        valid_pos_preds = []\n",
    "        for perm in DataLoader(range(pos_valid_edge.size(0)), batch_size):\n",
    "            edge_pos = pos_valid_edge[perm].t()\n",
    "            pos_preds = predictor(node_emb[edge_pos[0]], node_emb[edge_pos[1]]).squeeze().cpu()\n",
    "            valid_pos_preds += [pos_preds]\n",
    "        # pred_labels_val = torch.cat(valid_pos_preds).detach().numpy()\n",
    "        \n",
    "        valid_neg_preds = []\n",
    "        for perm in DataLoader(range(neg_valid_edge.size(0)), batch_size):\n",
    "            edge_neg = neg_valid_edge[perm].t()\n",
    "            neg_preds = predictor(node_emb[edge_neg[0]], node_emb[edge_neg[1]]).squeeze().cpu()\n",
    "            valid_neg_preds += [neg_preds]\n",
    "        \n",
    "        pred_labels_val = torch.cat([torch.cat(valid_pos_preds), torch.cat(valid_neg_preds)])\n",
    "        true_labels_val = torch.cat([torch.ones(pos_valid_edge.shape[0]), torch.zeros(neg_valid_edge.shape[0])])\n",
    "        loss_val = -torch.log(pred_labels_val + 1e-15).mean() - torch.log(1 - pred_labels_val + 1e-15).mean()\n",
    "        roc_auc_val = roc_auc_score(true_labels_val, pred_labels_val)\n",
    "\n",
    "\n",
    "        # test_loss = []\n",
    "        test_pos_preds = []\n",
    "        for perm in DataLoader(range(pos_test_edge.size(0)), batch_size):\n",
    "            edge_pos = pos_test_edge[perm].t()\n",
    "            pos_preds = predictor(node_emb[edge_pos[0]], node_emb[edge_pos[1]]).squeeze().cpu()\n",
    "            test_pos_preds += [pos_preds]\n",
    "        # pred_labels_test = torch.cat(test_pos_preds).detach().numpy()\n",
    "\n",
    "        test_neg_preds = []\n",
    "        for perm in DataLoader(range(neg_test_edge.size(0)), batch_size):\n",
    "            edge_neg = neg_test_edge[perm].t()\n",
    "            neg_preds = predictor(node_emb[edge_neg[0]], node_emb[edge_neg[1]]).squeeze().cpu()\n",
    "            test_neg_preds += [neg_preds]\n",
    "\n",
    "        pred_labels_test = torch.cat([torch.cat(test_pos_preds), torch.cat(test_neg_preds)])\n",
    "        true_labels_test = torch.cat([torch.ones(pos_test_edge.shape[0]), torch.zeros(neg_test_edge.shape[0])])\n",
    "        loss_test = -torch.log(pred_labels_test + 1e-15).mean() - torch.log(1 - pred_labels_test + 1e-15).mean()\n",
    "        roc_auc_test = roc_auc_score(true_labels_test, pred_labels_test)\n",
    "\n",
    "\n",
    "        # valid_pos_preds = []\n",
    "        # valid_neg_preds = []\n",
    "        # for perm in DataLoader(range(pos_valid_edge.size(0)), batch_size):\n",
    "        #     edge_pos = pos_valid_edge[perm].t()\n",
    "        #     edge_neg = neg_valid_edge[perm].t()\n",
    "\n",
    "        #     # edge_neg = select_user_article_negative_edges(label_encoder_nodes, edge_neg)\n",
    "        #     pos_preds = predictor(node_emb[edge_pos[0]], node_emb[edge_pos[1]]).squeeze().cpu()\n",
    "        #     valid_pos_preds += [pos_preds]\n",
    "        #     neg_preds = predictor(node_emb[edge_neg[0]], node_emb[edge_neg[1]]).squeeze().cpu()\n",
    "        #     valid_neg_preds += [neg_preds]\n",
    "        #     loss = -torch.log(pos_preds + 1e-15).mean() - torch.log(1 - neg_preds + 1e-15).mean()\n",
    "        #     valid_loss.append(loss.item())\n",
    "        \n",
    "        # true_labels_val = torch.cat([torch.ones(pos_valid_edge.shape[0]), torch.zeros(neg_valid_edge.shape[0])]).detach().numpy()\n",
    "        # pred_labels_val = torch.cat([torch.cat(valid_pos_preds), torch.cat(valid_neg_preds)]).detach().numpy()\n",
    "        \n",
    "        # roc_auc_val = roc_auc_score(true_labels_val, pred_labels_val)\n",
    "\n",
    "        # valid_loss = []\n",
    "        # valid_pos_preds = []\n",
    "        # valid_neg_preds = []\n",
    "        # for perm in DataLoader(range(pos_valid_edge.size(0)), batch_size):\n",
    "        #     edge_pos = pos_valid_edge[perm].t()\n",
    "        #     edge_neg = neg_valid_edge[perm].t()\n",
    "\n",
    "        #     # edge_neg = select_user_article_negative_edges(label_encoder_nodes, edge_neg)\n",
    "        #     pos_preds = predictor(node_emb[edge_pos[0]], node_emb[edge_pos[1]]).squeeze().cpu()\n",
    "        #     valid_pos_preds += [pos_preds]\n",
    "        #     neg_preds = predictor(node_emb[edge_neg[0]], node_emb[edge_neg[1]]).squeeze().cpu()\n",
    "        #     valid_neg_preds += [neg_preds]\n",
    "        #     loss = -torch.log(pos_preds + 1e-15).mean() - torch.log(1 - neg_preds + 1e-15).mean()\n",
    "        #     valid_loss.append(loss.item())\n",
    "        \n",
    "        # true_labels_val = torch.cat([torch.ones(pos_valid_edge.shape[0]), torch.zeros(neg_valid_edge.shape[0])]).detach().numpy()\n",
    "        # pred_labels_val = torch.cat([torch.cat(valid_pos_preds), torch.cat(valid_neg_preds)]).detach().numpy()\n",
    "        \n",
    "        # roc_auc_val = roc_auc_score(true_labels_val, pred_labels_val)\n",
    "        # # print(\"Validation ROC AUC: \", roc_auc_val)\n",
    "        # # print(\"Validation loss: \", sum(valid_loss) / len(valid_loss))\n",
    "\n",
    "        # test_loss = []\n",
    "        # test_pos_preds = []\n",
    "        # test_neg_preds = []\n",
    "        # for perm in DataLoader(range(pos_test_edge.size(0)), batch_size):\n",
    "        #     edge_pos = pos_test_edge[perm].t()\n",
    "        #     edge_neg = neg_test_edge[perm].t()\n",
    "        #     # edge_neg = select_user_article_negative_edges(label_encoder_nodes, edge_neg)\n",
    "        #     pos_preds = predictor(node_emb[edge_pos[0]], node_emb[edge_pos[1]]).squeeze().cpu()\n",
    "        #     test_pos_preds += [pos_preds]\n",
    "        #     neg_preds = predictor(node_emb[edge_neg[0]], node_emb[edge_neg[1]]).squeeze().cpu()\n",
    "        #     test_neg_preds += [neg_preds]\n",
    "        #     loss = -torch.log(pos_preds + 1e-15).mean() - torch.log(1 - neg_preds + 1e-15).mean()\n",
    "        #     test_loss.append(loss.item())\n",
    "\n",
    "        # true_labels_test = torch.cat([torch.ones(pos_test_edge.shape[0]), torch.zeros(neg_test_edge.shape[0])]).detach().numpy()\n",
    "        # pred_labels_test = torch.cat([torch.cat(test_pos_preds), torch.cat(test_neg_preds)]).detach().numpy()\n",
    "        # roc_auc_test = roc_auc_score(true_labels_test, pred_labels_test)\n",
    "        # # print(\"Test ROC AUC: \", roc_auc_test)\n",
    "        # # print(\"Test loss: \", sum(test_loss) / len(test_loss))\n",
    "\n",
    "        results = {}\n",
    "        results[\"loss_val\"] = loss_val #sum(valid_loss) / len(valid_loss)\n",
    "        results[\"loss_test\"] = loss_test # sum(test_loss) / len(test_loss)\n",
    "        results[\"roc_auc_val\"] = roc_auc_val\n",
    "        results[\"roc_auc_test\"] = roc_auc_test\n",
    "\n",
    "        print(results)\n",
    "        return results"
   ]
  },
  {
   "cell_type": "code",
   "execution_count": 223,
   "metadata": {},
   "outputs": [],
   "source": [
    "# select_user_article_negative_edges(label_encoder_nodes, split_edge['valid']['edge_neg'].T)"
   ]
  },
  {
   "cell_type": "code",
   "execution_count": 224,
   "metadata": {},
   "outputs": [],
   "source": [
    "from torch_geometric.transforms import RandomLinkSplit, RandomNodeSplit\n",
    "\n",
    "# hyperparameters\n",
    "device = torch.device('cuda' if torch.cuda.is_available() else 'cpu')\n",
    "\n",
    "# device = \"cpu\"\n",
    "optim_wd = 0\n",
    "epochs = 30\n",
    "hidden_dim = 256\n",
    "dropout = 0.3\n",
    "num_layers = 1 # 1 - works pretty good \n",
    "lr = 5e-5\n",
    "node_emb_dim = 256\n",
    "batch_size = 512"
   ]
  },
  {
   "cell_type": "code",
   "execution_count": 225,
   "metadata": {},
   "outputs": [
    {
     "name": "stdout",
     "output_type": "stream",
     "text": [
      "Train edges:  torch.Size([2, 218387])\n",
      "Valid positive edges:  torch.Size([2, 27298])\n",
      "Valid negative edges:  torch.Size([2, 27298])\n",
      "Test positive edges:  torch.Size([2, 27298])\n",
      "Test negative edges:  torch.Size([2, 27298])\n"
     ]
    }
   ],
   "source": [
    "from utils import create_train_test_split_rls\n",
    "split_edge = create_train_test_split_rls(graph)"
   ]
  },
  {
   "cell_type": "code",
   "execution_count": 226,
   "metadata": {},
   "outputs": [
    {
     "name": "stdout",
     "output_type": "stream",
     "text": [
      "==== Expected input format of Evaluator for ogbl-ddi\n",
      "{'y_pred_pos': y_pred_pos, 'y_pred_neg': y_pred_neg}\n",
      "- y_pred_pos: numpy ndarray or torch tensor of shape (num_edges, ). Torch tensor on GPU is recommended for efficiency.\n",
      "- y_pred_neg: numpy ndarray or torch tensor of shape (num_edges, ). Torch tensor on GPU is recommended for efficiency.\n",
      "y_pred_pos is the predicted scores for positive edges.\n",
      "y_pred_neg is the predicted scores for negative edges.\n",
      "Note: As the evaluation metric is ranking-based, the predicted scores need to be different for different edges.\n"
     ]
    }
   ],
   "source": [
    "evaluator = Evaluator(name='ogbl-ddi')\n",
    "print(evaluator.expected_input_format)"
   ]
  },
  {
   "cell_type": "code",
   "execution_count": 227,
   "metadata": {},
   "outputs": [
    {
     "data": {
      "text/plain": [
       "tensor([[ 2736,  2320,   303,  ...,  3779,  3334,  4001],\n",
       "        [15513, 17085,  7049,  ..., 13797, 18972, 12727]])"
      ]
     },
     "execution_count": 227,
     "metadata": {},
     "output_type": "execute_result"
    }
   ],
   "source": [
    "split_edge['train']['edge']"
   ]
  },
  {
   "cell_type": "code",
   "execution_count": 228,
   "metadata": {},
   "outputs": [
    {
     "data": {
      "text/plain": [
       "tensor([[ 3777,   518,  3394,  ...,   604,  3661,  3959],\n",
       "        [18228, 21466,  5400,  ...,  9603, 16293, 16506]])"
      ]
     },
     "execution_count": 228,
     "metadata": {},
     "output_type": "execute_result"
    }
   ],
   "source": [
    "split_edge['valid']['edge']"
   ]
  },
  {
   "cell_type": "code",
   "execution_count": 229,
   "metadata": {},
   "outputs": [
    {
     "data": {
      "text/plain": [
       "tensor([[   25,   343,  4137,  ...,  3972,  1753,   718],\n",
       "        [19226, 15830, 10654,  ...,  8938, 15196, 16850]])"
      ]
     },
     "execution_count": 229,
     "metadata": {},
     "output_type": "execute_result"
    }
   ],
   "source": [
    "split_edge['test']['edge']"
   ]
  },
  {
   "cell_type": "code",
   "execution_count": 230,
   "metadata": {},
   "outputs": [
    {
     "name": "stdout",
     "output_type": "stream",
     "text": [
      "Before training. Available GPU memory:  [427]\n"
     ]
    },
    {
     "name": "stderr",
     "output_type": "stream",
     "text": [
      "  0%|          | 0/30 [00:00<?, ?it/s]/tmp/ipykernel_158677/593965580.py:20: UserWarning: To copy construct from a tensor, it is recommended to use sourceTensor.clone().detach() or sourceTensor.clone().detach().requires_grad_(True), rather than torch.tensor(sourceTensor).\n",
      "  pos_train_edge = torch.tensor(pos_train_edge, dtype=torch.long).T\n",
      "  0%|          | 0/30 [00:00<?, ?it/s]\n"
     ]
    },
    {
     "ename": "TypeError",
     "evalue": "can't convert cuda:0 device type tensor to numpy. Use Tensor.cpu() to copy the tensor to host memory first.",
     "output_type": "error",
     "traceback": [
      "\u001b[0;31m---------------------------------------------------------------------------\u001b[0m",
      "\u001b[0;31mTypeError\u001b[0m                                 Traceback (most recent call last)",
      "\u001b[1;32m/home/rgrebnev/Documents/ws_2023/sna/sna_link_prediction/notebooks/roman_neural_link_prediction.ipynb Cell 28\u001b[0m line \u001b[0;36m3\n\u001b[1;32m     <a href='vscode-notebook-cell:/home/rgrebnev/Documents/ws_2023/sna/sna_link_prediction/notebooks/roman_neural_link_prediction.ipynb#X61sZmlsZQ%3D%3D?line=33'>34</a>\u001b[0m test_hits \u001b[39m=\u001b[39m []\n\u001b[1;32m     <a href='vscode-notebook-cell:/home/rgrebnev/Documents/ws_2023/sna/sna_link_prediction/notebooks/roman_neural_link_prediction.ipynb#X61sZmlsZQ%3D%3D?line=34'>35</a>\u001b[0m \u001b[39mfor\u001b[39;00m e \u001b[39min\u001b[39;00m tqdm(\u001b[39mrange\u001b[39m(epochs)):\n\u001b[0;32m---> <a href='vscode-notebook-cell:/home/rgrebnev/Documents/ws_2023/sna/sna_link_prediction/notebooks/roman_neural_link_prediction.ipynb#X61sZmlsZQ%3D%3D?line=35'>36</a>\u001b[0m     loss \u001b[39m=\u001b[39m train(model, link_predictor, emb\u001b[39m.\u001b[39;49mweight, edge_index, pos_train_edge, batch_size, optimizer)\n\u001b[1;32m     <a href='vscode-notebook-cell:/home/rgrebnev/Documents/ws_2023/sna/sna_link_prediction/notebooks/roman_neural_link_prediction.ipynb#X61sZmlsZQ%3D%3D?line=37'>38</a>\u001b[0m     train_loss\u001b[39m.\u001b[39mappend(loss)\n\u001b[1;32m     <a href='vscode-notebook-cell:/home/rgrebnev/Documents/ws_2023/sna/sna_link_prediction/notebooks/roman_neural_link_prediction.ipynb#X61sZmlsZQ%3D%3D?line=38'>39</a>\u001b[0m     \u001b[39mif\u001b[39;00m (e\u001b[39m+\u001b[39m\u001b[39m1\u001b[39m)\u001b[39m%\u001b[39m\u001b[39m50\u001b[39m \u001b[39m==\u001b[39m \u001b[39m0\u001b[39m:\n",
      "\u001b[1;32m/home/rgrebnev/Documents/ws_2023/sna/sna_link_prediction/notebooks/roman_neural_link_prediction.ipynb Cell 28\u001b[0m line \u001b[0;36m4\n\u001b[1;32m     <a href='vscode-notebook-cell:/home/rgrebnev/Documents/ws_2023/sna/sna_link_prediction/notebooks/roman_neural_link_prediction.ipynb#X61sZmlsZQ%3D%3D?line=41'>42</a>\u001b[0m \u001b[39m# print(\"Number of negative edges to sample: \", edge_id.shape[0])\u001b[39;00m\n\u001b[1;32m     <a href='vscode-notebook-cell:/home/rgrebnev/Documents/ws_2023/sna/sna_link_prediction/notebooks/roman_neural_link_prediction.ipynb#X61sZmlsZQ%3D%3D?line=42'>43</a>\u001b[0m \u001b[39m# Sample negative edges (same number as number of positive edges) and predict class probabilities \u001b[39;00m\n\u001b[1;32m     <a href='vscode-notebook-cell:/home/rgrebnev/Documents/ws_2023/sna/sna_link_prediction/notebooks/roman_neural_link_prediction.ipynb#X61sZmlsZQ%3D%3D?line=43'>44</a>\u001b[0m neg_edge \u001b[39m=\u001b[39m negative_sampling(edge_index, num_nodes\u001b[39m=\u001b[39memb\u001b[39m.\u001b[39mshape[\u001b[39m0\u001b[39m],\n\u001b[1;32m     <a href='vscode-notebook-cell:/home/rgrebnev/Documents/ws_2023/sna/sna_link_prediction/notebooks/roman_neural_link_prediction.ipynb#X61sZmlsZQ%3D%3D?line=44'>45</a>\u001b[0m                             num_neg_samples\u001b[39m=\u001b[39medge_id\u001b[39m.\u001b[39mshape[\u001b[39m0\u001b[39m], method\u001b[39m=\u001b[39m\u001b[39m'\u001b[39m\u001b[39mdense\u001b[39m\u001b[39m'\u001b[39m)  \u001b[39m# (Ne,2)\u001b[39;00m\n\u001b[0;32m---> <a href='vscode-notebook-cell:/home/rgrebnev/Documents/ws_2023/sna/sna_link_prediction/notebooks/roman_neural_link_prediction.ipynb#X61sZmlsZQ%3D%3D?line=46'>47</a>\u001b[0m neg_edge \u001b[39m=\u001b[39m select_user_article_negative_edges(label_encoder_nodes, neg_edge)\n\u001b[1;32m     <a href='vscode-notebook-cell:/home/rgrebnev/Documents/ws_2023/sna/sna_link_prediction/notebooks/roman_neural_link_prediction.ipynb#X61sZmlsZQ%3D%3D?line=47'>48</a>\u001b[0m neg_edge \u001b[39m=\u001b[39m neg_edge\u001b[39m.\u001b[39mT\u001b[39m.\u001b[39mto(device)\n\u001b[1;32m     <a href='vscode-notebook-cell:/home/rgrebnev/Documents/ws_2023/sna/sna_link_prediction/notebooks/roman_neural_link_prediction.ipynb#X61sZmlsZQ%3D%3D?line=49'>50</a>\u001b[0m neg_pred \u001b[39m=\u001b[39m link_predictor(node_emb[neg_edge[\u001b[39m0\u001b[39m]], node_emb[neg_edge[\u001b[39m1\u001b[39m]])  \u001b[39m# (Ne,)\u001b[39;00m\n",
      "\u001b[1;32m/home/rgrebnev/Documents/ws_2023/sna/sna_link_prediction/notebooks/roman_neural_link_prediction.ipynb Cell 28\u001b[0m line \u001b[0;36m1\n\u001b[1;32m    <a href='vscode-notebook-cell:/home/rgrebnev/Documents/ws_2023/sna/sna_link_prediction/notebooks/roman_neural_link_prediction.ipynb#X61sZmlsZQ%3D%3D?line=142'>143</a>\u001b[0m sources \u001b[39m=\u001b[39m edges[\u001b[39m0\u001b[39m]\n\u001b[1;32m    <a href='vscode-notebook-cell:/home/rgrebnev/Documents/ws_2023/sna/sna_link_prediction/notebooks/roman_neural_link_prediction.ipynb#X61sZmlsZQ%3D%3D?line=143'>144</a>\u001b[0m targets \u001b[39m=\u001b[39m edges[\u001b[39m1\u001b[39m]\n\u001b[0;32m--> <a href='vscode-notebook-cell:/home/rgrebnev/Documents/ws_2023/sna/sna_link_prediction/notebooks/roman_neural_link_prediction.ipynb#X61sZmlsZQ%3D%3D?line=145'>146</a>\u001b[0m sources_is_article \u001b[39m=\u001b[39m pd\u001b[39m.\u001b[39mSeries(label_encoder_nodes\u001b[39m.\u001b[39;49minverse_transform(sources))\u001b[39m.\u001b[39mapply(\u001b[39mlambda\u001b[39;00m x: x\u001b[39m.\u001b[39mstartswith(\u001b[39m\"\u001b[39m\u001b[39ma-\u001b[39m\u001b[39m\"\u001b[39m))\n\u001b[1;32m    <a href='vscode-notebook-cell:/home/rgrebnev/Documents/ws_2023/sna/sna_link_prediction/notebooks/roman_neural_link_prediction.ipynb#X61sZmlsZQ%3D%3D?line=146'>147</a>\u001b[0m targets_is_article \u001b[39m=\u001b[39m pd\u001b[39m.\u001b[39mSeries(label_encoder_nodes\u001b[39m.\u001b[39minverse_transform(targets))\u001b[39m.\u001b[39mapply(\u001b[39mlambda\u001b[39;00m x: x\u001b[39m.\u001b[39mstartswith(\u001b[39m\"\u001b[39m\u001b[39ma-\u001b[39m\u001b[39m\"\u001b[39m))\n\u001b[1;32m    <a href='vscode-notebook-cell:/home/rgrebnev/Documents/ws_2023/sna/sna_link_prediction/notebooks/roman_neural_link_prediction.ipynb#X61sZmlsZQ%3D%3D?line=148'>149</a>\u001b[0m mask \u001b[39m=\u001b[39m (sources_is_article \u001b[39m&\u001b[39m \u001b[39m~\u001b[39mtargets_is_article) \u001b[39m|\u001b[39m (\u001b[39m~\u001b[39msources_is_article \u001b[39m&\u001b[39m targets_is_article)\n",
      "File \u001b[0;32m~/anaconda3/envs/sna_link_prediction/lib/python3.9/site-packages/sklearn/preprocessing/_label.py:153\u001b[0m, in \u001b[0;36mLabelEncoder.inverse_transform\u001b[0;34m(self, y)\u001b[0m\n\u001b[1;32m    140\u001b[0m \u001b[39m\u001b[39m\u001b[39m\"\"\"Transform labels back to original encoding.\u001b[39;00m\n\u001b[1;32m    141\u001b[0m \n\u001b[1;32m    142\u001b[0m \u001b[39mParameters\u001b[39;00m\n\u001b[0;32m   (...)\u001b[0m\n\u001b[1;32m    150\u001b[0m \u001b[39m    Original encoding.\u001b[39;00m\n\u001b[1;32m    151\u001b[0m \u001b[39m\"\"\"\u001b[39;00m\n\u001b[1;32m    152\u001b[0m check_is_fitted(\u001b[39mself\u001b[39m)\n\u001b[0;32m--> 153\u001b[0m y \u001b[39m=\u001b[39m column_or_1d(y, warn\u001b[39m=\u001b[39;49m\u001b[39mTrue\u001b[39;49;00m)\n\u001b[1;32m    154\u001b[0m \u001b[39m# inverse transform of empty array is empty array\u001b[39;00m\n\u001b[1;32m    155\u001b[0m \u001b[39mif\u001b[39;00m _num_samples(y) \u001b[39m==\u001b[39m \u001b[39m0\u001b[39m:\n",
      "File \u001b[0;32m~/anaconda3/envs/sna_link_prediction/lib/python3.9/site-packages/sklearn/utils/validation.py:1219\u001b[0m, in \u001b[0;36mcolumn_or_1d\u001b[0;34m(y, dtype, warn)\u001b[0m\n\u001b[1;32m   1193\u001b[0m \u001b[39m\u001b[39m\u001b[39m\"\"\"Ravel column or 1d numpy array, else raises an error.\u001b[39;00m\n\u001b[1;32m   1194\u001b[0m \n\u001b[1;32m   1195\u001b[0m \u001b[39mParameters\u001b[39;00m\n\u001b[0;32m   (...)\u001b[0m\n\u001b[1;32m   1216\u001b[0m \u001b[39m    If `y` is not a 1D array or a 2D array with a single row or column.\u001b[39;00m\n\u001b[1;32m   1217\u001b[0m \u001b[39m\"\"\"\u001b[39;00m\n\u001b[1;32m   1218\u001b[0m xp, _ \u001b[39m=\u001b[39m get_namespace(y)\n\u001b[0;32m-> 1219\u001b[0m y \u001b[39m=\u001b[39m check_array(\n\u001b[1;32m   1220\u001b[0m     y,\n\u001b[1;32m   1221\u001b[0m     ensure_2d\u001b[39m=\u001b[39;49m\u001b[39mFalse\u001b[39;49;00m,\n\u001b[1;32m   1222\u001b[0m     dtype\u001b[39m=\u001b[39;49mdtype,\n\u001b[1;32m   1223\u001b[0m     input_name\u001b[39m=\u001b[39;49m\u001b[39m\"\u001b[39;49m\u001b[39my\u001b[39;49m\u001b[39m\"\u001b[39;49m,\n\u001b[1;32m   1224\u001b[0m     force_all_finite\u001b[39m=\u001b[39;49m\u001b[39mFalse\u001b[39;49;00m,\n\u001b[1;32m   1225\u001b[0m     ensure_min_samples\u001b[39m=\u001b[39;49m\u001b[39m0\u001b[39;49m,\n\u001b[1;32m   1226\u001b[0m )\n\u001b[1;32m   1228\u001b[0m shape \u001b[39m=\u001b[39m y\u001b[39m.\u001b[39mshape\n\u001b[1;32m   1229\u001b[0m \u001b[39mif\u001b[39;00m \u001b[39mlen\u001b[39m(shape) \u001b[39m==\u001b[39m \u001b[39m1\u001b[39m:\n",
      "File \u001b[0;32m~/anaconda3/envs/sna_link_prediction/lib/python3.9/site-packages/sklearn/utils/validation.py:915\u001b[0m, in \u001b[0;36mcheck_array\u001b[0;34m(array, accept_sparse, accept_large_sparse, dtype, order, copy, force_all_finite, ensure_2d, allow_nd, ensure_min_samples, ensure_min_features, estimator, input_name)\u001b[0m\n\u001b[1;32m    913\u001b[0m         array \u001b[39m=\u001b[39m xp\u001b[39m.\u001b[39mastype(array, dtype, copy\u001b[39m=\u001b[39m\u001b[39mFalse\u001b[39;00m)\n\u001b[1;32m    914\u001b[0m     \u001b[39melse\u001b[39;00m:\n\u001b[0;32m--> 915\u001b[0m         array \u001b[39m=\u001b[39m _asarray_with_order(array, order\u001b[39m=\u001b[39;49morder, dtype\u001b[39m=\u001b[39;49mdtype, xp\u001b[39m=\u001b[39;49mxp)\n\u001b[1;32m    916\u001b[0m \u001b[39mexcept\u001b[39;00m ComplexWarning \u001b[39mas\u001b[39;00m complex_warning:\n\u001b[1;32m    917\u001b[0m     \u001b[39mraise\u001b[39;00m \u001b[39mValueError\u001b[39;00m(\n\u001b[1;32m    918\u001b[0m         \u001b[39m\"\u001b[39m\u001b[39mComplex data not supported\u001b[39m\u001b[39m\\n\u001b[39;00m\u001b[39m{}\u001b[39;00m\u001b[39m\\n\u001b[39;00m\u001b[39m\"\u001b[39m\u001b[39m.\u001b[39mformat(array)\n\u001b[1;32m    919\u001b[0m     ) \u001b[39mfrom\u001b[39;00m \u001b[39mcomplex_warning\u001b[39;00m\n",
      "File \u001b[0;32m~/anaconda3/envs/sna_link_prediction/lib/python3.9/site-packages/sklearn/utils/_array_api.py:380\u001b[0m, in \u001b[0;36m_asarray_with_order\u001b[0;34m(array, dtype, order, copy, xp)\u001b[0m\n\u001b[1;32m    378\u001b[0m     array \u001b[39m=\u001b[39m numpy\u001b[39m.\u001b[39marray(array, order\u001b[39m=\u001b[39morder, dtype\u001b[39m=\u001b[39mdtype)\n\u001b[1;32m    379\u001b[0m \u001b[39melse\u001b[39;00m:\n\u001b[0;32m--> 380\u001b[0m     array \u001b[39m=\u001b[39m numpy\u001b[39m.\u001b[39;49masarray(array, order\u001b[39m=\u001b[39;49morder, dtype\u001b[39m=\u001b[39;49mdtype)\n\u001b[1;32m    382\u001b[0m \u001b[39m# At this point array is a NumPy ndarray. We convert it to an array\u001b[39;00m\n\u001b[1;32m    383\u001b[0m \u001b[39m# container that is consistent with the input's namespace.\u001b[39;00m\n\u001b[1;32m    384\u001b[0m \u001b[39mreturn\u001b[39;00m xp\u001b[39m.\u001b[39masarray(array)\n",
      "File \u001b[0;32m~/anaconda3/envs/sna_link_prediction/lib/python3.9/site-packages/torch/_tensor.py:1030\u001b[0m, in \u001b[0;36mTensor.__array__\u001b[0;34m(self, dtype)\u001b[0m\n\u001b[1;32m   1028\u001b[0m     \u001b[39mreturn\u001b[39;00m handle_torch_function(Tensor\u001b[39m.\u001b[39m__array__, (\u001b[39mself\u001b[39m,), \u001b[39mself\u001b[39m, dtype\u001b[39m=\u001b[39mdtype)\n\u001b[1;32m   1029\u001b[0m \u001b[39mif\u001b[39;00m dtype \u001b[39mis\u001b[39;00m \u001b[39mNone\u001b[39;00m:\n\u001b[0;32m-> 1030\u001b[0m     \u001b[39mreturn\u001b[39;00m \u001b[39mself\u001b[39;49m\u001b[39m.\u001b[39;49mnumpy()\n\u001b[1;32m   1031\u001b[0m \u001b[39melse\u001b[39;00m:\n\u001b[1;32m   1032\u001b[0m     \u001b[39mreturn\u001b[39;00m \u001b[39mself\u001b[39m\u001b[39m.\u001b[39mnumpy()\u001b[39m.\u001b[39mastype(dtype, copy\u001b[39m=\u001b[39m\u001b[39mFalse\u001b[39;00m)\n",
      "\u001b[0;31mTypeError\u001b[0m: can't convert cuda:0 device type tensor to numpy. Use Tensor.cpu() to copy the tensor to host memory first."
     ]
    }
   ],
   "source": [
    "# https://colab.research.google.com/drive/1mzvskulGoM9uXCkc4Cke3_Ch0-lz_HnN#scrollTo=gG6mGvs9Uqnt\n",
    "\n",
    "pos_train_edge = split_edge['train']['edge'].to(device)\n",
    "\n",
    "emb = torch.nn.Embedding(graph.num_nodes, node_emb_dim).to(device) # each node has an embedding that has to be learnt\n",
    "model = GNNStack(node_emb_dim, hidden_dim, hidden_dim, num_layers, dropout, emb=True).to(device)\n",
    "link_predictor = LinkPredictor(hidden_dim, hidden_dim, 1, num_layers + 1, dropout).to(device)\n",
    "\n",
    "# define evaluator for roc-auc\n",
    "evaluator = Evaluator(name='ogbl-ddi')\n",
    "# evaluator.expected_input_format\n",
    "\n",
    "\n",
    "optimizer = torch.optim.Adam(\n",
    "    list(model.parameters()) + list(link_predictor.parameters()) + list(emb.parameters()),\n",
    "    lr=lr, weight_decay=optim_wd\n",
    ")\n",
    "edge_index = graph.edge_index.to(device)\n",
    "\n",
    "print(\"Before training. Available GPU memory: \", get_gpu_memory())\n",
    "\n",
    "train_loss = []\n",
    "loss_val_pos_list = []\n",
    "loss_val_neg_list = []\n",
    "loss_test_pos_list = []\n",
    "loss_test_neg_list = []\n",
    "\n",
    "loss_val_list = []\n",
    "loss_testlist = []\n",
    "loss_val_roc_auc_list = []\n",
    "loss_test_roc_auc_list = []\n",
    "\n",
    "val_hits = []\n",
    "test_hits = []\n",
    "for e in tqdm(range(epochs)):\n",
    "    loss = train(model, link_predictor, emb.weight, edge_index, pos_train_edge, batch_size, optimizer)\n",
    "    \n",
    "    train_loss.append(loss)\n",
    "    if (e+1)%50 == 0:\n",
    "        print(f\"Epoch {e + 1}: loss: {round(loss, 5)}\")\n",
    "    \n",
    "    result = test(model, link_predictor, emb.weight, edge_index, split_edge, batch_size, evaluator)\n",
    "    \n",
    "    # loss_val_pos_list.append(result[\"loss_val_pos\"])\n",
    "    # loss_val_neg_list.append(result[\"loss_val_neg\"])\n",
    "    # loss_test_pos_list.append(result[\"loss_test_pos\"])\n",
    "    # loss_test_neg_list.append(result[\"loss_test_neg\"])\n",
    "    loss_val_list.append(result[\"loss_val\"])\n",
    "    loss_testlist.append(result[\"loss_test\"])\n",
    "    loss_val_roc_auc_list.append(result[\"roc_auc_val\"])\n",
    "    loss_test_roc_auc_list.append(result[\"roc_auc_test\"])\n",
    "    \n",
    "    # print(\"Validation positive edges loss: \", loss_val_pos_list)\n",
    "    # print(\"Validation negative edges loss: \", loss_val_neg_list)\n",
    "    # print(\"Test positive edges loss: \", loss_test_pos_list)\n",
    "    # print(\"Test negative edges loss: \", loss_test_neg_list)\n",
    "\n",
    "    \n",
    "\n",
    "    # val_hits.append(result['Hits@20'][0])\n",
    "    # test_hits.append(result['Hits@20'][1])\n",
    "    # if (e+1)%50 ==0:\n",
    "    #     print(result)\n"
   ]
  },
  {
   "cell_type": "code",
   "execution_count": 217,
   "metadata": {},
   "outputs": [
    {
     "data": {
      "image/png": "[encoded data removed]",
      "text/plain": [
       "<Figure size 640x480 with 1 Axes>"
      ]
     },
     "metadata": {},
     "output_type": "display_data"
    }
   ],
   "source": [
    "plt.title('Link Prediction on user-article graph with GraphSAGE GNN')\n",
    "plt.plot(train_loss,label=\"training loss\")\n",
    "plt.plot(loss_val_list,label=\"validation loss\")\n",
    "plt.plot(loss_val_roc_auc_list,label=\"validation roc auc\")\n",
    "plt.plot(loss_testlist, label = \"test loss\")\n",
    "plt.plot(loss_test_roc_auc_list, label = \"test roc auc\")\n",
    "# plt.plot(train_loss,label=\"training loss\")\n",
    "# plt.plot(loss_val_pos_list,label=\"validation loss positive\")\n",
    "# plt.plot(loss_val_neg_list,label=\"validation loss negative\")\n",
    "# plt.plot(loss_test_pos_list,label=\"test loss positive\")\n",
    "# plt.plot(loss_test_neg_list,label=\"test loss negative\")\n",
    "plt.xlabel('Epochs')\n",
    "plt.legend()\n",
    "plt.show()"
   ]
  },
  {
   "cell_type": "code",
   "execution_count": 218,
   "metadata": {},
   "outputs": [],
   "source": [
    "# save models\n",
    "\n",
    "hyper_params = {\n",
    "    \"optim_wd\": optim_wd,\n",
    "    \"epochs\": epochs,\n",
    "    \"hidden_dim\": hidden_dim,\n",
    "    \"dropout\": dropout,\n",
    "    \"num_layers\": num_layers,\n",
    "    \"lr\": lr,\n",
    "    \"node_emb_dim\": node_emb_dim,\n",
    "    \"batch_size\": batch_size\n",
    "}\n",
    "\n",
    "custom_param = \"_negsample_ua\"\n",
    "\n",
    "model_dir = \"./models\" + \"_layers\" + str(hyper_params[\"num_layers\"]) + \\\n",
    "      \"_batch_size\" + str(hyper_params[\"batch_size\"]) + \\\n",
    "      \"_epochs\" + str(hyper_params[\"epochs\"]) + custom_param + \"/\"\n",
    "\n",
    "if not os.path.exists(model_dir):\n",
    "    os.makedirs(model_dir)\n",
    "\n",
    "torch.save(hyper_params, model_dir + \"hyper_params.pt\")\n",
    "torch.save(model.state_dict(), model_dir + \"model.pt\")\n",
    "torch.save(link_predictor.state_dict(), model_dir + \"link_predictor.pt\")\n",
    "torch.save(emb.state_dict(), model_dir + \"emb.pt\")\n",
    "\n",
    "# torch.save(hyper_params, \"hyper_params.pt\")\n",
    "# torch.save(model.state_dict(), \"model.pt\")\n",
    "# torch.save(link_predictor.state_dict(), \"link_predictor.pt\")\n",
    "# torch.save(emb.state_dict(), \"emb.pt\")\n"
   ]
  },
  {
   "cell_type": "code",
   "execution_count": 78,
   "metadata": {},
   "outputs": [],
   "source": [
    "models = {}\n",
    "models[\"model\"] = model\n",
    "models[\"link_predictor\"] = link_predictor\n",
    "models[\"emb\"] = emb\n",
    "\n"
   ]
  },
  {
   "cell_type": "code",
   "execution_count": 84,
   "metadata": {},
   "outputs": [
    {
     "data": {
      "text/plain": [
       "GNNStack(\n",
       "  (convs): ModuleList(\n",
       "    (0): SAGEConv(256, 256, aggr=mean)\n",
       "  )\n",
       "  (post_mp): Sequential(\n",
       "    (0): Linear(in_features=256, out_features=256, bias=True)\n",
       "    (1): Dropout(p=0.3, inplace=False)\n",
       "    (2): Linear(in_features=256, out_features=256, bias=True)\n",
       "  )\n",
       ")"
      ]
     },
     "execution_count": 84,
     "metadata": {},
     "output_type": "execute_result"
    }
   ],
   "source": [
    "model"
   ]
  },
  {
   "cell_type": "code",
   "execution_count": null,
   "metadata": {},
   "outputs": [],
   "source": [
    "model, predictor, emb, edge_index, split_edge, batch_size, evaluator"
   ]
  },
  {
   "cell_type": "code",
   "execution_count": 96,
   "metadata": {},
   "outputs": [
    {
     "name": "stdout",
     "output_type": "stream",
     "text": [
      "Validation ROC AUC:  0.49675775867141103\n",
      "Validation loss:  2.5172901815838284\n",
      "Validation ROC AUC:  0.49537681327604355\n",
      "Test loss:  2.5080946683883667\n"
     ]
    }
   ],
   "source": [
    "from sklearn.metrics import roc_auc_score\n",
    "\n",
    "def calculate_roc_auc(models, split_edge, batch_size):\n",
    "    \n",
    "    device = 'cuda' if torch.cuda.is_available() else \"cpu\"\n",
    "\n",
    "    pos_valid_edge = split_edge['valid']['edge'].T.to(device)\n",
    "    neg_valid_edge = split_edge['valid']['edge_neg'].T.to(device)\n",
    "    \n",
    "    pos_test_edge = split_edge['test']['edge'].T.to(device)\n",
    "    neg_test_edge = split_edge['test']['edge_neg'].T.to(device)\n",
    "\n",
    "    model = models[\"model\"]\n",
    "    predictor = models[\"link_predictor\"]\n",
    "    node_emb = models[\"emb\"].weight\n",
    "\n",
    "    model.eval()\n",
    "    predictor.eval()\n",
    "    # node_emb = model(emb, edge_index)\n",
    "\n",
    "    with torch.no_grad():\n",
    "\n",
    "        valid_loss = []\n",
    "        valid_pos_preds = []\n",
    "        valid_neg_preds = []\n",
    "        for perm in DataLoader(range(pos_valid_edge.size(0)), batch_size):\n",
    "            edge_pos = pos_valid_edge[perm].t()\n",
    "            edge_neg = neg_valid_edge[perm].t()\n",
    "            pos_preds = predictor(node_emb[edge_pos[0]], node_emb[edge_pos[1]]).squeeze().cpu()\n",
    "            valid_pos_preds += [pos_preds]\n",
    "            neg_preds = predictor(node_emb[edge_neg[0]], node_emb[edge_neg[1]]).squeeze().cpu()\n",
    "            valid_neg_preds += [neg_preds]\n",
    "            loss = -torch.log(pos_preds + 1e-15).mean() - torch.log(1 - neg_preds + 1e-15).mean()\n",
    "            valid_loss.append(loss.item())\n",
    "        \n",
    "        true_labels_val = torch.cat([torch.ones(pos_valid_edge.shape[0]), torch.zeros(neg_valid_edge.shape[0])]).detach().numpy()\n",
    "        pred_labels_val = torch.cat([torch.cat(valid_pos_preds), torch.cat(valid_neg_preds)]).detach().numpy()\n",
    "        \n",
    "        roc_auc = roc_auc_score(true_labels_val, pred_labels_val)\n",
    "        print(\"Validation ROC AUC: \", roc_auc)\n",
    "        print(\"Validation loss: \", sum(valid_loss) / len(valid_loss))\n",
    "\n",
    "        test_loss = []\n",
    "        test_pos_preds = []\n",
    "        test_neg_preds = []\n",
    "        for perm in DataLoader(range(pos_test_edge.size(0)), batch_size):\n",
    "            edge_pos = pos_test_edge[perm].t()\n",
    "            edge_neg = neg_test_edge[perm].t()\n",
    "            pos_preds = predictor(node_emb[edge_pos[0]], node_emb[edge_pos[1]]).squeeze().cpu()\n",
    "            test_pos_preds += [pos_preds]\n",
    "            neg_preds = predictor(node_emb[edge_neg[0]], node_emb[edge_neg[1]]).squeeze().cpu()\n",
    "            test_neg_preds += [neg_preds]\n",
    "            loss = -torch.log(pos_preds + 1e-15).mean() - torch.log(1 - neg_preds + 1e-15).mean()\n",
    "            test_loss.append(loss.item())\n",
    "\n",
    "        true_labels_test = torch.cat([torch.ones(pos_test_edge.shape[0]), torch.zeros(neg_test_edge.shape[0])]).detach().numpy()\n",
    "        pred_labels_test = torch.cat([torch.cat(test_pos_preds), torch.cat(test_neg_preds)]).detach().numpy()\n",
    "        roc_auc = roc_auc_score(true_labels_test, pred_labels_test)\n",
    "        print(\"Validation ROC AUC: \", roc_auc)\n",
    "        print(\"Test loss: \", sum(test_loss) / len(test_loss))\n",
    "\n",
    "        # # loss_val_pos = []\n",
    "        # pos_valid_preds = []\n",
    "        # for perm in DataLoader(range(pos_valid_edge.size(0)), batch_size):\n",
    "        #     edge = pos_valid_edge[perm].t()\n",
    "        #     pos_valid_preds += [predictor(node_emb[edge[0]], node_emb[edge[1]]).squeeze().cpu()]\n",
    "        #     # loss_val_pos.append(-torch.log(predictor(node_emb[edge[0]], node_emb[edge[1]]).squeeze().cpu() + 1e-15).mean())\n",
    "        # pos_valid_pred = torch.cat(pos_valid_preds, dim=0)\n",
    "        # # loss_val_pos_val = sum(loss_val_pos) / len(loss_val_pos)\n",
    "\n",
    "        # # loss_val_neg = []\n",
    "        # neg_valid_preds = []\n",
    "        # for perm in DataLoader(range(neg_valid_edge.size(0)), batch_size):\n",
    "        #     edge = neg_valid_edge[perm].t()\n",
    "        #     neg_valid_preds += [predictor(node_emb[edge[0]], node_emb[edge[1]]).squeeze().cpu()]\n",
    "        #     # loss_val_neg.append(-torch.log(1 - predictor(node_emb[edge[0]], node_emb[edge[1]]).squeeze().cpu() + 1e-15).mean())\n",
    "        # neg_valid_pred = torch.cat(neg_valid_preds, dim=0)\n",
    "        # # loss_val_neg_val = sum(loss_val_neg) / len(loss_val_neg)\n",
    "\n",
    "        # loss = -torch.log(pos_valid_pred + 1e-15).mean() - torch.log(1 - neg_valid_pred + 1e-15).mean()\n",
    "        # print(loss)\n",
    "\n",
    "        # # loss_test_pos = []\n",
    "        # pos_test_preds = []\n",
    "        # for perm in DataLoader(range(pos_test_edge.size(0)), batch_size):\n",
    "        #     edge = pos_test_edge[perm].t()\n",
    "        #     pos_test_preds += [predictor(node_emb[edge[0]], node_emb[edge[1]]).squeeze().cpu()]\n",
    "        #     # loss_test_pos.append(-torch.log(predictor(node_emb[edge[0]], node_emb[edge[1]]).squeeze().cpu() + 1e-15).mean())\n",
    "        # pos_test_pred = torch.cat(pos_test_preds, dim=0)\n",
    "        # # loss_test_pos_val = sum(loss_test_pos) / len(loss_test_pos)\n",
    "\n",
    "        # # loss_test_neg = []\n",
    "        # neg_test_preds = []\n",
    "        # for perm in DataLoader(range(neg_test_edge.size(0)), batch_size):\n",
    "        #     edge = neg_test_edge[perm].t()\n",
    "        #     neg_test_preds += [predictor(node_emb[edge[0]], node_emb[edge[1]]).squeeze().cpu()]\n",
    "        #     # loss_test_neg.append(-torch.log(1 - predictor(node_emb[edge[0]], node_emb[edge[1]]).squeeze().cpu() + 1e-15).mean())\n",
    "        # neg_test_pred = torch.cat(neg_test_preds, dim=0)\n",
    "        # # loss_test_neg_val = sum(loss_test_neg) / len(loss_test_neg)\n",
    "\n",
    "        # loss = -torch.log(pos_test_pred + 1e-15).mean() - torch.log(1 - neg_test_pred + 1e-15).mean()\n",
    "        # print(loss)\n",
    "\n",
    "        # results = {}\n",
    "        # results[\"loss_val_pos\"] = loss_val_pos_val\n",
    "        # results[\"loss_val_neg\"] = loss_val_neg_val\n",
    "        # results[\"loss_test_pos\"] = loss_test_pos_val\n",
    "        # results[\"loss_test_neg\"] = loss_test_neg_val\n",
    "\n",
    "        # print(\"Loss val pos: \", loss_val_pos_val)\n",
    "        # print(\"Loss val neg: \", loss_val_neg_val)\n",
    "        # print(\"Loss test pos: \", loss_test_pos_val)\n",
    "        # print(\"Loss test neg: \", loss_test_neg_val)\n",
    "\n",
    "calculate_roc_auc(models, split_edge, batch_size)\n",
    "    "
   ]
  },
  {
   "cell_type": "code",
   "execution_count": null,
   "metadata": {},
   "outputs": [],
   "source": []
  },
  {
   "cell_type": "code",
   "execution_count": null,
   "metadata": {},
   "outputs": [],
   "source": []
  }
 ],
 "metadata": {
  "kernelspec": {
   "display_name": "sna_link_prediction",
   "language": "python",
   "name": "python3"
  },
  "language_info": {
   "codemirror_mode": {
    "name": "ipython",
    "version": 3
   },
   "file_extension": ".py",
   "mimetype": "text/x-python",
   "name": "python",
   "nbconvert_exporter": "python",
   "pygments_lexer": "ipython3",
   "version": "3.9.18"
  }
 },
 "nbformat": 4,
 "nbformat_minor": 2
}
