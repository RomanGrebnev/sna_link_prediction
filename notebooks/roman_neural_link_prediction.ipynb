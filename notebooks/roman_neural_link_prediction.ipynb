{
 "cells": [
  {
   "cell_type": "markdown",
   "metadata": {},
   "source": [
    "# Inspiration\n",
    "- https://medium.com/@xjurajkmec/pairwise-learning-for-neural-link-prediction-f1d16a0d28f6#:~:text=The%20idea%20of%20using%20graph,edges%20in%20the%20given%20graph\n",
    "-"
   ]
  },
  {
   "cell_type": "code",
   "execution_count": 25,
   "metadata": {},
   "outputs": [],
   "source": [
    "import numpy as np\n",
    "import networkx as nx\n",
    "import pandas as pd\n",
    "import matplotlib.pyplot as plt\n",
    "from torch import torch"
   ]
  },
  {
   "cell_type": "code",
   "execution_count": 26,
   "metadata": {},
   "outputs": [],
   "source": [
    "postings_1 = pd.read_csv(\"../data/Postings_01052019_15052019.csv\", sep = ';')\n",
    "postings_2 = pd.read_csv(\"../data/Postings_16052019_31052019.csv\", sep = ';')\n",
    "votes_1 = pd.read_csv(\"../data/Votes_01052019_15052019.csv\", sep = ';')\n",
    "votes_2 = pd.read_csv(\"../data/Votes_16052019_31052019.csv\", sep = ';')\n",
    "\n",
    "postings = pd.concat([postings_1, postings_2])\n",
    "votes = pd.concat([votes_1, votes_2])"
   ]
  },
  {
   "cell_type": "code",
   "execution_count": 27,
   "metadata": {},
   "outputs": [],
   "source": [
    "from sklearn import preprocessing\n",
    "\n",
    "post_article = postings.groupby(by = ['ID_CommunityIdentity', 'ID_Article']).agg({\"ArticlePublishingDate\": \"min\"})\n",
    "post_article = post_article.reset_index()\n",
    "votes_trunc = votes[['ID_CommunityIdentity', 'ID_Posting']]\n",
    "postings_trunc = postings.groupby(by = ['ID_Posting', 'ID_Article']).agg({\"ArticlePublishingDate\": \"min\"}).reset_index().drop(columns = ['ArticlePublishingDate'])\n",
    "vote_user_article = votes_trunc.merge(postings_trunc, left_on = ['ID_Posting'], right_on = ['ID_Posting'])\n",
    "vote_article = vote_user_article.groupby(by = ['ID_CommunityIdentity', 'ID_Article']).agg({\"ID_Posting\": \"count\"}).reset_index().drop(columns = ['ID_Posting'])\n",
    "# user_article_interaction = pd.concat([post_article, vote_article]).drop(columns=['ArticlePublishingDate'])\n",
    "user_article_interaction = pd.concat([post_article]).drop(columns=['ArticlePublishingDate'])"
   ]
  },
  {
   "cell_type": "code",
   "execution_count": 28,
   "metadata": {},
   "outputs": [],
   "source": [
    "# subset edges\n",
    "user_article_interaction = user_article_interaction.sample(n=int(user_article_interaction.shape[0]/20), random_state=1)"
   ]
  },
  {
   "cell_type": "code",
   "execution_count": 29,
   "metadata": {},
   "outputs": [
    {
     "data": {
      "text/plain": [
       "(17391, 2)"
      ]
     },
     "execution_count": 29,
     "metadata": {},
     "output_type": "execute_result"
    }
   ],
   "source": [
    "user_article_interaction.shape"
   ]
  },
  {
   "cell_type": "code",
   "execution_count": 179,
   "metadata": {},
   "outputs": [],
   "source": [
    "user_article_interaction[\"user_id\"] = \"u-\" + user_article_interaction[\"ID_CommunityIdentity\"].astype(str)\n",
    "user_article_interaction[\"article_id\"] = \"a-\" + user_article_interaction[\"ID_Article\"].astype(str)\n",
    "\n",
    "nodes = np.concatenate((np.unique(user_article_interaction['user_id']), np.unique(user_article_interaction['article_id'])))\n",
    "nodes_user = np.unique(user_article_interaction['user_id'])\n",
    "nodes_article = np.unique(user_article_interaction['article_id'])\n",
    "\n",
    "label_encoder_nodes = preprocessing.LabelEncoder()\n",
    "label_encoder_nodes.fit(nodes)\n",
    "nodes_enc = label_encoder_nodes.transform(nodes)\n",
    "\n",
    "user_article_interaction[\"user_id_enc\"] = label_encoder_nodes.transform(user_article_interaction[\"user_id\"])\n",
    "user_article_interaction[\"article_enc\"] = label_encoder_nodes.transform(user_article_interaction[\"article_id\"])"
   ]
  },
  {
   "cell_type": "code",
   "execution_count": 180,
   "metadata": {},
   "outputs": [
    {
     "data": {
      "text/plain": [
       "True"
      ]
     },
     "execution_count": 180,
     "metadata": {},
     "output_type": "execute_result"
    }
   ],
   "source": [
    "edge_list = []\n",
    "for row in user_article_interaction.itertuples():\n",
    "    edge_list.append([row.user_id_enc, row.article_enc])\n",
    "\n",
    "from torch_geometric.data import Data\n",
    "\n",
    "x = torch.tensor(nodes_enc, dtype=torch.long)\n",
    "edge_index = torch.tensor(edge_list, dtype=torch.long)\n",
    "graph = Data(x=x, edge_index=edge_index.t().contiguous())\n",
    "\n",
    "graph.validate(raise_on_error=True)"
   ]
  },
  {
   "cell_type": "code",
   "execution_count": 181,
   "metadata": {},
   "outputs": [],
   "source": [
    "\n",
    "# from torch_geometric.data import Data\n",
    "\n",
    "# class BipartiteData(Data):\n",
    "#     pass\n",
    "\n",
    "# graph_bi = BipartiteData(x_u=label_encoder_nodes.transform(nodes_user), \n",
    "#                     x_a=label_encoder_nodes.transform(nodes_article),\n",
    "#                     edge_index=edge_index)"
   ]
  },
  {
   "cell_type": "code",
   "execution_count": null,
   "metadata": {},
   "outputs": [],
   "source": []
  },
  {
   "cell_type": "code",
   "execution_count": 182,
   "metadata": {},
   "outputs": [],
   "source": [
    "# from torch_geometric.transforms import RandomLinkSplit, RandomNodeSplit\n",
    "# import copy\n",
    "\n",
    "# ## designed for transductive learning\n",
    "# tfs = RandomLinkSplit(\n",
    "#                     #   is_undirected=True, \n",
    "#                       add_negative_train_samples=True,\n",
    "#                       neg_sampling_ratio=1.0,\n",
    "#                       key = \"edge_label\", # supervision label\n",
    "#                       # disjoint_train_ratio=0,# disjoint mode if > 0\n",
    "#                       # edge_types=None, # for heteroData\n",
    "#                       # rev_edge_types=None, # for heteroData\n",
    "#                       num_val=0.1,\n",
    "#                       num_test=0.1,\n",
    "#                       disjoint_train_ratio=0.7\n",
    "#                       )\n",
    "# train_data, val_data, test_data = tfs(graph)\n",
    "# # Here, *_data.edge_index denotes the graph structure used for message passing,\n",
    "# # *_data.edge_label_index and *_data.edge_label denote the training/evaluation edges and their corresponding labels. \n",
    "\n",
    "# ## if inductive learning, need subgraph. e.g \n",
    "# from torch_geometric.utils import subgraph\n",
    "# train_mask = torch.rand(graph.num_nodes) < 0.5\n",
    "# test_mask = ~train_mask\n",
    "\n",
    "# train_data = copy.copy(graph)\n",
    "# train_data.edge_index, _ = subgraph(train_mask, graph.edge_index, relabel_nodes=True)\n",
    "# train_data.x = graph.x[train_mask]\n",
    "\n",
    "\n",
    "# test_data = copy.copy(graph)\n",
    "# test_data.edge_index, _ = subgraph(test_mask, graph.edge_index, relabel_nodes=True)\n",
    "# test_data.x = graph.x[test_mask]"
   ]
  },
  {
   "cell_type": "code",
   "execution_count": 83,
   "metadata": {},
   "outputs": [
    {
     "data": {
      "text/plain": [
       "Data(x=[5405], edge_index=[2, 4614])"
      ]
     },
     "execution_count": 83,
     "metadata": {},
     "output_type": "execute_result"
    }
   ],
   "source": [
    "train_data"
   ]
  },
  {
   "cell_type": "code",
   "execution_count": 57,
   "metadata": {},
   "outputs": [
    {
     "name": "stdout",
     "output_type": "stream",
     "text": [
      "Cuda is available:  True\n"
     ]
    }
   ],
   "source": [
    "device = 'cuda' if torch.cuda.is_available() else \"cpu\"\n",
    "print(\"Cuda is available: \", torch.cuda.is_available())"
   ]
  },
  {
   "cell_type": "code",
   "execution_count": 58,
   "metadata": {},
   "outputs": [
    {
     "data": {
      "text/plain": [
       "tensor([[ 9511, 10496,  8169,  ...,  4777,  2818,  7096],\n",
       "        [ 2280,  2411,  2531,  ...,  1560,   257,   496]], device='cuda:0')"
      ]
     },
     "execution_count": 58,
     "metadata": {},
     "output_type": "execute_result"
    }
   ],
   "source": [
    "graph.edge_index.to(device)"
   ]
  },
  {
   "cell_type": "code",
   "execution_count": 59,
   "metadata": {},
   "outputs": [],
   "source": [
    "import torch\n",
    "import torch.nn as nn\n",
    "import torch.nn.functional as F\n",
    "import torch_geometric as pyg\n",
    "from torch_geometric.data import DataLoader\n",
    "from torch_geometric.utils import negative_sampling\n",
    "from ogb.linkproppred import PygLinkPropPredDataset, Evaluator #needed to extract and evaluate the ogb-ddi dataset\n",
    "import matplotlib.pyplot as plt #needed to visualize loss curves\n",
    "import numpy as np "
   ]
  },
  {
   "cell_type": "code",
   "execution_count": 60,
   "metadata": {},
   "outputs": [],
   "source": [
    "class GNNStack(torch.nn.Module):\n",
    "    def __init__(self, input_dim, hidden_dim, output_dim, num_layers, dropout, emb=False):\n",
    "        super(GNNStack, self).__init__()\n",
    "        conv_model = pyg.nn.SAGEConv\n",
    "\n",
    "        self.convs = nn.ModuleList()\n",
    "        self.convs.append(conv_model(input_dim, hidden_dim))\n",
    "        self.dropout = dropout\n",
    "        self.num_layers = num_layers\n",
    "        self.emb = emb\n",
    "\n",
    "        # Create num_layers GraphSAGE convs\n",
    "        assert (self.num_layers >= 1), 'Number of layers is not >=1'\n",
    "        for l in range(self.num_layers - 1):\n",
    "            self.convs.append(conv_model(hidden_dim, hidden_dim))\n",
    "\n",
    "        # post-message-passing processing \n",
    "        self.post_mp = nn.Sequential(\n",
    "            nn.Linear(hidden_dim, hidden_dim), nn.Dropout(self.dropout),\n",
    "            nn.Linear(hidden_dim, output_dim))\n",
    "\n",
    "    def forward(self, x, edge_index):\n",
    "        \n",
    "\n",
    "        for i in range(self.num_layers):\n",
    "            x = self.convs[i](x, edge_index)\n",
    "            x = F.relu(x)\n",
    "            x = F.dropout(x, p=self.dropout, training=self.training)\n",
    "\n",
    "        x = self.post_mp(x)\n",
    "\n",
    "        # Return final layer of embeddings if specified\n",
    "        if self.emb:\n",
    "            return x\n",
    "\n",
    "        # Else return class probabilities\n",
    "        return F.log_softmax(x, dim=1)\n",
    "\n",
    "    def loss(self, pred, label):\n",
    "        return F.nll_loss(pred, label)"
   ]
  },
  {
   "cell_type": "code",
   "execution_count": 61,
   "metadata": {},
   "outputs": [],
   "source": [
    "class LinkPredictor(nn.Module):\n",
    "    def __init__(self, in_channels, hidden_channels, out_channels, num_layers,\n",
    "                 dropout):\n",
    "        super(LinkPredictor, self).__init__()\n",
    "\n",
    "        # Create linear layers\n",
    "        self.lins = nn.ModuleList()\n",
    "        self.lins.append(nn.Linear(in_channels, hidden_channels))\n",
    "        for _ in range(num_layers - 2):\n",
    "            self.lins.append(nn.Linear(hidden_channels, hidden_channels))\n",
    "        self.lins.append(nn.Linear(hidden_channels, out_channels))\n",
    "\n",
    "        self.dropout = dropout\n",
    "\n",
    "    def reset_parameters(self):\n",
    "        for lin in self.lins:\n",
    "            lin.reset_parameters()\n",
    "\n",
    "    def forward(self, x_i, x_j):\n",
    "        # x_i and x_j are both of shape (E, D)\n",
    "        x = x_i * x_j\n",
    "        for lin in self.lins[:-1]:\n",
    "            x = lin(x)\n",
    "            x = F.relu(x)\n",
    "            x = F.dropout(x, p=self.dropout, training=self.training)\n",
    "        x = self.lins[-1](x)\n",
    "        return torch.sigmoid(x)"
   ]
  },
  {
   "cell_type": "code",
   "execution_count": 62,
   "metadata": {},
   "outputs": [],
   "source": [
    "import subprocess as sp\n",
    "import os\n",
    "from tqdm import tqdm\n",
    "\n",
    "def get_gpu_memory():\n",
    "    command = \"nvidia-smi --query-gpu=memory.free --format=csv\"\n",
    "    memory_free_info = sp.check_output(command.split()).decode('ascii').split('\\n')[:-1][1:]\n",
    "    memory_free_values = [int(x.split()[0]) for i, x in enumerate(memory_free_info)]\n",
    "    return memory_free_values"
   ]
  },
  {
   "cell_type": "code",
   "execution_count": 63,
   "metadata": {},
   "outputs": [],
   "source": [
    "def train(model, link_predictor, emb, edge_index, pos_train_edge, batch_size, optimizer):\n",
    "    \"\"\"\n",
    "    Runs offline training for model, link_predictor and node embeddings given the message\n",
    "    edges and supervision edges.\n",
    "    :param model: Torch Graph model used for updating node embeddings based on message passing\n",
    "    :param link_predictor: Torch model used for predicting whether edge exists or not\n",
    "    :param emb: (N, d) Initial node embeddings for all N nodes in graph\n",
    "    :param edge_index: (2, E) Edge index for all edges in the graph\n",
    "    :param pos_train_edge: (PE, 2) Positive edges used for training supervision loss\n",
    "    :param batch_size: Number of positive (and negative) supervision edges to sample per batch\n",
    "    :param optimizer: Torch Optimizer to update model parameters\n",
    "    :return: Average supervision loss over all positive (and correspondingly sampled negative) edges\n",
    "    \"\"\"\n",
    "    # print(\"Before training embedder. Available GPU memory: \", get_gpu_memory())\n",
    "    model.train()\n",
    "    # print(\"Before training link predictor. Available GPU memory: \", get_gpu_memory())\n",
    "    link_predictor.train()\n",
    "    \n",
    "    train_losses = []\n",
    "\n",
    "    \n",
    "    dataloader = DataLoader(range(pos_train_edge.shape[0]), batch_size, shuffle=True)\n",
    "    \n",
    "\n",
    "    for edge_id in dataloader:\n",
    "        \n",
    "\n",
    "        optimizer.zero_grad()\n",
    "\n",
    "        # Run message passing on the inital node embeddings to get updated embeddings\n",
    "        node_emb = model(emb, edge_index)  # (N, d)\n",
    "\n",
    "        # Predict the class probabilities on the batch of positive edges using link_predictor\n",
    "        pos_edge = pos_train_edge[edge_id].T  # (2, B)\n",
    "        pos_pred = link_predictor(node_emb[pos_edge[0]], node_emb[pos_edge[1]])  # (B, )\n",
    "\n",
    "        # Sample negative edges (same number as number of positive edges) and predict class probabilities \n",
    "        neg_edge = negative_sampling(edge_index, num_nodes=emb.shape[0],\n",
    "                                    num_neg_samples=edge_id.shape[0], method='dense')  # (Ne,2)\n",
    "        neg_pred = link_predictor(node_emb[neg_edge[0]], node_emb[neg_edge[1]])  # (Ne,)\n",
    "\n",
    "        # Compute the corresponding negative log likelihood loss on the positive and negative edges\n",
    "        loss = -torch.log(pos_pred + 1e-15).mean() - torch.log(1 - neg_pred + 1e-15).mean()\n",
    "\n",
    "        # Backpropagate and update parameters\n",
    "        loss.backward()\n",
    "        optimizer.step()\n",
    "\n",
    "        train_losses.append(loss.item())\n",
    "    return sum(train_losses) / len(train_losses)"
   ]
  },
  {
   "cell_type": "code",
   "execution_count": 94,
   "metadata": {},
   "outputs": [],
   "source": [
    "def test(model, predictor, emb, edge_index, split_edge, batch_size, evaluator):\n",
    "    \"\"\"\n",
    "    Evaluates graph model on validation and test edges\n",
    "    :param model: Torch Graph model used for updating node embeddings based on message passing\n",
    "    :param predictor: Torch model used for predicting whether edge exists or not\n",
    "    :param emb: (N, d) Initial node embeddings for all N nodes in graph\n",
    "    :param edge_index: (2, E) Edge index for all edges in the graph\n",
    "    :param split_edge: Dictionary of (e, 2) edges for val pos/neg and test pos/neg edges\n",
    "    :param batch_size: Number of positive (and negative) supervision edges to sample per batch\n",
    "    :param evaluator: OGB evaluator to calculate hits @ k metric\n",
    "    :return: hits @ k results\n",
    "    \"\"\"\n",
    "    model.eval()\n",
    "    predictor.eval()\n",
    "\n",
    "    node_emb = model(emb, edge_index)\n",
    "\n",
    "    pos_valid_edge = split_edge['valid']['edge'].to(emb.device)\n",
    "    neg_valid_edge = split_edge['valid']['edge_neg'].to(emb.device)\n",
    "    pos_test_edge = split_edge['test']['edge'].to(emb.device)\n",
    "    neg_test_edge = split_edge['test']['edge_neg'].to(emb.device)\n",
    "\n",
    "    pos_valid_preds = []\n",
    "    for perm in DataLoader(range(pos_valid_edge.size(0)), batch_size):\n",
    "        edge = pos_valid_edge[perm].t()\n",
    "        pos_valid_preds += [predictor(node_emb[edge[0]], node_emb[edge[1]]).squeeze().cpu()]\n",
    "    pos_valid_pred = torch.cat(pos_valid_preds, dim=0)\n",
    "\n",
    "    neg_valid_preds = []\n",
    "    for perm in DataLoader(range(neg_valid_edge.size(0)), batch_size):\n",
    "        edge = neg_valid_edge[perm].t()\n",
    "        neg_valid_preds += [predictor(node_emb[edge[0]], node_emb[edge[1]]).squeeze().cpu()]\n",
    "    neg_valid_pred = torch.cat(neg_valid_preds, dim=0)\n",
    "\n",
    "    pos_test_preds = []\n",
    "    for perm in DataLoader(range(pos_test_edge.size(0)), batch_size):\n",
    "        edge = pos_test_edge[perm].t()\n",
    "        pos_test_preds += [predictor(node_emb[edge[0]], node_emb[edge[1]]).squeeze().cpu()]\n",
    "    pos_test_pred = torch.cat(pos_test_preds, dim=0)\n",
    "\n",
    "    neg_test_preds = []\n",
    "    for perm in DataLoader(range(neg_test_edge.size(0)), batch_size):\n",
    "        edge = neg_test_edge[perm].t()\n",
    "        neg_test_preds += [predictor(node_emb[edge[0]], node_emb[edge[1]]).squeeze().cpu()]\n",
    "    neg_test_pred = torch.cat(neg_test_preds, dim=0)\n",
    "\n",
    "    results = {}\n",
    "    for K in [20, 50, 100]:\n",
    "        evaluator.K = K\n",
    "        valid_hits = evaluator.eval({\n",
    "            'y_pred_pos': pos_valid_pred,\n",
    "            'y_pred_neg': neg_valid_pred,\n",
    "        })[f'hits@{K}']\n",
    "        test_hits = evaluator.eval({\n",
    "            'y_pred_pos': pos_test_pred,\n",
    "            'y_pred_neg': neg_test_pred,\n",
    "        })[f'hits@{K}']\n",
    "\n",
    "        results[f'Hits@{K}'] = (valid_hits, test_hits)\n",
    "        # results[f'Hits@{K}'] = (test_hits)\n",
    "\n",
    "    return results"
   ]
  },
  {
   "cell_type": "code",
   "execution_count": 65,
   "metadata": {},
   "outputs": [],
   "source": [
    "import os\n",
    "# os.environ[\"PYTORCH_CUDA_ALLOC_CONF\"] = \"max_split_size_mb:<512>\""
   ]
  },
  {
   "cell_type": "code",
   "execution_count": 66,
   "metadata": {},
   "outputs": [
    {
     "data": {
      "text/plain": [
       "[376]"
      ]
     },
     "execution_count": 66,
     "metadata": {},
     "output_type": "execute_result"
    }
   ],
   "source": [
    "get_gpu_memory()"
   ]
  },
  {
   "cell_type": "code",
   "execution_count": 67,
   "metadata": {},
   "outputs": [],
   "source": [
    "import gc\n",
    "\n",
    "gc.collect()\n",
    "\n",
    "torch.cuda.empty_cache()"
   ]
  },
  {
   "cell_type": "code",
   "execution_count": 95,
   "metadata": {},
   "outputs": [],
   "source": [
    "from torch_geometric.transforms import RandomLinkSplit, RandomNodeSplit\n",
    "\n",
    "# hyperparameters\n",
    "device = torch.device('cuda' if torch.cuda.is_available() else 'cpu')\n",
    "# device = \"cpu\"\n",
    "optim_wd = 0\n",
    "epochs = 300\n",
    "hidden_dim = 256\n",
    "dropout = 0.3\n",
    "num_layers = 2\n",
    "lr = 3e-3\n",
    "node_emb_dim = 256\n",
    "batch_size = 8 * 1024 "
   ]
  },
  {
   "cell_type": "code",
   "execution_count": 159,
   "metadata": {},
   "outputs": [],
   "source": [
    "# tfs_bi = RandomLinkSplit(\n",
    "# a                        # add_negative_train_samples=True,\n",
    "#                         # neg_sampling_ratio=1.0,\n",
    "#                         # key = \"edge_label\", # supervision label\n",
    "#                         # num_val=0.1,\n",
    "#                         # num_test=0.1,\n",
    "#                         # disjoint_train_ratio=0.3,\n",
    "#                         # edge_types=graph_bi.x_a\n",
    "#                         )\n",
    "\n",
    "# a = tfs_bi(graph_bi)"
   ]
  },
  {
   "cell_type": "code",
   "execution_count": 240,
   "metadata": {},
   "outputs": [],
   "source": [
    "from torch_geometric.utils import (negative_sampling, add_self_loops,\n",
    "                                   train_test_split_edges)\n",
    "\n",
    "import random\n",
    "import math\n",
    "from copy import copy\n",
    "\n",
    "\n",
    "def do_edge_split(dataset, fast_split=False, val_ratio=0.05, test_ratio=0.1):\n",
    "    \"\"\"From https://github.com/facebookresearch/SEAL_OGB/blob/374bd4424968d21f209618602ed9d9338ac607ab/utils.py#L190\"\"\"\n",
    "    data = copy(dataset)\n",
    "    random.seed(234)\n",
    "    torch.manual_seed(234)\n",
    "\n",
    "    if not fast_split:\n",
    "        data = train_test_split_edges(data, val_ratio, test_ratio)\n",
    "        edge_index, _ = add_self_loops(data.train_pos_edge_index)\n",
    "        data.train_neg_edge_index = negative_sampling(\n",
    "            edge_index, num_nodes=data.num_nodes,\n",
    "            num_neg_samples=data.train_pos_edge_index.size(1))\n",
    "        \n",
    "    else:\n",
    "        num_nodes = data.num_nodes\n",
    "        print(\"num_nodes: \", num_nodes)\n",
    "        row, col = data.edge_index\n",
    "        print(\"row: \", row)\n",
    "        print(\"col: \", col)\n",
    "        # Return upper triangular portion.\n",
    "        # mask = row < col\n",
    "        # row, col = row[mask], col[mask]\n",
    "        n_v = int(math.floor(val_ratio * row.size(0)))\n",
    "        n_t = int(math.floor(test_ratio * row.size(0)))\n",
    "        # Positive edges.\n",
    "        perm = torch.randperm(row.size(0))\n",
    "        row, col = row[perm], col[perm]\n",
    "        r, c = row[:n_v], col[:n_v]\n",
    "        # print(\"r: \", r)\n",
    "        # print(\"c: \", c)\n",
    "        data.val_pos_edge_index = torch.stack([r, c], dim=0)\n",
    "        r, c = row[n_v:n_v + n_t], col[n_v:n_v + n_t]\n",
    "        data.test_pos_edge_index = torch.stack([r, c], dim=0)\n",
    "        r, c = row[n_v + n_t:], col[n_v + n_t:]\n",
    "        data.train_pos_edge_index = torch.stack([r, c], dim=0)\n",
    "        # Negative edges (cannot guarantee (i,j) and (j,i) won't both appear)\n",
    "        neg_edge_index = negative_sampling(\n",
    "            data.edge_index, num_nodes=num_nodes,\n",
    "            num_neg_samples=row.size(0))\n",
    "        data.val_neg_edge_index = neg_edge_index[:, :n_v]\n",
    "        data.test_neg_edge_index = neg_edge_index[:, n_v:n_v + n_t]\n",
    "        data.train_neg_edge_index = neg_edge_index[:, n_v + n_t:]\n",
    "\n",
    "    # split_edge = {'train': {}, 'valid': {}, 'test': {}}\n",
    "    # split_edge['train']['edge'] = data.train_pos_edge_index.t()\n",
    "    # print( split_edge['train']['edge'].shape)\n",
    "    # split_edge['train']['edge_neg'] = data.train_neg_edge_index.t()\n",
    "    # split_edge['valid']['edge'] = data.val_pos_edge_index.t()\n",
    "    # print( split_edge['valid']['edge'].shape)\n",
    "    # split_edge['valid']['edge_neg'] = data.val_neg_edge_index.t()\n",
    "    # split_edge['test']['edge'] = data.test_pos_edge_index.t()\n",
    "    # print( split_edge['test']['edge'].shape)\n",
    "    # split_edge['test']['edge_neg'] = data.test_neg_edge_index.t()\n",
    "\n",
    "    split_edge = {'train': {}, 'valid': {}, 'test': {}}\n",
    "    split_edge['train']['edge'] = data.train_pos_edge_index\n",
    "    print( split_edge['train']['edge'].shape)\n",
    "    split_edge['train']['edge_neg'] = data.train_neg_edge_index\n",
    "    split_edge['valid']['edge'] = data.val_pos_edge_index\n",
    "    print( split_edge['valid']['edge'].shape)\n",
    "    split_edge['valid']['edge_neg'] = data.val_neg_edge_index\n",
    "    split_edge['test']['edge'] = data.test_pos_edge_index\n",
    "    print( split_edge['test']['edge'].shape)\n",
    "    split_edge['test']['edge_neg'] = data.test_neg_edge_index\n",
    "    return split_edge"
   ]
  },
  {
   "cell_type": "code",
   "execution_count": 241,
   "metadata": {},
   "outputs": [],
   "source": [
    "# split_edge['train']['edge'].shape"
   ]
  },
  {
   "cell_type": "code",
   "execution_count": 242,
   "metadata": {},
   "outputs": [
    {
     "name": "stdout",
     "output_type": "stream",
     "text": [
      "num_nodes:  10616\n",
      "row:  tensor([10064,  8028,  7173,  ...,  4981,  4254,  8952])\n",
      "col:  tensor([1380, 1723,  853,  ...,  921, 2268,  153])\n",
      "torch.Size([2, 14783])\n",
      "torch.Size([2, 869])\n",
      "torch.Size([2, 1739])\n"
     ]
    }
   ],
   "source": [
    "split_edge = do_edge_split(graph, fast_split = True)"
   ]
  },
  {
   "cell_type": "code",
   "execution_count": 223,
   "metadata": {},
   "outputs": [],
   "source": [
    "# split_edge['valid']['edge_neg'].shape"
   ]
  },
  {
   "cell_type": "code",
   "execution_count": 224,
   "metadata": {},
   "outputs": [],
   "source": [
    "# tfs = RandomLinkSplit(disjoint_train_ratio=0, edge_types = \"users\")\n",
    "                      \n",
    "# graph_train, graph_val, graph_test = tfs(graph)\n",
    "\n",
    "# graph_train.edge_index.to(device)\n",
    "\n",
    "# graph_val.edge_index.to(device)\n",
    "# # generate negative samples\n",
    "# graph_val_neg = negative_sampling(graph_val.edge_index, num_nodes=graph.num_nodes)\n",
    "# graph_val_neg.to(device)\n",
    "\n",
    "# graph_test.edge_index.to(device)\n",
    "# graph_test_neg = negative_sampling(graph_test.edge_index, num_nodes=graph.num_nodes)\n",
    "# graph_test_neg.to(device)\n",
    "\n"
   ]
  },
  {
   "cell_type": "code",
   "execution_count": 225,
   "metadata": {},
   "outputs": [],
   "source": [
    "# dataset = {}\n",
    "# dataset['train'] = {}\n",
    "# dataset['train']['edge'] = graph_train.edge_label_index\n",
    "# dataset['valid'] = {}\n",
    "# dataset['valid']['edge'] = graph_val.edge_label_index\n",
    "# dataset['valid']['edge_neg'] = graph_val_neg\n",
    "# dataset['test'] = {}\n",
    "# dataset['test']['edge'] = graph_test.edge_label_index\n",
    "# dataset['test']['edge_neg'] = graph_test_neg"
   ]
  },
  {
   "cell_type": "code",
   "execution_count": 226,
   "metadata": {},
   "outputs": [],
   "source": [
    "# graph_train"
   ]
  },
  {
   "cell_type": "code",
   "execution_count": 227,
   "metadata": {},
   "outputs": [],
   "source": [
    "# graph_test"
   ]
  },
  {
   "cell_type": "code",
   "execution_count": 228,
   "metadata": {},
   "outputs": [],
   "source": [
    "# graph_val"
   ]
  },
  {
   "cell_type": "code",
   "execution_count": 229,
   "metadata": {},
   "outputs": [],
   "source": [
    "# del os.environ['MKL_NUM_THREADS']\n",
    "# import torch"
   ]
  },
  {
   "cell_type": "code",
   "execution_count": 230,
   "metadata": {},
   "outputs": [],
   "source": [
    "# split_edge = {}\n",
    "# split_edge[\"train\"] = train_data"
   ]
  },
  {
   "cell_type": "code",
   "execution_count": 232,
   "metadata": {},
   "outputs": [
    {
     "name": "stdout",
     "output_type": "stream",
     "text": [
      "Before training. Available GPU memory:  [990]\n"
     ]
    },
    {
     "name": "stderr",
     "output_type": "stream",
     "text": [
      "  0%|          | 0/300 [00:00<?, ?it/s]/home/rgrebnev/anaconda3/envs/sna_link_prediction/lib/python3.9/site-packages/torch_geometric/deprecation.py:22: UserWarning: 'data.DataLoader' is deprecated, use 'loader.DataLoader' instead\n",
      "  warnings.warn(out)\n",
      "  4%|▍         | 12/300 [00:00<00:12, 22.57it/s]"
     ]
    },
    {
     "name": "stdout",
     "output_type": "stream",
     "text": [
      "Epoch 10: loss: 0.21539\n",
      "{'Hits@20': (1.0, 1.0), 'Hits@50': (1.0, 1.0), 'Hits@100': (1.0, 1.0)}\n"
     ]
    },
    {
     "name": "stderr",
     "output_type": "stream",
     "text": [
      "  8%|▊         | 24/300 [00:01<00:11, 23.62it/s]"
     ]
    },
    {
     "name": "stdout",
     "output_type": "stream",
     "text": [
      "Epoch 20: loss: 0.0\n",
      "{'Hits@20': (1.0, 1.0), 'Hits@50': (1.0, 1.0), 'Hits@100': (1.0, 1.0)}\n"
     ]
    },
    {
     "name": "stderr",
     "output_type": "stream",
     "text": [
      " 11%|█         | 33/300 [00:01<00:11, 23.84it/s]"
     ]
    },
    {
     "name": "stdout",
     "output_type": "stream",
     "text": [
      "Epoch 30: loss: 0.0\n",
      "{'Hits@20': (1.0, 1.0), 'Hits@50': (1.0, 1.0), 'Hits@100': (1.0, 1.0)}\n"
     ]
    },
    {
     "name": "stderr",
     "output_type": "stream",
     "text": [
      " 14%|█▍        | 42/300 [00:01<00:10, 23.62it/s]"
     ]
    },
    {
     "name": "stdout",
     "output_type": "stream",
     "text": [
      "Epoch 40: loss: 17.26939\n",
      "{'Hits@20': (1.0, 1.0), 'Hits@50': (1.0, 1.0), 'Hits@100': (1.0, 1.0)}\n"
     ]
    },
    {
     "name": "stderr",
     "output_type": "stream",
     "text": [
      " 18%|█▊        | 54/300 [00:02<00:10, 23.82it/s]"
     ]
    },
    {
     "name": "stdout",
     "output_type": "stream",
     "text": [
      "Epoch 50: loss: 0.0\n",
      "{'Hits@20': (1.0, 1.0), 'Hits@50': (1.0, 1.0), 'Hits@100': (1.0, 1.0)}\n"
     ]
    },
    {
     "name": "stderr",
     "output_type": "stream",
     "text": [
      " 21%|██        | 63/300 [00:02<00:09, 24.00it/s]"
     ]
    },
    {
     "name": "stdout",
     "output_type": "stream",
     "text": [
      "Epoch 60: loss: 17.26939\n",
      "{'Hits@20': (1.0, 1.0), 'Hits@50': (1.0, 1.0), 'Hits@100': (1.0, 1.0)}\n"
     ]
    },
    {
     "name": "stderr",
     "output_type": "stream",
     "text": [
      " 24%|██▍       | 72/300 [00:03<00:09, 23.69it/s]"
     ]
    },
    {
     "name": "stdout",
     "output_type": "stream",
     "text": [
      "Epoch 70: loss: 17.73401\n",
      "{'Hits@20': (1.0, 1.0), 'Hits@50': (1.0, 1.0), 'Hits@100': (1.0, 1.0)}\n"
     ]
    },
    {
     "name": "stderr",
     "output_type": "stream",
     "text": [
      " 28%|██▊       | 84/300 [00:03<00:08, 24.05it/s]"
     ]
    },
    {
     "name": "stdout",
     "output_type": "stream",
     "text": [
      "Epoch 80: loss: 34.53878\n",
      "{'Hits@20': (1.0, 1.0), 'Hits@50': (1.0, 1.0), 'Hits@100': (1.0, 1.0)}\n"
     ]
    },
    {
     "name": "stderr",
     "output_type": "stream",
     "text": [
      " 31%|███       | 93/300 [00:03<00:08, 24.12it/s]"
     ]
    },
    {
     "name": "stdout",
     "output_type": "stream",
     "text": [
      "Epoch 90: loss: 34.53878\n",
      "{'Hits@20': (1.0, 1.0), 'Hits@50': (1.0, 1.0), 'Hits@100': (1.0, 1.0)}\n"
     ]
    },
    {
     "name": "stderr",
     "output_type": "stream",
     "text": [
      " 34%|███▍      | 102/300 [00:04<00:08, 23.80it/s]"
     ]
    },
    {
     "name": "stdout",
     "output_type": "stream",
     "text": [
      "Epoch 100: loss: 34.53878\n",
      "{'Hits@20': (1.0, 1.0), 'Hits@50': (1.0, 1.0), 'Hits@100': (1.0, 1.0)}\n"
     ]
    },
    {
     "name": "stderr",
     "output_type": "stream",
     "text": [
      " 38%|███▊      | 114/300 [00:04<00:07, 24.05it/s]"
     ]
    },
    {
     "name": "stdout",
     "output_type": "stream",
     "text": [
      "Epoch 110: loss: 34.53878\n",
      "{'Hits@20': (1.0, 1.0), 'Hits@50': (1.0, 1.0), 'Hits@100': (1.0, 1.0)}\n"
     ]
    },
    {
     "name": "stderr",
     "output_type": "stream",
     "text": [
      " 41%|████      | 123/300 [00:05<00:07, 23.97it/s]"
     ]
    },
    {
     "name": "stdout",
     "output_type": "stream",
     "text": [
      "Epoch 120: loss: 34.53878\n",
      "{'Hits@20': (1.0, 1.0), 'Hits@50': (1.0, 1.0), 'Hits@100': (1.0, 1.0)}\n"
     ]
    },
    {
     "name": "stderr",
     "output_type": "stream",
     "text": [
      " 44%|████▍     | 132/300 [00:05<00:07, 23.87it/s]"
     ]
    },
    {
     "name": "stdout",
     "output_type": "stream",
     "text": [
      "Epoch 130: loss: 34.53878\n",
      "{'Hits@20': (1.0, 1.0), 'Hits@50': (1.0, 1.0), 'Hits@100': (1.0, 1.0)}\n"
     ]
    },
    {
     "name": "stderr",
     "output_type": "stream",
     "text": [
      " 48%|████▊     | 144/300 [00:06<00:06, 24.11it/s]"
     ]
    },
    {
     "name": "stdout",
     "output_type": "stream",
     "text": [
      "Epoch 140: loss: 34.53878\n",
      "{'Hits@20': (1.0, 1.0), 'Hits@50': (1.0, 1.0), 'Hits@100': (1.0, 1.0)}\n"
     ]
    },
    {
     "name": "stderr",
     "output_type": "stream",
     "text": [
      " 51%|█████     | 153/300 [00:06<00:06, 24.22it/s]"
     ]
    },
    {
     "name": "stdout",
     "output_type": "stream",
     "text": [
      "Epoch 150: loss: 51.80817\n",
      "{'Hits@20': (1.0, 1.0), 'Hits@50': (1.0, 1.0), 'Hits@100': (1.0, 1.0)}\n"
     ]
    },
    {
     "name": "stderr",
     "output_type": "stream",
     "text": [
      " 54%|█████▍    | 162/300 [00:06<00:05, 23.70it/s]"
     ]
    },
    {
     "name": "stdout",
     "output_type": "stream",
     "text": [
      "Epoch 160: loss: 51.80817\n",
      "{'Hits@20': (1.0, 1.0), 'Hits@50': (1.0, 1.0), 'Hits@100': (1.0, 1.0)}\n"
     ]
    },
    {
     "name": "stderr",
     "output_type": "stream",
     "text": [
      " 58%|█████▊    | 174/300 [00:07<00:05, 23.83it/s]"
     ]
    },
    {
     "name": "stdout",
     "output_type": "stream",
     "text": [
      "Epoch 170: loss: 34.53878\n",
      "{'Hits@20': (1.0, 1.0), 'Hits@50': (1.0, 1.0), 'Hits@100': (1.0, 1.0)}\n"
     ]
    },
    {
     "name": "stderr",
     "output_type": "stream",
     "text": [
      " 61%|██████    | 183/300 [00:07<00:04, 23.99it/s]"
     ]
    },
    {
     "name": "stdout",
     "output_type": "stream",
     "text": [
      "Epoch 180: loss: 34.53878\n",
      "{'Hits@20': (1.0, 1.0), 'Hits@50': (1.0, 1.0), 'Hits@100': (1.0, 1.0)}\n"
     ]
    },
    {
     "name": "stderr",
     "output_type": "stream",
     "text": [
      " 64%|██████▍   | 192/300 [00:08<00:04, 23.82it/s]"
     ]
    },
    {
     "name": "stdout",
     "output_type": "stream",
     "text": [
      "Epoch 190: loss: 17.26939\n",
      "{'Hits@20': (1.0, 1.0), 'Hits@50': (1.0, 1.0), 'Hits@100': (1.0, 1.0)}\n"
     ]
    },
    {
     "name": "stderr",
     "output_type": "stream",
     "text": [
      " 68%|██████▊   | 204/300 [00:08<00:03, 24.10it/s]"
     ]
    },
    {
     "name": "stdout",
     "output_type": "stream",
     "text": [
      "Epoch 200: loss: 17.26939\n",
      "{'Hits@20': (1.0, 1.0), 'Hits@50': (1.0, 1.0), 'Hits@100': (1.0, 1.0)}\n"
     ]
    },
    {
     "name": "stderr",
     "output_type": "stream",
     "text": [
      " 71%|███████   | 213/300 [00:08<00:03, 23.95it/s]"
     ]
    },
    {
     "name": "stdout",
     "output_type": "stream",
     "text": [
      "Epoch 210: loss: 34.53878\n",
      "{'Hits@20': (1.0, 1.0), 'Hits@50': (1.0, 1.0), 'Hits@100': (1.0, 1.0)}\n"
     ]
    },
    {
     "name": "stderr",
     "output_type": "stream",
     "text": [
      " 74%|███████▍  | 222/300 [00:09<00:03, 23.86it/s]"
     ]
    },
    {
     "name": "stdout",
     "output_type": "stream",
     "text": [
      "Epoch 220: loss: 17.26939\n",
      "{'Hits@20': (1.0, 1.0), 'Hits@50': (1.0, 1.0), 'Hits@100': (1.0, 1.0)}\n"
     ]
    },
    {
     "name": "stderr",
     "output_type": "stream",
     "text": [
      " 78%|███████▊  | 234/300 [00:09<00:02, 23.93it/s]"
     ]
    },
    {
     "name": "stdout",
     "output_type": "stream",
     "text": [
      "Epoch 230: loss: 0.0\n",
      "{'Hits@20': (1.0, 1.0), 'Hits@50': (1.0, 1.0), 'Hits@100': (1.0, 1.0)}\n"
     ]
    },
    {
     "name": "stderr",
     "output_type": "stream",
     "text": [
      " 81%|████████  | 243/300 [00:10<00:02, 24.04it/s]"
     ]
    },
    {
     "name": "stdout",
     "output_type": "stream",
     "text": [
      "Epoch 240: loss: 34.53878\n",
      "{'Hits@20': (1.0, 1.0), 'Hits@50': (1.0, 1.0), 'Hits@100': (1.0, 1.0)}\n"
     ]
    },
    {
     "name": "stderr",
     "output_type": "stream",
     "text": [
      " 84%|████████▍ | 252/300 [00:10<00:02, 23.91it/s]"
     ]
    },
    {
     "name": "stdout",
     "output_type": "stream",
     "text": [
      "Epoch 250: loss: 0.0\n",
      "{'Hits@20': (1.0, 1.0), 'Hits@50': (1.0, 1.0), 'Hits@100': (1.0, 1.0)}\n"
     ]
    },
    {
     "name": "stderr",
     "output_type": "stream",
     "text": [
      " 88%|████████▊ | 264/300 [00:11<00:01, 24.13it/s]"
     ]
    },
    {
     "name": "stdout",
     "output_type": "stream",
     "text": [
      "Epoch 260: loss: 17.26939\n",
      "{'Hits@20': (1.0, 1.0), 'Hits@50': (1.0, 1.0), 'Hits@100': (1.0, 1.0)}\n"
     ]
    },
    {
     "name": "stderr",
     "output_type": "stream",
     "text": [
      " 91%|█████████ | 273/300 [00:11<00:01, 23.94it/s]"
     ]
    },
    {
     "name": "stdout",
     "output_type": "stream",
     "text": [
      "Epoch 270: loss: 17.26939\n",
      "{'Hits@20': (1.0, 1.0), 'Hits@50': (1.0, 1.0), 'Hits@100': (1.0, 1.0)}\n"
     ]
    },
    {
     "name": "stderr",
     "output_type": "stream",
     "text": [
      " 94%|█████████▍| 282/300 [00:11<00:00, 23.40it/s]"
     ]
    },
    {
     "name": "stdout",
     "output_type": "stream",
     "text": [
      "Epoch 280: loss: 34.53878\n",
      "{'Hits@20': (1.0, 1.0), 'Hits@50': (1.0, 1.0), 'Hits@100': (1.0, 1.0)}\n"
     ]
    },
    {
     "name": "stderr",
     "output_type": "stream",
     "text": [
      " 98%|█████████▊| 294/300 [00:12<00:00, 23.65it/s]"
     ]
    },
    {
     "name": "stdout",
     "output_type": "stream",
     "text": [
      "Epoch 290: loss: 0.0\n",
      "{'Hits@20': (1.0, 1.0), 'Hits@50': (1.0, 1.0), 'Hits@100': (1.0, 1.0)}\n"
     ]
    },
    {
     "name": "stderr",
     "output_type": "stream",
     "text": [
      "100%|██████████| 300/300 [00:12<00:00, 23.92it/s]\n"
     ]
    },
    {
     "name": "stdout",
     "output_type": "stream",
     "text": [
      "Epoch 300: loss: 17.26939\n",
      "{'Hits@20': (1.0, 1.0), 'Hits@50': (1.0, 1.0), 'Hits@100': (1.0, 1.0)}\n"
     ]
    },
    {
     "data": {
      "image/png": "[encoded data removed]",
      "text/plain": [
       "<Figure size 640x480 with 1 Axes>"
      ]
     },
     "metadata": {},
     "output_type": "display_data"
    }
   ],
   "source": [
    "\n",
    "\n",
    "pos_train_edge = split_edge['train']['edge'].to(device)\n",
    "\n",
    "emb = torch.nn.Embedding(graph.num_nodes, node_emb_dim).to(device) # each node has an embedding that has to be learnt\n",
    "model = GNNStack(node_emb_dim, hidden_dim, hidden_dim, num_layers, dropout, emb=True).to(device)\n",
    "link_predictor = LinkPredictor(hidden_dim, hidden_dim, 1, num_layers + 1, dropout).to(device)\n",
    "\n",
    "evaluator = Evaluator(name='ogbl-ddi')\n",
    "\n",
    "get_gpu_memory()\n",
    "\n",
    "optimizer = torch.optim.Adam(\n",
    "    list(model.parameters()) + list(link_predictor.parameters()) + list(emb.parameters()),\n",
    "    lr=lr, weight_decay=optim_wd\n",
    ")\n",
    "edge_index = split_edge['train']['edge'].to(device)\n",
    "# edge_index = val_data.edge_index.to(device)\n",
    "\n",
    "print(\"Before training. Available GPU memory: \", get_gpu_memory())\n",
    "\n",
    "train_loss = []\n",
    "val_hits = []\n",
    "test_hits = []\n",
    "for e in tqdm(range(epochs)):\n",
    "    loss = train(model, link_predictor, emb.weight, edge_index, pos_train_edge, batch_size, optimizer)\n",
    "    if (e+1)%10 == 0:\n",
    "        print(f\"Epoch {e + 1}: loss: {round(loss, 5)}\")\n",
    "    train_loss.append(loss)\n",
    "\n",
    "    if (e+1)%10 ==0:\n",
    "        result = test(model, link_predictor, emb.weight, edge_index, split_edge, batch_size, evaluator)\n",
    "        val_hits.append(result['Hits@20'][0])\n",
    "        test_hits.append(result['Hits@20'][1])\n",
    "        print(result)\n",
    "\n",
    "plt.title('Link Prediction on OGB-ddi using GraphSAGE GNN')\n",
    "plt.plot(train_loss,label=\"training loss\")\n",
    "plt.plot(np.arange(9,epochs,10),val_hits,label=\"Hits@20 on validation\")\n",
    "plt.plot(np.arange(9,epochs,10),test_hits,label=\"Hits@20 on test\")\n",
    "plt.xlabel('Epochs')\n",
    "plt.legend()\n",
    "plt.show()"
   ]
  },
  {
   "cell_type": "code",
   "execution_count": null,
   "metadata": {},
   "outputs": [],
   "source": []
  },
  {
   "cell_type": "code",
   "execution_count": 24,
   "metadata": {},
   "outputs": [],
   "source": [
    "from torch_geometric.loader import NodeLoader"
   ]
  },
  {
   "cell_type": "code",
   "execution_count": 29,
   "metadata": {},
   "outputs": [
    {
     "ename": "ValueError",
     "evalue": "too many values to unpack (expected 2)",
     "output_type": "error",
     "traceback": [
      "\u001b[0;31m---------------------------------------------------------------------------\u001b[0m",
      "\u001b[0;31mValueError\u001b[0m                                Traceback (most recent call last)",
      "\u001b[1;32m/home/rgrebnev/Documents/ws_2023/sna/sna_link_prediction/notebooks/roman_neural_link_prediction.ipynb Cell 17\u001b[0m line \u001b[0;36m1\n\u001b[0;32m----> <a href='vscode-notebook-cell:/home/rgrebnev/Documents/ws_2023/sna/sna_link_prediction/notebooks/roman_neural_link_prediction.ipynb#X25sZmlsZQ%3D%3D?line=0'>1</a>\u001b[0m node_loader \u001b[39m=\u001b[39m NodeLoader(edge_list_user_article_interaction, nodes)\n",
      "File \u001b[0;32m~/anaconda3/envs/sna_link_prediction/lib/python3.9/site-packages/torch_geometric/loader/node_loader.py:101\u001b[0m, in \u001b[0;36mNodeLoader.__init__\u001b[0;34m(self, data, node_sampler, input_nodes, input_time, transform, transform_sampler_output, filter_per_worker, custom_cls, input_id, **kwargs)\u001b[0m\n\u001b[1;32m     98\u001b[0m kwargs\u001b[39m.\u001b[39mpop(\u001b[39m'\u001b[39m\u001b[39mcollate_fn\u001b[39m\u001b[39m'\u001b[39m, \u001b[39mNone\u001b[39;00m)\n\u001b[1;32m    100\u001b[0m \u001b[39m# Get node type (or `None` for homogeneous graphs):\u001b[39;00m\n\u001b[0;32m--> 101\u001b[0m input_type, input_nodes \u001b[39m=\u001b[39m get_input_nodes(data, input_nodes)\n\u001b[1;32m    103\u001b[0m \u001b[39mself\u001b[39m\u001b[39m.\u001b[39mdata \u001b[39m=\u001b[39m data\n\u001b[1;32m    104\u001b[0m \u001b[39mself\u001b[39m\u001b[39m.\u001b[39mnode_sampler \u001b[39m=\u001b[39m node_sampler\n",
      "File \u001b[0;32m~/anaconda3/envs/sna_link_prediction/lib/python3.9/site-packages/torch_geometric/loader/utils.py:281\u001b[0m, in \u001b[0;36mget_input_nodes\u001b[0;34m(data, input_nodes)\u001b[0m\n\u001b[1;32m    278\u001b[0m     \u001b[39mreturn\u001b[39;00m node_type, to_index(input_nodes)\n\u001b[1;32m    280\u001b[0m \u001b[39melse\u001b[39;00m:  \u001b[39m# Tuple[FeatureStore, GraphStore]\u001b[39;00m\n\u001b[0;32m--> 281\u001b[0m     feature_store, graph_store \u001b[39m=\u001b[39m data\n\u001b[1;32m    282\u001b[0m     \u001b[39massert\u001b[39;00m input_nodes \u001b[39mis\u001b[39;00m \u001b[39mnot\u001b[39;00m \u001b[39mNone\u001b[39;00m\n\u001b[1;32m    284\u001b[0m     \u001b[39mif\u001b[39;00m \u001b[39misinstance\u001b[39m(input_nodes, Tensor):\n",
      "\u001b[0;31mValueError\u001b[0m: too many values to unpack (expected 2)"
     ]
    }
   ],
   "source": [
    "node_loader = NodeLoader(edge_list_user_article_interaction, nodes)"
   ]
  },
  {
   "cell_type": "code",
   "execution_count": 22,
   "metadata": {},
   "outputs": [
    {
     "name": "stderr",
     "output_type": "stream",
     "text": [
      "/home/rgrebnev/anaconda3/envs/sna_link_prediction/lib/python3.9/site-packages/torch_geometric/data/in_memory_dataset.py:284: UserWarning: It is not recommended to directly access the internal storage format `data` of an 'InMemoryDataset'. The given 'InMemoryDataset' only references a subset of examples of the full dataset, but 'data' will contain information of the full dataset. If you are absolutely certain what you are doing, access the internal storage via `InMemoryDataset._data` instead to suppress this warning. Alternatively, you can access stacked individual attributes of every graph via `dataset.{attr_name}`.\n",
      "  warnings.warn(msg)\n"
     ]
    },
    {
     "data": {
      "text/plain": [
       "tensor([[5, 0, 4,  ..., 2, 0, 0],\n",
       "        [5, 0, 4,  ..., 2, 0, 0],\n",
       "        [5, 0, 3,  ..., 1, 0, 1],\n",
       "        ...,\n",
       "        [6, 0, 2,  ..., 1, 1, 1],\n",
       "        [7, 0, 2,  ..., 1, 1, 1],\n",
       "        [5, 0, 3,  ..., 1, 1, 1]])"
      ]
     },
     "execution_count": 22,
     "metadata": {},
     "output_type": "execute_result"
    }
   ],
   "source": []
  },
  {
   "cell_type": "code",
   "execution_count": null,
   "metadata": {},
   "outputs": [],
   "source": []
  }
 ],
 "metadata": {
  "kernelspec": {
   "display_name": "sna_link_prediction",
   "language": "python",
   "name": "python3"
  },
  "language_info": {
   "codemirror_mode": {
    "name": "ipython",
    "version": 3
   },
   "file_extension": ".py",
   "mimetype": "text/x-python",
   "name": "python",
   "nbconvert_exporter": "python",
   "pygments_lexer": "ipython3",
   "version": "3.9.18"
  }
 },
 "nbformat": 4,
 "nbformat_minor": 2
}
