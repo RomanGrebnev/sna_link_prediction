{
 "cells": [
  {
   "cell_type": "markdown",
   "metadata": {},
   "source": [
    "# Graph construction"
   ]
  },
  {
   "cell_type": "markdown",
   "metadata": {},
   "source": [
    "## Graph types:\n",
    "### user-user reply-to graph\n",
    "- User is linked to user through posts user left as reply to posts of other users\n",
    "- Link prediction: Predict the link between 2 users if they both replied to the same post\n",
    "### user-article post-to-article graph\n",
    "- User is linked to article if user left a post for the article\n",
    "- Link prediction: Predict the link between user and article if user left a post for the article\n",
    "### user-article vote-for-article graph (obtained through posts) -> used \n",
    "- User is linked to article if user left a vote for a post of the article\n",
    "- Link prediction: Predict the link between user and article if user left a vote for a post of the article\n",
    "### user-article post-or-vote graph\n",
    "- User is linked to the article if user left a post or a vote for the article\n",
    "- Link prediction: Predict the link between user and article if user left a post or a vote for the article\n",
    "### user-user onemode projection from user-article post-or-vote to users\n",
    "- User is linked to user if they both posted or voted on the same article\n",
    "- Link prediction: Predict the link between 2 users if they both posted or voted on the same article\n",
    "### article-article onemode projection from user-article post-or-vote to articles -> used \n",
    "- Article is linked to article if 2 articles were posted or voted by the same user"
   ]
  },
  {
   "cell_type": "code",
   "execution_count": 46,
   "metadata": {},
   "outputs": [
    {
     "name": "stdout",
     "output_type": "stream",
     "text": [
      "c:\\Users\\gdela\\OneDrive\\Documents\\AA_Cours\\TUW_3S\\194.050 Social Network Analysis\\sna_link_prediction\\notebooks\n"
     ]
    }
   ],
   "source": [
    "import numpy as np\n",
    "import networkx as nx\n",
    "import pandas as pd\n",
    "import matplotlib.pyplot as plt\n",
    "import os\n",
    "print(os.getcwd())"
   ]
  },
  {
   "cell_type": "markdown",
   "metadata": {},
   "source": [
    "## Data imports\n",
    "\n",
    "The data set is provided by Der Standard, one of the top Austrian newspapers.\n",
    "In the online Standard people can post comments below articles and up/down vote comments.\n",
    "The data set used in this handson and further in the project part of the course will consider a sample of those articles, comments, and votes. "
   ]
  },
  {
   "cell_type": "code",
   "execution_count": 47,
   "metadata": {},
   "outputs": [],
   "source": [
    "postings_1 = pd.read_csv(\"../data/Postings_01052019_15052019.csv\", sep = ';')\n",
    "postings_2 = pd.read_csv(\"../data/Postings_16052019_31052019.csv\", sep = ';')\n",
    "votes_1 = pd.read_csv(\"../data/Votes_01052019_15052019.csv\", sep = ';')\n",
    "votes_2 = pd.read_csv(\"../data/Votes_16052019_31052019.csv\", sep = ';')\n",
    "\n",
    "postings = pd.concat([postings_1, postings_2])\n",
    "votes = pd.concat([votes_1, votes_2])"
   ]
  },
  {
   "cell_type": "code",
   "execution_count": 48,
   "metadata": {},
   "outputs": [
    {
     "data": {
      "text/plain": [
       "(739094, 14)"
      ]
     },
     "execution_count": 48,
     "metadata": {},
     "output_type": "execute_result"
    }
   ],
   "source": [
    "postings.shape"
   ]
  },
  {
   "cell_type": "code",
   "execution_count": 49,
   "metadata": {},
   "outputs": [
    {
     "data": {
      "text/plain": [
       "(3824984, 8)"
      ]
     },
     "execution_count": 49,
     "metadata": {},
     "output_type": "execute_result"
    }
   ],
   "source": [
    "votes.shape"
   ]
  },
  {
   "cell_type": "markdown",
   "metadata": {},
   "source": [
    "# User-article post-to-article graph"
   ]
  },
  {
   "cell_type": "code",
   "execution_count": 50,
   "metadata": {},
   "outputs": [],
   "source": [
    "post_article = postings.groupby(by = ['ID_CommunityIdentity', 'ID_Article']).agg({\"ArticlePublishingDate\": \"min\"})"
   ]
  },
  {
   "cell_type": "code",
   "execution_count": 51,
   "metadata": {},
   "outputs": [],
   "source": [
    "post_article = post_article.reset_index()"
   ]
  },
  {
   "cell_type": "code",
   "execution_count": 52,
   "metadata": {},
   "outputs": [],
   "source": [
    "edge_list = []\n",
    "for row in post_article.itertuples():\n",
    "    edge_list.append((row.ID_CommunityIdentity, row.ID_Article))\n"
   ]
  },
  {
   "cell_type": "code",
   "execution_count": 53,
   "metadata": {},
   "outputs": [],
   "source": [
    "g_user_posting_article = nx.Graph()\n",
    "g_user_posting_article.add_nodes_from(np.unique(post_article[\"ID_CommunityIdentity\"]).tolist(), bipartite=0)\n",
    "g_user_posting_article.add_nodes_from(np.unique(post_article[\"ID_Article\"]).tolist(), bipartite=1)\n",
    "g_user_posting_article.add_edges_from(edge_list)"
   ]
  },
  {
   "cell_type": "code",
   "execution_count": 54,
   "metadata": {},
   "outputs": [
    {
     "data": {
      "text/plain": [
       "23925"
      ]
     },
     "execution_count": 54,
     "metadata": {},
     "output_type": "execute_result"
    }
   ],
   "source": [
    "len(np.unique(post_article[\"ID_CommunityIdentity\"]).tolist())"
   ]
  },
  {
   "cell_type": "code",
   "execution_count": 55,
   "metadata": {},
   "outputs": [
    {
     "data": {
      "text/plain": [
       "4351"
      ]
     },
     "execution_count": 55,
     "metadata": {},
     "output_type": "execute_result"
    }
   ],
   "source": [
    "len(np.unique(post_article[\"ID_Article\"]).tolist())\n"
   ]
  },
  {
   "cell_type": "markdown",
   "metadata": {},
   "source": [
    "# User-article voting graph\n",
    "User is linked to article if user left a post for the article"
   ]
  },
  {
   "cell_type": "code",
   "execution_count": 56,
   "metadata": {},
   "outputs": [
    {
     "data": {
      "text/html": [
       "<div>\n",
       "<style scoped>\n",
       "    .dataframe tbody tr th:only-of-type {\n",
       "        vertical-align: middle;\n",
       "    }\n",
       "\n",
       "    .dataframe tbody tr th {\n",
       "        vertical-align: top;\n",
       "    }\n",
       "\n",
       "    .dataframe thead th {\n",
       "        text-align: right;\n",
       "    }\n",
       "</style>\n",
       "<table border=\"1\" class=\"dataframe\">\n",
       "  <thead>\n",
       "    <tr style=\"text-align: right;\">\n",
       "      <th></th>\n",
       "      <th>ID_CommunityIdentity</th>\n",
       "      <th>ID_Posting</th>\n",
       "    </tr>\n",
       "  </thead>\n",
       "  <tbody>\n",
       "    <tr>\n",
       "      <th>0</th>\n",
       "      <td>675862</td>\n",
       "      <td>1041076570</td>\n",
       "    </tr>\n",
       "    <tr>\n",
       "      <th>1</th>\n",
       "      <td>689023</td>\n",
       "      <td>1041076570</td>\n",
       "    </tr>\n",
       "    <tr>\n",
       "      <th>2</th>\n",
       "      <td>24810</td>\n",
       "      <td>1041076745</td>\n",
       "    </tr>\n",
       "    <tr>\n",
       "      <th>3</th>\n",
       "      <td>673781</td>\n",
       "      <td>1041076745</td>\n",
       "    </tr>\n",
       "    <tr>\n",
       "      <th>4</th>\n",
       "      <td>24810</td>\n",
       "      <td>1041076831</td>\n",
       "    </tr>\n",
       "    <tr>\n",
       "      <th>...</th>\n",
       "      <td>...</td>\n",
       "      <td>...</td>\n",
       "    </tr>\n",
       "    <tr>\n",
       "      <th>2254242</th>\n",
       "      <td>553628</td>\n",
       "      <td>1042362731</td>\n",
       "    </tr>\n",
       "    <tr>\n",
       "      <th>2254243</th>\n",
       "      <td>553628</td>\n",
       "      <td>1042362772</td>\n",
       "    </tr>\n",
       "    <tr>\n",
       "      <th>2254244</th>\n",
       "      <td>553628</td>\n",
       "      <td>1042363572</td>\n",
       "    </tr>\n",
       "    <tr>\n",
       "      <th>2254245</th>\n",
       "      <td>503247</td>\n",
       "      <td>1042366280</td>\n",
       "    </tr>\n",
       "    <tr>\n",
       "      <th>2254246</th>\n",
       "      <td>553628</td>\n",
       "      <td>1042368779</td>\n",
       "    </tr>\n",
       "  </tbody>\n",
       "</table>\n",
       "<p>3824984 rows × 2 columns</p>\n",
       "</div>"
      ],
      "text/plain": [
       "         ID_CommunityIdentity  ID_Posting\n",
       "0                      675862  1041076570\n",
       "1                      689023  1041076570\n",
       "2                       24810  1041076745\n",
       "3                      673781  1041076745\n",
       "4                       24810  1041076831\n",
       "...                       ...         ...\n",
       "2254242                553628  1042362731\n",
       "2254243                553628  1042362772\n",
       "2254244                553628  1042363572\n",
       "2254245                503247  1042366280\n",
       "2254246                553628  1042368779\n",
       "\n",
       "[3824984 rows x 2 columns]"
      ]
     },
     "execution_count": 56,
     "metadata": {},
     "output_type": "execute_result"
    }
   ],
   "source": [
    "votes[['ID_CommunityIdentity', 'ID_Posting']]"
   ]
  },
  {
   "cell_type": "code",
   "execution_count": 57,
   "metadata": {},
   "outputs": [],
   "source": [
    "votes_trunc = votes[['ID_CommunityIdentity', 'ID_Posting']]\n",
    "postings_trunc = postings.groupby(by = ['ID_Posting', 'ID_Article']).agg({\"ArticlePublishingDate\": \"min\"}).reset_index().drop(columns = ['ArticlePublishingDate'])"
   ]
  },
  {
   "cell_type": "code",
   "execution_count": 58,
   "metadata": {},
   "outputs": [],
   "source": [
    "vote_user_article = votes_trunc.merge(postings_trunc, left_on = ['ID_Posting'], right_on = ['ID_Posting'])"
   ]
  },
  {
   "cell_type": "code",
   "execution_count": 59,
   "metadata": {},
   "outputs": [],
   "source": [
    "vote_article = vote_user_article.groupby(by = ['ID_CommunityIdentity', 'ID_Article']).agg({\"ID_Posting\": \"count\"}).reset_index().drop(columns = ['ID_Posting'])"
   ]
  },
  {
   "cell_type": "markdown",
   "metadata": {},
   "source": [
    "# User-article post-or-vote graph\n",
    "User is linked to the article if user left a post or a vote for the article"
   ]
  },
  {
   "cell_type": "code",
   "execution_count": 60,
   "metadata": {},
   "outputs": [],
   "source": [
    "user_article_interaction = pd.concat([post_article, vote_article]).drop(columns=['ArticlePublishingDate'])"
   ]
  },
  {
   "cell_type": "markdown",
   "metadata": {},
   "source": [
    "### Distribution of number of articles, which users reacted to (both with postings and votes)"
   ]
  },
  {
   "cell_type": "code",
   "execution_count": 61,
   "metadata": {},
   "outputs": [
    {
     "data": {
      "text/plain": [
       "(array([1.8988e+04, 4.2320e+03, 2.3930e+03, 1.5820e+03, 1.1400e+03,\n",
       "        9.3900e+02, 7.3500e+02, 5.9900e+02, 4.3700e+02, 3.4900e+02,\n",
       "        3.0900e+02, 2.7700e+02, 2.4200e+02, 1.7600e+02, 1.6300e+02,\n",
       "        1.4400e+02, 1.4200e+02, 9.7000e+01, 7.5000e+01, 9.2000e+01,\n",
       "        6.4000e+01, 5.8000e+01, 5.4000e+01, 5.3000e+01, 4.5000e+01,\n",
       "        4.2000e+01, 3.4000e+01, 2.3000e+01, 3.1000e+01, 1.9000e+01,\n",
       "        1.9000e+01, 1.9000e+01, 1.5000e+01, 1.2000e+01, 9.0000e+00,\n",
       "        1.5000e+01, 5.0000e+00, 7.0000e+00, 1.2000e+01, 6.0000e+00,\n",
       "        4.0000e+00, 3.0000e+00, 4.0000e+00, 4.0000e+00, 7.0000e+00,\n",
       "        2.0000e+00, 2.0000e+00, 1.0000e+00, 2.0000e+00, 2.0000e+00,\n",
       "        1.0000e+00, 0.0000e+00, 1.0000e+00, 1.0000e+00, 2.0000e+00,\n",
       "        0.0000e+00, 4.0000e+00, 1.0000e+00, 0.0000e+00, 0.0000e+00,\n",
       "        0.0000e+00, 0.0000e+00, 0.0000e+00, 1.0000e+00, 0.0000e+00,\n",
       "        2.0000e+00, 1.0000e+00, 0.0000e+00, 0.0000e+00, 0.0000e+00,\n",
       "        2.0000e+00, 1.0000e+00, 0.0000e+00, 0.0000e+00, 0.0000e+00,\n",
       "        0.0000e+00, 1.0000e+00, 0.0000e+00, 0.0000e+00, 0.0000e+00,\n",
       "        0.0000e+00, 0.0000e+00, 0.0000e+00, 0.0000e+00, 0.0000e+00,\n",
       "        0.0000e+00, 0.0000e+00, 0.0000e+00, 0.0000e+00, 0.0000e+00,\n",
       "        0.0000e+00, 0.0000e+00, 0.0000e+00, 0.0000e+00, 0.0000e+00,\n",
       "        0.0000e+00, 0.0000e+00, 0.0000e+00, 0.0000e+00, 1.0000e+00]),\n",
       " array([1.00000e+00, 1.28900e+01, 2.47800e+01, 3.66700e+01, 4.85600e+01,\n",
       "        6.04500e+01, 7.23400e+01, 8.42300e+01, 9.61200e+01, 1.08010e+02,\n",
       "        1.19900e+02, 1.31790e+02, 1.43680e+02, 1.55570e+02, 1.67460e+02,\n",
       "        1.79350e+02, 1.91240e+02, 2.03130e+02, 2.15020e+02, 2.26910e+02,\n",
       "        2.38800e+02, 2.50690e+02, 2.62580e+02, 2.74470e+02, 2.86360e+02,\n",
       "        2.98250e+02, 3.10140e+02, 3.22030e+02, 3.33920e+02, 3.45810e+02,\n",
       "        3.57700e+02, 3.69590e+02, 3.81480e+02, 3.93370e+02, 4.05260e+02,\n",
       "        4.17150e+02, 4.29040e+02, 4.40930e+02, 4.52820e+02, 4.64710e+02,\n",
       "        4.76600e+02, 4.88490e+02, 5.00380e+02, 5.12270e+02, 5.24160e+02,\n",
       "        5.36050e+02, 5.47940e+02, 5.59830e+02, 5.71720e+02, 5.83610e+02,\n",
       "        5.95500e+02, 6.07390e+02, 6.19280e+02, 6.31170e+02, 6.43060e+02,\n",
       "        6.54950e+02, 6.66840e+02, 6.78730e+02, 6.90620e+02, 7.02510e+02,\n",
       "        7.14400e+02, 7.26290e+02, 7.38180e+02, 7.50070e+02, 7.61960e+02,\n",
       "        7.73850e+02, 7.85740e+02, 7.97630e+02, 8.09520e+02, 8.21410e+02,\n",
       "        8.33300e+02, 8.45190e+02, 8.57080e+02, 8.68970e+02, 8.80860e+02,\n",
       "        8.92750e+02, 9.04640e+02, 9.16530e+02, 9.28420e+02, 9.40310e+02,\n",
       "        9.52200e+02, 9.64090e+02, 9.75980e+02, 9.87870e+02, 9.99760e+02,\n",
       "        1.01165e+03, 1.02354e+03, 1.03543e+03, 1.04732e+03, 1.05921e+03,\n",
       "        1.07110e+03, 1.08299e+03, 1.09488e+03, 1.10677e+03, 1.11866e+03,\n",
       "        1.13055e+03, 1.14244e+03, 1.15433e+03, 1.16622e+03, 1.17811e+03,\n",
       "        1.19000e+03]),\n",
       " <BarContainer object of 100 artists>)"
      ]
     },
     "execution_count": 61,
     "metadata": {},
     "output_type": "execute_result"
    },
    {
     "data": {
      "image/png": "[encoded data removed]",
      "text/plain": [
       "<Figure size 640x480 with 1 Axes>"
      ]
     },
     "metadata": {},
     "output_type": "display_data"
    }
   ],
   "source": [
    "articles_per_user = user_article_interaction.groupby(by = ['ID_CommunityIdentity']).agg({\"ID_Article\": \"count\"}).reset_index()\n",
    "# create histogram of articles per user\n",
    "plt.hist(articles_per_user['ID_Article'], bins = 100)"
   ]
  },
  {
   "cell_type": "code",
   "execution_count": 62,
   "metadata": {},
   "outputs": [
    {
     "name": "stdout",
     "output_type": "stream",
     "text": [
      "Number of users:  33703\n",
      "Total number of edges:  1091932\n"
     ]
    }
   ],
   "source": [
    "print(\"Number of users: \", len(articles_per_user[\"ID_Article\"]))\n",
    "print(\"Total number of edges: \", np.sum(articles_per_user[\"ID_Article\"]))"
   ]
  },
  {
   "cell_type": "code",
   "execution_count": 63,
   "metadata": {},
   "outputs": [
    {
     "data": {
      "text/plain": [
       "(array([5584.,    0., 3441.,    0., 2029.,    0., 1562.,    0., 1156.,\n",
       "           0., 1030.,    0.,  902.,    0.,  812.,    0.,  713.,    0.,\n",
       "         648.,    0.,  571.,    0.,  540.,    0.,  483.,    0.,  431.,\n",
       "           0.,  381.,    0.,  398.,    0.,  392.,    0.,  369.,    0.,\n",
       "         340.,    0.,  344.,    0.,  278.,    0.,  280.,    0.,  279.,\n",
       "           0.,  257.,    0.,  254.,    0.,    0.,  222.,    0.,  261.,\n",
       "           0.,  207.,    0.,  222.,    0.,  203.,    0.,  188.,    0.,\n",
       "         175.,    0.,  168.,    0.,  159.,    0.,  169.,    0.,  165.,\n",
       "           0.,  159.,    0.,  155.,    0.,  145.,    0.,  137.,    0.,\n",
       "         137.,    0.,  139.,    0.,  115.,    0.,  143.,    0.,  128.,\n",
       "           0.,  107.,    0.,  122.,    0.,   95.,    0.,  113.,    0.,\n",
       "         122.]),\n",
       " array([ 1.  ,  1.49,  1.98,  2.47,  2.96,  3.45,  3.94,  4.43,  4.92,\n",
       "         5.41,  5.9 ,  6.39,  6.88,  7.37,  7.86,  8.35,  8.84,  9.33,\n",
       "         9.82, 10.31, 10.8 , 11.29, 11.78, 12.27, 12.76, 13.25, 13.74,\n",
       "        14.23, 14.72, 15.21, 15.7 , 16.19, 16.68, 17.17, 17.66, 18.15,\n",
       "        18.64, 19.13, 19.62, 20.11, 20.6 , 21.09, 21.58, 22.07, 22.56,\n",
       "        23.05, 23.54, 24.03, 24.52, 25.01, 25.5 , 25.99, 26.48, 26.97,\n",
       "        27.46, 27.95, 28.44, 28.93, 29.42, 29.91, 30.4 , 30.89, 31.38,\n",
       "        31.87, 32.36, 32.85, 33.34, 33.83, 34.32, 34.81, 35.3 , 35.79,\n",
       "        36.28, 36.77, 37.26, 37.75, 38.24, 38.73, 39.22, 39.71, 40.2 ,\n",
       "        40.69, 41.18, 41.67, 42.16, 42.65, 43.14, 43.63, 44.12, 44.61,\n",
       "        45.1 , 45.59, 46.08, 46.57, 47.06, 47.55, 48.04, 48.53, 49.02,\n",
       "        49.51, 50.  ]),\n",
       " <BarContainer object of 100 artists>)"
      ]
     },
     "execution_count": 63,
     "metadata": {},
     "output_type": "execute_result"
    },
    {
     "data": {
      "image/png": "[encoded data removed]",
      "text/plain": [
       "<Figure size 640x480 with 1 Axes>"
      ]
     },
     "metadata": {},
     "output_type": "display_data"
    }
   ],
   "source": [
    "articles_per_user = user_article_interaction.groupby(by = ['ID_CommunityIdentity']).agg({\"ID_Article\": \"count\"}).reset_index()\n",
    "# create histogram of articles per user\n",
    "plt.hist(articles_per_user[articles_per_user['ID_Article'] <= 50][\"ID_Article\"], bins = 100)"
   ]
  },
  {
   "cell_type": "code",
   "execution_count": 64,
   "metadata": {},
   "outputs": [
    {
     "name": "stdout",
     "output_type": "stream",
     "text": [
      "Number of users with less than 50 articles:  22126\n",
      "Total number of edges for users with less than 50 articles:  126271\n"
     ]
    }
   ],
   "source": [
    "print(\"Number of users with less than 50 articles: \", len(articles_per_user[articles_per_user['ID_Article'] <= 20][\"ID_Article\"]))\n",
    "print(\"Total number of edges for users with less than 50 articles: \", np.sum(articles_per_user[articles_per_user['ID_Article'] <= 20][\"ID_Article\"]))"
   ]
  },
  {
   "cell_type": "code",
   "execution_count": 65,
   "metadata": {},
   "outputs": [],
   "source": [
    "user_article_interaction[\"user_id\"] = \"u-\" + user_article_interaction[\"ID_CommunityIdentity\"].astype(str)\n",
    "user_article_interaction[\"article_id\"] = \"a-\" + user_article_interaction[\"ID_Article\"].astype(str)"
   ]
  },
  {
   "cell_type": "code",
   "execution_count": 66,
   "metadata": {},
   "outputs": [],
   "source": [
    "edge_list_user_article_interaction = []\n",
    "for row in user_article_interaction.itertuples():\n",
    "    edge_list_user_article_interaction.append((row.user_id, row.article_id))\n",
    "\n",
    "users_init = np.unique(user_article_interaction['user_id']).tolist()\n",
    "articles_init = np.unique(user_article_interaction['article_id']).tolist()"
   ]
  },
  {
   "cell_type": "code",
   "execution_count": 67,
   "metadata": {},
   "outputs": [],
   "source": [
    "g_user_article_interaction = nx.Graph()\n",
    "g_user_article_interaction.add_nodes_from(users_init, bipartite=\"users\")\n",
    "g_user_article_interaction.add_nodes_from(articles_init, bipartite=\"articles\")\n",
    "g_user_article_interaction.add_edges_from(edge_list_user_article_interaction)"
   ]
  },
  {
   "cell_type": "code",
   "execution_count": 68,
   "metadata": {},
   "outputs": [],
   "source": [
    "users = [n for n in g_user_article_interaction.nodes() if g_user_article_interaction.nodes[n]['bipartite'] == 'users']\n",
    "articles = [n for n in g_user_article_interaction.nodes() if g_user_article_interaction.nodes[n]['bipartite'] == 'articles']"
   ]
  },
  {
   "cell_type": "code",
   "execution_count": 69,
   "metadata": {},
   "outputs": [
    {
     "name": "stdout",
     "output_type": "stream",
     "text": [
      "Number of edges:  895196\n",
      "Number of nodes:  38054\n",
      "Number of users:  33703\n",
      "Number of articles:  4351\n",
      "Number of connected components:  11\n",
      "Average degree:  26.561315016467375\n"
     ]
    }
   ],
   "source": [
    "print(\"Number of edges: \", g_user_article_interaction.number_of_edges())\n",
    "print(\"Number of nodes: \", g_user_article_interaction.number_of_nodes())    \n",
    "print(\"Number of users: \", len(users))\n",
    "print(\"Number of articles: \", len(articles))\n",
    "print(\"Number of connected components: \", nx.number_connected_components(g_user_article_interaction))\n",
    "print(\"Average degree: \", np.mean([g_user_article_interaction.degree(n) for n in users]))"
   ]
  },
  {
   "cell_type": "code",
   "execution_count": 70,
   "metadata": {},
   "outputs": [],
   "source": [
    "# save graph\n",
    "nx.write_graphml(g_user_article_interaction, \"../data/graphs/g_user_article_interaction.graphml\")"
   ]
  },
  {
   "cell_type": "markdown",
   "metadata": {},
   "source": [
    "# Calculate biadjacency matrix for user-article post-or-vote graph"
   ]
  },
  {
   "cell_type": "code",
   "execution_count": 71,
   "metadata": {},
   "outputs": [
    {
     "data": {
      "text/plain": [
       "<33703x4351 sparse array of type '<class 'numpy.intc'>'\n",
       "\twith 895196 stored elements in Compressed Sparse Row format>"
      ]
     },
     "execution_count": 71,
     "metadata": {},
     "output_type": "execute_result"
    }
   ],
   "source": [
    "from networkx import bipartite\n",
    "adjacency_matrix = bipartite.biadjacency_matrix(g_user_article_interaction, row_order=users, column_order=articles)\n",
    "adjacency_matrix"
   ]
  },
  {
   "cell_type": "markdown",
   "metadata": {},
   "source": [
    "# User-User one-mode projection from user-article post-or-vote to users -> used\n",
    "User is linked to user if they both posted or voted on the same article. Weight of the edge is the number of articles, which both users reacted to."
   ]
  },
  {
   "cell_type": "code",
   "execution_count": 72,
   "metadata": {},
   "outputs": [],
   "source": [
    "user_user_projection_matmul = adjacency_matrix @ adjacency_matrix.T"
   ]
  },
  {
   "cell_type": "markdown",
   "metadata": {},
   "source": [
    "A slower way to calculate the projection:"
   ]
  },
  {
   "cell_type": "code",
   "execution_count": 73,
   "metadata": {},
   "outputs": [],
   "source": [
    "# from networkx.algorithms import bipartite\n",
    "# user_user_projection = bipartite.weighted_projected_graph(g_user_article_interaction, users)"
   ]
  },
  {
   "cell_type": "code",
   "execution_count": 74,
   "metadata": {},
   "outputs": [
    {
     "data": {
      "text/plain": [
       "<33703x33703 sparse array of type '<class 'numpy.intc'>'\n",
       "\twith 272508835 stored elements in Compressed Sparse Row format>"
      ]
     },
     "execution_count": 74,
     "metadata": {},
     "output_type": "execute_result"
    }
   ],
   "source": [
    "user_user_projection_matmul"
   ]
  },
  {
   "cell_type": "code",
   "execution_count": 75,
   "metadata": {},
   "outputs": [
    {
     "data": {
      "text/plain": [
       "(33703, 33703)"
      ]
     },
     "execution_count": 75,
     "metadata": {},
     "output_type": "execute_result"
    }
   ],
   "source": [
    "user_user_projection_matmul.shape"
   ]
  },
  {
   "cell_type": "code",
   "execution_count": 76,
   "metadata": {},
   "outputs": [
    {
     "data": {
      "text/plain": [
       "array([230,   1,   1, ...,   1,   8,   5], dtype=int32)"
      ]
     },
     "execution_count": 76,
     "metadata": {},
     "output_type": "execute_result"
    }
   ],
   "source": [
    "user_user_projection_matmul[[0]].toarray()[0]"
   ]
  },
  {
   "cell_type": "code",
   "execution_count": 83,
   "metadata": {},
   "outputs": [],
   "source": [
    "# save user_user_projection_matmul as scipy.sparse._csr.csr_array\n",
    "from scipy import sparse\n",
    "sparse.save_npz(\"../data/graphs/user_user_projection_matmul.npz\", user_user_projection_matmul)"
   ]
  },
  {
   "cell_type": "markdown",
   "metadata": {},
   "source": [
    "# Article-article one-mode projection from user-article post-or-vote to articles\n",
    "Article is linked to article if 2 articles were posted or voted by the same user. Weight of the edge is the number of users, who posted or voted for both articles."
   ]
  },
  {
   "cell_type": "code",
   "execution_count": 84,
   "metadata": {},
   "outputs": [],
   "source": [
    "article_article_projection_matmul = adjacency_matrix.T @ adjacency_matrix"
   ]
  },
  {
   "cell_type": "code",
   "execution_count": 85,
   "metadata": {},
   "outputs": [
    {
     "data": {
      "text/plain": [
       "<4351x4351 sparse array of type '<class 'numpy.intc'>'\n",
       "\twith 9416325 stored elements in Compressed Sparse Column format>"
      ]
     },
     "execution_count": 85,
     "metadata": {},
     "output_type": "execute_result"
    }
   ],
   "source": [
    "article_article_projection_matmul"
   ]
  },
  {
   "cell_type": "code",
   "execution_count": 86,
   "metadata": {},
   "outputs": [
    {
     "data": {
      "text/plain": [
       "<4351x4351 sparse array of type '<class 'numpy.intc'>'\n",
       "\twith 9416325 stored elements in Compressed Sparse Column format>"
      ]
     },
     "execution_count": 86,
     "metadata": {},
     "output_type": "execute_result"
    }
   ],
   "source": [
    "article_article_projection_matmul"
   ]
  },
  {
   "cell_type": "code",
   "execution_count": 87,
   "metadata": {},
   "outputs": [
    {
     "data": {
      "text/plain": [
       "array([1, 0, 0, ..., 0, 0, 0], dtype=int32)"
      ]
     },
     "execution_count": 87,
     "metadata": {},
     "output_type": "execute_result"
    }
   ],
   "source": [
    "article_article_projection_matmul[[0]].toarray()[0]"
   ]
  }
 ],
 "metadata": {
  "kernelspec": {
   "display_name": "Python 3",
   "language": "python",
   "name": "python3"
  },
  "language_info": {
   "codemirror_mode": {
    "name": "ipython",
    "version": 3
   },
   "file_extension": ".py",
   "mimetype": "text/x-python",
   "name": "python",
   "nbconvert_exporter": "python",
   "pygments_lexer": "ipython3",
   "version": "3.9.18"
  }
 },
 "nbformat": 4,
 "nbformat_minor": 2
}
