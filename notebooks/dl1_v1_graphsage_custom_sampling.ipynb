{
 "cells": [
  {
   "cell_type": "markdown",
   "metadata": {},
   "source": [
    "## Import libraries"
   ]
  },
  {
   "cell_type": "code",
   "execution_count": 1,
   "metadata": {},
   "outputs": [],
   "source": [
    "import numpy as np\n",
    "import networkx as nx\n",
    "import pandas as pd\n",
    "import matplotlib.pyplot as plt\n",
    "\n",
    "from tqdm import tqdm\n",
    "import random\n",
    "from typing import Dict\n",
    "\n",
    "from torch import nn, optim, Tensor, torch\n",
    "from torch_geometric.utils.num_nodes import maybe_num_nodes\n",
    "\n",
    "import torch\n",
    "import torch.nn as nn\n",
    "import torch.nn.functional as F\n",
    "import torch_geometric as pyg\n",
    "from torch_geometric.loader import DataLoader\n",
    "from torch_geometric.utils import negative_sampling\n",
    "from ogb.linkproppred import PygLinkPropPredDataset, Evaluator \n",
    "from torch_geometric.transforms import RandomLinkSplit, RandomNodeSplit\n",
    "\n",
    "import subprocess as sp\n",
    "import os\n",
    "\n",
    "from graphsage.graphsage import GNNStack, LinkPredictor, train, test\n",
    "from data_loaders.data_loader_graphsage import UserUserDatasetGraphSAGE"
   ]
  },
  {
   "cell_type": "code",
   "execution_count": 2,
   "metadata": {},
   "outputs": [
    {
     "data": {
      "text/plain": [
       "'2.1.1+cu118'"
      ]
     },
     "execution_count": 2,
     "metadata": {},
     "output_type": "execute_result"
    }
   ],
   "source": [
    "torch.__version__"
   ]
  },
  {
   "cell_type": "code",
   "execution_count": 3,
   "metadata": {},
   "outputs": [
    {
     "data": {
      "text/plain": [
       "device(type='cuda')"
      ]
     },
     "execution_count": 3,
     "metadata": {},
     "output_type": "execute_result"
    }
   ],
   "source": [
    "torch.device('cuda')"
   ]
  },
  {
   "cell_type": "code",
   "execution_count": 4,
   "metadata": {},
   "outputs": [
    {
     "name": "stdout",
     "output_type": "stream",
     "text": [
      "True\n"
     ]
    }
   ],
   "source": [
    "print(torch.cuda.is_available()) "
   ]
  },
  {
   "cell_type": "markdown",
   "metadata": {},
   "source": [
    "## Import data"
   ]
  },
  {
   "cell_type": "code",
   "execution_count": 5,
   "metadata": {},
   "outputs": [],
   "source": [
    "postings_1 = pd.read_csv(\"../data/Postings_01052019_15052019.csv\", sep = ';')\n",
    "postings_2 = pd.read_csv(\"../data/Postings_16052019_31052019.csv\", sep = ';')\n",
    "votes_1 = pd.read_csv(\"../data/Votes_01052019_15052019.csv\", sep = ';')\n",
    "votes_2 = pd.read_csv(\"../data/Votes_16052019_31052019.csv\", sep = ';')\n",
    "postings = pd.concat([postings_1, postings_2])\n",
    "votes = pd.concat([votes_1, votes_2])\n",
    "\n",
    "datasets_dict = {\n",
    "    \"postings\": postings,\n",
    "    \"votes\": votes\n",
    "}"
   ]
  },
  {
   "cell_type": "markdown",
   "metadata": {},
   "source": [
    "# Create UserUser dataset for GraphSAGE model"
   ]
  },
  {
   "cell_type": "code",
   "execution_count": 7,
   "metadata": {},
   "outputs": [],
   "source": [
    "from data_loaders.data_loader_graphsage import UserUserDatasetGraphSAGE\n",
    "from graphsage.graphsage import GNNStack, LinkPredictor, train, test\n",
    "from ogb.linkproppred import Evaluator\n",
    "import subprocess as sp "
   ]
  },
  {
   "cell_type": "code",
   "execution_count": 8,
   "metadata": {},
   "outputs": [
    {
     "name": "stdout",
     "output_type": "stream",
     "text": [
      "User-article interaction dataframe created with 895196 rows\n",
      "User-article interaction dataframe subsampled to 447598 rows\n",
      "Graph created with 33557 nodes and 447598 edges\n"
     ]
    }
   ],
   "source": [
    "uu_dataset_graphsage = UserUserDatasetGraphSAGE(datasets_dict = datasets_dict, verbose = True)"
   ]
  },
  {
   "cell_type": "code",
   "execution_count": 9,
   "metadata": {},
   "outputs": [
    {
     "name": "stdout",
     "output_type": "stream",
     "text": [
      "29332 4225\n"
     ]
    },
    {
     "name": "stderr",
     "output_type": "stream",
     "text": [
      "/home/rgrebnev/Documents/ws_2023/sna/sna_link_prediction/notebooks/data_loaders/data_loader_graphsage.py:179: UserWarning: To copy construct from a tensor, it is recommended to use sourceTensor.clone().detach() or sourceTensor.clone().detach().requires_grad_(True), rather than torch.tensor(sourceTensor).\n",
      "  [edge_index[0], torch.tensor(unique_nodes[rand]).to(edge_index.device)],\n"
     ]
    },
    {
     "name": "stdout",
     "output_type": "stream",
     "text": [
      "Train edges:  torch.Size([2, 358078])\n",
      "Valid positive edges:  torch.Size([2, 44760])\n",
      "Valid negative edges:  torch.Size([2, 44760])\n",
      "Test positive edges:  torch.Size([2, 44760])\n",
      "Test negative edges:  torch.Size([2, 44760])\n"
     ]
    }
   ],
   "source": [
    "split_edge = uu_dataset_graphsage.create_train_test_split(uu_dataset_graphsage.graph.edge_index.t())"
   ]
  },
  {
   "cell_type": "markdown",
   "metadata": {},
   "source": [
    "# Run training loop"
   ]
  },
  {
   "cell_type": "code",
   "execution_count": 16,
   "metadata": {},
   "outputs": [
    {
     "data": {
      "text/plain": [
       "True"
      ]
     },
     "execution_count": 16,
     "metadata": {},
     "output_type": "execute_result"
    }
   ],
   "source": [
    "torch.cuda.is_available()"
   ]
  },
  {
   "cell_type": "code",
   "execution_count": 17,
   "metadata": {},
   "outputs": [],
   "source": [
    "device = torch.device('cuda' if torch.cuda.is_available() else 'cpu')\n",
    "optim_wd = 0\n",
    "epochs = 50\n",
    "hidden_dim = 256\n",
    "dropout = 0.3\n",
    "num_layers = 2\n",
    "lr = 5e-4\n",
    "node_emb_dim = 256\n",
    "batch_size = 16*1024"
   ]
  },
  {
   "cell_type": "code",
   "execution_count": 18,
   "metadata": {},
   "outputs": [],
   "source": [
    "pos_train_edge = split_edge['train']['edge'].to(device)\n",
    "num_nodes = len(np.unique(uu_dataset_graphsage.graph.edge_index))\n",
    "emb = torch.nn.Embedding(num_nodes, node_emb_dim).to(device) # each node has an embedding that has to be learnt\n",
    "model = GNNStack(node_emb_dim, hidden_dim, hidden_dim, num_layers, dropout, emb=True).to(device)\n",
    "link_predictor = LinkPredictor(hidden_dim, hidden_dim, 1, num_layers + 1, dropout).to(device)"
   ]
  },
  {
   "cell_type": "code",
   "execution_count": 19,
   "metadata": {},
   "outputs": [],
   "source": [
    "def get_gpu_memory():\n",
    "    command = \"nvidia-smi --query-gpu=memory.free --format=csv\"\n",
    "    memory_free_info = sp.check_output(command.split()).decode('ascii').split('\\n')[:-1][1:]\n",
    "    memory_free_values = [int(x.split()[0]) for i, x in enumerate(memory_free_info)]\n",
    "    return memory_free_values"
   ]
  },
  {
   "cell_type": "code",
   "execution_count": 20,
   "metadata": {},
   "outputs": [
    {
     "data": {
      "text/plain": [
       "[1630]"
      ]
     },
     "execution_count": 20,
     "metadata": {},
     "output_type": "execute_result"
    }
   ],
   "source": [
    "get_gpu_memory()"
   ]
  },
  {
   "cell_type": "code",
   "execution_count": 21,
   "metadata": {},
   "outputs": [
    {
     "name": "stderr",
     "output_type": "stream",
     "text": [
      "  0%|          | 0/50 [00:00<?, ?it/s]/home/rgrebnev/Documents/ws_2023/sna/sna_link_prediction/notebooks/graphsage/graphsage.py:167: UserWarning: To copy construct from a tensor, it is recommended to use sourceTensor.clone().detach() or sourceTensor.clone().detach().requires_grad_(True), rather than torch.tensor(sourceTensor).\n",
      "  pos_train_edge = torch.tensor(pos_train_edge, dtype=torch.long).T\n",
      "/home/rgrebnev/Documents/ws_2023/sna/sna_link_prediction/notebooks/graphsage/graphsage.py:137: UserWarning: To copy construct from a tensor, it is recommended to use sourceTensor.clone().detach() or sourceTensor.clone().detach().requires_grad_(True), rather than torch.tensor(sourceTensor).\n",
      "  [edge_index[0], torch.tensor(unique_nodes[rand]).to(edge_index.device)], dim=0\n",
      "100%|██████████| 22/22 [00:08<00:00,  2.74it/s]\n"
     ]
    },
    {
     "name": "stdout",
     "output_type": "stream",
     "text": [
      "Train loss:  1.3494109186259182\n"
     ]
    },
    {
     "name": "stderr",
     "output_type": "stream",
     "text": [
      "  2%|▏         | 1/50 [00:08<06:58,  8.54s/it]/home/rgrebnev/Documents/ws_2023/sna/sna_link_prediction/notebooks/graphsage/graphsage.py:167: UserWarning: To copy construct from a tensor, it is recommended to use sourceTensor.clone().detach() or sourceTensor.clone().detach().requires_grad_(True), rather than torch.tensor(sourceTensor).\n",
      "  pos_train_edge = torch.tensor(pos_train_edge, dtype=torch.long).T\n",
      "/home/rgrebnev/Documents/ws_2023/sna/sna_link_prediction/notebooks/graphsage/graphsage.py:137: UserWarning: To copy construct from a tensor, it is recommended to use sourceTensor.clone().detach() or sourceTensor.clone().detach().requires_grad_(True), rather than torch.tensor(sourceTensor).\n",
      "  [edge_index[0], torch.tensor(unique_nodes[rand]).to(edge_index.device)], dim=0\n"
     ]
    },
    {
     "name": "stdout",
     "output_type": "stream",
     "text": [
      "Loss val pos:  tensor(0.3830)\n",
      "Loss val neg:  tensor(0.8745)\n",
      "Loss test pos:  tensor(0.3860)\n",
      "Loss test neg:  tensor(0.8758)\n",
      "ROC-AUC val:  0.7603268761465178\n",
      "ROC-AUC test:  0.7582612749079392\n"
     ]
    },
    {
     "name": "stderr",
     "output_type": "stream",
     "text": [
      "100%|██████████| 22/22 [00:07<00:00,  2.83it/s]\n"
     ]
    },
    {
     "name": "stdout",
     "output_type": "stream",
     "text": [
      "Train loss:  1.12886503609744\n"
     ]
    },
    {
     "name": "stderr",
     "output_type": "stream",
     "text": [
      "  4%|▍         | 2/50 [00:16<06:40,  8.34s/it]/home/rgrebnev/Documents/ws_2023/sna/sna_link_prediction/notebooks/graphsage/graphsage.py:167: UserWarning: To copy construct from a tensor, it is recommended to use sourceTensor.clone().detach() or sourceTensor.clone().detach().requires_grad_(True), rather than torch.tensor(sourceTensor).\n",
      "  pos_train_edge = torch.tensor(pos_train_edge, dtype=torch.long).T\n",
      "/home/rgrebnev/Documents/ws_2023/sna/sna_link_prediction/notebooks/graphsage/graphsage.py:137: UserWarning: To copy construct from a tensor, it is recommended to use sourceTensor.clone().detach() or sourceTensor.clone().detach().requires_grad_(True), rather than torch.tensor(sourceTensor).\n",
      "  [edge_index[0], torch.tensor(unique_nodes[rand]).to(edge_index.device)], dim=0\n"
     ]
    },
    {
     "name": "stdout",
     "output_type": "stream",
     "text": [
      "Loss val pos:  tensor(0.3182)\n",
      "Loss val neg:  tensor(0.7571)\n",
      "Loss test pos:  tensor(0.3190)\n",
      "Loss test neg:  tensor(0.7582)\n",
      "ROC-AUC val:  0.8386067668714328\n",
      "ROC-AUC test:  0.8388838792994671\n"
     ]
    },
    {
     "name": "stderr",
     "output_type": "stream",
     "text": [
      "100%|██████████| 22/22 [00:05<00:00,  3.74it/s]\n"
     ]
    },
    {
     "name": "stdout",
     "output_type": "stream",
     "text": [
      "Train loss:  1.0278654152696782\n"
     ]
    },
    {
     "name": "stderr",
     "output_type": "stream",
     "text": [
      "  6%|▌         | 3/50 [00:23<05:49,  7.44s/it]/home/rgrebnev/Documents/ws_2023/sna/sna_link_prediction/notebooks/graphsage/graphsage.py:167: UserWarning: To copy construct from a tensor, it is recommended to use sourceTensor.clone().detach() or sourceTensor.clone().detach().requires_grad_(True), rather than torch.tensor(sourceTensor).\n",
      "  pos_train_edge = torch.tensor(pos_train_edge, dtype=torch.long).T\n",
      "/home/rgrebnev/Documents/ws_2023/sna/sna_link_prediction/notebooks/graphsage/graphsage.py:137: UserWarning: To copy construct from a tensor, it is recommended to use sourceTensor.clone().detach() or sourceTensor.clone().detach().requires_grad_(True), rather than torch.tensor(sourceTensor).\n",
      "  [edge_index[0], torch.tensor(unique_nodes[rand]).to(edge_index.device)], dim=0\n"
     ]
    },
    {
     "name": "stdout",
     "output_type": "stream",
     "text": [
      "Loss val pos:  tensor(0.3233)\n",
      "Loss val neg:  tensor(0.7071)\n",
      "Loss test pos:  tensor(0.3241)\n",
      "Loss test neg:  tensor(0.7062)\n",
      "ROC-AUC val:  0.8474580270628138\n",
      "ROC-AUC test:  0.8485403504421556\n"
     ]
    },
    {
     "name": "stderr",
     "output_type": "stream",
     "text": [
      "100%|██████████| 22/22 [00:08<00:00,  2.73it/s]\n"
     ]
    },
    {
     "name": "stdout",
     "output_type": "stream",
     "text": [
      "Train loss:  1.0007305416193875\n"
     ]
    },
    {
     "name": "stderr",
     "output_type": "stream",
     "text": [
      "  8%|▊         | 4/50 [00:31<06:01,  7.86s/it]/home/rgrebnev/Documents/ws_2023/sna/sna_link_prediction/notebooks/graphsage/graphsage.py:167: UserWarning: To copy construct from a tensor, it is recommended to use sourceTensor.clone().detach() or sourceTensor.clone().detach().requires_grad_(True), rather than torch.tensor(sourceTensor).\n",
      "  pos_train_edge = torch.tensor(pos_train_edge, dtype=torch.long).T\n",
      "/home/rgrebnev/Documents/ws_2023/sna/sna_link_prediction/notebooks/graphsage/graphsage.py:137: UserWarning: To copy construct from a tensor, it is recommended to use sourceTensor.clone().detach() or sourceTensor.clone().detach().requires_grad_(True), rather than torch.tensor(sourceTensor).\n",
      "  [edge_index[0], torch.tensor(unique_nodes[rand]).to(edge_index.device)], dim=0\n"
     ]
    },
    {
     "name": "stdout",
     "output_type": "stream",
     "text": [
      "Loss val pos:  tensor(0.3141)\n",
      "Loss val neg:  tensor(0.7037)\n",
      "Loss test pos:  tensor(0.3144)\n",
      "Loss test neg:  tensor(0.7019)\n",
      "ROC-AUC val:  0.8497982565241211\n",
      "ROC-AUC test:  0.8514581496508835\n"
     ]
    },
    {
     "name": "stderr",
     "output_type": "stream",
     "text": [
      "100%|██████████| 22/22 [00:06<00:00,  3.49it/s]\n"
     ]
    },
    {
     "name": "stdout",
     "output_type": "stream",
     "text": [
      "Train loss:  0.9856618669900027\n"
     ]
    },
    {
     "name": "stderr",
     "output_type": "stream",
     "text": [
      " 10%|█         | 5/50 [00:38<05:37,  7.49s/it]/home/rgrebnev/Documents/ws_2023/sna/sna_link_prediction/notebooks/graphsage/graphsage.py:167: UserWarning: To copy construct from a tensor, it is recommended to use sourceTensor.clone().detach() or sourceTensor.clone().detach().requires_grad_(True), rather than torch.tensor(sourceTensor).\n",
      "  pos_train_edge = torch.tensor(pos_train_edge, dtype=torch.long).T\n",
      "/home/rgrebnev/Documents/ws_2023/sna/sna_link_prediction/notebooks/graphsage/graphsage.py:137: UserWarning: To copy construct from a tensor, it is recommended to use sourceTensor.clone().detach() or sourceTensor.clone().detach().requires_grad_(True), rather than torch.tensor(sourceTensor).\n",
      "  [edge_index[0], torch.tensor(unique_nodes[rand]).to(edge_index.device)], dim=0\n"
     ]
    },
    {
     "name": "stdout",
     "output_type": "stream",
     "text": [
      "Loss val pos:  tensor(0.3290)\n",
      "Loss val neg:  tensor(0.6703)\n",
      "Loss test pos:  tensor(0.3294)\n",
      "Loss test neg:  tensor(0.6686)\n",
      "ROC-AUC val:  0.8512978635035751\n",
      "ROC-AUC test:  0.8526445610828\n"
     ]
    },
    {
     "name": "stderr",
     "output_type": "stream",
     "text": [
      "100%|██████████| 22/22 [00:08<00:00,  2.49it/s]\n"
     ]
    },
    {
     "name": "stdout",
     "output_type": "stream",
     "text": [
      "Train loss:  0.9812710583209991\n"
     ]
    },
    {
     "name": "stderr",
     "output_type": "stream",
     "text": [
      " 12%|█▏        | 6/50 [00:47<05:57,  8.13s/it]/home/rgrebnev/Documents/ws_2023/sna/sna_link_prediction/notebooks/graphsage/graphsage.py:167: UserWarning: To copy construct from a tensor, it is recommended to use sourceTensor.clone().detach() or sourceTensor.clone().detach().requires_grad_(True), rather than torch.tensor(sourceTensor).\n",
      "  pos_train_edge = torch.tensor(pos_train_edge, dtype=torch.long).T\n",
      "/home/rgrebnev/Documents/ws_2023/sna/sna_link_prediction/notebooks/graphsage/graphsage.py:137: UserWarning: To copy construct from a tensor, it is recommended to use sourceTensor.clone().detach() or sourceTensor.clone().detach().requires_grad_(True), rather than torch.tensor(sourceTensor).\n",
      "  [edge_index[0], torch.tensor(unique_nodes[rand]).to(edge_index.device)], dim=0\n"
     ]
    },
    {
     "name": "stdout",
     "output_type": "stream",
     "text": [
      "Loss val pos:  tensor(0.3447)\n",
      "Loss val neg:  tensor(0.6421)\n",
      "Loss test pos:  tensor(0.3453)\n",
      "Loss test neg:  tensor(0.6403)\n",
      "ROC-AUC val:  0.8520440791958861\n",
      "ROC-AUC test:  0.8534527426485092\n"
     ]
    },
    {
     "name": "stderr",
     "output_type": "stream",
     "text": [
      "100%|██████████| 22/22 [00:09<00:00,  2.22it/s]\n"
     ]
    },
    {
     "name": "stdout",
     "output_type": "stream",
     "text": [
      "Train loss:  0.9730843197215687\n"
     ]
    },
    {
     "name": "stderr",
     "output_type": "stream",
     "text": [
      " 14%|█▍        | 7/50 [00:58<06:22,  8.89s/it]/home/rgrebnev/Documents/ws_2023/sna/sna_link_prediction/notebooks/graphsage/graphsage.py:167: UserWarning: To copy construct from a tensor, it is recommended to use sourceTensor.clone().detach() or sourceTensor.clone().detach().requires_grad_(True), rather than torch.tensor(sourceTensor).\n",
      "  pos_train_edge = torch.tensor(pos_train_edge, dtype=torch.long).T\n",
      "/home/rgrebnev/Documents/ws_2023/sna/sna_link_prediction/notebooks/graphsage/graphsage.py:137: UserWarning: To copy construct from a tensor, it is recommended to use sourceTensor.clone().detach() or sourceTensor.clone().detach().requires_grad_(True), rather than torch.tensor(sourceTensor).\n",
      "  [edge_index[0], torch.tensor(unique_nodes[rand]).to(edge_index.device)], dim=0\n"
     ]
    },
    {
     "name": "stdout",
     "output_type": "stream",
     "text": [
      "Loss val pos:  tensor(0.3316)\n",
      "Loss val neg:  tensor(0.6577)\n",
      "Loss test pos:  tensor(0.3322)\n",
      "Loss test neg:  tensor(0.6552)\n",
      "ROC-AUC val:  0.8524831770834581\n",
      "ROC-AUC test:  0.8539997370046664\n"
     ]
    },
    {
     "name": "stderr",
     "output_type": "stream",
     "text": [
      "100%|██████████| 22/22 [00:09<00:00,  2.22it/s]\n"
     ]
    },
    {
     "name": "stdout",
     "output_type": "stream",
     "text": [
      "Train loss:  0.9701411155137148\n"
     ]
    },
    {
     "name": "stderr",
     "output_type": "stream",
     "text": [
      " 16%|█▌        | 8/50 [01:08<06:35,  9.41s/it]/home/rgrebnev/Documents/ws_2023/sna/sna_link_prediction/notebooks/graphsage/graphsage.py:167: UserWarning: To copy construct from a tensor, it is recommended to use sourceTensor.clone().detach() or sourceTensor.clone().detach().requires_grad_(True), rather than torch.tensor(sourceTensor).\n",
      "  pos_train_edge = torch.tensor(pos_train_edge, dtype=torch.long).T\n",
      "/home/rgrebnev/Documents/ws_2023/sna/sna_link_prediction/notebooks/graphsage/graphsage.py:137: UserWarning: To copy construct from a tensor, it is recommended to use sourceTensor.clone().detach() or sourceTensor.clone().detach().requires_grad_(True), rather than torch.tensor(sourceTensor).\n",
      "  [edge_index[0], torch.tensor(unique_nodes[rand]).to(edge_index.device)], dim=0\n"
     ]
    },
    {
     "name": "stdout",
     "output_type": "stream",
     "text": [
      "Loss val pos:  tensor(0.3511)\n",
      "Loss val neg:  tensor(0.6268)\n",
      "Loss test pos:  tensor(0.3515)\n",
      "Loss test neg:  tensor(0.6249)\n",
      "ROC-AUC val:  0.8530340687020279\n",
      "ROC-AUC test:  0.8545052430857534\n"
     ]
    },
    {
     "name": "stderr",
     "output_type": "stream",
     "text": [
      "100%|██████████| 22/22 [00:10<00:00,  2.20it/s]\n"
     ]
    },
    {
     "name": "stdout",
     "output_type": "stream",
     "text": [
      "Train loss:  0.9653773009777069\n"
     ]
    },
    {
     "name": "stderr",
     "output_type": "stream",
     "text": [
      " 18%|█▊        | 9/50 [01:19<06:40,  9.78s/it]/home/rgrebnev/Documents/ws_2023/sna/sna_link_prediction/notebooks/graphsage/graphsage.py:167: UserWarning: To copy construct from a tensor, it is recommended to use sourceTensor.clone().detach() or sourceTensor.clone().detach().requires_grad_(True), rather than torch.tensor(sourceTensor).\n",
      "  pos_train_edge = torch.tensor(pos_train_edge, dtype=torch.long).T\n",
      "/home/rgrebnev/Documents/ws_2023/sna/sna_link_prediction/notebooks/graphsage/graphsage.py:137: UserWarning: To copy construct from a tensor, it is recommended to use sourceTensor.clone().detach() or sourceTensor.clone().detach().requires_grad_(True), rather than torch.tensor(sourceTensor).\n",
      "  [edge_index[0], torch.tensor(unique_nodes[rand]).to(edge_index.device)], dim=0\n"
     ]
    },
    {
     "name": "stdout",
     "output_type": "stream",
     "text": [
      "Loss val pos:  tensor(0.3503)\n",
      "Loss val neg:  tensor(0.6231)\n",
      "Loss test pos:  tensor(0.3510)\n",
      "Loss test neg:  tensor(0.6206)\n",
      "ROC-AUC val:  0.853445177726746\n",
      "ROC-AUC test:  0.8549459392102932\n"
     ]
    },
    {
     "name": "stderr",
     "output_type": "stream",
     "text": [
      "100%|██████████| 22/22 [00:09<00:00,  2.20it/s]\n"
     ]
    },
    {
     "name": "stdout",
     "output_type": "stream",
     "text": [
      "Train loss:  0.9612208090045236\n"
     ]
    },
    {
     "name": "stderr",
     "output_type": "stream",
     "text": [
      " 20%|██        | 10/50 [01:29<06:40, 10.02s/it]/home/rgrebnev/Documents/ws_2023/sna/sna_link_prediction/notebooks/graphsage/graphsage.py:167: UserWarning: To copy construct from a tensor, it is recommended to use sourceTensor.clone().detach() or sourceTensor.clone().detach().requires_grad_(True), rather than torch.tensor(sourceTensor).\n",
      "  pos_train_edge = torch.tensor(pos_train_edge, dtype=torch.long).T\n",
      "/home/rgrebnev/Documents/ws_2023/sna/sna_link_prediction/notebooks/graphsage/graphsage.py:137: UserWarning: To copy construct from a tensor, it is recommended to use sourceTensor.clone().detach() or sourceTensor.clone().detach().requires_grad_(True), rather than torch.tensor(sourceTensor).\n",
      "  [edge_index[0], torch.tensor(unique_nodes[rand]).to(edge_index.device)], dim=0\n"
     ]
    },
    {
     "name": "stdout",
     "output_type": "stream",
     "text": [
      "Loss val pos:  tensor(0.3536)\n",
      "Loss val neg:  tensor(0.6192)\n",
      "Loss test pos:  tensor(0.3544)\n",
      "Loss test neg:  tensor(0.6167)\n",
      "ROC-AUC val:  0.8536325842383687\n",
      "ROC-AUC test:  0.8551399615344992\n"
     ]
    },
    {
     "name": "stderr",
     "output_type": "stream",
     "text": [
      "100%|██████████| 22/22 [00:09<00:00,  2.20it/s]\n"
     ]
    },
    {
     "name": "stdout",
     "output_type": "stream",
     "text": [
      "Train loss:  0.9600513685833324\n"
     ]
    },
    {
     "name": "stderr",
     "output_type": "stream",
     "text": [
      " 22%|██▏       | 11/50 [01:40<06:37, 10.19s/it]/home/rgrebnev/Documents/ws_2023/sna/sna_link_prediction/notebooks/graphsage/graphsage.py:167: UserWarning: To copy construct from a tensor, it is recommended to use sourceTensor.clone().detach() or sourceTensor.clone().detach().requires_grad_(True), rather than torch.tensor(sourceTensor).\n",
      "  pos_train_edge = torch.tensor(pos_train_edge, dtype=torch.long).T\n",
      "/home/rgrebnev/Documents/ws_2023/sna/sna_link_prediction/notebooks/graphsage/graphsage.py:137: UserWarning: To copy construct from a tensor, it is recommended to use sourceTensor.clone().detach() or sourceTensor.clone().detach().requires_grad_(True), rather than torch.tensor(sourceTensor).\n",
      "  [edge_index[0], torch.tensor(unique_nodes[rand]).to(edge_index.device)], dim=0\n"
     ]
    },
    {
     "name": "stdout",
     "output_type": "stream",
     "text": [
      "Loss val pos:  tensor(0.3458)\n",
      "Loss val neg:  tensor(0.6294)\n",
      "Loss test pos:  tensor(0.3463)\n",
      "Loss test neg:  tensor(0.6271)\n",
      "ROC-AUC val:  0.8536886033924552\n",
      "ROC-AUC test:  0.8552942153604848\n"
     ]
    },
    {
     "name": "stderr",
     "output_type": "stream",
     "text": [
      "100%|██████████| 22/22 [00:09<00:00,  2.20it/s]\n"
     ]
    },
    {
     "name": "stdout",
     "output_type": "stream",
     "text": [
      "Train loss:  0.9555361785671928\n"
     ]
    },
    {
     "name": "stderr",
     "output_type": "stream",
     "text": [
      " 24%|██▍       | 12/50 [01:51<06:31, 10.31s/it]/home/rgrebnev/Documents/ws_2023/sna/sna_link_prediction/notebooks/graphsage/graphsage.py:167: UserWarning: To copy construct from a tensor, it is recommended to use sourceTensor.clone().detach() or sourceTensor.clone().detach().requires_grad_(True), rather than torch.tensor(sourceTensor).\n",
      "  pos_train_edge = torch.tensor(pos_train_edge, dtype=torch.long).T\n",
      "/home/rgrebnev/Documents/ws_2023/sna/sna_link_prediction/notebooks/graphsage/graphsage.py:137: UserWarning: To copy construct from a tensor, it is recommended to use sourceTensor.clone().detach() or sourceTensor.clone().detach().requires_grad_(True), rather than torch.tensor(sourceTensor).\n",
      "  [edge_index[0], torch.tensor(unique_nodes[rand]).to(edge_index.device)], dim=0\n"
     ]
    },
    {
     "name": "stdout",
     "output_type": "stream",
     "text": [
      "Loss val pos:  tensor(0.3495)\n",
      "Loss val neg:  tensor(0.6211)\n",
      "Loss test pos:  tensor(0.3503)\n",
      "Loss test neg:  tensor(0.6184)\n",
      "ROC-AUC val:  0.854123375508421\n",
      "ROC-AUC test:  0.8557388529210701\n"
     ]
    },
    {
     "name": "stderr",
     "output_type": "stream",
     "text": [
      "100%|██████████| 22/22 [00:09<00:00,  2.20it/s]\n"
     ]
    },
    {
     "name": "stdout",
     "output_type": "stream",
     "text": [
      "Train loss:  0.9551045894622803\n"
     ]
    },
    {
     "name": "stderr",
     "output_type": "stream",
     "text": [
      " 26%|██▌       | 13/50 [02:01<06:24, 10.39s/it]/home/rgrebnev/Documents/ws_2023/sna/sna_link_prediction/notebooks/graphsage/graphsage.py:167: UserWarning: To copy construct from a tensor, it is recommended to use sourceTensor.clone().detach() or sourceTensor.clone().detach().requires_grad_(True), rather than torch.tensor(sourceTensor).\n",
      "  pos_train_edge = torch.tensor(pos_train_edge, dtype=torch.long).T\n",
      "/home/rgrebnev/Documents/ws_2023/sna/sna_link_prediction/notebooks/graphsage/graphsage.py:137: UserWarning: To copy construct from a tensor, it is recommended to use sourceTensor.clone().detach() or sourceTensor.clone().detach().requires_grad_(True), rather than torch.tensor(sourceTensor).\n",
      "  [edge_index[0], torch.tensor(unique_nodes[rand]).to(edge_index.device)], dim=0\n"
     ]
    },
    {
     "name": "stdout",
     "output_type": "stream",
     "text": [
      "Loss val pos:  tensor(0.3513)\n",
      "Loss val neg:  tensor(0.6181)\n",
      "Loss test pos:  tensor(0.3519)\n",
      "Loss test neg:  tensor(0.6154)\n",
      "ROC-AUC val:  0.8543512191123985\n",
      "ROC-AUC test:  0.8560550492808034\n"
     ]
    },
    {
     "name": "stderr",
     "output_type": "stream",
     "text": [
      "100%|██████████| 22/22 [00:09<00:00,  2.44it/s]\n"
     ]
    },
    {
     "name": "stdout",
     "output_type": "stream",
     "text": [
      "Train loss:  0.9551994069056078\n"
     ]
    },
    {
     "name": "stderr",
     "output_type": "stream",
     "text": [
      " 28%|██▊       | 14/50 [02:11<06:03, 10.10s/it]/home/rgrebnev/Documents/ws_2023/sna/sna_link_prediction/notebooks/graphsage/graphsage.py:167: UserWarning: To copy construct from a tensor, it is recommended to use sourceTensor.clone().detach() or sourceTensor.clone().detach().requires_grad_(True), rather than torch.tensor(sourceTensor).\n",
      "  pos_train_edge = torch.tensor(pos_train_edge, dtype=torch.long).T\n",
      "/home/rgrebnev/Documents/ws_2023/sna/sna_link_prediction/notebooks/graphsage/graphsage.py:137: UserWarning: To copy construct from a tensor, it is recommended to use sourceTensor.clone().detach() or sourceTensor.clone().detach().requires_grad_(True), rather than torch.tensor(sourceTensor).\n",
      "  [edge_index[0], torch.tensor(unique_nodes[rand]).to(edge_index.device)], dim=0\n"
     ]
    },
    {
     "name": "stdout",
     "output_type": "stream",
     "text": [
      "Loss val pos:  tensor(0.3601)\n",
      "Loss val neg:  tensor(0.6028)\n",
      "Loss test pos:  tensor(0.3605)\n",
      "Loss test neg:  tensor(0.6005)\n",
      "ROC-AUC val:  0.8547396767967537\n",
      "ROC-AUC test:  0.8563341435326607\n"
     ]
    },
    {
     "name": "stderr",
     "output_type": "stream",
     "text": [
      "100%|██████████| 22/22 [00:07<00:00,  2.82it/s]\n"
     ]
    },
    {
     "name": "stdout",
     "output_type": "stream",
     "text": [
      "Train loss:  0.9517302404750477\n"
     ]
    },
    {
     "name": "stderr",
     "output_type": "stream",
     "text": [
      " 30%|███       | 15/50 [02:19<05:33,  9.54s/it]/home/rgrebnev/Documents/ws_2023/sna/sna_link_prediction/notebooks/graphsage/graphsage.py:167: UserWarning: To copy construct from a tensor, it is recommended to use sourceTensor.clone().detach() or sourceTensor.clone().detach().requires_grad_(True), rather than torch.tensor(sourceTensor).\n",
      "  pos_train_edge = torch.tensor(pos_train_edge, dtype=torch.long).T\n",
      "/home/rgrebnev/Documents/ws_2023/sna/sna_link_prediction/notebooks/graphsage/graphsage.py:137: UserWarning: To copy construct from a tensor, it is recommended to use sourceTensor.clone().detach() or sourceTensor.clone().detach().requires_grad_(True), rather than torch.tensor(sourceTensor).\n",
      "  [edge_index[0], torch.tensor(unique_nodes[rand]).to(edge_index.device)], dim=0\n"
     ]
    },
    {
     "name": "stdout",
     "output_type": "stream",
     "text": [
      "Loss val pos:  tensor(0.3823)\n",
      "Loss val neg:  tensor(0.5728)\n",
      "Loss test pos:  tensor(0.3826)\n",
      "Loss test neg:  tensor(0.5706)\n",
      "ROC-AUC val:  0.8549240642776768\n",
      "ROC-AUC test:  0.856631923231118\n"
     ]
    },
    {
     "name": "stderr",
     "output_type": "stream",
     "text": [
      "100%|██████████| 22/22 [00:07<00:00,  2.82it/s]\n"
     ]
    },
    {
     "name": "stdout",
     "output_type": "stream",
     "text": [
      "Train loss:  0.9516716762022539\n"
     ]
    },
    {
     "name": "stderr",
     "output_type": "stream",
     "text": [
      " 32%|███▏      | 16/50 [02:27<05:11,  9.15s/it]/home/rgrebnev/Documents/ws_2023/sna/sna_link_prediction/notebooks/graphsage/graphsage.py:167: UserWarning: To copy construct from a tensor, it is recommended to use sourceTensor.clone().detach() or sourceTensor.clone().detach().requires_grad_(True), rather than torch.tensor(sourceTensor).\n",
      "  pos_train_edge = torch.tensor(pos_train_edge, dtype=torch.long).T\n",
      "/home/rgrebnev/Documents/ws_2023/sna/sna_link_prediction/notebooks/graphsage/graphsage.py:137: UserWarning: To copy construct from a tensor, it is recommended to use sourceTensor.clone().detach() or sourceTensor.clone().detach().requires_grad_(True), rather than torch.tensor(sourceTensor).\n",
      "  [edge_index[0], torch.tensor(unique_nodes[rand]).to(edge_index.device)], dim=0\n"
     ]
    },
    {
     "name": "stdout",
     "output_type": "stream",
     "text": [
      "Loss val pos:  tensor(0.3635)\n",
      "Loss val neg:  tensor(0.5970)\n",
      "Loss test pos:  tensor(0.3640)\n",
      "Loss test neg:  tensor(0.5943)\n",
      "ROC-AUC val:  0.8550519891212074\n",
      "ROC-AUC test:  0.8567609202211217\n"
     ]
    },
    {
     "name": "stderr",
     "output_type": "stream",
     "text": [
      "100%|██████████| 22/22 [00:07<00:00,  2.79it/s]\n"
     ]
    },
    {
     "name": "stdout",
     "output_type": "stream",
     "text": [
      "Train loss:  0.9463833218271082\n"
     ]
    },
    {
     "name": "stderr",
     "output_type": "stream",
     "text": [
      " 34%|███▍      | 17/50 [02:35<04:54,  8.92s/it]/home/rgrebnev/Documents/ws_2023/sna/sna_link_prediction/notebooks/graphsage/graphsage.py:167: UserWarning: To copy construct from a tensor, it is recommended to use sourceTensor.clone().detach() or sourceTensor.clone().detach().requires_grad_(True), rather than torch.tensor(sourceTensor).\n",
      "  pos_train_edge = torch.tensor(pos_train_edge, dtype=torch.long).T\n",
      "/home/rgrebnev/Documents/ws_2023/sna/sna_link_prediction/notebooks/graphsage/graphsage.py:137: UserWarning: To copy construct from a tensor, it is recommended to use sourceTensor.clone().detach() or sourceTensor.clone().detach().requires_grad_(True), rather than torch.tensor(sourceTensor).\n",
      "  [edge_index[0], torch.tensor(unique_nodes[rand]).to(edge_index.device)], dim=0\n"
     ]
    },
    {
     "name": "stdout",
     "output_type": "stream",
     "text": [
      "Loss val pos:  tensor(0.3660)\n",
      "Loss val neg:  tensor(0.5913)\n",
      "Loss test pos:  tensor(0.3663)\n",
      "Loss test neg:  tensor(0.5891)\n",
      "ROC-AUC val:  0.8554314985253493\n",
      "ROC-AUC test:  0.8571122695583874\n"
     ]
    },
    {
     "name": "stderr",
     "output_type": "stream",
     "text": [
      "100%|██████████| 22/22 [00:07<00:00,  2.81it/s]\n"
     ]
    },
    {
     "name": "stdout",
     "output_type": "stream",
     "text": [
      "Train loss:  0.9449071911248293\n",
      "Loss val pos:  tensor(0.3674)\n",
      "Loss val neg:  tensor(0.5867)\n",
      "Loss test pos:  tensor(0.3678)\n",
      "Loss test neg:  tensor(0.5842)\n",
      "ROC-AUC val:  0.8557511581477941\n"
     ]
    },
    {
     "name": "stderr",
     "output_type": "stream",
     "text": [
      " 36%|███▌      | 18/50 [02:45<04:47,  8.98s/it]"
     ]
    },
    {
     "name": "stdout",
     "output_type": "stream",
     "text": [
      "ROC-AUC test:  0.8573452393002976\n"
     ]
    },
    {
     "name": "stderr",
     "output_type": "stream",
     "text": [
      "/home/rgrebnev/Documents/ws_2023/sna/sna_link_prediction/notebooks/graphsage/graphsage.py:167: UserWarning: To copy construct from a tensor, it is recommended to use sourceTensor.clone().detach() or sourceTensor.clone().detach().requires_grad_(True), rather than torch.tensor(sourceTensor).\n",
      "  pos_train_edge = torch.tensor(pos_train_edge, dtype=torch.long).T\n",
      "/home/rgrebnev/Documents/ws_2023/sna/sna_link_prediction/notebooks/graphsage/graphsage.py:137: UserWarning: To copy construct from a tensor, it is recommended to use sourceTensor.clone().detach() or sourceTensor.clone().detach().requires_grad_(True), rather than torch.tensor(sourceTensor).\n",
      "  [edge_index[0], torch.tensor(unique_nodes[rand]).to(edge_index.device)], dim=0\n",
      "100%|██████████| 22/22 [00:08<00:00,  2.69it/s]\n"
     ]
    },
    {
     "name": "stdout",
     "output_type": "stream",
     "text": [
      "Train loss:  0.9448563944209706\n"
     ]
    },
    {
     "name": "stderr",
     "output_type": "stream",
     "text": [
      " 38%|███▊      | 19/50 [02:54<04:39,  9.00s/it]/home/rgrebnev/Documents/ws_2023/sna/sna_link_prediction/notebooks/graphsage/graphsage.py:167: UserWarning: To copy construct from a tensor, it is recommended to use sourceTensor.clone().detach() or sourceTensor.clone().detach().requires_grad_(True), rather than torch.tensor(sourceTensor).\n",
      "  pos_train_edge = torch.tensor(pos_train_edge, dtype=torch.long).T\n",
      "/home/rgrebnev/Documents/ws_2023/sna/sna_link_prediction/notebooks/graphsage/graphsage.py:137: UserWarning: To copy construct from a tensor, it is recommended to use sourceTensor.clone().detach() or sourceTensor.clone().detach().requires_grad_(True), rather than torch.tensor(sourceTensor).\n",
      "  [edge_index[0], torch.tensor(unique_nodes[rand]).to(edge_index.device)], dim=0\n"
     ]
    },
    {
     "name": "stdout",
     "output_type": "stream",
     "text": [
      "Loss val pos:  tensor(0.3776)\n",
      "Loss val neg:  tensor(0.5726)\n",
      "Loss test pos:  tensor(0.3783)\n",
      "Loss test neg:  tensor(0.5703)\n",
      "ROC-AUC val:  0.8558317777725868\n",
      "ROC-AUC test:  0.8574405884606691\n"
     ]
    },
    {
     "name": "stderr",
     "output_type": "stream",
     "text": [
      "100%|██████████| 22/22 [00:06<00:00,  3.20it/s]\n"
     ]
    },
    {
     "name": "stdout",
     "output_type": "stream",
     "text": [
      "Train loss:  0.9420831474390897\n",
      "Loss val pos:  tensor(0.3791)\n",
      "Loss val neg:  tensor(0.5701)\n",
      "Loss test pos:  tensor(0.3797)\n",
      "Loss test neg:  tensor(0.5679)\n",
      "ROC-AUC val:  0.8560260816101124\n",
      "ROC-AUC test:  0.8575877575347739\n"
     ]
    },
    {
     "name": "stderr",
     "output_type": "stream",
     "text": [
      " 40%|████      | 20/50 [03:02<04:22,  8.73s/it]/home/rgrebnev/Documents/ws_2023/sna/sna_link_prediction/notebooks/graphsage/graphsage.py:167: UserWarning: To copy construct from a tensor, it is recommended to use sourceTensor.clone().detach() or sourceTensor.clone().detach().requires_grad_(True), rather than torch.tensor(sourceTensor).\n",
      "  pos_train_edge = torch.tensor(pos_train_edge, dtype=torch.long).T\n",
      "/home/rgrebnev/Documents/ws_2023/sna/sna_link_prediction/notebooks/graphsage/graphsage.py:137: UserWarning: To copy construct from a tensor, it is recommended to use sourceTensor.clone().detach() or sourceTensor.clone().detach().requires_grad_(True), rather than torch.tensor(sourceTensor).\n",
      "  [edge_index[0], torch.tensor(unique_nodes[rand]).to(edge_index.device)], dim=0\n",
      "100%|██████████| 22/22 [00:06<00:00,  3.42it/s]\n"
     ]
    },
    {
     "name": "stdout",
     "output_type": "stream",
     "text": [
      "Train loss:  0.9424812658266588\n"
     ]
    },
    {
     "name": "stderr",
     "output_type": "stream",
     "text": [
      " 42%|████▏     | 21/50 [03:09<04:00,  8.31s/it]/home/rgrebnev/Documents/ws_2023/sna/sna_link_prediction/notebooks/graphsage/graphsage.py:167: UserWarning: To copy construct from a tensor, it is recommended to use sourceTensor.clone().detach() or sourceTensor.clone().detach().requires_grad_(True), rather than torch.tensor(sourceTensor).\n",
      "  pos_train_edge = torch.tensor(pos_train_edge, dtype=torch.long).T\n",
      "/home/rgrebnev/Documents/ws_2023/sna/sna_link_prediction/notebooks/graphsage/graphsage.py:137: UserWarning: To copy construct from a tensor, it is recommended to use sourceTensor.clone().detach() or sourceTensor.clone().detach().requires_grad_(True), rather than torch.tensor(sourceTensor).\n",
      "  [edge_index[0], torch.tensor(unique_nodes[rand]).to(edge_index.device)], dim=0\n"
     ]
    },
    {
     "name": "stdout",
     "output_type": "stream",
     "text": [
      "Loss val pos:  tensor(0.3769)\n",
      "Loss val neg:  tensor(0.5778)\n",
      "Loss test pos:  tensor(0.3773)\n",
      "Loss test neg:  tensor(0.5757)\n",
      "ROC-AUC val:  0.8561749452546438\n",
      "ROC-AUC test:  0.8578709596848967\n"
     ]
    },
    {
     "name": "stderr",
     "output_type": "stream",
     "text": [
      "100%|██████████| 22/22 [00:07<00:00,  3.04it/s]\n"
     ]
    },
    {
     "name": "stdout",
     "output_type": "stream",
     "text": [
      "Train loss:  0.9389515221118927\n"
     ]
    },
    {
     "name": "stderr",
     "output_type": "stream",
     "text": [
      " 44%|████▍     | 22/50 [03:17<03:48,  8.15s/it]/home/rgrebnev/Documents/ws_2023/sna/sna_link_prediction/notebooks/graphsage/graphsage.py:167: UserWarning: To copy construct from a tensor, it is recommended to use sourceTensor.clone().detach() or sourceTensor.clone().detach().requires_grad_(True), rather than torch.tensor(sourceTensor).\n",
      "  pos_train_edge = torch.tensor(pos_train_edge, dtype=torch.long).T\n",
      "/home/rgrebnev/Documents/ws_2023/sna/sna_link_prediction/notebooks/graphsage/graphsage.py:137: UserWarning: To copy construct from a tensor, it is recommended to use sourceTensor.clone().detach() or sourceTensor.clone().detach().requires_grad_(True), rather than torch.tensor(sourceTensor).\n",
      "  [edge_index[0], torch.tensor(unique_nodes[rand]).to(edge_index.device)], dim=0\n"
     ]
    },
    {
     "name": "stdout",
     "output_type": "stream",
     "text": [
      "Loss val pos:  tensor(0.3773)\n",
      "Loss val neg:  tensor(0.5730)\n",
      "Loss test pos:  tensor(0.3778)\n",
      "Loss test neg:  tensor(0.5705)\n",
      "ROC-AUC val:  0.8562082898584926\n",
      "ROC-AUC test:  0.8578981137409646\n"
     ]
    },
    {
     "name": "stderr",
     "output_type": "stream",
     "text": [
      "100%|██████████| 22/22 [00:08<00:00,  2.51it/s]\n"
     ]
    },
    {
     "name": "stdout",
     "output_type": "stream",
     "text": [
      "Train loss:  0.9385104369033467\n"
     ]
    },
    {
     "name": "stderr",
     "output_type": "stream",
     "text": [
      " 46%|████▌     | 23/50 [03:26<03:49,  8.50s/it]/home/rgrebnev/Documents/ws_2023/sna/sna_link_prediction/notebooks/graphsage/graphsage.py:167: UserWarning: To copy construct from a tensor, it is recommended to use sourceTensor.clone().detach() or sourceTensor.clone().detach().requires_grad_(True), rather than torch.tensor(sourceTensor).\n",
      "  pos_train_edge = torch.tensor(pos_train_edge, dtype=torch.long).T\n",
      "/home/rgrebnev/Documents/ws_2023/sna/sna_link_prediction/notebooks/graphsage/graphsage.py:137: UserWarning: To copy construct from a tensor, it is recommended to use sourceTensor.clone().detach() or sourceTensor.clone().detach().requires_grad_(True), rather than torch.tensor(sourceTensor).\n",
      "  [edge_index[0], torch.tensor(unique_nodes[rand]).to(edge_index.device)], dim=0\n"
     ]
    },
    {
     "name": "stdout",
     "output_type": "stream",
     "text": [
      "Loss val pos:  tensor(0.3776)\n",
      "Loss val neg:  tensor(0.5719)\n",
      "Loss test pos:  tensor(0.3781)\n",
      "Loss test neg:  tensor(0.5700)\n",
      "ROC-AUC val:  0.8564900440119121\n",
      "ROC-AUC test:  0.8580311357724766\n"
     ]
    },
    {
     "name": "stderr",
     "output_type": "stream",
     "text": [
      "100%|██████████| 22/22 [00:08<00:00,  2.47it/s]\n"
     ]
    },
    {
     "name": "stdout",
     "output_type": "stream",
     "text": [
      "Train loss:  0.9346894269639795\n"
     ]
    },
    {
     "name": "stderr",
     "output_type": "stream",
     "text": [
      " 48%|████▊     | 24/50 [03:36<03:48,  8.78s/it]/home/rgrebnev/Documents/ws_2023/sna/sna_link_prediction/notebooks/graphsage/graphsage.py:167: UserWarning: To copy construct from a tensor, it is recommended to use sourceTensor.clone().detach() or sourceTensor.clone().detach().requires_grad_(True), rather than torch.tensor(sourceTensor).\n",
      "  pos_train_edge = torch.tensor(pos_train_edge, dtype=torch.long).T\n",
      "/home/rgrebnev/Documents/ws_2023/sna/sna_link_prediction/notebooks/graphsage/graphsage.py:137: UserWarning: To copy construct from a tensor, it is recommended to use sourceTensor.clone().detach() or sourceTensor.clone().detach().requires_grad_(True), rather than torch.tensor(sourceTensor).\n",
      "  [edge_index[0], torch.tensor(unique_nodes[rand]).to(edge_index.device)], dim=0\n"
     ]
    },
    {
     "name": "stdout",
     "output_type": "stream",
     "text": [
      "Loss val pos:  tensor(0.3695)\n",
      "Loss val neg:  tensor(0.5821)\n",
      "Loss test pos:  tensor(0.3698)\n",
      "Loss test neg:  tensor(0.5797)\n",
      "ROC-AUC val:  0.856445115434437\n",
      "ROC-AUC test:  0.8581470970486222\n"
     ]
    },
    {
     "name": "stderr",
     "output_type": "stream",
     "text": [
      "100%|██████████| 22/22 [00:09<00:00,  2.23it/s]\n"
     ]
    },
    {
     "name": "stdout",
     "output_type": "stream",
     "text": [
      "Train loss:  0.9365336082198403\n"
     ]
    },
    {
     "name": "stderr",
     "output_type": "stream",
     "text": [
      " 50%|█████     | 25/50 [03:46<03:51,  9.26s/it]/home/rgrebnev/Documents/ws_2023/sna/sna_link_prediction/notebooks/graphsage/graphsage.py:167: UserWarning: To copy construct from a tensor, it is recommended to use sourceTensor.clone().detach() or sourceTensor.clone().detach().requires_grad_(True), rather than torch.tensor(sourceTensor).\n",
      "  pos_train_edge = torch.tensor(pos_train_edge, dtype=torch.long).T\n",
      "/home/rgrebnev/Documents/ws_2023/sna/sna_link_prediction/notebooks/graphsage/graphsage.py:137: UserWarning: To copy construct from a tensor, it is recommended to use sourceTensor.clone().detach() or sourceTensor.clone().detach().requires_grad_(True), rather than torch.tensor(sourceTensor).\n",
      "  [edge_index[0], torch.tensor(unique_nodes[rand]).to(edge_index.device)], dim=0\n"
     ]
    },
    {
     "name": "stdout",
     "output_type": "stream",
     "text": [
      "Loss val pos:  tensor(0.3938)\n",
      "Loss val neg:  tensor(0.5512)\n",
      "Loss test pos:  tensor(0.3944)\n",
      "Loss test neg:  tensor(0.5494)\n",
      "ROC-AUC val:  0.8565750116199116\n",
      "ROC-AUC test:  0.8581557555797537\n"
     ]
    },
    {
     "name": "stderr",
     "output_type": "stream",
     "text": [
      "100%|██████████| 22/22 [00:05<00:00,  3.70it/s]\n"
     ]
    },
    {
     "name": "stdout",
     "output_type": "stream",
     "text": [
      "Train loss:  0.9333676777102731\n"
     ]
    },
    {
     "name": "stderr",
     "output_type": "stream",
     "text": [
      " 52%|█████▏    | 26/50 [03:52<03:21,  8.42s/it]/home/rgrebnev/Documents/ws_2023/sna/sna_link_prediction/notebooks/graphsage/graphsage.py:167: UserWarning: To copy construct from a tensor, it is recommended to use sourceTensor.clone().detach() or sourceTensor.clone().detach().requires_grad_(True), rather than torch.tensor(sourceTensor).\n",
      "  pos_train_edge = torch.tensor(pos_train_edge, dtype=torch.long).T\n",
      "/home/rgrebnev/Documents/ws_2023/sna/sna_link_prediction/notebooks/graphsage/graphsage.py:137: UserWarning: To copy construct from a tensor, it is recommended to use sourceTensor.clone().detach() or sourceTensor.clone().detach().requires_grad_(True), rather than torch.tensor(sourceTensor).\n",
      "  [edge_index[0], torch.tensor(unique_nodes[rand]).to(edge_index.device)], dim=0\n"
     ]
    },
    {
     "name": "stdout",
     "output_type": "stream",
     "text": [
      "Loss val pos:  tensor(0.3759)\n",
      "Loss val neg:  tensor(0.5738)\n",
      "Loss test pos:  tensor(0.3763)\n",
      "Loss test neg:  tensor(0.5716)\n",
      "ROC-AUC val:  0.8568004266723688\n",
      "ROC-AUC test:  0.8583244304745956\n"
     ]
    },
    {
     "name": "stderr",
     "output_type": "stream",
     "text": [
      "100%|██████████| 22/22 [00:06<00:00,  3.66it/s]\n"
     ]
    },
    {
     "name": "stdout",
     "output_type": "stream",
     "text": [
      "Train loss:  0.9319094961339777\n"
     ]
    },
    {
     "name": "stderr",
     "output_type": "stream",
     "text": [
      " 54%|█████▍    | 27/50 [03:59<03:00,  7.84s/it]/home/rgrebnev/Documents/ws_2023/sna/sna_link_prediction/notebooks/graphsage/graphsage.py:167: UserWarning: To copy construct from a tensor, it is recommended to use sourceTensor.clone().detach() or sourceTensor.clone().detach().requires_grad_(True), rather than torch.tensor(sourceTensor).\n",
      "  pos_train_edge = torch.tensor(pos_train_edge, dtype=torch.long).T\n",
      "/home/rgrebnev/Documents/ws_2023/sna/sna_link_prediction/notebooks/graphsage/graphsage.py:137: UserWarning: To copy construct from a tensor, it is recommended to use sourceTensor.clone().detach() or sourceTensor.clone().detach().requires_grad_(True), rather than torch.tensor(sourceTensor).\n",
      "  [edge_index[0], torch.tensor(unique_nodes[rand]).to(edge_index.device)], dim=0\n"
     ]
    },
    {
     "name": "stdout",
     "output_type": "stream",
     "text": [
      "Loss val pos:  tensor(0.3948)\n",
      "Loss val neg:  tensor(0.5462)\n",
      "Loss test pos:  tensor(0.3952)\n",
      "Loss test neg:  tensor(0.5441)\n",
      "ROC-AUC val:  0.8568172932634062\n",
      "ROC-AUC test:  0.8583942634972659\n"
     ]
    },
    {
     "name": "stderr",
     "output_type": "stream",
     "text": [
      "100%|██████████| 22/22 [00:05<00:00,  3.69it/s]\n"
     ]
    },
    {
     "name": "stdout",
     "output_type": "stream",
     "text": [
      "Train loss:  0.9305491935123097\n"
     ]
    },
    {
     "name": "stderr",
     "output_type": "stream",
     "text": [
      " 56%|█████▌    | 28/50 [04:05<02:43,  7.42s/it]/home/rgrebnev/Documents/ws_2023/sna/sna_link_prediction/notebooks/graphsage/graphsage.py:167: UserWarning: To copy construct from a tensor, it is recommended to use sourceTensor.clone().detach() or sourceTensor.clone().detach().requires_grad_(True), rather than torch.tensor(sourceTensor).\n",
      "  pos_train_edge = torch.tensor(pos_train_edge, dtype=torch.long).T\n",
      "/home/rgrebnev/Documents/ws_2023/sna/sna_link_prediction/notebooks/graphsage/graphsage.py:137: UserWarning: To copy construct from a tensor, it is recommended to use sourceTensor.clone().detach() or sourceTensor.clone().detach().requires_grad_(True), rather than torch.tensor(sourceTensor).\n",
      "  [edge_index[0], torch.tensor(unique_nodes[rand]).to(edge_index.device)], dim=0\n"
     ]
    },
    {
     "name": "stdout",
     "output_type": "stream",
     "text": [
      "Loss val pos:  tensor(0.3846)\n",
      "Loss val neg:  tensor(0.5610)\n",
      "Loss test pos:  tensor(0.3852)\n",
      "Loss test neg:  tensor(0.5592)\n",
      "ROC-AUC val:  0.8567536425527549\n",
      "ROC-AUC test:  0.8582367176125913\n"
     ]
    },
    {
     "name": "stderr",
     "output_type": "stream",
     "text": [
      "100%|██████████| 22/22 [00:05<00:00,  3.68it/s]\n"
     ]
    },
    {
     "name": "stdout",
     "output_type": "stream",
     "text": [
      "Train loss:  0.9302746572277762\n"
     ]
    },
    {
     "name": "stderr",
     "output_type": "stream",
     "text": [
      " 58%|█████▊    | 29/50 [04:12<02:30,  7.16s/it]/home/rgrebnev/Documents/ws_2023/sna/sna_link_prediction/notebooks/graphsage/graphsage.py:167: UserWarning: To copy construct from a tensor, it is recommended to use sourceTensor.clone().detach() or sourceTensor.clone().detach().requires_grad_(True), rather than torch.tensor(sourceTensor).\n",
      "  pos_train_edge = torch.tensor(pos_train_edge, dtype=torch.long).T\n",
      "/home/rgrebnev/Documents/ws_2023/sna/sna_link_prediction/notebooks/graphsage/graphsage.py:137: UserWarning: To copy construct from a tensor, it is recommended to use sourceTensor.clone().detach() or sourceTensor.clone().detach().requires_grad_(True), rather than torch.tensor(sourceTensor).\n",
      "  [edge_index[0], torch.tensor(unique_nodes[rand]).to(edge_index.device)], dim=0\n"
     ]
    },
    {
     "name": "stdout",
     "output_type": "stream",
     "text": [
      "Loss val pos:  tensor(0.3800)\n",
      "Loss val neg:  tensor(0.5656)\n",
      "Loss test pos:  tensor(0.3807)\n",
      "Loss test neg:  tensor(0.5639)\n",
      "ROC-AUC val:  0.8568262897103487\n",
      "ROC-AUC test:  0.8582296445904319\n"
     ]
    },
    {
     "name": "stderr",
     "output_type": "stream",
     "text": [
      "100%|██████████| 22/22 [00:08<00:00,  2.50it/s]\n"
     ]
    },
    {
     "name": "stdout",
     "output_type": "stream",
     "text": [
      "Train loss:  0.9282178580760956\n"
     ]
    },
    {
     "name": "stderr",
     "output_type": "stream",
     "text": [
      " 60%|██████    | 30/50 [04:21<02:36,  7.82s/it]/home/rgrebnev/Documents/ws_2023/sna/sna_link_prediction/notebooks/graphsage/graphsage.py:167: UserWarning: To copy construct from a tensor, it is recommended to use sourceTensor.clone().detach() or sourceTensor.clone().detach().requires_grad_(True), rather than torch.tensor(sourceTensor).\n",
      "  pos_train_edge = torch.tensor(pos_train_edge, dtype=torch.long).T\n",
      "/home/rgrebnev/Documents/ws_2023/sna/sna_link_prediction/notebooks/graphsage/graphsage.py:137: UserWarning: To copy construct from a tensor, it is recommended to use sourceTensor.clone().detach() or sourceTensor.clone().detach().requires_grad_(True), rather than torch.tensor(sourceTensor).\n",
      "  [edge_index[0], torch.tensor(unique_nodes[rand]).to(edge_index.device)], dim=0\n"
     ]
    },
    {
     "name": "stdout",
     "output_type": "stream",
     "text": [
      "Loss val pos:  tensor(0.4086)\n",
      "Loss val neg:  tensor(0.5284)\n",
      "Loss test pos:  tensor(0.4090)\n",
      "Loss test neg:  tensor(0.5263)\n",
      "ROC-AUC val:  0.8570332900980784\n",
      "ROC-AUC test:  0.8586339324076537\n"
     ]
    },
    {
     "name": "stderr",
     "output_type": "stream",
     "text": [
      "100%|██████████| 22/22 [00:08<00:00,  2.51it/s]\n"
     ]
    },
    {
     "name": "stdout",
     "output_type": "stream",
     "text": [
      "Train loss:  0.9278048303994265\n"
     ]
    },
    {
     "name": "stderr",
     "output_type": "stream",
     "text": [
      " 62%|██████▏   | 31/50 [04:31<02:36,  8.26s/it]/home/rgrebnev/Documents/ws_2023/sna/sna_link_prediction/notebooks/graphsage/graphsage.py:167: UserWarning: To copy construct from a tensor, it is recommended to use sourceTensor.clone().detach() or sourceTensor.clone().detach().requires_grad_(True), rather than torch.tensor(sourceTensor).\n",
      "  pos_train_edge = torch.tensor(pos_train_edge, dtype=torch.long).T\n",
      "/home/rgrebnev/Documents/ws_2023/sna/sna_link_prediction/notebooks/graphsage/graphsage.py:137: UserWarning: To copy construct from a tensor, it is recommended to use sourceTensor.clone().detach() or sourceTensor.clone().detach().requires_grad_(True), rather than torch.tensor(sourceTensor).\n",
      "  [edge_index[0], torch.tensor(unique_nodes[rand]).to(edge_index.device)], dim=0\n"
     ]
    },
    {
     "name": "stdout",
     "output_type": "stream",
     "text": [
      "Loss val pos:  tensor(0.3925)\n",
      "Loss val neg:  tensor(0.5492)\n",
      "Loss test pos:  tensor(0.3928)\n",
      "Loss test neg:  tensor(0.5470)\n",
      "ROC-AUC val:  0.8568571311416823\n",
      "ROC-AUC test:  0.8585612805082573\n"
     ]
    },
    {
     "name": "stderr",
     "output_type": "stream",
     "text": [
      "100%|██████████| 22/22 [00:08<00:00,  2.50it/s]\n"
     ]
    },
    {
     "name": "stdout",
     "output_type": "stream",
     "text": [
      "Train loss:  0.9260982247916135\n"
     ]
    },
    {
     "name": "stderr",
     "output_type": "stream",
     "text": [
      " 64%|██████▍   | 32/50 [04:40<02:34,  8.59s/it]/home/rgrebnev/Documents/ws_2023/sna/sna_link_prediction/notebooks/graphsage/graphsage.py:167: UserWarning: To copy construct from a tensor, it is recommended to use sourceTensor.clone().detach() or sourceTensor.clone().detach().requires_grad_(True), rather than torch.tensor(sourceTensor).\n",
      "  pos_train_edge = torch.tensor(pos_train_edge, dtype=torch.long).T\n",
      "/home/rgrebnev/Documents/ws_2023/sna/sna_link_prediction/notebooks/graphsage/graphsage.py:137: UserWarning: To copy construct from a tensor, it is recommended to use sourceTensor.clone().detach() or sourceTensor.clone().detach().requires_grad_(True), rather than torch.tensor(sourceTensor).\n",
      "  [edge_index[0], torch.tensor(unique_nodes[rand]).to(edge_index.device)], dim=0\n"
     ]
    },
    {
     "name": "stdout",
     "output_type": "stream",
     "text": [
      "Loss val pos:  tensor(0.3865)\n",
      "Loss val neg:  tensor(0.5582)\n",
      "Loss test pos:  tensor(0.3870)\n",
      "Loss test neg:  tensor(0.5564)\n",
      "ROC-AUC val:  0.856942405219856\n",
      "ROC-AUC test:  0.8585144344956439\n"
     ]
    },
    {
     "name": "stderr",
     "output_type": "stream",
     "text": [
      "100%|██████████| 22/22 [00:09<00:00,  2.23it/s]\n"
     ]
    },
    {
     "name": "stdout",
     "output_type": "stream",
     "text": [
      "Train loss:  0.9261548762971704\n"
     ]
    },
    {
     "name": "stderr",
     "output_type": "stream",
     "text": [
      " 66%|██████▌   | 33/50 [04:50<02:35,  9.17s/it]/home/rgrebnev/Documents/ws_2023/sna/sna_link_prediction/notebooks/graphsage/graphsage.py:167: UserWarning: To copy construct from a tensor, it is recommended to use sourceTensor.clone().detach() or sourceTensor.clone().detach().requires_grad_(True), rather than torch.tensor(sourceTensor).\n",
      "  pos_train_edge = torch.tensor(pos_train_edge, dtype=torch.long).T\n",
      "/home/rgrebnev/Documents/ws_2023/sna/sna_link_prediction/notebooks/graphsage/graphsage.py:137: UserWarning: To copy construct from a tensor, it is recommended to use sourceTensor.clone().detach() or sourceTensor.clone().detach().requires_grad_(True), rather than torch.tensor(sourceTensor).\n",
      "  [edge_index[0], torch.tensor(unique_nodes[rand]).to(edge_index.device)], dim=0\n"
     ]
    },
    {
     "name": "stdout",
     "output_type": "stream",
     "text": [
      "Loss val pos:  tensor(0.4005)\n",
      "Loss val neg:  tensor(0.5383)\n",
      "Loss test pos:  tensor(0.4012)\n",
      "Loss test neg:  tensor(0.5365)\n",
      "ROC-AUC val:  0.8571577339595308\n",
      "ROC-AUC test:  0.8586540271678322\n"
     ]
    },
    {
     "name": "stderr",
     "output_type": "stream",
     "text": [
      "100%|██████████| 22/22 [00:10<00:00,  2.19it/s]\n"
     ]
    },
    {
     "name": "stdout",
     "output_type": "stream",
     "text": [
      "Train loss:  0.9252392107790167\n"
     ]
    },
    {
     "name": "stderr",
     "output_type": "stream",
     "text": [
      " 68%|██████▊   | 34/50 [05:01<02:33,  9.61s/it]/home/rgrebnev/Documents/ws_2023/sna/sna_link_prediction/notebooks/graphsage/graphsage.py:167: UserWarning: To copy construct from a tensor, it is recommended to use sourceTensor.clone().detach() or sourceTensor.clone().detach().requires_grad_(True), rather than torch.tensor(sourceTensor).\n",
      "  pos_train_edge = torch.tensor(pos_train_edge, dtype=torch.long).T\n",
      "/home/rgrebnev/Documents/ws_2023/sna/sna_link_prediction/notebooks/graphsage/graphsage.py:137: UserWarning: To copy construct from a tensor, it is recommended to use sourceTensor.clone().detach() or sourceTensor.clone().detach().requires_grad_(True), rather than torch.tensor(sourceTensor).\n",
      "  [edge_index[0], torch.tensor(unique_nodes[rand]).to(edge_index.device)], dim=0\n"
     ]
    },
    {
     "name": "stdout",
     "output_type": "stream",
     "text": [
      "Loss val pos:  tensor(0.3977)\n",
      "Loss val neg:  tensor(0.5401)\n",
      "Loss test pos:  tensor(0.3984)\n",
      "Loss test neg:  tensor(0.5381)\n",
      "ROC-AUC val:  0.8571146931185367\n",
      "ROC-AUC test:  0.8585844646774656\n"
     ]
    },
    {
     "name": "stderr",
     "output_type": "stream",
     "text": [
      "100%|██████████| 22/22 [00:10<00:00,  2.19it/s]\n"
     ]
    },
    {
     "name": "stdout",
     "output_type": "stream",
     "text": [
      "Train loss:  0.9222045920111916\n"
     ]
    },
    {
     "name": "stderr",
     "output_type": "stream",
     "text": [
      " 70%|███████   | 35/50 [05:12<02:28,  9.92s/it]/home/rgrebnev/Documents/ws_2023/sna/sna_link_prediction/notebooks/graphsage/graphsage.py:167: UserWarning: To copy construct from a tensor, it is recommended to use sourceTensor.clone().detach() or sourceTensor.clone().detach().requires_grad_(True), rather than torch.tensor(sourceTensor).\n",
      "  pos_train_edge = torch.tensor(pos_train_edge, dtype=torch.long).T\n",
      "/home/rgrebnev/Documents/ws_2023/sna/sna_link_prediction/notebooks/graphsage/graphsage.py:137: UserWarning: To copy construct from a tensor, it is recommended to use sourceTensor.clone().detach() or sourceTensor.clone().detach().requires_grad_(True), rather than torch.tensor(sourceTensor).\n",
      "  [edge_index[0], torch.tensor(unique_nodes[rand]).to(edge_index.device)], dim=0\n"
     ]
    },
    {
     "name": "stdout",
     "output_type": "stream",
     "text": [
      "Loss val pos:  tensor(0.3858)\n",
      "Loss val neg:  tensor(0.5574)\n",
      "Loss test pos:  tensor(0.3864)\n",
      "Loss test neg:  tensor(0.5562)\n",
      "ROC-AUC val:  0.8570822422196507\n",
      "ROC-AUC test:  0.8584734333783755\n"
     ]
    },
    {
     "name": "stderr",
     "output_type": "stream",
     "text": [
      "100%|██████████| 22/22 [00:10<00:00,  2.18it/s]\n"
     ]
    },
    {
     "name": "stdout",
     "output_type": "stream",
     "text": [
      "Train loss:  0.9236484657634388\n"
     ]
    },
    {
     "name": "stderr",
     "output_type": "stream",
     "text": [
      " 72%|███████▏  | 36/50 [05:22<02:22, 10.15s/it]/home/rgrebnev/Documents/ws_2023/sna/sna_link_prediction/notebooks/graphsage/graphsage.py:167: UserWarning: To copy construct from a tensor, it is recommended to use sourceTensor.clone().detach() or sourceTensor.clone().detach().requires_grad_(True), rather than torch.tensor(sourceTensor).\n",
      "  pos_train_edge = torch.tensor(pos_train_edge, dtype=torch.long).T\n",
      "/home/rgrebnev/Documents/ws_2023/sna/sna_link_prediction/notebooks/graphsage/graphsage.py:137: UserWarning: To copy construct from a tensor, it is recommended to use sourceTensor.clone().detach() or sourceTensor.clone().detach().requires_grad_(True), rather than torch.tensor(sourceTensor).\n",
      "  [edge_index[0], torch.tensor(unique_nodes[rand]).to(edge_index.device)], dim=0\n"
     ]
    },
    {
     "name": "stdout",
     "output_type": "stream",
     "text": [
      "Loss val pos:  tensor(0.3966)\n",
      "Loss val neg:  tensor(0.5427)\n",
      "Loss test pos:  tensor(0.3972)\n",
      "Loss test neg:  tensor(0.5415)\n",
      "ROC-AUC val:  0.8573445420057804\n",
      "ROC-AUC test:  0.8585978530316787\n"
     ]
    },
    {
     "name": "stderr",
     "output_type": "stream",
     "text": [
      "100%|██████████| 22/22 [00:10<00:00,  2.18it/s]\n"
     ]
    },
    {
     "name": "stdout",
     "output_type": "stream",
     "text": [
      "Train loss:  0.9219450950622559\n"
     ]
    },
    {
     "name": "stderr",
     "output_type": "stream",
     "text": [
      " 74%|███████▍  | 37/50 [05:33<02:14, 10.32s/it]/home/rgrebnev/Documents/ws_2023/sna/sna_link_prediction/notebooks/graphsage/graphsage.py:167: UserWarning: To copy construct from a tensor, it is recommended to use sourceTensor.clone().detach() or sourceTensor.clone().detach().requires_grad_(True), rather than torch.tensor(sourceTensor).\n",
      "  pos_train_edge = torch.tensor(pos_train_edge, dtype=torch.long).T\n",
      "/home/rgrebnev/Documents/ws_2023/sna/sna_link_prediction/notebooks/graphsage/graphsage.py:137: UserWarning: To copy construct from a tensor, it is recommended to use sourceTensor.clone().detach() or sourceTensor.clone().detach().requires_grad_(True), rather than torch.tensor(sourceTensor).\n",
      "  [edge_index[0], torch.tensor(unique_nodes[rand]).to(edge_index.device)], dim=0\n"
     ]
    },
    {
     "name": "stdout",
     "output_type": "stream",
     "text": [
      "Loss val pos:  tensor(0.3951)\n",
      "Loss val neg:  tensor(0.5438)\n",
      "Loss test pos:  tensor(0.3961)\n",
      "Loss test neg:  tensor(0.5426)\n",
      "ROC-AUC val:  0.8572930173316371\n",
      "ROC-AUC test:  0.8585127424209027\n"
     ]
    },
    {
     "name": "stderr",
     "output_type": "stream",
     "text": [
      "100%|██████████| 22/22 [00:09<00:00,  2.38it/s]\n"
     ]
    },
    {
     "name": "stdout",
     "output_type": "stream",
     "text": [
      "Train loss:  0.9209781180728566\n"
     ]
    },
    {
     "name": "stderr",
     "output_type": "stream",
     "text": [
      " 76%|███████▌  | 38/50 [05:43<02:01, 10.14s/it]/home/rgrebnev/Documents/ws_2023/sna/sna_link_prediction/notebooks/graphsage/graphsage.py:167: UserWarning: To copy construct from a tensor, it is recommended to use sourceTensor.clone().detach() or sourceTensor.clone().detach().requires_grad_(True), rather than torch.tensor(sourceTensor).\n",
      "  pos_train_edge = torch.tensor(pos_train_edge, dtype=torch.long).T\n",
      "/home/rgrebnev/Documents/ws_2023/sna/sna_link_prediction/notebooks/graphsage/graphsage.py:137: UserWarning: To copy construct from a tensor, it is recommended to use sourceTensor.clone().detach() or sourceTensor.clone().detach().requires_grad_(True), rather than torch.tensor(sourceTensor).\n",
      "  [edge_index[0], torch.tensor(unique_nodes[rand]).to(edge_index.device)], dim=0\n"
     ]
    },
    {
     "name": "stdout",
     "output_type": "stream",
     "text": [
      "Loss val pos:  tensor(0.3950)\n",
      "Loss val neg:  tensor(0.5465)\n",
      "Loss test pos:  tensor(0.3957)\n",
      "Loss test neg:  tensor(0.5454)\n",
      "ROC-AUC val:  0.8572729839653207\n",
      "ROC-AUC test:  0.8585554094082151\n"
     ]
    },
    {
     "name": "stderr",
     "output_type": "stream",
     "text": [
      "100%|██████████| 22/22 [00:07<00:00,  2.79it/s]\n"
     ]
    },
    {
     "name": "stdout",
     "output_type": "stream",
     "text": [
      "Train loss:  0.9210537970066071\n"
     ]
    },
    {
     "name": "stderr",
     "output_type": "stream",
     "text": [
      " 78%|███████▊  | 39/50 [05:51<01:45,  9.61s/it]/home/rgrebnev/Documents/ws_2023/sna/sna_link_prediction/notebooks/graphsage/graphsage.py:167: UserWarning: To copy construct from a tensor, it is recommended to use sourceTensor.clone().detach() or sourceTensor.clone().detach().requires_grad_(True), rather than torch.tensor(sourceTensor).\n",
      "  pos_train_edge = torch.tensor(pos_train_edge, dtype=torch.long).T\n",
      "/home/rgrebnev/Documents/ws_2023/sna/sna_link_prediction/notebooks/graphsage/graphsage.py:137: UserWarning: To copy construct from a tensor, it is recommended to use sourceTensor.clone().detach() or sourceTensor.clone().detach().requires_grad_(True), rather than torch.tensor(sourceTensor).\n",
      "  [edge_index[0], torch.tensor(unique_nodes[rand]).to(edge_index.device)], dim=0\n"
     ]
    },
    {
     "name": "stdout",
     "output_type": "stream",
     "text": [
      "Loss val pos:  tensor(0.3990)\n",
      "Loss val neg:  tensor(0.5438)\n",
      "Loss test pos:  tensor(0.3997)\n",
      "Loss test neg:  tensor(0.5423)\n",
      "ROC-AUC val:  0.8572728594306164\n",
      "ROC-AUC test:  0.8587446956701255\n"
     ]
    },
    {
     "name": "stderr",
     "output_type": "stream",
     "text": [
      "100%|██████████| 22/22 [00:05<00:00,  3.71it/s]\n"
     ]
    },
    {
     "name": "stdout",
     "output_type": "stream",
     "text": [
      "Train loss:  0.9199105148965662\n"
     ]
    },
    {
     "name": "stderr",
     "output_type": "stream",
     "text": [
      " 80%|████████  | 40/50 [05:58<01:26,  8.65s/it]/home/rgrebnev/Documents/ws_2023/sna/sna_link_prediction/notebooks/graphsage/graphsage.py:167: UserWarning: To copy construct from a tensor, it is recommended to use sourceTensor.clone().detach() or sourceTensor.clone().detach().requires_grad_(True), rather than torch.tensor(sourceTensor).\n",
      "  pos_train_edge = torch.tensor(pos_train_edge, dtype=torch.long).T\n",
      "/home/rgrebnev/Documents/ws_2023/sna/sna_link_prediction/notebooks/graphsage/graphsage.py:137: UserWarning: To copy construct from a tensor, it is recommended to use sourceTensor.clone().detach() or sourceTensor.clone().detach().requires_grad_(True), rather than torch.tensor(sourceTensor).\n",
      "  [edge_index[0], torch.tensor(unique_nodes[rand]).to(edge_index.device)], dim=0\n"
     ]
    },
    {
     "name": "stdout",
     "output_type": "stream",
     "text": [
      "Loss val pos:  tensor(0.3950)\n",
      "Loss val neg:  tensor(0.5453)\n",
      "Loss test pos:  tensor(0.3958)\n",
      "Loss test neg:  tensor(0.5437)\n",
      "ROC-AUC val:  0.8574286371221432\n",
      "ROC-AUC test:  0.858908449073242\n"
     ]
    },
    {
     "name": "stderr",
     "output_type": "stream",
     "text": [
      "100%|██████████| 22/22 [00:05<00:00,  3.69it/s]\n"
     ]
    },
    {
     "name": "stdout",
     "output_type": "stream",
     "text": [
      "Train loss:  0.9170810553160581\n"
     ]
    },
    {
     "name": "stderr",
     "output_type": "stream",
     "text": [
      " 82%|████████▏ | 41/50 [06:04<01:11,  7.99s/it]/home/rgrebnev/Documents/ws_2023/sna/sna_link_prediction/notebooks/graphsage/graphsage.py:167: UserWarning: To copy construct from a tensor, it is recommended to use sourceTensor.clone().detach() or sourceTensor.clone().detach().requires_grad_(True), rather than torch.tensor(sourceTensor).\n",
      "  pos_train_edge = torch.tensor(pos_train_edge, dtype=torch.long).T\n",
      "/home/rgrebnev/Documents/ws_2023/sna/sna_link_prediction/notebooks/graphsage/graphsage.py:137: UserWarning: To copy construct from a tensor, it is recommended to use sourceTensor.clone().detach() or sourceTensor.clone().detach().requires_grad_(True), rather than torch.tensor(sourceTensor).\n",
      "  [edge_index[0], torch.tensor(unique_nodes[rand]).to(edge_index.device)], dim=0\n"
     ]
    },
    {
     "name": "stdout",
     "output_type": "stream",
     "text": [
      "Loss val pos:  tensor(0.3879)\n",
      "Loss val neg:  tensor(0.5541)\n",
      "Loss test pos:  tensor(0.3887)\n",
      "Loss test neg:  tensor(0.5522)\n",
      "ROC-AUC val:  0.8571984732793947\n",
      "ROC-AUC test:  0.8585352634864847\n"
     ]
    },
    {
     "name": "stderr",
     "output_type": "stream",
     "text": [
      "100%|██████████| 22/22 [00:08<00:00,  2.55it/s]\n"
     ]
    },
    {
     "name": "stdout",
     "output_type": "stream",
     "text": [
      "Train loss:  0.9173408259044994\n"
     ]
    },
    {
     "name": "stderr",
     "output_type": "stream",
     "text": [
      " 84%|████████▍ | 42/50 [06:13<01:06,  8.35s/it]/home/rgrebnev/Documents/ws_2023/sna/sna_link_prediction/notebooks/graphsage/graphsage.py:167: UserWarning: To copy construct from a tensor, it is recommended to use sourceTensor.clone().detach() or sourceTensor.clone().detach().requires_grad_(True), rather than torch.tensor(sourceTensor).\n",
      "  pos_train_edge = torch.tensor(pos_train_edge, dtype=torch.long).T\n",
      "/home/rgrebnev/Documents/ws_2023/sna/sna_link_prediction/notebooks/graphsage/graphsage.py:137: UserWarning: To copy construct from a tensor, it is recommended to use sourceTensor.clone().detach() or sourceTensor.clone().detach().requires_grad_(True), rather than torch.tensor(sourceTensor).\n",
      "  [edge_index[0], torch.tensor(unique_nodes[rand]).to(edge_index.device)], dim=0\n"
     ]
    },
    {
     "name": "stdout",
     "output_type": "stream",
     "text": [
      "Loss val pos:  tensor(0.3995)\n",
      "Loss val neg:  tensor(0.5390)\n",
      "Loss test pos:  tensor(0.4002)\n",
      "Loss test neg:  tensor(0.5373)\n",
      "ROC-AUC val:  0.8573020799142442\n",
      "ROC-AUC test:  0.8587002365310852\n"
     ]
    },
    {
     "name": "stderr",
     "output_type": "stream",
     "text": [
      "100%|██████████| 22/22 [00:08<00:00,  2.48it/s]\n"
     ]
    },
    {
     "name": "stdout",
     "output_type": "stream",
     "text": [
      "Train loss:  0.9162987877022136\n"
     ]
    },
    {
     "name": "stderr",
     "output_type": "stream",
     "text": [
      " 86%|████████▌ | 43/50 [06:23<01:00,  8.67s/it]/home/rgrebnev/Documents/ws_2023/sna/sna_link_prediction/notebooks/graphsage/graphsage.py:167: UserWarning: To copy construct from a tensor, it is recommended to use sourceTensor.clone().detach() or sourceTensor.clone().detach().requires_grad_(True), rather than torch.tensor(sourceTensor).\n",
      "  pos_train_edge = torch.tensor(pos_train_edge, dtype=torch.long).T\n",
      "/home/rgrebnev/Documents/ws_2023/sna/sna_link_prediction/notebooks/graphsage/graphsage.py:137: UserWarning: To copy construct from a tensor, it is recommended to use sourceTensor.clone().detach() or sourceTensor.clone().detach().requires_grad_(True), rather than torch.tensor(sourceTensor).\n",
      "  [edge_index[0], torch.tensor(unique_nodes[rand]).to(edge_index.device)], dim=0\n"
     ]
    },
    {
     "name": "stdout",
     "output_type": "stream",
     "text": [
      "Loss val pos:  tensor(0.3946)\n",
      "Loss val neg:  tensor(0.5468)\n",
      "Loss test pos:  tensor(0.3954)\n",
      "Loss test neg:  tensor(0.5449)\n",
      "ROC-AUC val:  0.8573794948293391\n",
      "ROC-AUC test:  0.8588596821315311\n"
     ]
    },
    {
     "name": "stderr",
     "output_type": "stream",
     "text": [
      "100%|██████████| 22/22 [00:08<00:00,  2.51it/s]\n"
     ]
    },
    {
     "name": "stdout",
     "output_type": "stream",
     "text": [
      "Train loss:  0.9166725223714655\n"
     ]
    },
    {
     "name": "stderr",
     "output_type": "stream",
     "text": [
      " 88%|████████▊ | 44/50 [06:32<00:53,  8.88s/it]/home/rgrebnev/Documents/ws_2023/sna/sna_link_prediction/notebooks/graphsage/graphsage.py:167: UserWarning: To copy construct from a tensor, it is recommended to use sourceTensor.clone().detach() or sourceTensor.clone().detach().requires_grad_(True), rather than torch.tensor(sourceTensor).\n",
      "  pos_train_edge = torch.tensor(pos_train_edge, dtype=torch.long).T\n",
      "/home/rgrebnev/Documents/ws_2023/sna/sna_link_prediction/notebooks/graphsage/graphsage.py:137: UserWarning: To copy construct from a tensor, it is recommended to use sourceTensor.clone().detach() or sourceTensor.clone().detach().requires_grad_(True), rather than torch.tensor(sourceTensor).\n",
      "  [edge_index[0], torch.tensor(unique_nodes[rand]).to(edge_index.device)], dim=0\n"
     ]
    },
    {
     "name": "stdout",
     "output_type": "stream",
     "text": [
      "Loss val pos:  tensor(0.4070)\n",
      "Loss val neg:  tensor(0.5309)\n",
      "Loss test pos:  tensor(0.4078)\n",
      "Loss test neg:  tensor(0.5297)\n",
      "ROC-AUC val:  0.857481977407458\n",
      "ROC-AUC test:  0.8589745313302363\n"
     ]
    },
    {
     "name": "stderr",
     "output_type": "stream",
     "text": [
      "100%|██████████| 22/22 [00:10<00:00,  2.12it/s]\n"
     ]
    },
    {
     "name": "stdout",
     "output_type": "stream",
     "text": [
      "Train loss:  0.9139101694930684\n"
     ]
    },
    {
     "name": "stderr",
     "output_type": "stream",
     "text": [
      " 90%|█████████ | 45/50 [06:43<00:47,  9.48s/it]/home/rgrebnev/Documents/ws_2023/sna/sna_link_prediction/notebooks/graphsage/graphsage.py:167: UserWarning: To copy construct from a tensor, it is recommended to use sourceTensor.clone().detach() or sourceTensor.clone().detach().requires_grad_(True), rather than torch.tensor(sourceTensor).\n",
      "  pos_train_edge = torch.tensor(pos_train_edge, dtype=torch.long).T\n",
      "/home/rgrebnev/Documents/ws_2023/sna/sna_link_prediction/notebooks/graphsage/graphsage.py:137: UserWarning: To copy construct from a tensor, it is recommended to use sourceTensor.clone().detach() or sourceTensor.clone().detach().requires_grad_(True), rather than torch.tensor(sourceTensor).\n",
      "  [edge_index[0], torch.tensor(unique_nodes[rand]).to(edge_index.device)], dim=0\n"
     ]
    },
    {
     "name": "stdout",
     "output_type": "stream",
     "text": [
      "Loss val pos:  tensor(0.4010)\n",
      "Loss val neg:  tensor(0.5383)\n",
      "Loss test pos:  tensor(0.4015)\n",
      "Loss test neg:  tensor(0.5372)\n",
      "ROC-AUC val:  0.8573099732682139\n",
      "ROC-AUC test:  0.8587373845595734\n"
     ]
    },
    {
     "name": "stderr",
     "output_type": "stream",
     "text": [
      "100%|██████████| 22/22 [00:07<00:00,  2.78it/s]\n"
     ]
    },
    {
     "name": "stdout",
     "output_type": "stream",
     "text": [
      "Train loss:  0.9164523184299469\n"
     ]
    },
    {
     "name": "stderr",
     "output_type": "stream",
     "text": [
      " 92%|█████████▏| 46/50 [06:51<00:36,  9.14s/it]/home/rgrebnev/Documents/ws_2023/sna/sna_link_prediction/notebooks/graphsage/graphsage.py:167: UserWarning: To copy construct from a tensor, it is recommended to use sourceTensor.clone().detach() or sourceTensor.clone().detach().requires_grad_(True), rather than torch.tensor(sourceTensor).\n",
      "  pos_train_edge = torch.tensor(pos_train_edge, dtype=torch.long).T\n",
      "/home/rgrebnev/Documents/ws_2023/sna/sna_link_prediction/notebooks/graphsage/graphsage.py:137: UserWarning: To copy construct from a tensor, it is recommended to use sourceTensor.clone().detach() or sourceTensor.clone().detach().requires_grad_(True), rather than torch.tensor(sourceTensor).\n",
      "  [edge_index[0], torch.tensor(unique_nodes[rand]).to(edge_index.device)], dim=0\n"
     ]
    },
    {
     "name": "stdout",
     "output_type": "stream",
     "text": [
      "Loss val pos:  tensor(0.4210)\n",
      "Loss val neg:  tensor(0.5160)\n",
      "Loss test pos:  tensor(0.4217)\n",
      "Loss test neg:  tensor(0.5149)\n",
      "ROC-AUC val:  0.8575120269577954\n",
      "ROC-AUC test:  0.8589423444748718\n"
     ]
    },
    {
     "name": "stderr",
     "output_type": "stream",
     "text": [
      "100%|██████████| 22/22 [00:07<00:00,  2.80it/s]\n"
     ]
    },
    {
     "name": "stdout",
     "output_type": "stream",
     "text": [
      "Train loss:  0.9131223830309781\n"
     ]
    },
    {
     "name": "stderr",
     "output_type": "stream",
     "text": [
      " 94%|█████████▍| 47/50 [07:00<00:26,  8.88s/it]/home/rgrebnev/Documents/ws_2023/sna/sna_link_prediction/notebooks/graphsage/graphsage.py:167: UserWarning: To copy construct from a tensor, it is recommended to use sourceTensor.clone().detach() or sourceTensor.clone().detach().requires_grad_(True), rather than torch.tensor(sourceTensor).\n",
      "  pos_train_edge = torch.tensor(pos_train_edge, dtype=torch.long).T\n",
      "/home/rgrebnev/Documents/ws_2023/sna/sna_link_prediction/notebooks/graphsage/graphsage.py:137: UserWarning: To copy construct from a tensor, it is recommended to use sourceTensor.clone().detach() or sourceTensor.clone().detach().requires_grad_(True), rather than torch.tensor(sourceTensor).\n",
      "  [edge_index[0], torch.tensor(unique_nodes[rand]).to(edge_index.device)], dim=0\n"
     ]
    },
    {
     "name": "stdout",
     "output_type": "stream",
     "text": [
      "Loss val pos:  tensor(0.4027)\n",
      "Loss val neg:  tensor(0.5386)\n",
      "Loss test pos:  tensor(0.4034)\n",
      "Loss test neg:  tensor(0.5375)\n",
      "ROC-AUC val:  0.8572013036362736\n",
      "ROC-AUC test:  0.8585296888738749\n"
     ]
    },
    {
     "name": "stderr",
     "output_type": "stream",
     "text": [
      "100%|██████████| 22/22 [00:07<00:00,  2.84it/s]\n"
     ]
    },
    {
     "name": "stdout",
     "output_type": "stream",
     "text": [
      "Train loss:  0.9132516275752675\n",
      "Loss val pos:  tensor(0.4041)\n",
      "Loss val neg:  tensor(0.5374)\n",
      "Loss test pos:  tensor(0.4047)\n",
      "Loss test neg:  tensor(0.5360)\n",
      "ROC-AUC val:  0.8572874454642814\n"
     ]
    },
    {
     "name": "stderr",
     "output_type": "stream",
     "text": [
      " 96%|█████████▌| 48/50 [07:09<00:17,  8.91s/it]/home/rgrebnev/Documents/ws_2023/sna/sna_link_prediction/notebooks/graphsage/graphsage.py:167: UserWarning: To copy construct from a tensor, it is recommended to use sourceTensor.clone().detach() or sourceTensor.clone().detach().requires_grad_(True), rather than torch.tensor(sourceTensor).\n",
      "  pos_train_edge = torch.tensor(pos_train_edge, dtype=torch.long).T\n",
      "/home/rgrebnev/Documents/ws_2023/sna/sna_link_prediction/notebooks/graphsage/graphsage.py:137: UserWarning: To copy construct from a tensor, it is recommended to use sourceTensor.clone().detach() or sourceTensor.clone().detach().requires_grad_(True), rather than torch.tensor(sourceTensor).\n",
      "  [edge_index[0], torch.tensor(unique_nodes[rand]).to(edge_index.device)], dim=0\n"
     ]
    },
    {
     "name": "stdout",
     "output_type": "stream",
     "text": [
      "ROC-AUC test:  0.8587205296982576\n"
     ]
    },
    {
     "name": "stderr",
     "output_type": "stream",
     "text": [
      "100%|██████████| 22/22 [00:07<00:00,  2.76it/s]\n"
     ]
    },
    {
     "name": "stdout",
     "output_type": "stream",
     "text": [
      "Train loss:  0.9133414301005277\n"
     ]
    },
    {
     "name": "stderr",
     "output_type": "stream",
     "text": [
      " 98%|█████████▊| 49/50 [07:17<00:08,  8.80s/it]/home/rgrebnev/Documents/ws_2023/sna/sna_link_prediction/notebooks/graphsage/graphsage.py:167: UserWarning: To copy construct from a tensor, it is recommended to use sourceTensor.clone().detach() or sourceTensor.clone().detach().requires_grad_(True), rather than torch.tensor(sourceTensor).\n",
      "  pos_train_edge = torch.tensor(pos_train_edge, dtype=torch.long).T\n",
      "/home/rgrebnev/Documents/ws_2023/sna/sna_link_prediction/notebooks/graphsage/graphsage.py:137: UserWarning: To copy construct from a tensor, it is recommended to use sourceTensor.clone().detach() or sourceTensor.clone().detach().requires_grad_(True), rather than torch.tensor(sourceTensor).\n",
      "  [edge_index[0], torch.tensor(unique_nodes[rand]).to(edge_index.device)], dim=0\n"
     ]
    },
    {
     "name": "stdout",
     "output_type": "stream",
     "text": [
      "Loss val pos:  tensor(0.4032)\n",
      "Loss val neg:  tensor(0.5369)\n",
      "Loss test pos:  tensor(0.4038)\n",
      "Loss test neg:  tensor(0.5355)\n",
      "ROC-AUC val:  0.8575759818925042\n",
      "ROC-AUC test:  0.8590206293859176\n"
     ]
    },
    {
     "name": "stderr",
     "output_type": "stream",
     "text": [
      "100%|██████████| 22/22 [00:06<00:00,  3.61it/s]\n"
     ]
    },
    {
     "name": "stdout",
     "output_type": "stream",
     "text": [
      "Train loss:  0.913126064972444\n",
      "Epoch 50: loss: 0.91313\n"
     ]
    },
    {
     "name": "stderr",
     "output_type": "stream",
     "text": [
      "100%|██████████| 50/50 [07:24<00:00,  8.88s/it]"
     ]
    },
    {
     "name": "stdout",
     "output_type": "stream",
     "text": [
      "Loss val pos:  tensor(0.3996)\n",
      "Loss val neg:  tensor(0.5427)\n",
      "Loss test pos:  tensor(0.4003)\n",
      "Loss test neg:  tensor(0.5415)\n",
      "ROC-AUC val:  0.8574851332017209\n",
      "ROC-AUC test:  0.8588300818045763\n"
     ]
    },
    {
     "name": "stderr",
     "output_type": "stream",
     "text": [
      "\n"
     ]
    }
   ],
   "source": [
    "\n",
    "\n",
    "evaluator = Evaluator(name='ogbl-ddi')\n",
    "\n",
    "optimizer = torch.optim.Adam(\n",
    "    list(model.parameters()) + list(link_predictor.parameters()) + list(emb.parameters()),\n",
    "    lr=lr, weight_decay=optim_wd\n",
    ")\n",
    "edge_index = uu_dataset_graphsage.edge_index.to(device)\n",
    "\n",
    "train_loss = []\n",
    "loss_val_pos_list = []\n",
    "loss_val_neg_list = []\n",
    "loss_test_pos_list = []\n",
    "loss_test_neg_list = []\n",
    "hits_20 = []\n",
    "hits_50 = []\n",
    "hits_100 = []\n",
    "roc_auc_val = []\n",
    "roc_auc_test = []\n",
    "\n",
    "val_hits = []\n",
    "test_hits = []\n",
    "for e in tqdm(range(epochs)):\n",
    "    loss = train(model, link_predictor, emb.weight, edge_index, pos_train_edge, batch_size, optimizer)\n",
    "    train_loss.append(loss)\n",
    "    if (e+1)%50 == 0:\n",
    "        print(f\"Epoch {e + 1}: loss: {round(loss, 5)}\")\n",
    "    \n",
    "    result = test(model, link_predictor, emb.weight, edge_index, split_edge, batch_size, evaluator)\n",
    "    \n",
    "    loss_val_pos_list.append(result[\"loss_val_pos\"])\n",
    "    loss_val_neg_list.append(result[\"loss_val_neg\"])\n",
    "    loss_test_pos_list.append(result[\"loss_test_pos\"])\n",
    "    loss_test_neg_list.append(result[\"loss_test_neg\"])\n",
    "    hits_20.append(result[\"Hits@20\"])\n",
    "    hits_50.append(result[\"Hits@50\"])\n",
    "    hits_100.append(result[\"Hits@100\"])\n",
    "    roc_auc_val.append(result[\"roc_auc_val\"])\n",
    "    roc_auc_test.append(result[\"roc_auc_test\"])"
   ]
  },
  {
   "cell_type": "code",
   "execution_count": 23,
   "metadata": {},
   "outputs": [
    {
     "data": {
      "image/png": "[encoded data removed]",
      "text/plain": [
       "<Figure size 640x480 with 1 Axes>"
      ]
     },
     "metadata": {},
     "output_type": "display_data"
    }
   ],
   "source": [
    "plt.title('Loss for GraphSAGE GNN')\n",
    "plt.plot(train_loss,label=\"training loss\")\n",
    "# plt.plot(loss_val_pos_list,label=\"validation loss positive\")\n",
    "# plt.plot(loss_val_neg_list,label=\"validation loss negative\")\n",
    "plt.plot(loss_test_pos_list,label=\"test loss positive\")\n",
    "plt.plot(loss_test_neg_list,label=\"test loss negative\")\n",
    "plt.xlabel('Epochs')\n",
    "plt.legend()\n",
    "plt.show()"
   ]
  },
  {
   "cell_type": "code",
   "execution_count": 36,
   "metadata": {},
   "outputs": [
    {
     "data": {
      "image/png": "[encoded data removed]",
      "text/plain": [
       "<Figure size 640x480 with 1 Axes>"
      ]
     },
     "metadata": {},
     "output_type": "display_data"
    }
   ],
   "source": [
    "plt.title('Top K hit rate for GraphSAGE GNN')\n",
    "plt.plot([a for a, b in hits_20],label=\"hits@20\")\n",
    "plt.plot([a for a, b in hits_50],label=\"hits@50\")\n",
    "plt.plot([a for a, b in hits_100],label=\"hits@100\")\n",
    "plt.xlabel('Epochs')\n",
    "plt.legend()\n",
    "plt.show()"
   ]
  },
  {
   "cell_type": "code",
   "execution_count": 38,
   "metadata": {},
   "outputs": [
    {
     "data": {
      "image/png": "[encoded data removed]",
      "text/plain": [
       "<Figure size 640x480 with 1 Axes>"
      ]
     },
     "metadata": {},
     "output_type": "display_data"
    }
   ],
   "source": [
    "plt.title('Link Prediction using GraphSAGE GNN')\n",
    "# plt.plot(roc_auc_val,label=\"ROC-AUC validation\")\n",
    "plt.plot(roc_auc_test,label=\"ROC-AUC test\")\n",
    "plt.xlabel('Epochs')\n",
    "plt.legend()\n",
    "plt.show()"
   ]
  },
  {
   "cell_type": "code",
   "execution_count": null,
   "metadata": {},
   "outputs": [],
   "source": []
  }
 ],
 "metadata": {
  "kernelspec": {
   "display_name": "sna_link_prediction",
   "language": "python",
   "name": "python3"
  },
  "language_info": {
   "codemirror_mode": {
    "name": "ipython",
    "version": 3
   },
   "file_extension": ".py",
   "mimetype": "text/x-python",
   "name": "python",
   "nbconvert_exporter": "python",
   "pygments_lexer": "ipython3",
   "version": "3.9.18"
  }
 },
 "nbformat": 4,
 "nbformat_minor": 2
}
