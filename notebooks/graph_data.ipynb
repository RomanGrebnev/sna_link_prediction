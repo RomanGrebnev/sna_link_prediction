{
 "cells": [
  {
   "cell_type": "markdown",
   "metadata": {},
   "source": [
    "# Present graphs"
   ]
  },
  {
   "cell_type": "markdown",
   "metadata": {},
   "source": [
    "### Load graphs"
   ]
  },
  {
   "cell_type": "code",
   "execution_count": 1,
   "metadata": {},
   "outputs": [],
   "source": [
    "import os\n",
    "import pandas as pd\n",
    "import networkx as nx\n",
    "import scipy.sparse as sp\n",
    "import numpy as np\n",
    "from scipy.sparse import csr_matrix\n",
    "from scipy.sparse.csgraph import connected_components\n",
    "from scipy.sparse.linalg import norm"
   ]
  },
  {
   "cell_type": "code",
   "execution_count": 2,
   "metadata": {},
   "outputs": [],
   "source": [
    "# load the graphs from data/graphs/\n",
    "g_user_article_interaction = nx.read_graphml(\"../data/graphs/g_user_article_interaction.graphml\")\n",
    "user_user_projection = sp.load_npz(\"../data/graphs/user_user_projection_matmul.npz\")\n",
    "# user_user_projection = nx.from_scipy_sparse_array(user_user_projection)"
   ]
  },
  {
   "cell_type": "markdown",
   "metadata": {},
   "source": [
    "### Get indicators"
   ]
  },
  {
   "cell_type": "code",
   "execution_count": 3,
   "metadata": {},
   "outputs": [
    {
     "data": {
      "text/plain": [
       "{'Nodes': 38054,\n",
       " 'Edges': 895196,\n",
       " 'Directed graph': False,\n",
       " 'Weighted graph': False,\n",
       " 'Bipartite graph': True,\n",
       " 'Density': 0.0012363997645299827,\n",
       " 'Connected_component': 11,\n",
       " 'Average Degree': 47.04872023965943}"
      ]
     },
     "execution_count": 3,
     "metadata": {},
     "output_type": "execute_result"
    }
   ],
   "source": [
    "indicators_g_user_article_interaction = {\n",
    "    'Nodes': g_user_article_interaction.number_of_nodes(),\n",
    "    'Edges': g_user_article_interaction.number_of_edges(),\n",
    "    'Directed graph': g_user_article_interaction.is_directed(),\n",
    "    'Weighted graph': nx.is_weighted(g_user_article_interaction),\n",
    "    'Bipartite graph': nx.is_bipartite(g_user_article_interaction),\n",
    "    'Density': nx.density(g_user_article_interaction),\n",
    "    'Connected_component': nx.number_connected_components(g_user_article_interaction),\n",
    "    'Average Degree': np.sum(list(dict(g_user_article_interaction.degree()).values()))/g_user_article_interaction.number_of_nodes(), #The node degree is the number of edges adjacent to the node\n",
    "    }\n",
    "indicators_g_user_article_interaction"
   ]
  },
  {
   "cell_type": "code",
   "execution_count": 4,
   "metadata": {},
   "outputs": [
    {
     "data": {
      "text/plain": [
       "{'Nodes': 33703,\n",
       " 'Edges': 272508835,\n",
       " 'Directed graph': False,\n",
       " 'Weighted graph': True,\n",
       " 'Bipartite graph': False,\n",
       " 'Density': 0.2399144202913598}"
      ]
     },
     "execution_count": 4,
     "metadata": {},
     "output_type": "execute_result"
    }
   ],
   "source": [
    "# Assuming user_user_projection is a scipy sparse matrix\n",
    "user_user_projection_csr = csr_matrix(user_user_projection)\n",
    "# Create a dictionary with the computed indicators\n",
    "indicators_user_user_projection = {\n",
    "    'Nodes': user_user_projection_csr.shape[0],\n",
    "    'Edges': user_user_projection_csr.nnz,\n",
    "    'Directed graph': False,\n",
    "    'Weighted graph': True,\n",
    "    'Bipartite graph': False,\n",
    "    'Density': user_user_projection_csr.nnz/(user_user_projection_csr.shape[0]*(user_user_projection_csr.shape[0]-1)),\n",
    "}\n",
    "\n",
    "indicators_user_user_projection\n"
   ]
  },
  {
   "cell_type": "code",
   "execution_count": 5,
   "metadata": {},
   "outputs": [
    {
     "data": {
      "text/html": [
       "<div>\n",
       "<style scoped>\n",
       "    .dataframe tbody tr th:only-of-type {\n",
       "        vertical-align: middle;\n",
       "    }\n",
       "\n",
       "    .dataframe tbody tr th {\n",
       "        vertical-align: top;\n",
       "    }\n",
       "\n",
       "    .dataframe thead th {\n",
       "        text-align: right;\n",
       "    }\n",
       "</style>\n",
       "<table border=\"1\" class=\"dataframe\">\n",
       "  <thead>\n",
       "    <tr style=\"text-align: right;\">\n",
       "      <th></th>\n",
       "      <th>Nodes</th>\n",
       "      <th>Edges</th>\n",
       "      <th>Directed graph</th>\n",
       "      <th>Weighted graph</th>\n",
       "      <th>Bipartite graph</th>\n",
       "      <th>Density</th>\n",
       "      <th>Connected_component</th>\n",
       "      <th>Average Degree</th>\n",
       "    </tr>\n",
       "  </thead>\n",
       "  <tbody>\n",
       "    <tr>\n",
       "      <th>g_user_article_interaction</th>\n",
       "      <td>38054</td>\n",
       "      <td>895196</td>\n",
       "      <td>False</td>\n",
       "      <td>False</td>\n",
       "      <td>True</td>\n",
       "      <td>0.001236</td>\n",
       "      <td>11.0</td>\n",
       "      <td>47.04872</td>\n",
       "    </tr>\n",
       "    <tr>\n",
       "      <th>user_user_projection</th>\n",
       "      <td>33703</td>\n",
       "      <td>272508835</td>\n",
       "      <td>False</td>\n",
       "      <td>True</td>\n",
       "      <td>False</td>\n",
       "      <td>0.239914</td>\n",
       "      <td>NaN</td>\n",
       "      <td>NaN</td>\n",
       "    </tr>\n",
       "  </tbody>\n",
       "</table>\n",
       "</div>"
      ],
      "text/plain": [
       "                            Nodes      Edges  Directed graph  Weighted graph  \\\n",
       "g_user_article_interaction  38054     895196           False           False   \n",
       "user_user_projection        33703  272508835           False            True   \n",
       "\n",
       "                            Bipartite graph   Density  Connected_component  \\\n",
       "g_user_article_interaction             True  0.001236                 11.0   \n",
       "user_user_projection                  False  0.239914                  NaN   \n",
       "\n",
       "                            Average Degree  \n",
       "g_user_article_interaction        47.04872  \n",
       "user_user_projection                   NaN  "
      ]
     },
     "execution_count": 5,
     "metadata": {},
     "output_type": "execute_result"
    }
   ],
   "source": [
    "df = pd.DataFrame([indicators_g_user_article_interaction, indicators_user_user_projection], index=['g_user_article_interaction', 'user_user_projection'])\n",
    "\n",
    "df"
   ]
  }
 ],
 "metadata": {
  "kernelspec": {
   "display_name": "adbs",
   "language": "python",
   "name": "python3"
  },
  "language_info": {
   "codemirror_mode": {
    "name": "ipython",
    "version": 3
   },
   "file_extension": ".py",
   "mimetype": "text/x-python",
   "name": "python",
   "nbconvert_exporter": "python",
   "pygments_lexer": "ipython3",
   "version": "3.10.10"
  }
 },
 "nbformat": 4,
 "nbformat_minor": 2
}
