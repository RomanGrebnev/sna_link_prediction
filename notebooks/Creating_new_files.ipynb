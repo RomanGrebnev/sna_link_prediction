{
 "cells": [
  {
   "cell_type": "markdown",
   "source": [
    "## Creating new files\n",
    "This notebook is for making new files from the existing files, to restructure the data in a more compact way. "
   ],
   "metadata": {
    "collapsed": false
   },
   "id": "ed19699461356baa"
  },
  {
   "cell_type": "code",
   "execution_count": 3,
   "id": "initial_id",
   "metadata": {
    "collapsed": true,
    "ExecuteTime": {
     "end_time": "2023-12-07T18:14:01.841224Z",
     "start_time": "2023-12-07T18:14:01.837543Z"
    }
   },
   "outputs": [],
   "source": [
    "import pandas as pd\n",
    "import os"
   ]
  },
  {
   "cell_type": "code",
   "execution_count": 4,
   "outputs": [
    {
     "data": {
      "text/plain": "'/Users/emilejohnston/DataspellProjects/sna_link_prediction'"
     },
     "execution_count": 4,
     "metadata": {},
     "output_type": "execute_result"
    }
   ],
   "source": [
    "os.chdir('/Users/emilejohnston/DataspellProjects/sna_link_prediction')\n",
    "os.getcwd()"
   ],
   "metadata": {
    "collapsed": false,
    "ExecuteTime": {
     "end_time": "2023-12-07T18:14:15.761209Z",
     "start_time": "2023-12-07T18:14:15.758326Z"
    }
   },
   "id": "20971180d1c75d37"
  },
  {
   "cell_type": "code",
   "execution_count": 5,
   "outputs": [],
   "source": [
    "Users_postings = pd.read_csv('data/Users_postings.csv')\n",
    "Users_votes = pd.read_csv('data/Users_votes.csv')"
   ],
   "metadata": {
    "collapsed": false,
    "ExecuteTime": {
     "end_time": "2023-12-07T18:14:17.192137Z",
     "start_time": "2023-12-07T18:14:17.133272Z"
    }
   },
   "id": "eb53ee37e99becc6"
  },
  {
   "cell_type": "code",
   "execution_count": 6,
   "outputs": [
    {
     "name": "stdout",
     "output_type": "stream",
     "text": [
      "Users_postings shape: (23925, 4)\n",
      "Users_votes shape: (29933, 4)\n"
     ]
    }
   ],
   "source": [
    "print(f'Users_postings shape: {Users_postings.shape}')\n",
    "print(f'Users_votes shape: {Users_votes.shape}')"
   ],
   "metadata": {
    "collapsed": false,
    "ExecuteTime": {
     "end_time": "2023-12-07T18:16:43.759619Z",
     "start_time": "2023-12-07T18:16:43.755996Z"
    }
   },
   "id": "15caaad197e2e39a"
  },
  {
   "cell_type": "code",
   "execution_count": 9,
   "outputs": [
    {
     "data": {
      "text/plain": "       ID_CommunityIdentity  UserCommunityName UserGender  \\\n0                    671476        Ravenspower        NaN   \n1                    566938         AlphaRomeo          m   \n2                    669286         Hpolditsch        NaN   \n3                    523527       icecold_lips          m   \n4                     74674  GuteNachtSchaukel        NaN   \n...                     ...                ...        ...   \n29919                686624            Exergon        NaN   \n29921                694405        CocoJumbo69        NaN   \n29924                600222             CX7000          m   \n29930                653670               hela        NaN   \n29931                694305      ala.tobischek        NaN   \n\n                 UserCreatedAt  \n0      2018-04-14 13:42:28.470  \n1      2015-08-28 17:07:41.110  \n2      2018-03-06 20:03:42.737  \n3      2013-09-04 12:37:09.603  \n4      2007-04-02 20:34:49.397  \n...                        ...  \n29919  2019-01-24 09:32:46.097  \n29921  2019-01-27 14:40:52.147  \n29924  2005-07-08 09:28:31.290  \n29930  2017-12-01 17:56:09.640  \n29931  2019-05-31 15:20:27.420  \n\n[33703 rows x 4 columns]",
      "text/html": "<div>\n<style scoped>\n    .dataframe tbody tr th:only-of-type {\n        vertical-align: middle;\n    }\n\n    .dataframe tbody tr th {\n        vertical-align: top;\n    }\n\n    .dataframe thead th {\n        text-align: right;\n    }\n</style>\n<table border=\"1\" class=\"dataframe\">\n  <thead>\n    <tr style=\"text-align: right;\">\n      <th></th>\n      <th>ID_CommunityIdentity</th>\n      <th>UserCommunityName</th>\n      <th>UserGender</th>\n      <th>UserCreatedAt</th>\n    </tr>\n  </thead>\n  <tbody>\n    <tr>\n      <th>0</th>\n      <td>671476</td>\n      <td>Ravenspower</td>\n      <td>NaN</td>\n      <td>2018-04-14 13:42:28.470</td>\n    </tr>\n    <tr>\n      <th>1</th>\n      <td>566938</td>\n      <td>AlphaRomeo</td>\n      <td>m</td>\n      <td>2015-08-28 17:07:41.110</td>\n    </tr>\n    <tr>\n      <th>2</th>\n      <td>669286</td>\n      <td>Hpolditsch</td>\n      <td>NaN</td>\n      <td>2018-03-06 20:03:42.737</td>\n    </tr>\n    <tr>\n      <th>3</th>\n      <td>523527</td>\n      <td>icecold_lips</td>\n      <td>m</td>\n      <td>2013-09-04 12:37:09.603</td>\n    </tr>\n    <tr>\n      <th>4</th>\n      <td>74674</td>\n      <td>GuteNachtSchaukel</td>\n      <td>NaN</td>\n      <td>2007-04-02 20:34:49.397</td>\n    </tr>\n    <tr>\n      <th>...</th>\n      <td>...</td>\n      <td>...</td>\n      <td>...</td>\n      <td>...</td>\n    </tr>\n    <tr>\n      <th>29919</th>\n      <td>686624</td>\n      <td>Exergon</td>\n      <td>NaN</td>\n      <td>2019-01-24 09:32:46.097</td>\n    </tr>\n    <tr>\n      <th>29921</th>\n      <td>694405</td>\n      <td>CocoJumbo69</td>\n      <td>NaN</td>\n      <td>2019-01-27 14:40:52.147</td>\n    </tr>\n    <tr>\n      <th>29924</th>\n      <td>600222</td>\n      <td>CX7000</td>\n      <td>m</td>\n      <td>2005-07-08 09:28:31.290</td>\n    </tr>\n    <tr>\n      <th>29930</th>\n      <td>653670</td>\n      <td>hela</td>\n      <td>NaN</td>\n      <td>2017-12-01 17:56:09.640</td>\n    </tr>\n    <tr>\n      <th>29931</th>\n      <td>694305</td>\n      <td>ala.tobischek</td>\n      <td>NaN</td>\n      <td>2019-05-31 15:20:27.420</td>\n    </tr>\n  </tbody>\n</table>\n<p>33703 rows × 4 columns</p>\n</div>"
     },
     "execution_count": 9,
     "metadata": {},
     "output_type": "execute_result"
    }
   ],
   "source": [
    "Users = pd.concat([Users_postings, Users_votes]).drop_duplicates()\n",
    "Users"
   ],
   "metadata": {
    "collapsed": false,
    "ExecuteTime": {
     "end_time": "2023-12-07T18:18:22.060682Z",
     "start_time": "2023-12-07T18:18:22.027772Z"
    }
   },
   "id": "a640c019bc2bcf85"
  },
  {
   "cell_type": "code",
   "execution_count": 10,
   "outputs": [],
   "source": [
    "Users.to_csv('data/Users.csv', index=False)"
   ],
   "metadata": {
    "collapsed": false,
    "ExecuteTime": {
     "end_time": "2023-12-07T18:18:36.595244Z",
     "start_time": "2023-12-07T18:18:36.534542Z"
    }
   },
   "id": "1f7da4f74265d53f"
  },
  {
   "cell_type": "code",
   "execution_count": null,
   "outputs": [],
   "source": [
    "# test"
   ],
   "metadata": {
    "collapsed": false
   },
   "id": "10164396f5c6aef8"
  }
 ],
 "metadata": {
  "kernelspec": {
   "display_name": "Python 3",
   "language": "python",
   "name": "python3"
  },
  "language_info": {
   "codemirror_mode": {
    "name": "ipython",
    "version": 2
   },
   "file_extension": ".py",
   "mimetype": "text/x-python",
   "name": "python",
   "nbconvert_exporter": "python",
   "pygments_lexer": "ipython2",
   "version": "2.7.6"
  }
 },
 "nbformat": 4,
 "nbformat_minor": 5
}
