{
 "cells": [
  {
   "cell_type": "markdown",
   "id": "df097883512ede4e",
   "metadata": {
    "collapsed": false
   },
   "source": [
    "## Data exploration in the following-ignoring dataset\n"
   ]
  },
  {
   "cell_type": "code",
   "execution_count": 1,
   "id": "f2c56ae553eee983",
   "metadata": {
    "ExecuteTime": {
     "end_time": "2024-01-08T18:31:09.857199Z",
     "start_time": "2024-01-08T18:31:09.464977Z"
    },
    "collapsed": false
   },
   "outputs": [],
   "source": [
    "import pandas as pd\n",
    "import os"
   ]
  },
  {
   "cell_type": "code",
   "execution_count": 2,
   "id": "d1ba656e3eb9afac",
   "metadata": {
    "ExecuteTime": {
     "end_time": "2024-01-08T18:31:14.216625Z",
     "start_time": "2024-01-08T18:31:14.194711Z"
    },
    "collapsed": false
   },
   "outputs": [
    {
     "data": {
      "text/plain": [
       "'/Users/emilejohnston/DataspellProjects/sna_link_prediction'"
      ]
     },
     "execution_count": 2,
     "metadata": {},
     "output_type": "execute_result"
    }
   ],
   "source": [
    "os.getcwd()"
   ]
  },
  {
   "cell_type": "code",
   "execution_count": 3,
   "id": "789a1036a1fd0eb4",
   "metadata": {
    "ExecuteTime": {
     "end_time": "2024-01-08T18:31:15.086313Z",
     "start_time": "2024-01-08T18:31:15.051637Z"
    },
    "collapsed": false
   },
   "outputs": [
    {
     "data": {
      "text/html": [
       "<div>\n",
       "<style scoped>\n",
       "    .dataframe tbody tr th:only-of-type {\n",
       "        vertical-align: middle;\n",
       "    }\n",
       "\n",
       "    .dataframe tbody tr th {\n",
       "        vertical-align: top;\n",
       "    }\n",
       "\n",
       "    .dataframe thead th {\n",
       "        text-align: right;\n",
       "    }\n",
       "</style>\n",
       "<table border=\"1\" class=\"dataframe\">\n",
       "  <thead>\n",
       "    <tr style=\"text-align: right;\">\n",
       "      <th></th>\n",
       "      <th>ID_CommunityIdentity</th>\n",
       "      <th>ID_CommunityIdentityConnectedTo</th>\n",
       "      <th>ID_CommunityConnectionType</th>\n",
       "    </tr>\n",
       "  </thead>\n",
       "  <tbody>\n",
       "    <tr>\n",
       "      <th>0</th>\n",
       "      <td>1778</td>\n",
       "      <td>246490</td>\n",
       "      <td>1</td>\n",
       "    </tr>\n",
       "    <tr>\n",
       "      <th>1</th>\n",
       "      <td>5872</td>\n",
       "      <td>5872</td>\n",
       "      <td>1</td>\n",
       "    </tr>\n",
       "    <tr>\n",
       "      <th>2</th>\n",
       "      <td>9030</td>\n",
       "      <td>23875</td>\n",
       "      <td>1</td>\n",
       "    </tr>\n",
       "    <tr>\n",
       "      <th>3</th>\n",
       "      <td>9030</td>\n",
       "      <td>508504</td>\n",
       "      <td>1</td>\n",
       "    </tr>\n",
       "    <tr>\n",
       "      <th>4</th>\n",
       "      <td>10569</td>\n",
       "      <td>10569</td>\n",
       "      <td>1</td>\n",
       "    </tr>\n",
       "    <tr>\n",
       "      <th>...</th>\n",
       "      <td>...</td>\n",
       "      <td>...</td>\n",
       "      <td>...</td>\n",
       "    </tr>\n",
       "    <tr>\n",
       "      <th>86771</th>\n",
       "      <td>686549</td>\n",
       "      <td>686549</td>\n",
       "      <td>1</td>\n",
       "    </tr>\n",
       "    <tr>\n",
       "      <th>86772</th>\n",
       "      <td>689023</td>\n",
       "      <td>578323</td>\n",
       "      <td>1</td>\n",
       "    </tr>\n",
       "    <tr>\n",
       "      <th>86773</th>\n",
       "      <td>689023</td>\n",
       "      <td>691306</td>\n",
       "      <td>1</td>\n",
       "    </tr>\n",
       "    <tr>\n",
       "      <th>86774</th>\n",
       "      <td>689023</td>\n",
       "      <td>691885</td>\n",
       "      <td>1</td>\n",
       "    </tr>\n",
       "    <tr>\n",
       "      <th>86775</th>\n",
       "      <td>692601</td>\n",
       "      <td>692601</td>\n",
       "      <td>1</td>\n",
       "    </tr>\n",
       "  </tbody>\n",
       "</table>\n",
       "<p>86776 rows × 3 columns</p>\n",
       "</div>"
      ],
      "text/plain": [
       "       ID_CommunityIdentity  ID_CommunityIdentityConnectedTo  \\\n",
       "0                      1778                           246490   \n",
       "1                      5872                             5872   \n",
       "2                      9030                            23875   \n",
       "3                      9030                           508504   \n",
       "4                     10569                            10569   \n",
       "...                     ...                              ...   \n",
       "86771                686549                           686549   \n",
       "86772                689023                           578323   \n",
       "86773                689023                           691306   \n",
       "86774                689023                           691885   \n",
       "86775                692601                           692601   \n",
       "\n",
       "       ID_CommunityConnectionType  \n",
       "0                               1  \n",
       "1                               1  \n",
       "2                               1  \n",
       "3                               1  \n",
       "4                               1  \n",
       "...                           ...  \n",
       "86771                           1  \n",
       "86772                           1  \n",
       "86773                           1  \n",
       "86774                           1  \n",
       "86775                           1  \n",
       "\n",
       "[86776 rows x 3 columns]"
      ]
     },
     "execution_count": 3,
     "metadata": {},
     "output_type": "execute_result"
    }
   ],
   "source": [
    "following = pd.read_csv('../../data/Following_Ignoring_Relationships_01052019_31052019.csv', sep=';')\n",
    "following"
   ]
  },
  {
   "cell_type": "code",
   "execution_count": 5,
   "id": "4a28108ec87d71a8",
   "metadata": {
    "ExecuteTime": {
     "end_time": "2023-12-07T17:53:18.965331Z",
     "start_time": "2023-12-07T17:53:18.951307Z"
    },
    "collapsed": false
   },
   "outputs": [
    {
     "data": {
      "text/plain": [
       "ID_CommunityConnectionType\n",
       "1    57117\n",
       "2    29659\n",
       "Name: count, dtype: int64"
      ]
     },
     "execution_count": 5,
     "metadata": {},
     "output_type": "execute_result"
    }
   ],
   "source": [
    "following['ID_CommunityConnectionType'].value_counts()"
   ]
  },
  {
   "cell_type": "code",
   "execution_count": 6,
   "id": "796cfe24bc41ee31",
   "metadata": {
    "ExecuteTime": {
     "end_time": "2023-12-07T17:53:49.623480Z",
     "start_time": "2023-12-07T17:53:49.608018Z"
    },
    "collapsed": false
   },
   "outputs": [
    {
     "data": {
      "text/plain": [
       "11671"
      ]
     },
     "execution_count": 6,
     "metadata": {},
     "output_type": "execute_result"
    }
   ],
   "source": [
    "following['ID_CommunityIdentity'].nunique()"
   ]
  },
  {
   "cell_type": "code",
   "execution_count": 7,
   "id": "e766fe39ef8ce133",
   "metadata": {
    "ExecuteTime": {
     "end_time": "2023-12-07T17:54:00.949024Z",
     "start_time": "2023-12-07T17:54:00.934150Z"
    },
    "collapsed": false
   },
   "outputs": [
    {
     "data": {
      "text/plain": [
       "14445"
      ]
     },
     "execution_count": 7,
     "metadata": {},
     "output_type": "execute_result"
    }
   ],
   "source": [
    "following['ID_CommunityIdentityConnectedTo'].nunique()"
   ]
  },
  {
   "cell_type": "code",
   "execution_count": null,
   "id": "f71b4047249675f5",
   "metadata": {
    "collapsed": false
   },
   "outputs": [],
   "source": []
  }
 ],
 "metadata": {
  "kernelspec": {
   "display_name": "Python 3",
   "language": "python",
   "name": "python3"
  },
  "language_info": {
   "codemirror_mode": {
    "name": "ipython",
    "version": 2
   },
   "file_extension": ".py",
   "mimetype": "text/x-python",
   "name": "python",
   "nbconvert_exporter": "python",
   "pygments_lexer": "ipython2",
   "version": "2.7.6"
  }
 },
 "nbformat": 4,
 "nbformat_minor": 5
}
