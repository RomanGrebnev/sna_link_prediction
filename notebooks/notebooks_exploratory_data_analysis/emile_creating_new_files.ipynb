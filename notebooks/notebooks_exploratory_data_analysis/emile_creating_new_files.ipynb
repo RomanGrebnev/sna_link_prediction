{
 "cells": [
  {
   "cell_type": "markdown",
   "id": "ed19699461356baa",
   "metadata": {
    "collapsed": false
   },
   "source": [
    "# Creating new files\n",
    "This notebook is for making new files from the existing files, to restructure the data in a more compact way. "
   ]
  },
  {
   "cell_type": "code",
   "execution_count": 1,
   "id": "initial_id",
   "metadata": {
    "ExecuteTime": {
     "end_time": "2024-01-09T12:14:25.733002Z",
     "start_time": "2024-01-09T12:14:25.714160Z"
    },
    "collapsed": true
   },
   "outputs": [],
   "source": [
    "import pandas as pd\n",
    "import os"
   ]
  },
  {
   "cell_type": "code",
   "execution_count": 2,
   "id": "20971180d1c75d37",
   "metadata": {
    "ExecuteTime": {
     "end_time": "2024-01-09T12:14:26.423504Z",
     "start_time": "2024-01-09T12:14:26.391590Z"
    },
    "collapsed": false
   },
   "outputs": [
    {
     "data": {
      "text/plain": [
       "'/home/rgrebnev/Documents/ws_2023/sna/sna_link_prediction/notebooks/notebooks_exploratory_data_analysis'"
      ]
     },
     "execution_count": 2,
     "metadata": {},
     "output_type": "execute_result"
    }
   ],
   "source": [
    "os.getcwd()"
   ]
  },
  {
   "cell_type": "markdown",
   "id": "815532be0ee3c5cb",
   "metadata": {
    "collapsed": false
   },
   "source": [
    "## Reading the original files"
   ]
  },
  {
   "cell_type": "markdown",
   "id": "4b6ad36496845740",
   "metadata": {
    "collapsed": false
   },
   "source": [
    "### Reading the postings files"
   ]
  },
  {
   "cell_type": "code",
   "execution_count": 3,
   "id": "e022ae552189bd68",
   "metadata": {
    "ExecuteTime": {
     "end_time": "2024-01-09T12:14:32.782514Z",
     "start_time": "2024-01-09T12:14:28.082803Z"
    },
    "collapsed": false
   },
   "outputs": [
    {
     "data": {
      "text/html": [
       "<div>\n",
       "<style scoped>\n",
       "    .dataframe tbody tr th:only-of-type {\n",
       "        vertical-align: middle;\n",
       "    }\n",
       "\n",
       "    .dataframe tbody tr th {\n",
       "        vertical-align: top;\n",
       "    }\n",
       "\n",
       "    .dataframe thead th {\n",
       "        text-align: right;\n",
       "    }\n",
       "</style>\n",
       "<table border=\"1\" class=\"dataframe\">\n",
       "  <thead>\n",
       "    <tr style=\"text-align: right;\">\n",
       "      <th></th>\n",
       "      <th>ID_Posting</th>\n",
       "      <th>ID_Posting_Parent</th>\n",
       "      <th>ID_CommunityIdentity</th>\n",
       "      <th>PostingHeadline</th>\n",
       "      <th>PostingComment</th>\n",
       "      <th>PostingCreatedAt</th>\n",
       "      <th>ID_Article</th>\n",
       "      <th>ArticlePublishingDate</th>\n",
       "      <th>ArticleTitle</th>\n",
       "      <th>ArticleChannel</th>\n",
       "      <th>ArticleRessortName</th>\n",
       "      <th>UserCommunityName</th>\n",
       "      <th>UserGender</th>\n",
       "      <th>UserCreatedAt</th>\n",
       "    </tr>\n",
       "  </thead>\n",
       "  <tbody>\n",
       "    <tr>\n",
       "      <th>0</th>\n",
       "      <td>1041073586</td>\n",
       "      <td>1.041073e+09</td>\n",
       "      <td>671476</td>\n",
       "      <td>Das hat gestern bereits der Voggenhuber angefü...</td>\n",
       "      <td>schieder hatte dem inhaltlich nichts entgegenz...</td>\n",
       "      <td>2019-05-01 18:21:15.127</td>\n",
       "      <td>2000102330973</td>\n",
       "      <td>2019-05-01 10:28:57.49</td>\n",
       "      <td>1. Mai in Wien: SPÖ fordert von Strache Rücktritt</td>\n",
       "      <td>Inland</td>\n",
       "      <td>Parteien</td>\n",
       "      <td>Ravenspower</td>\n",
       "      <td>NaN</td>\n",
       "      <td>2018-04-14 13:42:28.470</td>\n",
       "    </tr>\n",
       "    <tr>\n",
       "      <th>1</th>\n",
       "      <td>1041073839</td>\n",
       "      <td>1.041073e+09</td>\n",
       "      <td>566938</td>\n",
       "      <td>NaN</td>\n",
       "      <td>...und meinen Bezirk bekommst du als Erbe mit.</td>\n",
       "      <td>2019-05-01 18:28:22.040</td>\n",
       "      <td>2000102330973</td>\n",
       "      <td>2019-05-01 10:28:57.49</td>\n",
       "      <td>1. Mai in Wien: SPÖ fordert von Strache Rücktritt</td>\n",
       "      <td>Inland</td>\n",
       "      <td>Parteien</td>\n",
       "      <td>AlphaRomeo</td>\n",
       "      <td>m</td>\n",
       "      <td>2015-08-28 17:07:41.110</td>\n",
       "    </tr>\n",
       "    <tr>\n",
       "      <th>2</th>\n",
       "      <td>1041073872</td>\n",
       "      <td>1.041069e+09</td>\n",
       "      <td>669286</td>\n",
       "      <td>NaN</td>\n",
       "      <td>Nein, bei der ÖVP/FPÖ genauso passiert. Ich wo...</td>\n",
       "      <td>2019-05-01 18:29:05.533</td>\n",
       "      <td>2000102330973</td>\n",
       "      <td>2019-05-01 10:28:57.49</td>\n",
       "      <td>1. Mai in Wien: SPÖ fordert von Strache Rücktritt</td>\n",
       "      <td>Inland</td>\n",
       "      <td>Parteien</td>\n",
       "      <td>Hpolditsch</td>\n",
       "      <td>NaN</td>\n",
       "      <td>2018-03-06 20:03:42.737</td>\n",
       "    </tr>\n",
       "    <tr>\n",
       "      <th>3</th>\n",
       "      <td>1041080734</td>\n",
       "      <td>1.041080e+09</td>\n",
       "      <td>671476</td>\n",
       "      <td>Sie haben doch nichts gefordert??</td>\n",
       "      <td>sie haben nur die regierung kritisiert. das di...</td>\n",
       "      <td>2019-05-01 22:37:56.010</td>\n",
       "      <td>2000102330973</td>\n",
       "      <td>2019-05-01 10:28:57.49</td>\n",
       "      <td>1. Mai in Wien: SPÖ fordert von Strache Rücktritt</td>\n",
       "      <td>Inland</td>\n",
       "      <td>Parteien</td>\n",
       "      <td>Ravenspower</td>\n",
       "      <td>NaN</td>\n",
       "      <td>2018-04-14 13:42:28.470</td>\n",
       "    </tr>\n",
       "    <tr>\n",
       "      <th>4</th>\n",
       "      <td>1041080828</td>\n",
       "      <td>NaN</td>\n",
       "      <td>671476</td>\n",
       "      <td>Heute wäre der perfekte Tag für die SPÖ gewese...</td>\n",
       "      <td>ihr noch nicht erfülltes versprechen, den silb...</td>\n",
       "      <td>2019-05-01 22:42:06.310</td>\n",
       "      <td>2000102330973</td>\n",
       "      <td>2019-05-01 10:28:57.49</td>\n",
       "      <td>1. Mai in Wien: SPÖ fordert von Strache Rücktritt</td>\n",
       "      <td>Inland</td>\n",
       "      <td>Parteien</td>\n",
       "      <td>Ravenspower</td>\n",
       "      <td>NaN</td>\n",
       "      <td>2018-04-14 13:42:28.470</td>\n",
       "    </tr>\n",
       "  </tbody>\n",
       "</table>\n",
       "</div>"
      ],
      "text/plain": [
       "   ID_Posting  ID_Posting_Parent  ID_CommunityIdentity  \\\n",
       "0  1041073586       1.041073e+09                671476   \n",
       "1  1041073839       1.041073e+09                566938   \n",
       "2  1041073872       1.041069e+09                669286   \n",
       "3  1041080734       1.041080e+09                671476   \n",
       "4  1041080828                NaN                671476   \n",
       "\n",
       "                                     PostingHeadline  \\\n",
       "0  Das hat gestern bereits der Voggenhuber angefü...   \n",
       "1                                                NaN   \n",
       "2                                                NaN   \n",
       "3                  Sie haben doch nichts gefordert??   \n",
       "4  Heute wäre der perfekte Tag für die SPÖ gewese...   \n",
       "\n",
       "                                      PostingComment         PostingCreatedAt  \\\n",
       "0  schieder hatte dem inhaltlich nichts entgegenz...  2019-05-01 18:21:15.127   \n",
       "1     ...und meinen Bezirk bekommst du als Erbe mit.  2019-05-01 18:28:22.040   \n",
       "2  Nein, bei der ÖVP/FPÖ genauso passiert. Ich wo...  2019-05-01 18:29:05.533   \n",
       "3  sie haben nur die regierung kritisiert. das di...  2019-05-01 22:37:56.010   \n",
       "4  ihr noch nicht erfülltes versprechen, den silb...  2019-05-01 22:42:06.310   \n",
       "\n",
       "      ID_Article   ArticlePublishingDate  \\\n",
       "0  2000102330973  2019-05-01 10:28:57.49   \n",
       "1  2000102330973  2019-05-01 10:28:57.49   \n",
       "2  2000102330973  2019-05-01 10:28:57.49   \n",
       "3  2000102330973  2019-05-01 10:28:57.49   \n",
       "4  2000102330973  2019-05-01 10:28:57.49   \n",
       "\n",
       "                                        ArticleTitle ArticleChannel  \\\n",
       "0  1. Mai in Wien: SPÖ fordert von Strache Rücktritt         Inland   \n",
       "1  1. Mai in Wien: SPÖ fordert von Strache Rücktritt         Inland   \n",
       "2  1. Mai in Wien: SPÖ fordert von Strache Rücktritt         Inland   \n",
       "3  1. Mai in Wien: SPÖ fordert von Strache Rücktritt         Inland   \n",
       "4  1. Mai in Wien: SPÖ fordert von Strache Rücktritt         Inland   \n",
       "\n",
       "  ArticleRessortName UserCommunityName UserGender            UserCreatedAt  \n",
       "0           Parteien       Ravenspower        NaN  2018-04-14 13:42:28.470  \n",
       "1           Parteien        AlphaRomeo          m  2015-08-28 17:07:41.110  \n",
       "2           Parteien        Hpolditsch        NaN  2018-03-06 20:03:42.737  \n",
       "3           Parteien       Ravenspower        NaN  2018-04-14 13:42:28.470  \n",
       "4           Parteien       Ravenspower        NaN  2018-04-14 13:42:28.470  "
      ]
     },
     "execution_count": 3,
     "metadata": {},
     "output_type": "execute_result"
    }
   ],
   "source": [
    "# Postings (comments under articles of Der Standard)\n",
    "posting_1 = pd.read_csv('../../data/Postings_01052019_15052019.csv', sep=';')\n",
    "posting_2 = pd.read_csv('../../data/Postings_16052019_31052019.csv', sep=';')\n",
    "postings = pd.concat([posting_1, posting_2])\n",
    "postings.head()"
   ]
  },
  {
   "cell_type": "markdown",
   "id": "faa2574570c6abf8",
   "metadata": {
    "collapsed": false
   },
   "source": [
    "### Reading the votes files"
   ]
  },
  {
   "cell_type": "code",
   "execution_count": 4,
   "id": "3057808010a13e81",
   "metadata": {
    "ExecuteTime": {
     "end_time": "2024-01-09T12:14:38.998407Z",
     "start_time": "2024-01-09T12:14:34.616176Z"
    },
    "collapsed": false
   },
   "outputs": [
    {
     "data": {
      "text/html": [
       "<div>\n",
       "<style scoped>\n",
       "    .dataframe tbody tr th:only-of-type {\n",
       "        vertical-align: middle;\n",
       "    }\n",
       "\n",
       "    .dataframe tbody tr th {\n",
       "        vertical-align: top;\n",
       "    }\n",
       "\n",
       "    .dataframe thead th {\n",
       "        text-align: right;\n",
       "    }\n",
       "</style>\n",
       "<table border=\"1\" class=\"dataframe\">\n",
       "  <thead>\n",
       "    <tr style=\"text-align: right;\">\n",
       "      <th></th>\n",
       "      <th>ID_CommunityIdentity</th>\n",
       "      <th>ID_Posting</th>\n",
       "      <th>VoteNegative</th>\n",
       "      <th>VotePositive</th>\n",
       "      <th>VoteCreatedAt</th>\n",
       "      <th>UserCommunityName</th>\n",
       "      <th>UserGender</th>\n",
       "      <th>UserCreatedAt</th>\n",
       "    </tr>\n",
       "  </thead>\n",
       "  <tbody>\n",
       "    <tr>\n",
       "      <th>0</th>\n",
       "      <td>675862</td>\n",
       "      <td>1041076570</td>\n",
       "      <td>1</td>\n",
       "      <td>0</td>\n",
       "      <td>2019-05-06 16:47:46.883</td>\n",
       "      <td>Heckscheibenwischer</td>\n",
       "      <td>m</td>\n",
       "      <td>2018-06-26 06:04:30.513</td>\n",
       "    </tr>\n",
       "    <tr>\n",
       "      <th>1</th>\n",
       "      <td>689023</td>\n",
       "      <td>1041076570</td>\n",
       "      <td>1</td>\n",
       "      <td>0</td>\n",
       "      <td>2019-05-01 22:19:06.240</td>\n",
       "      <td>Heinz Fettleber</td>\n",
       "      <td>NaN</td>\n",
       "      <td>2019-03-08 21:23:11.463</td>\n",
       "    </tr>\n",
       "    <tr>\n",
       "      <th>2</th>\n",
       "      <td>24810</td>\n",
       "      <td>1041076745</td>\n",
       "      <td>0</td>\n",
       "      <td>1</td>\n",
       "      <td>2019-05-01 23:54:54.600</td>\n",
       "      <td>Bruce Campbell</td>\n",
       "      <td>m</td>\n",
       "      <td>2011-01-12 16:50:40.597</td>\n",
       "    </tr>\n",
       "    <tr>\n",
       "      <th>3</th>\n",
       "      <td>673781</td>\n",
       "      <td>1041076745</td>\n",
       "      <td>0</td>\n",
       "      <td>1</td>\n",
       "      <td>2019-05-01 20:59:29.910</td>\n",
       "      <td>Erdäpfelsack</td>\n",
       "      <td>NaN</td>\n",
       "      <td>2018-05-29 07:13:49.350</td>\n",
       "    </tr>\n",
       "    <tr>\n",
       "      <th>4</th>\n",
       "      <td>24810</td>\n",
       "      <td>1041076831</td>\n",
       "      <td>0</td>\n",
       "      <td>1</td>\n",
       "      <td>2019-05-01 23:51:42.730</td>\n",
       "      <td>Bruce Campbell</td>\n",
       "      <td>m</td>\n",
       "      <td>2011-01-12 16:50:40.597</td>\n",
       "    </tr>\n",
       "  </tbody>\n",
       "</table>\n",
       "</div>"
      ],
      "text/plain": [
       "   ID_CommunityIdentity  ID_Posting  VoteNegative  VotePositive  \\\n",
       "0                675862  1041076570             1             0   \n",
       "1                689023  1041076570             1             0   \n",
       "2                 24810  1041076745             0             1   \n",
       "3                673781  1041076745             0             1   \n",
       "4                 24810  1041076831             0             1   \n",
       "\n",
       "             VoteCreatedAt    UserCommunityName UserGender  \\\n",
       "0  2019-05-06 16:47:46.883  Heckscheibenwischer          m   \n",
       "1  2019-05-01 22:19:06.240      Heinz Fettleber        NaN   \n",
       "2  2019-05-01 23:54:54.600       Bruce Campbell          m   \n",
       "3  2019-05-01 20:59:29.910         Erdäpfelsack        NaN   \n",
       "4  2019-05-01 23:51:42.730       Bruce Campbell          m   \n",
       "\n",
       "             UserCreatedAt  \n",
       "0  2018-06-26 06:04:30.513  \n",
       "1  2019-03-08 21:23:11.463  \n",
       "2  2011-01-12 16:50:40.597  \n",
       "3  2018-05-29 07:13:49.350  \n",
       "4  2011-01-12 16:50:40.597  "
      ]
     },
     "execution_count": 4,
     "metadata": {},
     "output_type": "execute_result"
    }
   ],
   "source": [
    "votes_1 = pd.read_csv('../../data//Votes_01052019_15052019.csv', sep=';')\n",
    "votes_2 = pd.read_csv('../../data//Votes_16052019_31052019.csv', sep=';')\n",
    "votes = pd.concat([votes_1, votes_2])\n",
    "votes.head()"
   ]
  },
  {
   "cell_type": "markdown",
   "id": "81b2027d760f7762",
   "metadata": {
    "collapsed": false
   },
   "source": [
    "### Reading the followings files"
   ]
  },
  {
   "cell_type": "code",
   "execution_count": 56,
   "id": "889ed55f60d86715",
   "metadata": {
    "ExecuteTime": {
     "end_time": "2024-01-09T12:14:42.012121Z",
     "start_time": "2024-01-09T12:14:41.956563Z"
    },
    "collapsed": false
   },
   "outputs": [
    {
     "data": {
      "text/html": [
       "<div>\n",
       "<style scoped>\n",
       "    .dataframe tbody tr th:only-of-type {\n",
       "        vertical-align: middle;\n",
       "    }\n",
       "\n",
       "    .dataframe tbody tr th {\n",
       "        vertical-align: top;\n",
       "    }\n",
       "\n",
       "    .dataframe thead th {\n",
       "        text-align: right;\n",
       "    }\n",
       "</style>\n",
       "<table border=\"1\" class=\"dataframe\">\n",
       "  <thead>\n",
       "    <tr style=\"text-align: right;\">\n",
       "      <th></th>\n",
       "      <th>ID_CommunityIdentity</th>\n",
       "      <th>ID_CommunityIdentityConnectedTo</th>\n",
       "      <th>ID_CommunityConnectionType</th>\n",
       "    </tr>\n",
       "  </thead>\n",
       "  <tbody>\n",
       "    <tr>\n",
       "      <th>0</th>\n",
       "      <td>1778</td>\n",
       "      <td>246490</td>\n",
       "      <td>1</td>\n",
       "    </tr>\n",
       "    <tr>\n",
       "      <th>1</th>\n",
       "      <td>5872</td>\n",
       "      <td>5872</td>\n",
       "      <td>1</td>\n",
       "    </tr>\n",
       "    <tr>\n",
       "      <th>2</th>\n",
       "      <td>9030</td>\n",
       "      <td>23875</td>\n",
       "      <td>1</td>\n",
       "    </tr>\n",
       "    <tr>\n",
       "      <th>3</th>\n",
       "      <td>9030</td>\n",
       "      <td>508504</td>\n",
       "      <td>1</td>\n",
       "    </tr>\n",
       "    <tr>\n",
       "      <th>4</th>\n",
       "      <td>10569</td>\n",
       "      <td>10569</td>\n",
       "      <td>1</td>\n",
       "    </tr>\n",
       "  </tbody>\n",
       "</table>\n",
       "</div>"
      ],
      "text/plain": [
       "   ID_CommunityIdentity  ID_CommunityIdentityConnectedTo  \\\n",
       "0                  1778                           246490   \n",
       "1                  5872                             5872   \n",
       "2                  9030                            23875   \n",
       "3                  9030                           508504   \n",
       "4                 10569                            10569   \n",
       "\n",
       "   ID_CommunityConnectionType  \n",
       "0                           1  \n",
       "1                           1  \n",
       "2                           1  \n",
       "3                           1  \n",
       "4                           1  "
      ]
     },
     "execution_count": 56,
     "metadata": {},
     "output_type": "execute_result"
    }
   ],
   "source": [
    "followings = pd.read_csv('../../data/Following_Ignoring_Relationships_01052019_31052019.csv', sep=';')\n",
    "followings.head()"
   ]
  },
  {
   "cell_type": "markdown",
   "id": "e375a919f38b3905",
   "metadata": {
    "collapsed": false
   },
   "source": [
    "## Isolating user information"
   ]
  },
  {
   "cell_type": "markdown",
   "id": "98e9ce9e4687c3bb",
   "metadata": {
    "collapsed": false
   },
   "source": [
    "### From postings"
   ]
  },
  {
   "cell_type": "code",
   "execution_count": 57,
   "id": "113b3a809bc6ca5c",
   "metadata": {
    "ExecuteTime": {
     "end_time": "2024-01-09T12:14:45.289283Z",
     "start_time": "2024-01-09T12:14:45.128045Z"
    },
    "collapsed": false
   },
   "outputs": [
    {
     "data": {
      "text/html": [
       "<div>\n",
       "<style scoped>\n",
       "    .dataframe tbody tr th:only-of-type {\n",
       "        vertical-align: middle;\n",
       "    }\n",
       "\n",
       "    .dataframe tbody tr th {\n",
       "        vertical-align: top;\n",
       "    }\n",
       "\n",
       "    .dataframe thead th {\n",
       "        text-align: right;\n",
       "    }\n",
       "</style>\n",
       "<table border=\"1\" class=\"dataframe\">\n",
       "  <thead>\n",
       "    <tr style=\"text-align: right;\">\n",
       "      <th></th>\n",
       "      <th>ID_CommunityIdentity</th>\n",
       "      <th>UserCommunityName</th>\n",
       "      <th>UserGender</th>\n",
       "      <th>UserCreatedAt</th>\n",
       "    </tr>\n",
       "  </thead>\n",
       "  <tbody>\n",
       "    <tr>\n",
       "      <th>0</th>\n",
       "      <td>671476</td>\n",
       "      <td>Ravenspower</td>\n",
       "      <td>NaN</td>\n",
       "      <td>2018-04-14 13:42:28.470</td>\n",
       "    </tr>\n",
       "    <tr>\n",
       "      <th>1</th>\n",
       "      <td>566938</td>\n",
       "      <td>AlphaRomeo</td>\n",
       "      <td>m</td>\n",
       "      <td>2015-08-28 17:07:41.110</td>\n",
       "    </tr>\n",
       "    <tr>\n",
       "      <th>2</th>\n",
       "      <td>669286</td>\n",
       "      <td>Hpolditsch</td>\n",
       "      <td>NaN</td>\n",
       "      <td>2018-03-06 20:03:42.737</td>\n",
       "    </tr>\n",
       "    <tr>\n",
       "      <th>6</th>\n",
       "      <td>523527</td>\n",
       "      <td>icecold_lips</td>\n",
       "      <td>m</td>\n",
       "      <td>2013-09-04 12:37:09.603</td>\n",
       "    </tr>\n",
       "    <tr>\n",
       "      <th>7</th>\n",
       "      <td>74674</td>\n",
       "      <td>GuteNachtSchaukel</td>\n",
       "      <td>NaN</td>\n",
       "      <td>2007-04-02 20:34:49.397</td>\n",
       "    </tr>\n",
       "    <tr>\n",
       "      <th>...</th>\n",
       "      <td>...</td>\n",
       "      <td>...</td>\n",
       "      <td>...</td>\n",
       "      <td>...</td>\n",
       "    </tr>\n",
       "    <tr>\n",
       "      <th>395202</th>\n",
       "      <td>694412</td>\n",
       "      <td>DerBöseFlick</td>\n",
       "      <td>NaN</td>\n",
       "      <td>2019-06-02 17:41:57.763</td>\n",
       "    </tr>\n",
       "    <tr>\n",
       "      <th>395279</th>\n",
       "      <td>89026</td>\n",
       "      <td>Hector Barbossa</td>\n",
       "      <td>m</td>\n",
       "      <td>2009-11-01 14:38:42.720</td>\n",
       "    </tr>\n",
       "    <tr>\n",
       "      <th>395641</th>\n",
       "      <td>666304</td>\n",
       "      <td>Tunnel D´or</td>\n",
       "      <td>NaN</td>\n",
       "      <td>2018-01-17 11:29:21.790</td>\n",
       "    </tr>\n",
       "    <tr>\n",
       "      <th>395656</th>\n",
       "      <td>155470</td>\n",
       "      <td>Mrs. Dalloway</td>\n",
       "      <td>w</td>\n",
       "      <td>2011-11-23 16:36:03.510</td>\n",
       "    </tr>\n",
       "    <tr>\n",
       "      <th>395679</th>\n",
       "      <td>655206</td>\n",
       "      <td>smtr</td>\n",
       "      <td>NaN</td>\n",
       "      <td>2017-12-07 16:13:24.730</td>\n",
       "    </tr>\n",
       "  </tbody>\n",
       "</table>\n",
       "<p>23925 rows × 4 columns</p>\n",
       "</div>"
      ],
      "text/plain": [
       "        ID_CommunityIdentity  UserCommunityName UserGender  \\\n",
       "0                     671476        Ravenspower        NaN   \n",
       "1                     566938         AlphaRomeo          m   \n",
       "2                     669286         Hpolditsch        NaN   \n",
       "6                     523527       icecold_lips          m   \n",
       "7                      74674  GuteNachtSchaukel        NaN   \n",
       "...                      ...                ...        ...   \n",
       "395202                694412       DerBöseFlick        NaN   \n",
       "395279                 89026    Hector Barbossa          m   \n",
       "395641                666304        Tunnel D´or        NaN   \n",
       "395656                155470      Mrs. Dalloway          w   \n",
       "395679                655206               smtr        NaN   \n",
       "\n",
       "                  UserCreatedAt  \n",
       "0       2018-04-14 13:42:28.470  \n",
       "1       2015-08-28 17:07:41.110  \n",
       "2       2018-03-06 20:03:42.737  \n",
       "6       2013-09-04 12:37:09.603  \n",
       "7       2007-04-02 20:34:49.397  \n",
       "...                         ...  \n",
       "395202  2019-06-02 17:41:57.763  \n",
       "395279  2009-11-01 14:38:42.720  \n",
       "395641  2018-01-17 11:29:21.790  \n",
       "395656  2011-11-23 16:36:03.510  \n",
       "395679  2017-12-07 16:13:24.730  \n",
       "\n",
       "[23925 rows x 4 columns]"
      ]
     },
     "execution_count": 57,
     "metadata": {},
     "output_type": "execute_result"
    }
   ],
   "source": [
    "users_postings = postings[['ID_CommunityIdentity','UserCommunityName','UserGender','UserCreatedAt']].drop_duplicates()\n",
    "users_postings"
   ]
  },
  {
   "cell_type": "markdown",
   "id": "7cfc8089c5c26143",
   "metadata": {
    "collapsed": false
   },
   "source": [
    "### From votes"
   ]
  },
  {
   "cell_type": "code",
   "execution_count": 58,
   "id": "1bc339e411727d3f",
   "metadata": {
    "ExecuteTime": {
     "end_time": "2024-01-09T12:14:47.776916Z",
     "start_time": "2024-01-09T12:14:46.995845Z"
    },
    "collapsed": false
   },
   "outputs": [
    {
     "data": {
      "text/html": [
       "<div>\n",
       "<style scoped>\n",
       "    .dataframe tbody tr th:only-of-type {\n",
       "        vertical-align: middle;\n",
       "    }\n",
       "\n",
       "    .dataframe tbody tr th {\n",
       "        vertical-align: top;\n",
       "    }\n",
       "\n",
       "    .dataframe thead th {\n",
       "        text-align: right;\n",
       "    }\n",
       "</style>\n",
       "<table border=\"1\" class=\"dataframe\">\n",
       "  <thead>\n",
       "    <tr style=\"text-align: right;\">\n",
       "      <th></th>\n",
       "      <th>ID_CommunityIdentity</th>\n",
       "      <th>UserCommunityName</th>\n",
       "      <th>UserGender</th>\n",
       "      <th>UserCreatedAt</th>\n",
       "    </tr>\n",
       "  </thead>\n",
       "  <tbody>\n",
       "    <tr>\n",
       "      <th>0</th>\n",
       "      <td>675862</td>\n",
       "      <td>Heckscheibenwischer</td>\n",
       "      <td>m</td>\n",
       "      <td>2018-06-26 06:04:30.513</td>\n",
       "    </tr>\n",
       "    <tr>\n",
       "      <th>1</th>\n",
       "      <td>689023</td>\n",
       "      <td>Heinz Fettleber</td>\n",
       "      <td>NaN</td>\n",
       "      <td>2019-03-08 21:23:11.463</td>\n",
       "    </tr>\n",
       "    <tr>\n",
       "      <th>2</th>\n",
       "      <td>24810</td>\n",
       "      <td>Bruce Campbell</td>\n",
       "      <td>m</td>\n",
       "      <td>2011-01-12 16:50:40.597</td>\n",
       "    </tr>\n",
       "    <tr>\n",
       "      <th>3</th>\n",
       "      <td>673781</td>\n",
       "      <td>Erdäpfelsack</td>\n",
       "      <td>NaN</td>\n",
       "      <td>2018-05-29 07:13:49.350</td>\n",
       "    </tr>\n",
       "    <tr>\n",
       "      <th>5</th>\n",
       "      <td>40177</td>\n",
       "      <td>der held</td>\n",
       "      <td>m</td>\n",
       "      <td>2006-03-02 21:58:24.830</td>\n",
       "    </tr>\n",
       "    <tr>\n",
       "      <th>...</th>\n",
       "      <td>...</td>\n",
       "      <td>...</td>\n",
       "      <td>...</td>\n",
       "      <td>...</td>\n",
       "    </tr>\n",
       "    <tr>\n",
       "      <th>2251797</th>\n",
       "      <td>155470</td>\n",
       "      <td>Mrs. Dalloway</td>\n",
       "      <td>w</td>\n",
       "      <td>2011-11-23 16:36:03.510</td>\n",
       "    </tr>\n",
       "    <tr>\n",
       "      <th>2252070</th>\n",
       "      <td>84374</td>\n",
       "      <td>Hofratz Schweiger</td>\n",
       "      <td>m</td>\n",
       "      <td>2011-03-20 07:12:38.693</td>\n",
       "    </tr>\n",
       "    <tr>\n",
       "      <th>2254011</th>\n",
       "      <td>653670</td>\n",
       "      <td>hela</td>\n",
       "      <td>NaN</td>\n",
       "      <td>2017-12-01 17:56:09.640</td>\n",
       "    </tr>\n",
       "    <tr>\n",
       "      <th>2254051</th>\n",
       "      <td>694305</td>\n",
       "      <td>ala.tobischek</td>\n",
       "      <td>NaN</td>\n",
       "      <td>2019-05-31 15:20:27.420</td>\n",
       "    </tr>\n",
       "    <tr>\n",
       "      <th>2254069</th>\n",
       "      <td>694303</td>\n",
       "      <td>Fisch0815</td>\n",
       "      <td>m</td>\n",
       "      <td>2013-05-07 19:59:22.210</td>\n",
       "    </tr>\n",
       "  </tbody>\n",
       "</table>\n",
       "<p>29933 rows × 4 columns</p>\n",
       "</div>"
      ],
      "text/plain": [
       "         ID_CommunityIdentity    UserCommunityName UserGender  \\\n",
       "0                      675862  Heckscheibenwischer          m   \n",
       "1                      689023      Heinz Fettleber        NaN   \n",
       "2                       24810       Bruce Campbell          m   \n",
       "3                      673781         Erdäpfelsack        NaN   \n",
       "5                       40177             der held          m   \n",
       "...                       ...                  ...        ...   \n",
       "2251797                155470        Mrs. Dalloway          w   \n",
       "2252070                 84374    Hofratz Schweiger          m   \n",
       "2254011                653670                 hela        NaN   \n",
       "2254051                694305        ala.tobischek        NaN   \n",
       "2254069                694303            Fisch0815          m   \n",
       "\n",
       "                   UserCreatedAt  \n",
       "0        2018-06-26 06:04:30.513  \n",
       "1        2019-03-08 21:23:11.463  \n",
       "2        2011-01-12 16:50:40.597  \n",
       "3        2018-05-29 07:13:49.350  \n",
       "5        2006-03-02 21:58:24.830  \n",
       "...                          ...  \n",
       "2251797  2011-11-23 16:36:03.510  \n",
       "2252070  2011-03-20 07:12:38.693  \n",
       "2254011  2017-12-01 17:56:09.640  \n",
       "2254051  2019-05-31 15:20:27.420  \n",
       "2254069  2013-05-07 19:59:22.210  \n",
       "\n",
       "[29933 rows x 4 columns]"
      ]
     },
     "execution_count": 58,
     "metadata": {},
     "output_type": "execute_result"
    }
   ],
   "source": [
    "users_votes = votes[['ID_CommunityIdentity','UserCommunityName','UserGender','UserCreatedAt']].drop_duplicates()\n",
    "users_votes"
   ]
  },
  {
   "cell_type": "markdown",
   "id": "d592d0b74c91e943",
   "metadata": {
    "collapsed": false
   },
   "source": [
    "### From followings"
   ]
  },
  {
   "cell_type": "code",
   "execution_count": 59,
   "id": "e09a58789ed9848e",
   "metadata": {
    "ExecuteTime": {
     "end_time": "2024-01-09T12:14:50.693412Z",
     "start_time": "2024-01-09T12:14:50.677811Z"
    },
    "collapsed": false
   },
   "outputs": [
    {
     "data": {
      "text/html": [
       "<div>\n",
       "<style scoped>\n",
       "    .dataframe tbody tr th:only-of-type {\n",
       "        vertical-align: middle;\n",
       "    }\n",
       "\n",
       "    .dataframe tbody tr th {\n",
       "        vertical-align: top;\n",
       "    }\n",
       "\n",
       "    .dataframe thead th {\n",
       "        text-align: right;\n",
       "    }\n",
       "</style>\n",
       "<table border=\"1\" class=\"dataframe\">\n",
       "  <thead>\n",
       "    <tr style=\"text-align: right;\">\n",
       "      <th></th>\n",
       "      <th>ID_CommunityIdentity</th>\n",
       "      <th>ID_CommunityIdentityConnectedTo</th>\n",
       "      <th>ID_CommunityConnectionType</th>\n",
       "    </tr>\n",
       "  </thead>\n",
       "  <tbody>\n",
       "    <tr>\n",
       "      <th>0</th>\n",
       "      <td>1778</td>\n",
       "      <td>246490</td>\n",
       "      <td>1</td>\n",
       "    </tr>\n",
       "    <tr>\n",
       "      <th>1</th>\n",
       "      <td>5872</td>\n",
       "      <td>5872</td>\n",
       "      <td>1</td>\n",
       "    </tr>\n",
       "    <tr>\n",
       "      <th>2</th>\n",
       "      <td>9030</td>\n",
       "      <td>23875</td>\n",
       "      <td>1</td>\n",
       "    </tr>\n",
       "    <tr>\n",
       "      <th>3</th>\n",
       "      <td>9030</td>\n",
       "      <td>508504</td>\n",
       "      <td>1</td>\n",
       "    </tr>\n",
       "    <tr>\n",
       "      <th>4</th>\n",
       "      <td>10569</td>\n",
       "      <td>10569</td>\n",
       "      <td>1</td>\n",
       "    </tr>\n",
       "    <tr>\n",
       "      <th>...</th>\n",
       "      <td>...</td>\n",
       "      <td>...</td>\n",
       "      <td>...</td>\n",
       "    </tr>\n",
       "    <tr>\n",
       "      <th>86771</th>\n",
       "      <td>686549</td>\n",
       "      <td>686549</td>\n",
       "      <td>1</td>\n",
       "    </tr>\n",
       "    <tr>\n",
       "      <th>86772</th>\n",
       "      <td>689023</td>\n",
       "      <td>578323</td>\n",
       "      <td>1</td>\n",
       "    </tr>\n",
       "    <tr>\n",
       "      <th>86773</th>\n",
       "      <td>689023</td>\n",
       "      <td>691306</td>\n",
       "      <td>1</td>\n",
       "    </tr>\n",
       "    <tr>\n",
       "      <th>86774</th>\n",
       "      <td>689023</td>\n",
       "      <td>691885</td>\n",
       "      <td>1</td>\n",
       "    </tr>\n",
       "    <tr>\n",
       "      <th>86775</th>\n",
       "      <td>692601</td>\n",
       "      <td>692601</td>\n",
       "      <td>1</td>\n",
       "    </tr>\n",
       "  </tbody>\n",
       "</table>\n",
       "<p>57117 rows × 3 columns</p>\n",
       "</div>"
      ],
      "text/plain": [
       "       ID_CommunityIdentity  ID_CommunityIdentityConnectedTo  \\\n",
       "0                      1778                           246490   \n",
       "1                      5872                             5872   \n",
       "2                      9030                            23875   \n",
       "3                      9030                           508504   \n",
       "4                     10569                            10569   \n",
       "...                     ...                              ...   \n",
       "86771                686549                           686549   \n",
       "86772                689023                           578323   \n",
       "86773                689023                           691306   \n",
       "86774                689023                           691885   \n",
       "86775                692601                           692601   \n",
       "\n",
       "       ID_CommunityConnectionType  \n",
       "0                               1  \n",
       "1                               1  \n",
       "2                               1  \n",
       "3                               1  \n",
       "4                               1  \n",
       "...                           ...  \n",
       "86771                           1  \n",
       "86772                           1  \n",
       "86773                           1  \n",
       "86774                           1  \n",
       "86775                           1  \n",
       "\n",
       "[57117 rows x 3 columns]"
      ]
     },
     "execution_count": 59,
     "metadata": {},
     "output_type": "execute_result"
    }
   ],
   "source": [
    "followings_type_1 = followings[followings['ID_CommunityConnectionType'] == 1]\n",
    "followings_type_1"
   ]
  },
  {
   "cell_type": "code",
   "execution_count": 60,
   "id": "4f4ee1eaf82a372b",
   "metadata": {
    "ExecuteTime": {
     "end_time": "2024-01-09T12:14:51.829526Z",
     "start_time": "2024-01-09T12:14:51.814201Z"
    },
    "collapsed": false
   },
   "outputs": [],
   "source": [
    "type1_col1 = followings_type_1['ID_CommunityIdentity'].value_counts().reset_index()\n",
    "type1_col1.columns = ['ID_CommunityIdentity', 'type1_col1']\n",
    "type1_col2 = followings_type_1['ID_CommunityIdentityConnectedTo'].value_counts().reset_index()\n",
    "type1_col2.columns = ['ID_CommunityIdentity', 'type1_col2']"
   ]
  },
  {
   "cell_type": "code",
   "execution_count": 61,
   "id": "6abd23dc8b49cec",
   "metadata": {
    "ExecuteTime": {
     "end_time": "2024-01-09T12:14:52.835636Z",
     "start_time": "2024-01-09T12:14:52.801419Z"
    },
    "collapsed": false
   },
   "outputs": [
    {
     "data": {
      "text/html": [
       "<div>\n",
       "<style scoped>\n",
       "    .dataframe tbody tr th:only-of-type {\n",
       "        vertical-align: middle;\n",
       "    }\n",
       "\n",
       "    .dataframe tbody tr th {\n",
       "        vertical-align: top;\n",
       "    }\n",
       "\n",
       "    .dataframe thead th {\n",
       "        text-align: right;\n",
       "    }\n",
       "</style>\n",
       "<table border=\"1\" class=\"dataframe\">\n",
       "  <thead>\n",
       "    <tr style=\"text-align: right;\">\n",
       "      <th></th>\n",
       "      <th>ID_CommunityIdentity</th>\n",
       "      <th>type1_col1</th>\n",
       "      <th>type1_col2</th>\n",
       "    </tr>\n",
       "  </thead>\n",
       "  <tbody>\n",
       "    <tr>\n",
       "      <th>0</th>\n",
       "      <td>606270</td>\n",
       "      <td>199.0</td>\n",
       "      <td>4.0</td>\n",
       "    </tr>\n",
       "    <tr>\n",
       "      <th>1</th>\n",
       "      <td>687729</td>\n",
       "      <td>196.0</td>\n",
       "      <td>7.0</td>\n",
       "    </tr>\n",
       "    <tr>\n",
       "      <th>2</th>\n",
       "      <td>654383</td>\n",
       "      <td>186.0</td>\n",
       "      <td>77.0</td>\n",
       "    </tr>\n",
       "    <tr>\n",
       "      <th>3</th>\n",
       "      <td>632934</td>\n",
       "      <td>183.0</td>\n",
       "      <td>9.0</td>\n",
       "    </tr>\n",
       "    <tr>\n",
       "      <th>4</th>\n",
       "      <td>207112</td>\n",
       "      <td>180.0</td>\n",
       "      <td>277.0</td>\n",
       "    </tr>\n",
       "    <tr>\n",
       "      <th>...</th>\n",
       "      <td>...</td>\n",
       "      <td>...</td>\n",
       "      <td>...</td>\n",
       "    </tr>\n",
       "    <tr>\n",
       "      <th>15525</th>\n",
       "      <td>533310</td>\n",
       "      <td>NaN</td>\n",
       "      <td>1.0</td>\n",
       "    </tr>\n",
       "    <tr>\n",
       "      <th>15526</th>\n",
       "      <td>632091</td>\n",
       "      <td>NaN</td>\n",
       "      <td>1.0</td>\n",
       "    </tr>\n",
       "    <tr>\n",
       "      <th>15527</th>\n",
       "      <td>533896</td>\n",
       "      <td>NaN</td>\n",
       "      <td>1.0</td>\n",
       "    </tr>\n",
       "    <tr>\n",
       "      <th>15528</th>\n",
       "      <td>504150</td>\n",
       "      <td>NaN</td>\n",
       "      <td>1.0</td>\n",
       "    </tr>\n",
       "    <tr>\n",
       "      <th>15529</th>\n",
       "      <td>502471</td>\n",
       "      <td>NaN</td>\n",
       "      <td>1.0</td>\n",
       "    </tr>\n",
       "  </tbody>\n",
       "</table>\n",
       "<p>15530 rows × 3 columns</p>\n",
       "</div>"
      ],
      "text/plain": [
       "       ID_CommunityIdentity  type1_col1  type1_col2\n",
       "0                    606270       199.0         4.0\n",
       "1                    687729       196.0         7.0\n",
       "2                    654383       186.0        77.0\n",
       "3                    632934       183.0         9.0\n",
       "4                    207112       180.0       277.0\n",
       "...                     ...         ...         ...\n",
       "15525                533310         NaN         1.0\n",
       "15526                632091         NaN         1.0\n",
       "15527                533896         NaN         1.0\n",
       "15528                504150         NaN         1.0\n",
       "15529                502471         NaN         1.0\n",
       "\n",
       "[15530 rows x 3 columns]"
      ]
     },
     "execution_count": 61,
     "metadata": {},
     "output_type": "execute_result"
    }
   ],
   "source": [
    "type1_counts = pd.merge(type1_col1, type1_col2, on='ID_CommunityIdentity', how='outer')\n",
    "type1_counts"
   ]
  },
  {
   "cell_type": "code",
   "execution_count": 62,
   "id": "1e3ba5604b495d81",
   "metadata": {
    "ExecuteTime": {
     "end_time": "2024-01-09T12:14:53.966459Z",
     "start_time": "2024-01-09T12:14:53.914304Z"
    },
    "collapsed": false
   },
   "outputs": [
    {
     "data": {
      "text/html": [
       "<div>\n",
       "<style scoped>\n",
       "    .dataframe tbody tr th:only-of-type {\n",
       "        vertical-align: middle;\n",
       "    }\n",
       "\n",
       "    .dataframe tbody tr th {\n",
       "        vertical-align: top;\n",
       "    }\n",
       "\n",
       "    .dataframe thead th {\n",
       "        text-align: right;\n",
       "    }\n",
       "</style>\n",
       "<table border=\"1\" class=\"dataframe\">\n",
       "  <thead>\n",
       "    <tr style=\"text-align: right;\">\n",
       "      <th></th>\n",
       "      <th>ID_CommunityIdentity</th>\n",
       "      <th>ID_CommunityIdentityConnectedTo</th>\n",
       "      <th>ID_CommunityConnectionType</th>\n",
       "    </tr>\n",
       "  </thead>\n",
       "  <tbody>\n",
       "    <tr>\n",
       "      <th>14</th>\n",
       "      <td>20447</td>\n",
       "      <td>37708</td>\n",
       "      <td>2</td>\n",
       "    </tr>\n",
       "    <tr>\n",
       "      <th>15</th>\n",
       "      <td>20447</td>\n",
       "      <td>43775</td>\n",
       "      <td>2</td>\n",
       "    </tr>\n",
       "    <tr>\n",
       "      <th>19</th>\n",
       "      <td>20447</td>\n",
       "      <td>63799</td>\n",
       "      <td>2</td>\n",
       "    </tr>\n",
       "    <tr>\n",
       "      <th>20</th>\n",
       "      <td>20447</td>\n",
       "      <td>72114</td>\n",
       "      <td>2</td>\n",
       "    </tr>\n",
       "    <tr>\n",
       "      <th>22</th>\n",
       "      <td>20447</td>\n",
       "      <td>92007</td>\n",
       "      <td>2</td>\n",
       "    </tr>\n",
       "    <tr>\n",
       "      <th>...</th>\n",
       "      <td>...</td>\n",
       "      <td>...</td>\n",
       "      <td>...</td>\n",
       "    </tr>\n",
       "    <tr>\n",
       "      <th>86591</th>\n",
       "      <td>636345</td>\n",
       "      <td>638760</td>\n",
       "      <td>2</td>\n",
       "    </tr>\n",
       "    <tr>\n",
       "      <th>86690</th>\n",
       "      <td>666502</td>\n",
       "      <td>23572</td>\n",
       "      <td>2</td>\n",
       "    </tr>\n",
       "    <tr>\n",
       "      <th>86691</th>\n",
       "      <td>666502</td>\n",
       "      <td>169493</td>\n",
       "      <td>2</td>\n",
       "    </tr>\n",
       "    <tr>\n",
       "      <th>86692</th>\n",
       "      <td>666502</td>\n",
       "      <td>630020</td>\n",
       "      <td>2</td>\n",
       "    </tr>\n",
       "    <tr>\n",
       "      <th>86726</th>\n",
       "      <td>675496</td>\n",
       "      <td>677875</td>\n",
       "      <td>2</td>\n",
       "    </tr>\n",
       "  </tbody>\n",
       "</table>\n",
       "<p>29659 rows × 3 columns</p>\n",
       "</div>"
      ],
      "text/plain": [
       "       ID_CommunityIdentity  ID_CommunityIdentityConnectedTo  \\\n",
       "14                    20447                            37708   \n",
       "15                    20447                            43775   \n",
       "19                    20447                            63799   \n",
       "20                    20447                            72114   \n",
       "22                    20447                            92007   \n",
       "...                     ...                              ...   \n",
       "86591                636345                           638760   \n",
       "86690                666502                            23572   \n",
       "86691                666502                           169493   \n",
       "86692                666502                           630020   \n",
       "86726                675496                           677875   \n",
       "\n",
       "       ID_CommunityConnectionType  \n",
       "14                              2  \n",
       "15                              2  \n",
       "19                              2  \n",
       "20                              2  \n",
       "22                              2  \n",
       "...                           ...  \n",
       "86591                           2  \n",
       "86690                           2  \n",
       "86691                           2  \n",
       "86692                           2  \n",
       "86726                           2  \n",
       "\n",
       "[29659 rows x 3 columns]"
      ]
     },
     "execution_count": 62,
     "metadata": {},
     "output_type": "execute_result"
    }
   ],
   "source": [
    "followings_type_2 = followings[followings['ID_CommunityConnectionType'] == 2]\n",
    "followings_type_2"
   ]
  },
  {
   "cell_type": "code",
   "execution_count": 63,
   "id": "d63c2c397bdb75b6",
   "metadata": {
    "ExecuteTime": {
     "end_time": "2024-01-09T12:14:55.551051Z",
     "start_time": "2024-01-09T12:14:55.541320Z"
    },
    "collapsed": false
   },
   "outputs": [],
   "source": [
    "type2_col1 = followings_type_2['ID_CommunityIdentity'].value_counts().reset_index()\n",
    "type2_col1.columns = ['ID_CommunityIdentity', 'type2_col1']\n",
    "type2_col2 = followings_type_2['ID_CommunityIdentityConnectedTo'].value_counts().reset_index()\n",
    "type2_col2.columns = ['ID_CommunityIdentity', 'type2_col2']"
   ]
  },
  {
   "cell_type": "code",
   "execution_count": 64,
   "id": "83d092b9cfd6fc6e",
   "metadata": {
    "ExecuteTime": {
     "end_time": "2024-01-09T12:14:56.731337Z",
     "start_time": "2024-01-09T12:14:56.716686Z"
    },
    "collapsed": false
   },
   "outputs": [
    {
     "data": {
      "text/html": [
       "<div>\n",
       "<style scoped>\n",
       "    .dataframe tbody tr th:only-of-type {\n",
       "        vertical-align: middle;\n",
       "    }\n",
       "\n",
       "    .dataframe tbody tr th {\n",
       "        vertical-align: top;\n",
       "    }\n",
       "\n",
       "    .dataframe thead th {\n",
       "        text-align: right;\n",
       "    }\n",
       "</style>\n",
       "<table border=\"1\" class=\"dataframe\">\n",
       "  <thead>\n",
       "    <tr style=\"text-align: right;\">\n",
       "      <th></th>\n",
       "      <th>ID_CommunityIdentity</th>\n",
       "      <th>type2_col1</th>\n",
       "      <th>type2_col2</th>\n",
       "    </tr>\n",
       "  </thead>\n",
       "  <tbody>\n",
       "    <tr>\n",
       "      <th>0</th>\n",
       "      <td>519605</td>\n",
       "      <td>186.0</td>\n",
       "      <td>NaN</td>\n",
       "    </tr>\n",
       "    <tr>\n",
       "      <th>1</th>\n",
       "      <td>655677</td>\n",
       "      <td>185.0</td>\n",
       "      <td>NaN</td>\n",
       "    </tr>\n",
       "    <tr>\n",
       "      <th>2</th>\n",
       "      <td>524430</td>\n",
       "      <td>181.0</td>\n",
       "      <td>5.0</td>\n",
       "    </tr>\n",
       "    <tr>\n",
       "      <th>3</th>\n",
       "      <td>128733</td>\n",
       "      <td>180.0</td>\n",
       "      <td>7.0</td>\n",
       "    </tr>\n",
       "    <tr>\n",
       "      <th>4</th>\n",
       "      <td>678460</td>\n",
       "      <td>178.0</td>\n",
       "      <td>2.0</td>\n",
       "    </tr>\n",
       "    <tr>\n",
       "      <th>...</th>\n",
       "      <td>...</td>\n",
       "      <td>...</td>\n",
       "      <td>...</td>\n",
       "    </tr>\n",
       "    <tr>\n",
       "      <th>8689</th>\n",
       "      <td>575496</td>\n",
       "      <td>NaN</td>\n",
       "      <td>1.0</td>\n",
       "    </tr>\n",
       "    <tr>\n",
       "      <th>8690</th>\n",
       "      <td>220395</td>\n",
       "      <td>NaN</td>\n",
       "      <td>1.0</td>\n",
       "    </tr>\n",
       "    <tr>\n",
       "      <th>8691</th>\n",
       "      <td>73199</td>\n",
       "      <td>NaN</td>\n",
       "      <td>1.0</td>\n",
       "    </tr>\n",
       "    <tr>\n",
       "      <th>8692</th>\n",
       "      <td>544911</td>\n",
       "      <td>NaN</td>\n",
       "      <td>1.0</td>\n",
       "    </tr>\n",
       "    <tr>\n",
       "      <th>8693</th>\n",
       "      <td>674865</td>\n",
       "      <td>NaN</td>\n",
       "      <td>1.0</td>\n",
       "    </tr>\n",
       "  </tbody>\n",
       "</table>\n",
       "<p>8694 rows × 3 columns</p>\n",
       "</div>"
      ],
      "text/plain": [
       "      ID_CommunityIdentity  type2_col1  type2_col2\n",
       "0                   519605       186.0         NaN\n",
       "1                   655677       185.0         NaN\n",
       "2                   524430       181.0         5.0\n",
       "3                   128733       180.0         7.0\n",
       "4                   678460       178.0         2.0\n",
       "...                    ...         ...         ...\n",
       "8689                575496         NaN         1.0\n",
       "8690                220395         NaN         1.0\n",
       "8691                 73199         NaN         1.0\n",
       "8692                544911         NaN         1.0\n",
       "8693                674865         NaN         1.0\n",
       "\n",
       "[8694 rows x 3 columns]"
      ]
     },
     "execution_count": 64,
     "metadata": {},
     "output_type": "execute_result"
    }
   ],
   "source": [
    "type2_counts = pd.merge(type2_col1, type2_col2, on='ID_CommunityIdentity', how='outer')\n",
    "type2_counts"
   ]
  },
  {
   "cell_type": "code",
   "execution_count": 65,
   "id": "74c3cad14e012c3d",
   "metadata": {
    "ExecuteTime": {
     "end_time": "2024-01-09T12:14:58.604495Z",
     "start_time": "2024-01-09T12:14:58.577332Z"
    },
    "collapsed": false
   },
   "outputs": [
    {
     "data": {
      "text/html": [
       "<div>\n",
       "<style scoped>\n",
       "    .dataframe tbody tr th:only-of-type {\n",
       "        vertical-align: middle;\n",
       "    }\n",
       "\n",
       "    .dataframe tbody tr th {\n",
       "        vertical-align: top;\n",
       "    }\n",
       "\n",
       "    .dataframe thead th {\n",
       "        text-align: right;\n",
       "    }\n",
       "</style>\n",
       "<table border=\"1\" class=\"dataframe\">\n",
       "  <thead>\n",
       "    <tr style=\"text-align: right;\">\n",
       "      <th></th>\n",
       "      <th>ID_CommunityIdentity</th>\n",
       "      <th>type1_col1</th>\n",
       "      <th>type1_col2</th>\n",
       "      <th>type2_col1</th>\n",
       "      <th>type2_col2</th>\n",
       "    </tr>\n",
       "  </thead>\n",
       "  <tbody>\n",
       "    <tr>\n",
       "      <th>0</th>\n",
       "      <td>606270</td>\n",
       "      <td>199.0</td>\n",
       "      <td>4.0</td>\n",
       "      <td>0.0</td>\n",
       "      <td>0.0</td>\n",
       "    </tr>\n",
       "    <tr>\n",
       "      <th>1</th>\n",
       "      <td>687729</td>\n",
       "      <td>196.0</td>\n",
       "      <td>7.0</td>\n",
       "      <td>0.0</td>\n",
       "      <td>4.0</td>\n",
       "    </tr>\n",
       "    <tr>\n",
       "      <th>2</th>\n",
       "      <td>654383</td>\n",
       "      <td>186.0</td>\n",
       "      <td>77.0</td>\n",
       "      <td>0.0</td>\n",
       "      <td>1.0</td>\n",
       "    </tr>\n",
       "    <tr>\n",
       "      <th>3</th>\n",
       "      <td>632934</td>\n",
       "      <td>183.0</td>\n",
       "      <td>9.0</td>\n",
       "      <td>1.0</td>\n",
       "      <td>0.0</td>\n",
       "    </tr>\n",
       "    <tr>\n",
       "      <th>4</th>\n",
       "      <td>207112</td>\n",
       "      <td>180.0</td>\n",
       "      <td>277.0</td>\n",
       "      <td>2.0</td>\n",
       "      <td>6.0</td>\n",
       "    </tr>\n",
       "    <tr>\n",
       "      <th>...</th>\n",
       "      <td>...</td>\n",
       "      <td>...</td>\n",
       "      <td>...</td>\n",
       "      <td>...</td>\n",
       "      <td>...</td>\n",
       "    </tr>\n",
       "    <tr>\n",
       "      <th>17480</th>\n",
       "      <td>505288</td>\n",
       "      <td>0.0</td>\n",
       "      <td>0.0</td>\n",
       "      <td>0.0</td>\n",
       "      <td>1.0</td>\n",
       "    </tr>\n",
       "    <tr>\n",
       "      <th>17481</th>\n",
       "      <td>500335</td>\n",
       "      <td>0.0</td>\n",
       "      <td>0.0</td>\n",
       "      <td>0.0</td>\n",
       "      <td>1.0</td>\n",
       "    </tr>\n",
       "    <tr>\n",
       "      <th>17482</th>\n",
       "      <td>518062</td>\n",
       "      <td>0.0</td>\n",
       "      <td>0.0</td>\n",
       "      <td>0.0</td>\n",
       "      <td>1.0</td>\n",
       "    </tr>\n",
       "    <tr>\n",
       "      <th>17483</th>\n",
       "      <td>220395</td>\n",
       "      <td>0.0</td>\n",
       "      <td>0.0</td>\n",
       "      <td>0.0</td>\n",
       "      <td>1.0</td>\n",
       "    </tr>\n",
       "    <tr>\n",
       "      <th>17484</th>\n",
       "      <td>73199</td>\n",
       "      <td>0.0</td>\n",
       "      <td>0.0</td>\n",
       "      <td>0.0</td>\n",
       "      <td>1.0</td>\n",
       "    </tr>\n",
       "  </tbody>\n",
       "</table>\n",
       "<p>17485 rows × 5 columns</p>\n",
       "</div>"
      ],
      "text/plain": [
       "       ID_CommunityIdentity  type1_col1  type1_col2  type2_col1  type2_col2\n",
       "0                    606270       199.0         4.0         0.0         0.0\n",
       "1                    687729       196.0         7.0         0.0         4.0\n",
       "2                    654383       186.0        77.0         0.0         1.0\n",
       "3                    632934       183.0         9.0         1.0         0.0\n",
       "4                    207112       180.0       277.0         2.0         6.0\n",
       "...                     ...         ...         ...         ...         ...\n",
       "17480                505288         0.0         0.0         0.0         1.0\n",
       "17481                500335         0.0         0.0         0.0         1.0\n",
       "17482                518062         0.0         0.0         0.0         1.0\n",
       "17483                220395         0.0         0.0         0.0         1.0\n",
       "17484                 73199         0.0         0.0         0.0         1.0\n",
       "\n",
       "[17485 rows x 5 columns]"
      ]
     },
     "execution_count": 65,
     "metadata": {},
     "output_type": "execute_result"
    }
   ],
   "source": [
    "type_counts = pd.merge(type1_counts, type2_counts, on='ID_CommunityIdentity', how='outer')\n",
    "type_counts.fillna(0, inplace=True)\n",
    "type_counts"
   ]
  },
  {
   "cell_type": "markdown",
   "id": "18fdaa91f1c9d758",
   "metadata": {
    "collapsed": false
   },
   "source": [
    "### Combining user information\n",
    "First we merge information about users who commented with information about users who voted, eliminating duplicates. Then we add information about the followings of users."
   ]
  },
  {
   "cell_type": "code",
   "execution_count": 66,
   "id": "a640c019bc2bcf85",
   "metadata": {
    "ExecuteTime": {
     "end_time": "2024-01-09T12:15:01.895569Z",
     "start_time": "2024-01-09T12:15:01.822914Z"
    },
    "collapsed": false
   },
   "outputs": [
    {
     "data": {
      "text/html": [
       "<div>\n",
       "<style scoped>\n",
       "    .dataframe tbody tr th:only-of-type {\n",
       "        vertical-align: middle;\n",
       "    }\n",
       "\n",
       "    .dataframe tbody tr th {\n",
       "        vertical-align: top;\n",
       "    }\n",
       "\n",
       "    .dataframe thead th {\n",
       "        text-align: right;\n",
       "    }\n",
       "</style>\n",
       "<table border=\"1\" class=\"dataframe\">\n",
       "  <thead>\n",
       "    <tr style=\"text-align: right;\">\n",
       "      <th></th>\n",
       "      <th>ID_CommunityIdentity</th>\n",
       "      <th>UserCommunityName</th>\n",
       "      <th>UserGender</th>\n",
       "      <th>UserCreatedAt</th>\n",
       "    </tr>\n",
       "  </thead>\n",
       "  <tbody>\n",
       "    <tr>\n",
       "      <th>0</th>\n",
       "      <td>671476</td>\n",
       "      <td>Ravenspower</td>\n",
       "      <td>NaN</td>\n",
       "      <td>2018-04-14 13:42:28.470</td>\n",
       "    </tr>\n",
       "    <tr>\n",
       "      <th>1</th>\n",
       "      <td>566938</td>\n",
       "      <td>AlphaRomeo</td>\n",
       "      <td>m</td>\n",
       "      <td>2015-08-28 17:07:41.110</td>\n",
       "    </tr>\n",
       "    <tr>\n",
       "      <th>2</th>\n",
       "      <td>669286</td>\n",
       "      <td>Hpolditsch</td>\n",
       "      <td>NaN</td>\n",
       "      <td>2018-03-06 20:03:42.737</td>\n",
       "    </tr>\n",
       "    <tr>\n",
       "      <th>6</th>\n",
       "      <td>523527</td>\n",
       "      <td>icecold_lips</td>\n",
       "      <td>m</td>\n",
       "      <td>2013-09-04 12:37:09.603</td>\n",
       "    </tr>\n",
       "    <tr>\n",
       "      <th>7</th>\n",
       "      <td>74674</td>\n",
       "      <td>GuteNachtSchaukel</td>\n",
       "      <td>NaN</td>\n",
       "      <td>2007-04-02 20:34:49.397</td>\n",
       "    </tr>\n",
       "    <tr>\n",
       "      <th>...</th>\n",
       "      <td>...</td>\n",
       "      <td>...</td>\n",
       "      <td>...</td>\n",
       "      <td>...</td>\n",
       "    </tr>\n",
       "    <tr>\n",
       "      <th>2246918</th>\n",
       "      <td>686624</td>\n",
       "      <td>Exergon</td>\n",
       "      <td>NaN</td>\n",
       "      <td>2019-01-24 09:32:46.097</td>\n",
       "    </tr>\n",
       "    <tr>\n",
       "      <th>2247715</th>\n",
       "      <td>694405</td>\n",
       "      <td>CocoJumbo69</td>\n",
       "      <td>NaN</td>\n",
       "      <td>2019-01-27 14:40:52.147</td>\n",
       "    </tr>\n",
       "    <tr>\n",
       "      <th>2250899</th>\n",
       "      <td>600222</td>\n",
       "      <td>CX7000</td>\n",
       "      <td>m</td>\n",
       "      <td>2005-07-08 09:28:31.290</td>\n",
       "    </tr>\n",
       "    <tr>\n",
       "      <th>2254011</th>\n",
       "      <td>653670</td>\n",
       "      <td>hela</td>\n",
       "      <td>NaN</td>\n",
       "      <td>2017-12-01 17:56:09.640</td>\n",
       "    </tr>\n",
       "    <tr>\n",
       "      <th>2254051</th>\n",
       "      <td>694305</td>\n",
       "      <td>ala.tobischek</td>\n",
       "      <td>NaN</td>\n",
       "      <td>2019-05-31 15:20:27.420</td>\n",
       "    </tr>\n",
       "  </tbody>\n",
       "</table>\n",
       "<p>33703 rows × 4 columns</p>\n",
       "</div>"
      ],
      "text/plain": [
       "         ID_CommunityIdentity  UserCommunityName UserGender  \\\n",
       "0                      671476        Ravenspower        NaN   \n",
       "1                      566938         AlphaRomeo          m   \n",
       "2                      669286         Hpolditsch        NaN   \n",
       "6                      523527       icecold_lips          m   \n",
       "7                       74674  GuteNachtSchaukel        NaN   \n",
       "...                       ...                ...        ...   \n",
       "2246918                686624            Exergon        NaN   \n",
       "2247715                694405        CocoJumbo69        NaN   \n",
       "2250899                600222             CX7000          m   \n",
       "2254011                653670               hela        NaN   \n",
       "2254051                694305      ala.tobischek        NaN   \n",
       "\n",
       "                   UserCreatedAt  \n",
       "0        2018-04-14 13:42:28.470  \n",
       "1        2015-08-28 17:07:41.110  \n",
       "2        2018-03-06 20:03:42.737  \n",
       "6        2013-09-04 12:37:09.603  \n",
       "7        2007-04-02 20:34:49.397  \n",
       "...                          ...  \n",
       "2246918  2019-01-24 09:32:46.097  \n",
       "2247715  2019-01-27 14:40:52.147  \n",
       "2250899  2005-07-08 09:28:31.290  \n",
       "2254011  2017-12-01 17:56:09.640  \n",
       "2254051  2019-05-31 15:20:27.420  \n",
       "\n",
       "[33703 rows x 4 columns]"
      ]
     },
     "execution_count": 66,
     "metadata": {},
     "output_type": "execute_result"
    }
   ],
   "source": [
    "Users_p_and_v = pd.concat([users_postings, users_votes]).drop_duplicates()\n",
    "Users_p_and_v"
   ]
  },
  {
   "cell_type": "code",
   "execution_count": 67,
   "id": "30c543e32b3677ca",
   "metadata": {
    "ExecuteTime": {
     "end_time": "2024-01-09T12:15:04.768619Z",
     "start_time": "2024-01-09T12:15:04.746523Z"
    },
    "collapsed": false
   },
   "outputs": [
    {
     "data": {
      "text/html": [
       "<div>\n",
       "<style scoped>\n",
       "    .dataframe tbody tr th:only-of-type {\n",
       "        vertical-align: middle;\n",
       "    }\n",
       "\n",
       "    .dataframe tbody tr th {\n",
       "        vertical-align: top;\n",
       "    }\n",
       "\n",
       "    .dataframe thead th {\n",
       "        text-align: right;\n",
       "    }\n",
       "</style>\n",
       "<table border=\"1\" class=\"dataframe\">\n",
       "  <thead>\n",
       "    <tr style=\"text-align: right;\">\n",
       "      <th></th>\n",
       "      <th>ID_CommunityIdentity</th>\n",
       "      <th>UserCommunityName</th>\n",
       "      <th>UserGender</th>\n",
       "      <th>UserCreatedAt</th>\n",
       "      <th>type1_col1</th>\n",
       "      <th>type1_col2</th>\n",
       "      <th>type2_col1</th>\n",
       "      <th>type2_col2</th>\n",
       "    </tr>\n",
       "  </thead>\n",
       "  <tbody>\n",
       "    <tr>\n",
       "      <th>0</th>\n",
       "      <td>671476</td>\n",
       "      <td>Ravenspower</td>\n",
       "      <td>NaN</td>\n",
       "      <td>2018-04-14 13:42:28.470</td>\n",
       "      <td>4.0</td>\n",
       "      <td>3.0</td>\n",
       "      <td>0.0</td>\n",
       "      <td>21.0</td>\n",
       "    </tr>\n",
       "    <tr>\n",
       "      <th>1</th>\n",
       "      <td>566938</td>\n",
       "      <td>AlphaRomeo</td>\n",
       "      <td>m</td>\n",
       "      <td>2015-08-28 17:07:41.110</td>\n",
       "      <td>8.0</td>\n",
       "      <td>3.0</td>\n",
       "      <td>0.0</td>\n",
       "      <td>6.0</td>\n",
       "    </tr>\n",
       "    <tr>\n",
       "      <th>2</th>\n",
       "      <td>669286</td>\n",
       "      <td>Hpolditsch</td>\n",
       "      <td>NaN</td>\n",
       "      <td>2018-03-06 20:03:42.737</td>\n",
       "      <td>0.0</td>\n",
       "      <td>0.0</td>\n",
       "      <td>0.0</td>\n",
       "      <td>1.0</td>\n",
       "    </tr>\n",
       "    <tr>\n",
       "      <th>3</th>\n",
       "      <td>523527</td>\n",
       "      <td>icecold_lips</td>\n",
       "      <td>m</td>\n",
       "      <td>2013-09-04 12:37:09.603</td>\n",
       "      <td>0.0</td>\n",
       "      <td>1.0</td>\n",
       "      <td>0.0</td>\n",
       "      <td>5.0</td>\n",
       "    </tr>\n",
       "    <tr>\n",
       "      <th>4</th>\n",
       "      <td>74674</td>\n",
       "      <td>GuteNachtSchaukel</td>\n",
       "      <td>NaN</td>\n",
       "      <td>2007-04-02 20:34:49.397</td>\n",
       "      <td>38.0</td>\n",
       "      <td>26.0</td>\n",
       "      <td>0.0</td>\n",
       "      <td>5.0</td>\n",
       "    </tr>\n",
       "    <tr>\n",
       "      <th>...</th>\n",
       "      <td>...</td>\n",
       "      <td>...</td>\n",
       "      <td>...</td>\n",
       "      <td>...</td>\n",
       "      <td>...</td>\n",
       "      <td>...</td>\n",
       "      <td>...</td>\n",
       "      <td>...</td>\n",
       "    </tr>\n",
       "    <tr>\n",
       "      <th>33755</th>\n",
       "      <td>197204</td>\n",
       "      <td>NaN</td>\n",
       "      <td>NaN</td>\n",
       "      <td>NaN</td>\n",
       "      <td>0.0</td>\n",
       "      <td>0.0</td>\n",
       "      <td>1.0</td>\n",
       "      <td>0.0</td>\n",
       "    </tr>\n",
       "    <tr>\n",
       "      <th>33756</th>\n",
       "      <td>574357</td>\n",
       "      <td>NaN</td>\n",
       "      <td>NaN</td>\n",
       "      <td>NaN</td>\n",
       "      <td>0.0</td>\n",
       "      <td>0.0</td>\n",
       "      <td>0.0</td>\n",
       "      <td>1.0</td>\n",
       "    </tr>\n",
       "    <tr>\n",
       "      <th>33757</th>\n",
       "      <td>667698</td>\n",
       "      <td>NaN</td>\n",
       "      <td>NaN</td>\n",
       "      <td>NaN</td>\n",
       "      <td>0.0</td>\n",
       "      <td>0.0</td>\n",
       "      <td>0.0</td>\n",
       "      <td>1.0</td>\n",
       "    </tr>\n",
       "    <tr>\n",
       "      <th>33758</th>\n",
       "      <td>538065</td>\n",
       "      <td>NaN</td>\n",
       "      <td>NaN</td>\n",
       "      <td>NaN</td>\n",
       "      <td>0.0</td>\n",
       "      <td>0.0</td>\n",
       "      <td>0.0</td>\n",
       "      <td>1.0</td>\n",
       "    </tr>\n",
       "    <tr>\n",
       "      <th>33759</th>\n",
       "      <td>667450</td>\n",
       "      <td>NaN</td>\n",
       "      <td>NaN</td>\n",
       "      <td>NaN</td>\n",
       "      <td>0.0</td>\n",
       "      <td>0.0</td>\n",
       "      <td>0.0</td>\n",
       "      <td>1.0</td>\n",
       "    </tr>\n",
       "  </tbody>\n",
       "</table>\n",
       "<p>33760 rows × 8 columns</p>\n",
       "</div>"
      ],
      "text/plain": [
       "       ID_CommunityIdentity  UserCommunityName UserGender  \\\n",
       "0                    671476        Ravenspower        NaN   \n",
       "1                    566938         AlphaRomeo          m   \n",
       "2                    669286         Hpolditsch        NaN   \n",
       "3                    523527       icecold_lips          m   \n",
       "4                     74674  GuteNachtSchaukel        NaN   \n",
       "...                     ...                ...        ...   \n",
       "33755                197204                NaN        NaN   \n",
       "33756                574357                NaN        NaN   \n",
       "33757                667698                NaN        NaN   \n",
       "33758                538065                NaN        NaN   \n",
       "33759                667450                NaN        NaN   \n",
       "\n",
       "                 UserCreatedAt  type1_col1  type1_col2  type2_col1  type2_col2  \n",
       "0      2018-04-14 13:42:28.470         4.0         3.0         0.0        21.0  \n",
       "1      2015-08-28 17:07:41.110         8.0         3.0         0.0         6.0  \n",
       "2      2018-03-06 20:03:42.737         0.0         0.0         0.0         1.0  \n",
       "3      2013-09-04 12:37:09.603         0.0         1.0         0.0         5.0  \n",
       "4      2007-04-02 20:34:49.397        38.0        26.0         0.0         5.0  \n",
       "...                        ...         ...         ...         ...         ...  \n",
       "33755                      NaN         0.0         0.0         1.0         0.0  \n",
       "33756                      NaN         0.0         0.0         0.0         1.0  \n",
       "33757                      NaN         0.0         0.0         0.0         1.0  \n",
       "33758                      NaN         0.0         0.0         0.0         1.0  \n",
       "33759                      NaN         0.0         0.0         0.0         1.0  \n",
       "\n",
       "[33760 rows x 8 columns]"
      ]
     },
     "execution_count": 67,
     "metadata": {},
     "output_type": "execute_result"
    }
   ],
   "source": [
    "Users = pd.merge(Users_p_and_v, type_counts, on='ID_CommunityIdentity', how='outer')\n",
    "Users.loc[:, ['type1_col1', 'type1_col2', 'type2_col1', 'type2_col2']].fillna(0, inplace=True) # Users who were not present appear zero times\n",
    "# TODO: the fillna() doesn't seem to work\n",
    "Users"
   ]
  },
  {
   "cell_type": "code",
   "execution_count": 68,
   "id": "340b744454758523",
   "metadata": {
    "ExecuteTime": {
     "end_time": "2024-01-09T12:15:08.340825Z",
     "start_time": "2024-01-09T12:15:08.329370Z"
    },
    "collapsed": false
   },
   "outputs": [
    {
     "data": {
      "text/plain": [
       "16275"
      ]
     },
     "execution_count": 68,
     "metadata": {},
     "output_type": "execute_result"
    }
   ],
   "source": [
    "Users['type1_col1'].isna().sum() # Should be zero"
   ]
  },
  {
   "cell_type": "code",
   "execution_count": 70,
   "id": "1f7da4f74265d53f",
   "metadata": {
    "ExecuteTime": {
     "end_time": "2024-01-09T12:15:52.982196Z",
     "start_time": "2024-01-09T12:15:52.861397Z"
    },
    "collapsed": false
   },
   "outputs": [],
   "source": [
    "Users.to_csv('../../data/saved/Users_info.csv', index=False) # make a csv file"
   ]
  },
  {
   "cell_type": "markdown",
   "id": "5a3c2337ab90b7b5",
   "metadata": {
    "collapsed": false
   },
   "source": [
    "## Isolating article information"
   ]
  },
  {
   "cell_type": "markdown",
   "id": "39f2edbb928e5e1",
   "metadata": {
    "collapsed": false
   },
   "source": [
    "### From postings"
   ]
  },
  {
   "cell_type": "code",
   "execution_count": 71,
   "id": "d23f2104bf33bc86",
   "metadata": {
    "ExecuteTime": {
     "end_time": "2024-01-09T12:15:53.190204Z",
     "start_time": "2024-01-09T12:15:52.982168Z"
    },
    "collapsed": false
   },
   "outputs": [
    {
     "data": {
      "text/html": [
       "<div>\n",
       "<style scoped>\n",
       "    .dataframe tbody tr th:only-of-type {\n",
       "        vertical-align: middle;\n",
       "    }\n",
       "\n",
       "    .dataframe tbody tr th {\n",
       "        vertical-align: top;\n",
       "    }\n",
       "\n",
       "    .dataframe thead th {\n",
       "        text-align: right;\n",
       "    }\n",
       "</style>\n",
       "<table border=\"1\" class=\"dataframe\">\n",
       "  <thead>\n",
       "    <tr style=\"text-align: right;\">\n",
       "      <th></th>\n",
       "      <th>ID_Article</th>\n",
       "      <th>ArticleTitle</th>\n",
       "      <th>ArticlePublishingDate</th>\n",
       "      <th>ArticleChannel</th>\n",
       "      <th>ArticleRessortName</th>\n",
       "    </tr>\n",
       "  </thead>\n",
       "  <tbody>\n",
       "    <tr>\n",
       "      <th>0</th>\n",
       "      <td>2000102330973</td>\n",
       "      <td>1. Mai in Wien: SPÖ fordert von Strache Rücktritt</td>\n",
       "      <td>2019-05-01 10:28:57.49</td>\n",
       "      <td>Inland</td>\n",
       "      <td>Parteien</td>\n",
       "    </tr>\n",
       "    <tr>\n",
       "      <th>13</th>\n",
       "      <td>2000102386715</td>\n",
       "      <td>Welcher \"Austausch\" der Bevölkerung in Österre...</td>\n",
       "      <td>2019-05-03 11:45:14.00</td>\n",
       "      <td>Inland</td>\n",
       "      <td>Sachpolitik</td>\n",
       "    </tr>\n",
       "    <tr>\n",
       "      <th>19</th>\n",
       "      <td>2000102257779</td>\n",
       "      <td>Vom Umgang der SPÖ mit der FPÖ: In Parteistatu...</td>\n",
       "      <td>2019-05-01 08:00:00.00</td>\n",
       "      <td>Meinung</td>\n",
       "      <td>Kommentare der anderen</td>\n",
       "    </tr>\n",
       "    <tr>\n",
       "      <th>20</th>\n",
       "      <td>2000102370556</td>\n",
       "      <td>Haftbefehl gegen Oppositionsführer López in Ve...</td>\n",
       "      <td>2019-05-02 09:30:02.84</td>\n",
       "      <td>International</td>\n",
       "      <td>Venezuela</td>\n",
       "    </tr>\n",
       "    <tr>\n",
       "      <th>29</th>\n",
       "      <td>2000102263929</td>\n",
       "      <td>Roter Weltrevolutionär trifft Pragmatiker: \"In...</td>\n",
       "      <td>2019-05-01 08:00:00.00</td>\n",
       "      <td>Inland</td>\n",
       "      <td>SPÖ</td>\n",
       "    </tr>\n",
       "    <tr>\n",
       "      <th>...</th>\n",
       "      <td>...</td>\n",
       "      <td>...</td>\n",
       "      <td>...</td>\n",
       "      <td>...</td>\n",
       "      <td>...</td>\n",
       "    </tr>\n",
       "    <tr>\n",
       "      <th>392365</th>\n",
       "      <td>2000103561724</td>\n",
       "      <td>Machen digitale Elektronik, Smartwatch und Wha...</td>\n",
       "      <td>2019-05-26 15:12:58.00</td>\n",
       "      <td>Wissenschaft</td>\n",
       "      <td>Forschung Spezial</td>\n",
       "    </tr>\n",
       "    <tr>\n",
       "      <th>392642</th>\n",
       "      <td>2000104151386</td>\n",
       "      <td>Wirecard-Aktie nach Zeitungsbericht unter Druck</td>\n",
       "      <td>2019-05-31 16:18:30.00</td>\n",
       "      <td>Web</td>\n",
       "      <td>IT-Business</td>\n",
       "    </tr>\n",
       "    <tr>\n",
       "      <th>392962</th>\n",
       "      <td>2000104090907</td>\n",
       "      <td>Partyplan fürs Wochenende: Queer feiern am End...</td>\n",
       "      <td>2019-05-31 06:00:00.00</td>\n",
       "      <td>Kultur</td>\n",
       "      <td>Was ist los in Wien?</td>\n",
       "    </tr>\n",
       "    <tr>\n",
       "      <th>393867</th>\n",
       "      <td>2000104143028</td>\n",
       "      <td>Türkei ermittelt gegen deutsche Journalistin –...</td>\n",
       "      <td>2019-05-31 14:18:37.00</td>\n",
       "      <td>Etat</td>\n",
       "      <td>Presse- und Meinungsfreiheit</td>\n",
       "    </tr>\n",
       "    <tr>\n",
       "      <th>394135</th>\n",
       "      <td>2000104152769</td>\n",
       "      <td>Paul-Flora-Preis 2019 an Südtiroler Sven Sachs...</td>\n",
       "      <td>2019-05-31 16:36:51.00</td>\n",
       "      <td>Kultur</td>\n",
       "      <td>Kunstmarkt</td>\n",
       "    </tr>\n",
       "  </tbody>\n",
       "</table>\n",
       "<p>4351 rows × 5 columns</p>\n",
       "</div>"
      ],
      "text/plain": [
       "           ID_Article                                       ArticleTitle  \\\n",
       "0       2000102330973  1. Mai in Wien: SPÖ fordert von Strache Rücktritt   \n",
       "13      2000102386715  Welcher \"Austausch\" der Bevölkerung in Österre...   \n",
       "19      2000102257779  Vom Umgang der SPÖ mit der FPÖ: In Parteistatu...   \n",
       "20      2000102370556  Haftbefehl gegen Oppositionsführer López in Ve...   \n",
       "29      2000102263929  Roter Weltrevolutionär trifft Pragmatiker: \"In...   \n",
       "...               ...                                                ...   \n",
       "392365  2000103561724  Machen digitale Elektronik, Smartwatch und Wha...   \n",
       "392642  2000104151386    Wirecard-Aktie nach Zeitungsbericht unter Druck   \n",
       "392962  2000104090907  Partyplan fürs Wochenende: Queer feiern am End...   \n",
       "393867  2000104143028  Türkei ermittelt gegen deutsche Journalistin –...   \n",
       "394135  2000104152769  Paul-Flora-Preis 2019 an Südtiroler Sven Sachs...   \n",
       "\n",
       "         ArticlePublishingDate ArticleChannel            ArticleRessortName  \n",
       "0       2019-05-01 10:28:57.49         Inland                      Parteien  \n",
       "13      2019-05-03 11:45:14.00         Inland                   Sachpolitik  \n",
       "19      2019-05-01 08:00:00.00        Meinung        Kommentare der anderen  \n",
       "20      2019-05-02 09:30:02.84  International                     Venezuela  \n",
       "29      2019-05-01 08:00:00.00         Inland                           SPÖ  \n",
       "...                        ...            ...                           ...  \n",
       "392365  2019-05-26 15:12:58.00   Wissenschaft             Forschung Spezial  \n",
       "392642  2019-05-31 16:18:30.00            Web                   IT-Business  \n",
       "392962  2019-05-31 06:00:00.00         Kultur          Was ist los in Wien?  \n",
       "393867  2019-05-31 14:18:37.00           Etat  Presse- und Meinungsfreiheit  \n",
       "394135  2019-05-31 16:36:51.00         Kultur                    Kunstmarkt  \n",
       "\n",
       "[4351 rows x 5 columns]"
      ]
     },
     "execution_count": 71,
     "metadata": {},
     "output_type": "execute_result"
    }
   ],
   "source": [
    "Articles = postings[['ID_Article','ArticleTitle','ArticlePublishingDate','ArticleChannel','ArticleRessortName']].drop_duplicates()\n",
    "Articles"
   ]
  },
  {
   "cell_type": "code",
   "execution_count": 72,
   "id": "212b9a527a396801",
   "metadata": {
    "ExecuteTime": {
     "end_time": "2024-01-09T12:15:53.201999Z",
     "start_time": "2024-01-09T12:15:53.190719Z"
    },
    "collapsed": false
   },
   "outputs": [],
   "source": [
    "Articles.to_csv('../../data/saved/Articles_info.csv', index=False)"
   ]
  },
  {
   "cell_type": "markdown",
   "id": "35cc1bd319316573",
   "metadata": {
    "collapsed": false
   },
   "source": [
    "## Isolating comment information"
   ]
  },
  {
   "cell_type": "markdown",
   "id": "63f76e3ae6568801",
   "metadata": {
    "collapsed": false
   },
   "source": [
    "### From postings\n",
    "There are 4 columns in the data that are specific to each posting, and that are therefore not necessary to form a graph, and can be stored separately for convenience: the parent posting, the headline, the comment, and the creation date. "
   ]
  },
  {
   "cell_type": "code",
   "execution_count": 73,
   "id": "10164396f5c6aef8",
   "metadata": {
    "ExecuteTime": {
     "end_time": "2024-01-09T12:15:53.523089Z",
     "start_time": "2024-01-09T12:15:53.208619Z"
    },
    "collapsed": false
   },
   "outputs": [],
   "source": [
    "Postings_info = postings[['ID_Posting','ID_Posting_Parent', 'PostingHeadline', 'PostingComment', 'PostingCreatedAt']]"
   ]
  },
  {
   "cell_type": "code",
   "execution_count": 74,
   "id": "51020dc1e1f60ec1",
   "metadata": {
    "ExecuteTime": {
     "end_time": "2024-01-09T12:15:56.720258Z",
     "start_time": "2024-01-09T12:15:53.523217Z"
    },
    "collapsed": false
   },
   "outputs": [],
   "source": [
    "Postings_info.to_csv('../../data/saved/Postings_info.csv', index=False)"
   ]
  },
  {
   "cell_type": "markdown",
   "id": "b7661e99840c87a9",
   "metadata": {
    "collapsed": false
   },
   "source": [
    "## Isolating votes information\n",
    "The information on votes is essentially already isolated, only the user info columns are redundant, and the fact that the VoteNegative and VotePositive columns contain the same information, so removing these columns is enough."
   ]
  },
  {
   "cell_type": "markdown",
   "id": "66c9bdc3b589a401",
   "metadata": {
    "collapsed": false
   },
   "source": [
    "### From votes"
   ]
  },
  {
   "cell_type": "code",
   "execution_count": 75,
   "id": "fcee3f1a3e0deb3",
   "metadata": {
    "ExecuteTime": {
     "end_time": "2024-01-09T12:15:57.101029Z",
     "start_time": "2024-01-09T12:15:56.714132Z"
    },
    "collapsed": false
   },
   "outputs": [],
   "source": [
    "Votes_info = votes[['ID_CommunityIdentity', 'ID_Posting', 'VotePositive', 'VoteCreatedAt']]"
   ]
  },
  {
   "cell_type": "code",
   "execution_count": 76,
   "id": "21f8a22dca83a978",
   "metadata": {
    "ExecuteTime": {
     "end_time": "2024-01-09T12:16:00.607116Z",
     "start_time": "2024-01-09T12:15:57.102106Z"
    },
    "collapsed": false
   },
   "outputs": [],
   "source": [
    "Votes_info.to_csv('../../data/saved/Votes_info.csv', index=False)"
   ]
  },
  {
   "cell_type": "markdown",
   "id": "9124c6ef40ff0987",
   "metadata": {
    "collapsed": false
   },
   "source": [
    "## Retaining graph-relevant information"
   ]
  },
  {
   "cell_type": "markdown",
   "id": "8c9ed375a7062d28",
   "metadata": {
    "collapsed": false
   },
   "source": [
    "We have isolated all information which is not strictly necessary to form a user-article graph, and what is left is the posting ID, user ID and article ID columns.\n",
    "These can be used to form a bipartite graph where there are user ID nodes on one side and article ID nodes on the other side, and the edges are posting IDs. Each kind of ID can be linked to its respective info dataframe to get more information about the nodes or edges, avoiding the redundancy of the initial data structure."
   ]
  },
  {
   "cell_type": "markdown",
   "id": "f5b282d344d687bb",
   "metadata": {
    "collapsed": false
   },
   "source": [
    "### From postings"
   ]
  },
  {
   "cell_type": "code",
   "execution_count": 77,
   "id": "984e35a0ef933ff5",
   "metadata": {
    "ExecuteTime": {
     "end_time": "2024-01-09T12:16:00.668413Z",
     "start_time": "2024-01-09T12:16:00.624535Z"
    },
    "collapsed": false
   },
   "outputs": [],
   "source": [
    "P_user_article_graph = postings[['ID_Posting', 'ID_CommunityIdentity', 'ID_Article']]"
   ]
  },
  {
   "cell_type": "markdown",
   "id": "a5f6e7579b8d693",
   "metadata": {
    "collapsed": false
   },
   "source": [
    "### From votes"
   ]
  },
  {
   "cell_type": "code",
   "execution_count": 78,
   "id": "7239e6b9955a56bb",
   "metadata": {
    "ExecuteTime": {
     "end_time": "2024-01-09T12:16:01.529015Z",
     "start_time": "2024-01-09T12:16:00.638543Z"
    },
    "collapsed": false
   },
   "outputs": [],
   "source": [
    "V_user_article_graph = pd.merge(postings[['ID_Posting', 'ID_Article']], votes[['ID_CommunityIdentity', 'ID_Posting']]) # inner join"
   ]
  },
  {
   "cell_type": "markdown",
   "id": "b92047b7a92efc4e",
   "metadata": {
    "collapsed": false
   },
   "source": [
    "### From both"
   ]
  },
  {
   "cell_type": "code",
   "execution_count": 79,
   "id": "ce7bfb5a48d9c3e0",
   "metadata": {
    "ExecuteTime": {
     "end_time": "2024-01-09T12:16:01.636780Z",
     "start_time": "2024-01-09T12:16:01.494079Z"
    },
    "collapsed": false
   },
   "outputs": [
    {
     "name": "stderr",
     "output_type": "stream",
     "text": [
      "/var/folders/x2/jj0kgq010j128mdwvs89btf00000gp/T/ipykernel_41614/2267657676.py:2: SettingWithCopyWarning: \n",
      "A value is trying to be set on a copy of a slice from a DataFrame.\n",
      "Try using .loc[row_indexer,col_indexer] = value instead\n",
      "\n",
      "See the caveats in the documentation: https://pandas.pydata.org/pandas-docs/stable/user_guide/indexing.html#returning-a-view-versus-a-copy\n",
      "  P_user_article_graph_P['link'] = 'posting' # add a column to distinguish the two kinds of edges\n"
     ]
    }
   ],
   "source": [
    "P_user_article_graph_P = P_user_article_graph # create a copy\n",
    "P_user_article_graph_P['link'] = 'posting' # add a column to distinguish the two kinds of edges\n",
    "V_user_article_graph_V = V_user_article_graph # create a copy\n",
    "V_user_article_graph_V['link'] = 'vote' # add a column to distinguish the two kinds of edges\n",
    "# triggers a SettingWithCopyWarning which is not a problem"
   ]
  },
  {
   "cell_type": "code",
   "execution_count": 80,
   "id": "bfcb66a8267d28dc",
   "metadata": {
    "ExecuteTime": {
     "end_time": "2024-01-09T12:16:01.904431Z",
     "start_time": "2024-01-09T12:16:01.580116Z"
    },
    "collapsed": false
   },
   "outputs": [],
   "source": [
    "User_article_graph = pd.concat([P_user_article_graph_P, V_user_article_graph_V])"
   ]
  },
  {
   "cell_type": "code",
   "execution_count": 81,
   "id": "b2a4407109bbd53",
   "metadata": {
    "ExecuteTime": {
     "end_time": "2024-01-09T12:16:06.973274Z",
     "start_time": "2024-01-09T12:16:01.912424Z"
    },
    "collapsed": false
   },
   "outputs": [],
   "source": [
    "User_article_graph.to_csv('../../data/saved/User_article_graph.csv', index=False)"
   ]
  }
 ],
 "metadata": {
  "kernelspec": {
   "display_name": "Python 3",
   "language": "python",
   "name": "python3"
  },
  "language_info": {
   "codemirror_mode": {
    "name": "ipython",
    "version": 3
   },
   "file_extension": ".py",
   "mimetype": "text/x-python",
   "name": "python",
   "nbconvert_exporter": "python",
   "pygments_lexer": "ipython3",
   "version": "3.9.18"
  }
 },
 "nbformat": 4,
 "nbformat_minor": 5
}
