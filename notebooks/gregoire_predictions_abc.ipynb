{
 "cells": [
  {
   "cell_type": "markdown",
   "metadata": {},
   "source": [
    "# Social Network Analysis - Python Handson"
   ]
  },
  {
   "cell_type": "code",
   "execution_count": 1,
   "metadata": {},
   "outputs": [],
   "source": [
    "import numpy as np\n",
    "import networkx as nx\n",
    "import pandas as pd\n",
    "import matplotlib.pyplot as plt"
   ]
  },
  {
   "cell_type": "markdown",
   "metadata": {},
   "source": [
    "## The Data\n",
    "\n",
    "The data set is provided by Der Standard, one of the top Austrian newspapers.\n",
    "In the online Standard people can post comments below articles and up/down vote comments.\n",
    "The data set used in this handson and further in the project part of the course will consider a sample of those articles, comments, and votes. "
   ]
  },
  {
   "cell_type": "code",
   "execution_count": 2,
   "metadata": {},
   "outputs": [],
   "source": [
    "df = pd.read_csv('Sample_Articles_Int_081116_091116_Postings.csv', sep=';')"
   ]
  },
  {
   "cell_type": "code",
   "execution_count": 3,
   "metadata": {},
   "outputs": [
    {
     "data": {
      "text/html": [
       "<div>\n",
       "<style scoped>\n",
       "    .dataframe tbody tr th:only-of-type {\n",
       "        vertical-align: middle;\n",
       "    }\n",
       "\n",
       "    .dataframe tbody tr th {\n",
       "        vertical-align: top;\n",
       "    }\n",
       "\n",
       "    .dataframe thead th {\n",
       "        text-align: right;\n",
       "    }\n",
       "</style>\n",
       "<table border=\"1\" class=\"dataframe\">\n",
       "  <thead>\n",
       "    <tr style=\"text-align: right;\">\n",
       "      <th></th>\n",
       "      <th>ID_CommunityIdentity</th>\n",
       "      <th>ID_Article</th>\n",
       "      <th>ID_Posting</th>\n",
       "      <th>ID_Posting_Parent</th>\n",
       "      <th>PostingHeadline</th>\n",
       "      <th>PostingComment</th>\n",
       "      <th>PostingCreatedAt</th>\n",
       "      <th>ArticleType</th>\n",
       "      <th>ArticleTitle</th>\n",
       "      <th>ArticleChannel</th>\n",
       "      <th>ArticleRessortName</th>\n",
       "      <th>UserCommunityName</th>\n",
       "      <th>UserGender</th>\n",
       "      <th>UserCreatedAt</th>\n",
       "    </tr>\n",
       "  </thead>\n",
       "  <tbody>\n",
       "    <tr>\n",
       "      <th>0</th>\n",
       "      <td>19</td>\n",
       "      <td>2000047115078</td>\n",
       "      <td>1016194519</td>\n",
       "      <td>1.016178e+09</td>\n",
       "      <td>Sockenpuppenstadt höchstwahrscheinlich.....</td>\n",
       "      <td>NaN</td>\n",
       "      <td>2016-11-08 19:25:36</td>\n",
       "      <td>Artikel</td>\n",
       "      <td>Osteuropa fürchtet bei Trump-Sieg um Nato-Schu...</td>\n",
       "      <td>International</td>\n",
       "      <td>USA</td>\n",
       "      <td>abraxas17</td>\n",
       "      <td>m</td>\n",
       "      <td>2009-12-31 16:08:53</td>\n",
       "    </tr>\n",
       "    <tr>\n",
       "      <th>1</th>\n",
       "      <td>19</td>\n",
       "      <td>2000047167560</td>\n",
       "      <td>1016190436</td>\n",
       "      <td>NaN</td>\n",
       "      <td>Die Goldsteins der Welt haben die Untersuchung...</td>\n",
       "      <td>DAS ist die einzige Erklärung dazu.</td>\n",
       "      <td>2016-11-08 17:12:35</td>\n",
       "      <td>Artikel</td>\n",
       "      <td>Wie das FBI 650.000 E-Mails in 691.200 Sekunde...</td>\n",
       "      <td>International</td>\n",
       "      <td>USA</td>\n",
       "      <td>abraxas17</td>\n",
       "      <td>m</td>\n",
       "      <td>2009-12-31 16:08:53</td>\n",
       "    </tr>\n",
       "    <tr>\n",
       "      <th>2</th>\n",
       "      <td>19</td>\n",
       "      <td>2000047115078</td>\n",
       "      <td>1016192030</td>\n",
       "      <td>1.016178e+09</td>\n",
       "      <td>So dürfen sie das auch nicht sehen. Die Nato i...</td>\n",
       "      <td>Die Wahrheit: Europa und Russland wären eine S...</td>\n",
       "      <td>2016-11-08 18:01:54</td>\n",
       "      <td>Artikel</td>\n",
       "      <td>Osteuropa fürchtet bei Trump-Sieg um Nato-Schu...</td>\n",
       "      <td>International</td>\n",
       "      <td>USA</td>\n",
       "      <td>abraxas17</td>\n",
       "      <td>m</td>\n",
       "      <td>2009-12-31 16:08:53</td>\n",
       "    </tr>\n",
       "    <tr>\n",
       "      <th>3</th>\n",
       "      <td>19</td>\n",
       "      <td>2000047115078</td>\n",
       "      <td>1016194457</td>\n",
       "      <td>1.016183e+09</td>\n",
       "      <td>Das setzt aber voraus, das man lesen kann und ...</td>\n",
       "      <td>Das könnens doch ned von dieser Generation ver...</td>\n",
       "      <td>2016-11-08 19:23:30</td>\n",
       "      <td>Artikel</td>\n",
       "      <td>Osteuropa fürchtet bei Trump-Sieg um Nato-Schu...</td>\n",
       "      <td>International</td>\n",
       "      <td>USA</td>\n",
       "      <td>abraxas17</td>\n",
       "      <td>m</td>\n",
       "      <td>2009-12-31 16:08:53</td>\n",
       "    </tr>\n",
       "    <tr>\n",
       "      <th>4</th>\n",
       "      <td>19</td>\n",
       "      <td>2000047211042</td>\n",
       "      <td>1016237514</td>\n",
       "      <td>1.016237e+09</td>\n",
       "      <td>Eu, die Blattlinie hat mich gelöscht. Es darf ...</td>\n",
       "      <td>Das nennt man unabhängige Presse mit Bildungsa...</td>\n",
       "      <td>2016-11-09 13:40:15</td>\n",
       "      <td>Artikel</td>\n",
       "      <td>Alter, Bildung, Geschlecht: Wer für Donald Tru...</td>\n",
       "      <td>International</td>\n",
       "      <td>US-Wahl 2016</td>\n",
       "      <td>abraxas17</td>\n",
       "      <td>m</td>\n",
       "      <td>2009-12-31 16:08:53</td>\n",
       "    </tr>\n",
       "  </tbody>\n",
       "</table>\n",
       "</div>"
      ],
      "text/plain": [
       "   ID_CommunityIdentity     ID_Article  ID_Posting  ID_Posting_Parent  \\\n",
       "0                    19  2000047115078  1016194519       1.016178e+09   \n",
       "1                    19  2000047167560  1016190436                NaN   \n",
       "2                    19  2000047115078  1016192030       1.016178e+09   \n",
       "3                    19  2000047115078  1016194457       1.016183e+09   \n",
       "4                    19  2000047211042  1016237514       1.016237e+09   \n",
       "\n",
       "                                     PostingHeadline  \\\n",
       "0        Sockenpuppenstadt höchstwahrscheinlich.....   \n",
       "1  Die Goldsteins der Welt haben die Untersuchung...   \n",
       "2  So dürfen sie das auch nicht sehen. Die Nato i...   \n",
       "3  Das setzt aber voraus, das man lesen kann und ...   \n",
       "4  Eu, die Blattlinie hat mich gelöscht. Es darf ...   \n",
       "\n",
       "                                      PostingComment     PostingCreatedAt  \\\n",
       "0                                                NaN  2016-11-08 19:25:36   \n",
       "1                DAS ist die einzige Erklärung dazu.  2016-11-08 17:12:35   \n",
       "2  Die Wahrheit: Europa und Russland wären eine S...  2016-11-08 18:01:54   \n",
       "3  Das könnens doch ned von dieser Generation ver...  2016-11-08 19:23:30   \n",
       "4  Das nennt man unabhängige Presse mit Bildungsa...  2016-11-09 13:40:15   \n",
       "\n",
       "  ArticleType                                       ArticleTitle  \\\n",
       "0     Artikel  Osteuropa fürchtet bei Trump-Sieg um Nato-Schu...   \n",
       "1     Artikel  Wie das FBI 650.000 E-Mails in 691.200 Sekunde...   \n",
       "2     Artikel  Osteuropa fürchtet bei Trump-Sieg um Nato-Schu...   \n",
       "3     Artikel  Osteuropa fürchtet bei Trump-Sieg um Nato-Schu...   \n",
       "4     Artikel  Alter, Bildung, Geschlecht: Wer für Donald Tru...   \n",
       "\n",
       "  ArticleChannel ArticleRessortName UserCommunityName UserGender  \\\n",
       "0  International                USA         abraxas17          m   \n",
       "1  International                USA         abraxas17          m   \n",
       "2  International                USA         abraxas17          m   \n",
       "3  International                USA         abraxas17          m   \n",
       "4  International      US-Wahl 2016          abraxas17          m   \n",
       "\n",
       "         UserCreatedAt  \n",
       "0  2009-12-31 16:08:53  \n",
       "1  2009-12-31 16:08:53  \n",
       "2  2009-12-31 16:08:53  \n",
       "3  2009-12-31 16:08:53  \n",
       "4  2009-12-31 16:08:53  "
      ]
     },
     "execution_count": 3,
     "metadata": {},
     "output_type": "execute_result"
    }
   ],
   "source": [
    "df.head()"
   ]
  },
  {
   "cell_type": "markdown",
   "metadata": {},
   "source": [
    "There are different entities in the data set: \n",
    "* Users - identified by *ID_CommunityIdentity* (or *UserCommunityName*)\n",
    "* Postings - identified by *ID_Posting*\n",
    "* Articles - identified by *ID_Article*\n",
    "\n",
    "Thus, there are different possibilities to build networks based on the posting data. \n",
    "We will concentrate now on the ***reply-to-network***. \n"
   ]
  },
  {
   "cell_type": "code",
   "execution_count": 4,
   "metadata": {},
   "outputs": [
    {
     "data": {
      "text/html": [
       "<div>\n",
       "<style scoped>\n",
       "    .dataframe tbody tr th:only-of-type {\n",
       "        vertical-align: middle;\n",
       "    }\n",
       "\n",
       "    .dataframe tbody tr th {\n",
       "        vertical-align: top;\n",
       "    }\n",
       "\n",
       "    .dataframe thead th {\n",
       "        text-align: right;\n",
       "    }\n",
       "</style>\n",
       "<table border=\"1\" class=\"dataframe\">\n",
       "  <thead>\n",
       "    <tr style=\"text-align: right;\">\n",
       "      <th></th>\n",
       "      <th>ID_CommunityIdentity_v</th>\n",
       "      <th>ID_Posting</th>\n",
       "      <th>VoteNegative</th>\n",
       "      <th>VotePositive</th>\n",
       "      <th>VoteCreatedAt</th>\n",
       "      <th>CommunityName_v</th>\n",
       "      <th>Gender_v</th>\n",
       "      <th>UserCreatedAt_v</th>\n",
       "    </tr>\n",
       "  </thead>\n",
       "  <tbody>\n",
       "    <tr>\n",
       "      <th>0</th>\n",
       "      <td>377</td>\n",
       "      <td>1016177389</td>\n",
       "      <td>0</td>\n",
       "      <td>1</td>\n",
       "      <td>2016-11-08 11:10:08</td>\n",
       "      <td>agentjohnson</td>\n",
       "      <td>m</td>\n",
       "      <td>2009-11-27 15:27:08</td>\n",
       "    </tr>\n",
       "    <tr>\n",
       "      <th>1</th>\n",
       "      <td>377</td>\n",
       "      <td>1016176190</td>\n",
       "      <td>0</td>\n",
       "      <td>1</td>\n",
       "      <td>2016-11-08 11:09:49</td>\n",
       "      <td>agentjohnson</td>\n",
       "      <td>m</td>\n",
       "      <td>2009-11-27 15:27:08</td>\n",
       "    </tr>\n",
       "    <tr>\n",
       "      <th>2</th>\n",
       "      <td>377</td>\n",
       "      <td>1016176083</td>\n",
       "      <td>0</td>\n",
       "      <td>1</td>\n",
       "      <td>2016-11-08 11:10:41</td>\n",
       "      <td>agentjohnson</td>\n",
       "      <td>m</td>\n",
       "      <td>2009-11-27 15:27:08</td>\n",
       "    </tr>\n",
       "    <tr>\n",
       "      <th>3</th>\n",
       "      <td>377</td>\n",
       "      <td>1016176007</td>\n",
       "      <td>0</td>\n",
       "      <td>1</td>\n",
       "      <td>2016-11-08 11:10:48</td>\n",
       "      <td>agentjohnson</td>\n",
       "      <td>m</td>\n",
       "      <td>2009-11-27 15:27:08</td>\n",
       "    </tr>\n",
       "    <tr>\n",
       "      <th>4</th>\n",
       "      <td>377</td>\n",
       "      <td>1016176650</td>\n",
       "      <td>0</td>\n",
       "      <td>1</td>\n",
       "      <td>2016-11-08 11:09:37</td>\n",
       "      <td>agentjohnson</td>\n",
       "      <td>m</td>\n",
       "      <td>2009-11-27 15:27:08</td>\n",
       "    </tr>\n",
       "  </tbody>\n",
       "</table>\n",
       "</div>"
      ],
      "text/plain": [
       "   ID_CommunityIdentity_v  ID_Posting  VoteNegative  VotePositive  \\\n",
       "0                     377  1016177389             0             1   \n",
       "1                     377  1016176190             0             1   \n",
       "2                     377  1016176083             0             1   \n",
       "3                     377  1016176007             0             1   \n",
       "4                     377  1016176650             0             1   \n",
       "\n",
       "         VoteCreatedAt CommunityName_v Gender_v      UserCreatedAt_v  \n",
       "0  2016-11-08 11:10:08    agentjohnson        m  2009-11-27 15:27:08  \n",
       "1  2016-11-08 11:09:49    agentjohnson        m  2009-11-27 15:27:08  \n",
       "2  2016-11-08 11:10:41    agentjohnson        m  2009-11-27 15:27:08  \n",
       "3  2016-11-08 11:10:48    agentjohnson        m  2009-11-27 15:27:08  \n",
       "4  2016-11-08 11:09:37    agentjohnson        m  2009-11-27 15:27:08  "
      ]
     },
     "execution_count": 4,
     "metadata": {},
     "output_type": "execute_result"
    }
   ],
   "source": [
    "votes = pd.read_csv('Sample_Articles_Int_081116_091116_Votes.csv', sep=';')\n",
    "votes.head()"
   ]
  },
  {
   "cell_type": "markdown",
   "metadata": {},
   "source": [
    "## Reply-To-Network\n",
    "\n",
    "The two fundamental components of a network are *nodes* and *edges*. \n",
    "In the anticipated reply-to-network nodes are the users (i.e., *ID_CommunityIdentity*). \n",
    "Edges between two nodes (i.e., users) are build if one user replys to a posting of another users. "
   ]
  },
  {
   "cell_type": "code",
   "execution_count": 5,
   "metadata": {},
   "outputs": [
    {
     "data": {
      "text/html": [
       "<div>\n",
       "<style scoped>\n",
       "    .dataframe tbody tr th:only-of-type {\n",
       "        vertical-align: middle;\n",
       "    }\n",
       "\n",
       "    .dataframe tbody tr th {\n",
       "        vertical-align: top;\n",
       "    }\n",
       "\n",
       "    .dataframe thead th {\n",
       "        text-align: right;\n",
       "    }\n",
       "</style>\n",
       "<table border=\"1\" class=\"dataframe\">\n",
       "  <thead>\n",
       "    <tr style=\"text-align: right;\">\n",
       "      <th></th>\n",
       "      <th>ID_CommunityIdentity</th>\n",
       "      <th>ID_Posting</th>\n",
       "      <th>ID_Posting_Parent</th>\n",
       "    </tr>\n",
       "  </thead>\n",
       "  <tbody>\n",
       "    <tr>\n",
       "      <th>0</th>\n",
       "      <td>19</td>\n",
       "      <td>1016194519</td>\n",
       "      <td>1.016178e+09</td>\n",
       "    </tr>\n",
       "    <tr>\n",
       "      <th>1</th>\n",
       "      <td>19</td>\n",
       "      <td>1016190436</td>\n",
       "      <td>NaN</td>\n",
       "    </tr>\n",
       "    <tr>\n",
       "      <th>2</th>\n",
       "      <td>19</td>\n",
       "      <td>1016192030</td>\n",
       "      <td>1.016178e+09</td>\n",
       "    </tr>\n",
       "    <tr>\n",
       "      <th>3</th>\n",
       "      <td>19</td>\n",
       "      <td>1016194457</td>\n",
       "      <td>1.016183e+09</td>\n",
       "    </tr>\n",
       "    <tr>\n",
       "      <th>4</th>\n",
       "      <td>19</td>\n",
       "      <td>1016237514</td>\n",
       "      <td>1.016237e+09</td>\n",
       "    </tr>\n",
       "    <tr>\n",
       "      <th>5</th>\n",
       "      <td>19</td>\n",
       "      <td>1016187933</td>\n",
       "      <td>1.016187e+09</td>\n",
       "    </tr>\n",
       "    <tr>\n",
       "      <th>6</th>\n",
       "      <td>19</td>\n",
       "      <td>1016245149</td>\n",
       "      <td>1.016244e+09</td>\n",
       "    </tr>\n",
       "    <tr>\n",
       "      <th>7</th>\n",
       "      <td>19</td>\n",
       "      <td>1016188639</td>\n",
       "      <td>NaN</td>\n",
       "    </tr>\n",
       "    <tr>\n",
       "      <th>8</th>\n",
       "      <td>19</td>\n",
       "      <td>1016239311</td>\n",
       "      <td>NaN</td>\n",
       "    </tr>\n",
       "    <tr>\n",
       "      <th>9</th>\n",
       "      <td>19</td>\n",
       "      <td>1016248639</td>\n",
       "      <td>NaN</td>\n",
       "    </tr>\n",
       "    <tr>\n",
       "      <th>10</th>\n",
       "      <td>19</td>\n",
       "      <td>1016188069</td>\n",
       "      <td>1.016178e+09</td>\n",
       "    </tr>\n",
       "    <tr>\n",
       "      <th>11</th>\n",
       "      <td>19</td>\n",
       "      <td>1016183892</td>\n",
       "      <td>1.016178e+09</td>\n",
       "    </tr>\n",
       "    <tr>\n",
       "      <th>12</th>\n",
       "      <td>19</td>\n",
       "      <td>1016237149</td>\n",
       "      <td>NaN</td>\n",
       "    </tr>\n",
       "    <tr>\n",
       "      <th>13</th>\n",
       "      <td>19</td>\n",
       "      <td>1016194386</td>\n",
       "      <td>1.016183e+09</td>\n",
       "    </tr>\n",
       "    <tr>\n",
       "      <th>14</th>\n",
       "      <td>19</td>\n",
       "      <td>1016183748</td>\n",
       "      <td>1.016178e+09</td>\n",
       "    </tr>\n",
       "  </tbody>\n",
       "</table>\n",
       "</div>"
      ],
      "text/plain": [
       "    ID_CommunityIdentity  ID_Posting  ID_Posting_Parent\n",
       "0                     19  1016194519       1.016178e+09\n",
       "1                     19  1016190436                NaN\n",
       "2                     19  1016192030       1.016178e+09\n",
       "3                     19  1016194457       1.016183e+09\n",
       "4                     19  1016237514       1.016237e+09\n",
       "5                     19  1016187933       1.016187e+09\n",
       "6                     19  1016245149       1.016244e+09\n",
       "7                     19  1016188639                NaN\n",
       "8                     19  1016239311                NaN\n",
       "9                     19  1016248639                NaN\n",
       "10                    19  1016188069       1.016178e+09\n",
       "11                    19  1016183892       1.016178e+09\n",
       "12                    19  1016237149                NaN\n",
       "13                    19  1016194386       1.016183e+09\n",
       "14                    19  1016183748       1.016178e+09"
      ]
     },
     "execution_count": 5,
     "metadata": {},
     "output_type": "execute_result"
    }
   ],
   "source": [
    "df[[\"ID_CommunityIdentity\", \"ID_Posting\", \"ID_Posting_Parent\"]].head(15)"
   ]
  },
  {
   "cell_type": "markdown",
   "metadata": {},
   "source": [
    "A line in the table above shows that a user (i.e., *ID_CommunityIdentiy*) posted a comment. Every post has its own uniqe identifier (i.e., *ID_Posting*). If a user replys to a previous posting then the posting they are targeting is identified by *ID_Posting_Parent*. *NaN* shows that the posted comment is located in the root (i.e., it's not targeted towards any other comment). \n",
    "\n",
    "We want to bring the structure above into following format: \n",
    "* source, i.e., the replying user\n",
    "* target, i.e., the targeted user\n",
    "* weight, i.e., how often the source replied to the target\n",
    "\n",
    "In other words, we are aiming for a *weighted edge-list*."
   ]
  },
  {
   "cell_type": "markdown",
   "metadata": {},
   "source": [
    "### Edges"
   ]
  },
  {
   "cell_type": "code",
   "execution_count": 6,
   "metadata": {},
   "outputs": [],
   "source": [
    "edgeList = [\n",
    "    [post.ID_CommunityIdentity, next(iter(df[df.ID_Posting == post.ID_Posting_Parent].ID_CommunityIdentity))] \n",
    "    for idx, post in df.iterrows()\n",
    "    if ~np.isnan(post.ID_Posting_Parent)]"
   ]
  },
  {
   "cell_type": "code",
   "execution_count": 7,
   "metadata": {},
   "outputs": [
    {
     "data": {
      "text/plain": [
       "[[19, 174710],\n",
       " [19, 48423],\n",
       " [19, 520799],\n",
       " [19, 601254],\n",
       " [19, 85349],\n",
       " [19, 564105],\n",
       " [19, 565489],\n",
       " [19, 213715],\n",
       " [19, 579244],\n",
       " [19, 227468]]"
      ]
     },
     "execution_count": 7,
     "metadata": {},
     "output_type": "execute_result"
    }
   ],
   "source": [
    "edgeList[:10]"
   ]
  },
  {
   "cell_type": "code",
   "execution_count": 8,
   "metadata": {},
   "outputs": [],
   "source": [
    "weightedEdgeList = [(edge[0],edge[1],edgeList.count(edge)) for edge in edgeList]\n",
    "weightedEdgeList = list(set(weightedEdgeList))"
   ]
  },
  {
   "cell_type": "code",
   "execution_count": 9,
   "metadata": {},
   "outputs": [
    {
     "data": {
      "text/plain": [
       "[(564597, 566270, 1),\n",
       " (579440, 247352, 1),\n",
       " (572502, 529976, 1),\n",
       " (72562, 172063, 1),\n",
       " (558263, 564781, 1),\n",
       " (506220, 37147, 1),\n",
       " (589704, 501174, 1),\n",
       " (189316, 574565, 1),\n",
       " (533194, 500128, 2),\n",
       " (585246, 531258, 1)]"
      ]
     },
     "execution_count": 9,
     "metadata": {},
     "output_type": "execute_result"
    }
   ],
   "source": [
    "weightedEdgeList[:10]"
   ]
  },
  {
   "cell_type": "code",
   "execution_count": 10,
   "metadata": {},
   "outputs": [],
   "source": [
    "edges = pd.DataFrame(weightedEdgeList, columns=['source','target','weight'])"
   ]
  },
  {
   "cell_type": "code",
   "execution_count": 11,
   "metadata": {},
   "outputs": [
    {
     "data": {
      "text/html": [
       "<div>\n",
       "<style scoped>\n",
       "    .dataframe tbody tr th:only-of-type {\n",
       "        vertical-align: middle;\n",
       "    }\n",
       "\n",
       "    .dataframe tbody tr th {\n",
       "        vertical-align: top;\n",
       "    }\n",
       "\n",
       "    .dataframe thead th {\n",
       "        text-align: right;\n",
       "    }\n",
       "</style>\n",
       "<table border=\"1\" class=\"dataframe\">\n",
       "  <thead>\n",
       "    <tr style=\"text-align: right;\">\n",
       "      <th></th>\n",
       "      <th>source</th>\n",
       "      <th>target</th>\n",
       "      <th>weight</th>\n",
       "    </tr>\n",
       "  </thead>\n",
       "  <tbody>\n",
       "    <tr>\n",
       "      <th>0</th>\n",
       "      <td>564597</td>\n",
       "      <td>566270</td>\n",
       "      <td>1</td>\n",
       "    </tr>\n",
       "    <tr>\n",
       "      <th>1</th>\n",
       "      <td>579440</td>\n",
       "      <td>247352</td>\n",
       "      <td>1</td>\n",
       "    </tr>\n",
       "    <tr>\n",
       "      <th>2</th>\n",
       "      <td>572502</td>\n",
       "      <td>529976</td>\n",
       "      <td>1</td>\n",
       "    </tr>\n",
       "    <tr>\n",
       "      <th>3</th>\n",
       "      <td>72562</td>\n",
       "      <td>172063</td>\n",
       "      <td>1</td>\n",
       "    </tr>\n",
       "    <tr>\n",
       "      <th>4</th>\n",
       "      <td>558263</td>\n",
       "      <td>564781</td>\n",
       "      <td>1</td>\n",
       "    </tr>\n",
       "  </tbody>\n",
       "</table>\n",
       "</div>"
      ],
      "text/plain": [
       "   source  target  weight\n",
       "0  564597  566270       1\n",
       "1  579440  247352       1\n",
       "2  572502  529976       1\n",
       "3   72562  172063       1\n",
       "4  558263  564781       1"
      ]
     },
     "execution_count": 11,
     "metadata": {},
     "output_type": "execute_result"
    }
   ],
   "source": [
    "edges.head()"
   ]
  },
  {
   "cell_type": "code",
   "execution_count": 12,
   "metadata": {},
   "outputs": [],
   "source": [
    "edges.to_csv(\"reply_to_edges.csv\", index=False)"
   ]
  },
  {
   "cell_type": "markdown",
   "metadata": {},
   "source": [
    "### Graph\n",
    "\n",
    "We use the *networkx* library.\n",
    "Since we build a *reply-to-network* we have *source* nodes and *target* nodes. \n",
    "Thus, the network is directed.\n",
    "Therefore, we use *nx.Digraph()*"
   ]
  },
  {
   "cell_type": "code",
   "execution_count": 13,
   "metadata": {},
   "outputs": [],
   "source": [
    "G = nx.from_pandas_edgelist(edges, \n",
    "                            source='source', \n",
    "                            target='target', \n",
    "                            edge_attr = 'weight',\n",
    "                            create_using=nx.DiGraph())"
   ]
  },
  {
   "cell_type": "code",
   "execution_count": 14,
   "metadata": {},
   "outputs": [
    {
     "data": {
      "text/plain": [
       "'\\nfig = plt.figure(figsize=(50,50))\\nnx.draw_spring(G)\\nplt.show()\\n'"
      ]
     },
     "execution_count": 14,
     "metadata": {},
     "output_type": "execute_result"
    }
   ],
   "source": [
    "\"\"\"\n",
    "fig = plt.figure(figsize=(50,50))\n",
    "nx.draw_spring(G)\n",
    "plt.show()\n",
    "\"\"\""
   ]
  },
  {
   "cell_type": "markdown",
   "metadata": {},
   "source": [
    "## Link prediction"
   ]
  },
  {
   "cell_type": "markdown",
   "metadata": {},
   "source": [
    "### Common neigbhors (higest number)"
   ]
  },
  {
   "cell_type": "code",
   "execution_count": 145,
   "metadata": {},
   "outputs": [],
   "source": [
    "def common_neighbors(G, pairs):\n",
    "    return [(pairs[i][0], pairs[i][1],len(list(nx.common_neighbors(G, pairs[i][0], pairs[i][1])))) for i in range(len(pairs))]"
   ]
  },
  {
   "cell_type": "code",
   "execution_count": 143,
   "metadata": {},
   "outputs": [],
   "source": [
    "def compute_similarity(G, method):\n",
    "    similarity_matrix = np.zeros((len(G.nodes()), len(G.nodes())), dtype=float)\n",
    "\n",
    "    match method:\n",
    "        case \"common_neigbhors\":\n",
    "            method_func = common_neighbors\n",
    "        case \"jaccard\":\n",
    "            method_func = nx.jaccard_coefficient\n",
    "        case \"adamic_adar\":\n",
    "            method_func = nx.adamic_adar_index\n",
    "        case \"preferential_attachment\":\n",
    "            method_func = nx.preferential_attachment\n",
    "        case \"resource_allocation\":\n",
    "            method_func = nx.resource_allocation_index\n",
    "        case _:\n",
    "            raise ValueError(\"Unknown method\")\n",
    "\n",
    "    for i, n1 in enumerate(G.nodes()):\n",
    "        if i % 500 == 0:\n",
    "            print(\"i=\",i, \"len(G.nodes())=\", len(G.nodes()))\n",
    "    \n",
    "        for j, n2 in enumerate(G.nodes()):\n",
    "            if n1 != n2:\n",
    "                similarity_matrix[i][j] = list(method_func(G, [(n1, n2)]))[0][2]\n",
    "                \n",
    "    return similarity_matrix"
   ]
  },
  {
   "cell_type": "markdown",
   "metadata": {},
   "source": [
    "### Validation"
   ]
  },
  {
   "cell_type": "code",
   "execution_count": 144,
   "metadata": {},
   "outputs": [
    {
     "name": "stdout",
     "output_type": "stream",
     "text": [
      "i= 0 len(G.nodes())= 1915\n",
      "i= 500 len(G.nodes())= 1915\n",
      "i= 1000 len(G.nodes())= 1915\n",
      "i= 1500 len(G.nodes())= 1915\n",
      "edge= (605, 606) index= 1196660 value =  (605, 606, 0.0)\n",
      "edge= (198, 905) index= 24652 value =  (198, 905, 0.1111111111111111)\n",
      "edge= (84, 612) index= 235745 value =  (84, 612, 0.0)\n",
      "edge= (370, 371) index= 761426 value =  (370, 371, 0.0)\n",
      "edge= (439, 1006) index= 889536 value =  (439, 1006, 0.0)\n",
      "edge= (153, 1378) index= 363660 value =  (153, 1378, 0.0)\n",
      "edge= (15, 79) index= 77130 value =  (15, 79, 0.023529411764705882)\n",
      "edge= (30, 769) index= 140622 value =  (30, 769, 0.0)\n",
      "edge= (388, 489) index= 48909 value =  (388, 489, 0.0625)\n",
      "edge= (391, 758) index= 800155 value =  (391, 758, 0.0)\n"
     ]
    },
    {
     "data": {
      "text/plain": [
       "0"
      ]
     },
     "execution_count": 144,
     "metadata": {},
     "output_type": "execute_result"
    }
   ],
   "source": [
    "def map_index_to_node(G, index):\n",
    "    return list(G.nodes())[index]\n",
    "\n",
    "def map_node_to_index(G, node):\n",
    "    return list(G.nodes()).index(node)\n",
    "\n",
    "def evaluate(n_to_cut, method):\n",
    "    # cut n_to_cut edges from G\n",
    "    eval_G = G.copy().to_undirected()\n",
    "    # generate a list of n_to_cut unique number at rando mbetwee 0 and to len(G.edges())\n",
    "    edge_idx = np.random.choice(len(eval_G.edges()), n_to_cut, replace=False)\n",
    "\n",
    "\n",
    "    cutted_edges = [list(eval_G.edges())[idx] for idx in edge_idx]\n",
    "\n",
    "    # cut the edges from the graph\n",
    "    eval_G.remove_edges_from(cutted_edges)\n",
    "    \n",
    "    # compute similarity matrix\n",
    "    #similarity_matrix = np.zeros((len(eval_G.nodes()), len(eval_G.nodes())))\n",
    "    similarity_matrix = compute_similarity(eval_G, method)\n",
    "    # get the top 10 edges by index1, index2 and similarity\n",
    "    flattened_matrix = [(i, j, similarity_matrix[i][j]) for i in range(len(similarity_matrix)) for j in range(len(similarity_matrix[0]))]\n",
    "    \n",
    "    # Sort the flattened matrix based on the values in descending order\n",
    "    sorted_flat_matrix = sorted(flattened_matrix, key=lambda x: x[2], reverse=True)\n",
    "    \n",
    "    # print where the cutted edges are in the sorted matrix\n",
    "    for edge in cutted_edges:\n",
    "        edge = (map_node_to_index(eval_G, edge[0]), map_node_to_index(eval_G, edge[1]))\n",
    "        for i, (index1, index2, value) in enumerate(sorted_flat_matrix):\n",
    "            if (index1, index2) == edge:\n",
    "                print(\"edge=\", edge, \"index=\", i, \"value = \", sorted_flat_matrix[i])\n",
    "        \n",
    "    return 0\n",
    "\n",
    "evaluate(10, \"jaccard\")\n"
   ]
  },
  {
   "cell_type": "markdown",
   "metadata": {},
   "source": [
    "### compare list "
   ]
  },
  {
   "cell_type": "code",
   "execution_count": 40,
   "metadata": {},
   "outputs": [
    {
     "data": {
      "text/plain": [
       "set()"
      ]
     },
     "execution_count": 40,
     "metadata": {},
     "output_type": "execute_result"
    }
   ],
   "source": [
    "top_10 = [top10_common_neigbhors, top10_common_neigbhors_prop, top10_jacard, top10_pref_attach, top10_academic_adar]\n",
    "# present common element in the lists\n",
    "set.intersection(*map(set, top_10))\n"
   ]
  },
  {
   "cell_type": "code",
   "execution_count": 41,
   "metadata": {},
   "outputs": [
    {
     "name": "stdout",
     "output_type": "stream",
     "text": [
      "[118796 130267 576477  90073 118809 119031 119068 647332 143704 151360]\n",
      "[3337817 2745255 2318802 2059921 3509401 2969701   26670  202451 2670760\n",
      " 2194458]\n",
      "[3392874 2542034 2497001 1215964 2242306 3154018 2049712 2801635 3408450\n",
      " 2060166]\n",
      "[118798 143687 151315  57529 126452 118796  57512 118760 151347 118809]\n",
      "[ 90073 130267 151347 118809 119031 576477 119068 647332 151360 143704]\n"
     ]
    }
   ],
   "source": [
    "# sort top_10 element by name\n",
    "top_10_sorted = []\n",
    "\n",
    "for top in top_10:\n",
    "    top_10_sorted.append(sorted(top))\n",
    "    print(top)"
   ]
  },
  {
   "cell_type": "code",
   "execution_count": 63,
   "metadata": {},
   "outputs": [
    {
     "name": "stdout",
     "output_type": "stream",
     "text": [
      "Top 4 elements:\n",
      "Index1: 2, Index2: 0, Value: 9\n",
      "Index1: 0, Index2: 1, Value: 8\n",
      "Index1: 1, Index2: 1, Value: 7\n",
      "Index1: 2, Index2: 2, Value: 6\n"
     ]
    }
   ],
   "source": [
    "def top_k_elements(matrix, k):\n",
    "    # Flatten the 2D matrix and store the indices along with values\n",
    "    flattened_matrix = [(i, j, matrix[i][j]) for i in range(len(matrix)) for j in range(len(matrix[0]))]\n",
    "    \n",
    "    # Sort the flattened matrix based on the values in descending order\n",
    "    sorted_matrix = sorted(flattened_matrix, key=lambda x: x[2], reverse=True)\n",
    "    \n",
    "    # Select the top k elements\n",
    "    top_k = sorted_matrix[:k]\n",
    "    \n",
    "    return top_k\n",
    "\n",
    "# Example usage\n",
    "matrix = [\n",
    "    [5, 8, 3],\n",
    "    [2, 7, 1],\n",
    "    [9, 4, 6]\n",
    "]\n",
    "\n",
    "k = 4\n",
    "result = top_k_elements(matrix, k)\n",
    "\n",
    "print(f\"Top {k} elements:\")\n",
    "for i, j, value in result:\n",
    "    print(f\"Index1: {i}, Index2: {j}, Value: {value}\")\n"
   ]
  }
 ],
 "metadata": {
  "kernelspec": {
   "display_name": "Python 3",
   "language": "python",
   "name": "python3"
  },
  "language_info": {
   "codemirror_mode": {
    "name": "ipython",
    "version": 3
   },
   "file_extension": ".py",
   "mimetype": "text/x-python",
   "name": "python",
   "nbconvert_exporter": "python",
   "pygments_lexer": "ipython3",
   "version": "3.11.5"
  }
 },
 "nbformat": 4,
 "nbformat_minor": 2
}
