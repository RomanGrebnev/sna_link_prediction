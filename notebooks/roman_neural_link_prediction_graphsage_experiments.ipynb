{
 "cells": [
  {
   "cell_type": "markdown",
   "metadata": {},
   "source": [
    "# Inspiration\n",
    "- https://medium.com/@xjurajkmec/pairwise-learning-for-neural-link-prediction-f1d16a0d28f6#:~:text=The%20idea%20of%20using%20graph,edges%20in%20the%20given%20graph"
   ]
  },
  {
   "cell_type": "code",
   "execution_count": 1,
   "metadata": {},
   "outputs": [],
   "source": [
    "import numpy as np\n",
    "import networkx as nx\n",
    "import pandas as pd\n",
    "import matplotlib.pyplot as plt\n",
    "from torch import torch\n",
    "from sklearn import preprocessing\n",
    "\n",
    "from torch_geometric.data import Data\n",
    "from torch_geometric.transforms.to_undirected import ToUndirected"
   ]
  },
  {
   "cell_type": "code",
   "execution_count": 2,
   "metadata": {},
   "outputs": [],
   "source": [
    "postings_1 = pd.read_csv(\"../data/Postings_01052019_15052019.csv\", sep = ';')\n",
    "postings_2 = pd.read_csv(\"../data/Postings_16052019_31052019.csv\", sep = ';')\n",
    "votes_1 = pd.read_csv(\"../data/Votes_01052019_15052019.csv\", sep = ';')\n",
    "votes_2 = pd.read_csv(\"../data/Votes_16052019_31052019.csv\", sep = ';')\n",
    "postings = pd.concat([postings_1, postings_2])\n",
    "votes = pd.concat([votes_1, votes_2])"
   ]
  },
  {
   "cell_type": "code",
   "execution_count": 3,
   "metadata": {},
   "outputs": [],
   "source": [
    "post_article = postings.groupby(by = ['ID_CommunityIdentity', 'ID_Article']).agg({\"ArticlePublishingDate\": \"min\"})\n",
    "post_article = post_article.reset_index()\n",
    "votes_trunc = votes[['ID_CommunityIdentity', 'ID_Posting']]\n",
    "postings_trunc = postings.groupby(by = ['ID_Posting', 'ID_Article']).agg({\"ArticlePublishingDate\": \"min\"}).reset_index().drop(columns = ['ArticlePublishingDate'])\n",
    "vote_user_article = votes_trunc.merge(postings_trunc, left_on = ['ID_Posting'], right_on = ['ID_Posting'])\n",
    "vote_article = vote_user_article.groupby(by = ['ID_CommunityIdentity', 'ID_Article']).agg({\"ID_Posting\": \"count\"}).reset_index().drop(columns = ['ID_Posting'])\n",
    "user_article_interaction = pd.concat([post_article, vote_article]).drop(columns=['ArticlePublishingDate'])"
   ]
  },
  {
   "cell_type": "code",
   "execution_count": 4,
   "metadata": {},
   "outputs": [
    {
     "data": {
      "text/html": [
       "<div>\n",
       "<style scoped>\n",
       "    .dataframe tbody tr th:only-of-type {\n",
       "        vertical-align: middle;\n",
       "    }\n",
       "\n",
       "    .dataframe tbody tr th {\n",
       "        vertical-align: top;\n",
       "    }\n",
       "\n",
       "    .dataframe thead th {\n",
       "        text-align: right;\n",
       "    }\n",
       "</style>\n",
       "<table border=\"1\" class=\"dataframe\">\n",
       "  <thead>\n",
       "    <tr style=\"text-align: right;\">\n",
       "      <th></th>\n",
       "      <th>ID_CommunityIdentity</th>\n",
       "      <th>ID_Article</th>\n",
       "    </tr>\n",
       "  </thead>\n",
       "  <tbody>\n",
       "    <tr>\n",
       "      <th>0</th>\n",
       "      <td>30</td>\n",
       "      <td>2000102732845</td>\n",
       "    </tr>\n",
       "    <tr>\n",
       "      <th>1</th>\n",
       "      <td>30</td>\n",
       "      <td>2000103774090</td>\n",
       "    </tr>\n",
       "    <tr>\n",
       "      <th>2</th>\n",
       "      <td>30</td>\n",
       "      <td>2000104101028</td>\n",
       "    </tr>\n",
       "    <tr>\n",
       "      <th>3</th>\n",
       "      <td>38</td>\n",
       "      <td>2000102598376</td>\n",
       "    </tr>\n",
       "    <tr>\n",
       "      <th>4</th>\n",
       "      <td>38</td>\n",
       "      <td>2000102673879</td>\n",
       "    </tr>\n",
       "    <tr>\n",
       "      <th>...</th>\n",
       "      <td>...</td>\n",
       "      <td>...</td>\n",
       "    </tr>\n",
       "    <tr>\n",
       "      <th>744100</th>\n",
       "      <td>694465</td>\n",
       "      <td>2000104075987</td>\n",
       "    </tr>\n",
       "    <tr>\n",
       "      <th>744101</th>\n",
       "      <td>694465</td>\n",
       "      <td>2000104146249</td>\n",
       "    </tr>\n",
       "    <tr>\n",
       "      <th>744102</th>\n",
       "      <td>694495</td>\n",
       "      <td>2000103409863</td>\n",
       "    </tr>\n",
       "    <tr>\n",
       "      <th>744103</th>\n",
       "      <td>694509</td>\n",
       "      <td>2000103983635</td>\n",
       "    </tr>\n",
       "    <tr>\n",
       "      <th>744104</th>\n",
       "      <td>694512</td>\n",
       "      <td>2000103990942</td>\n",
       "    </tr>\n",
       "  </tbody>\n",
       "</table>\n",
       "<p>1091932 rows × 2 columns</p>\n",
       "</div>"
      ],
      "text/plain": [
       "        ID_CommunityIdentity     ID_Article\n",
       "0                         30  2000102732845\n",
       "1                         30  2000103774090\n",
       "2                         30  2000104101028\n",
       "3                         38  2000102598376\n",
       "4                         38  2000102673879\n",
       "...                      ...            ...\n",
       "744100                694465  2000104075987\n",
       "744101                694465  2000104146249\n",
       "744102                694495  2000103409863\n",
       "744103                694509  2000103983635\n",
       "744104                694512  2000103990942\n",
       "\n",
       "[1091932 rows x 2 columns]"
      ]
     },
     "execution_count": 4,
     "metadata": {},
     "output_type": "execute_result"
    }
   ],
   "source": [
    "user_article_interaction"
   ]
  },
  {
   "cell_type": "code",
   "execution_count": 5,
   "metadata": {},
   "outputs": [],
   "source": [
    "user_article_interaction = user_article_interaction.groupby(by = ['ID_CommunityIdentity', 'ID_Article']).count().reset_index()"
   ]
  },
  {
   "cell_type": "code",
   "execution_count": 6,
   "metadata": {},
   "outputs": [
    {
     "data": {
      "text/html": [
       "<div>\n",
       "<style scoped>\n",
       "    .dataframe tbody tr th:only-of-type {\n",
       "        vertical-align: middle;\n",
       "    }\n",
       "\n",
       "    .dataframe tbody tr th {\n",
       "        vertical-align: top;\n",
       "    }\n",
       "\n",
       "    .dataframe thead th {\n",
       "        text-align: right;\n",
       "    }\n",
       "</style>\n",
       "<table border=\"1\" class=\"dataframe\">\n",
       "  <thead>\n",
       "    <tr style=\"text-align: right;\">\n",
       "      <th></th>\n",
       "      <th>ID_CommunityIdentity</th>\n",
       "      <th>ID_Article</th>\n",
       "    </tr>\n",
       "  </thead>\n",
       "  <tbody>\n",
       "    <tr>\n",
       "      <th>0</th>\n",
       "      <td>4</td>\n",
       "      <td>2000102804423</td>\n",
       "    </tr>\n",
       "    <tr>\n",
       "      <th>1</th>\n",
       "      <td>4</td>\n",
       "      <td>2000103055571</td>\n",
       "    </tr>\n",
       "    <tr>\n",
       "      <th>2</th>\n",
       "      <td>4</td>\n",
       "      <td>2000104090194</td>\n",
       "    </tr>\n",
       "    <tr>\n",
       "      <th>3</th>\n",
       "      <td>30</td>\n",
       "      <td>2000102344996</td>\n",
       "    </tr>\n",
       "    <tr>\n",
       "      <th>4</th>\n",
       "      <td>30</td>\n",
       "      <td>2000102396881</td>\n",
       "    </tr>\n",
       "    <tr>\n",
       "      <th>...</th>\n",
       "      <td>...</td>\n",
       "      <td>...</td>\n",
       "    </tr>\n",
       "    <tr>\n",
       "      <th>895191</th>\n",
       "      <td>694484</td>\n",
       "      <td>2000103705203</td>\n",
       "    </tr>\n",
       "    <tr>\n",
       "      <th>895192</th>\n",
       "      <td>694495</td>\n",
       "      <td>2000103409863</td>\n",
       "    </tr>\n",
       "    <tr>\n",
       "      <th>895193</th>\n",
       "      <td>694509</td>\n",
       "      <td>2000103983635</td>\n",
       "    </tr>\n",
       "    <tr>\n",
       "      <th>895194</th>\n",
       "      <td>694512</td>\n",
       "      <td>2000103990942</td>\n",
       "    </tr>\n",
       "    <tr>\n",
       "      <th>895195</th>\n",
       "      <td>694522</td>\n",
       "      <td>2000103614791</td>\n",
       "    </tr>\n",
       "  </tbody>\n",
       "</table>\n",
       "<p>895196 rows × 2 columns</p>\n",
       "</div>"
      ],
      "text/plain": [
       "        ID_CommunityIdentity     ID_Article\n",
       "0                          4  2000102804423\n",
       "1                          4  2000103055571\n",
       "2                          4  2000104090194\n",
       "3                         30  2000102344996\n",
       "4                         30  2000102396881\n",
       "...                      ...            ...\n",
       "895191                694484  2000103705203\n",
       "895192                694495  2000103409863\n",
       "895193                694509  2000103983635\n",
       "895194                694512  2000103990942\n",
       "895195                694522  2000103614791\n",
       "\n",
       "[895196 rows x 2 columns]"
      ]
     },
     "execution_count": 6,
     "metadata": {},
     "output_type": "execute_result"
    }
   ],
   "source": [
    "user_article_interaction"
   ]
  },
  {
   "cell_type": "code",
   "execution_count": 7,
   "metadata": {},
   "outputs": [],
   "source": [
    "user_article_interaction[\"user_id\"] = \"u-\" + user_article_interaction[\"ID_CommunityIdentity\"].astype(str)\n",
    "user_article_interaction[\"article_id\"] = \"a-\" + user_article_interaction[\"ID_Article\"].astype(str)\n",
    "\n",
    "\n",
    "user_article_interaction_subsampled = user_article_interaction.sample(n=int(user_article_interaction.shape[0]/2), random_state=1)\n",
    "\n",
    "# concatenate nodes and create node encodings\n",
    "nodes = np.concatenate((np.unique(user_article_interaction_subsampled['user_id']), np.unique(user_article_interaction_subsampled['article_id'])))\n",
    "nodes_user = np.unique(user_article_interaction_subsampled['user_id'])\n",
    "nodes_article = np.unique(user_article_interaction_subsampled['article_id'])"
   ]
  },
  {
   "cell_type": "code",
   "execution_count": 8,
   "metadata": {},
   "outputs": [],
   "source": [
    "\n",
    "\n",
    "label_encoder_nodes = preprocessing.LabelEncoder()\n",
    "label_encoder_nodes.fit(nodes)\n",
    "nodes_enc = label_encoder_nodes.transform(nodes)\n",
    "\n",
    "user_article_interaction_subsampled['user_id_enc'] = label_encoder_nodes.transform(user_article_interaction_subsampled['user_id'])\n",
    "user_article_interaction_subsampled['article_id_enc'] = label_encoder_nodes.transform(user_article_interaction_subsampled['article_id'])\n"
   ]
  },
  {
   "cell_type": "code",
   "execution_count": 9,
   "metadata": {},
   "outputs": [
    {
     "data": {
      "text/html": [
       "<div>\n",
       "<style scoped>\n",
       "    .dataframe tbody tr th:only-of-type {\n",
       "        vertical-align: middle;\n",
       "    }\n",
       "\n",
       "    .dataframe tbody tr th {\n",
       "        vertical-align: top;\n",
       "    }\n",
       "\n",
       "    .dataframe thead th {\n",
       "        text-align: right;\n",
       "    }\n",
       "</style>\n",
       "<table border=\"1\" class=\"dataframe\">\n",
       "  <thead>\n",
       "    <tr style=\"text-align: right;\">\n",
       "      <th></th>\n",
       "      <th>ID_CommunityIdentity</th>\n",
       "      <th>ID_Article</th>\n",
       "      <th>user_id</th>\n",
       "      <th>article_id</th>\n",
       "      <th>user_id_enc</th>\n",
       "      <th>article_id_enc</th>\n",
       "    </tr>\n",
       "  </thead>\n",
       "  <tbody>\n",
       "    <tr>\n",
       "      <th>491561</th>\n",
       "      <td>537794</td>\n",
       "      <td>2000103382534</td>\n",
       "      <td>u-537794</td>\n",
       "      <td>a-2000103382534</td>\n",
       "      <td>17073</td>\n",
       "      <td>2572</td>\n",
       "    </tr>\n",
       "    <tr>\n",
       "      <th>357185</th>\n",
       "      <td>499795</td>\n",
       "      <td>2000102978401</td>\n",
       "      <td>u-499795</td>\n",
       "      <td>a-2000102978401</td>\n",
       "      <td>12298</td>\n",
       "      <td>1646</td>\n",
       "    </tr>\n",
       "    <tr>\n",
       "      <th>414148</th>\n",
       "      <td>511521</td>\n",
       "      <td>2000102625670</td>\n",
       "      <td>u-511521</td>\n",
       "      <td>a-2000102625670</td>\n",
       "      <td>14314</td>\n",
       "      <td>855</td>\n",
       "    </tr>\n",
       "    <tr>\n",
       "      <th>601634</th>\n",
       "      <td>574781</td>\n",
       "      <td>2000103767649</td>\n",
       "      <td>u-574781</td>\n",
       "      <td>a-2000103767649</td>\n",
       "      <td>21032</td>\n",
       "      <td>3408</td>\n",
       "    </tr>\n",
       "    <tr>\n",
       "      <th>319857</th>\n",
       "      <td>238360</td>\n",
       "      <td>2000103916256</td>\n",
       "      <td>u-238360</td>\n",
       "      <td>a-2000103916256</td>\n",
       "      <td>10099</td>\n",
       "      <td>3725</td>\n",
       "    </tr>\n",
       "    <tr>\n",
       "      <th>...</th>\n",
       "      <td>...</td>\n",
       "      <td>...</td>\n",
       "      <td>...</td>\n",
       "      <td>...</td>\n",
       "      <td>...</td>\n",
       "      <td>...</td>\n",
       "    </tr>\n",
       "    <tr>\n",
       "      <th>706299</th>\n",
       "      <td>632037</td>\n",
       "      <td>2000102386715</td>\n",
       "      <td>u-632037</td>\n",
       "      <td>a-2000102386715</td>\n",
       "      <td>24576</td>\n",
       "      <td>276</td>\n",
       "    </tr>\n",
       "    <tr>\n",
       "      <th>527994</th>\n",
       "      <td>551362</td>\n",
       "      <td>2000102517787</td>\n",
       "      <td>u-551362</td>\n",
       "      <td>a-2000102517787</td>\n",
       "      <td>18445</td>\n",
       "      <td>612</td>\n",
       "    </tr>\n",
       "    <tr>\n",
       "      <th>250387</th>\n",
       "      <td>189697</td>\n",
       "      <td>2000103803906</td>\n",
       "      <td>u-189697</td>\n",
       "      <td>a-2000103803906</td>\n",
       "      <td>7940</td>\n",
       "      <td>3490</td>\n",
       "    </tr>\n",
       "    <tr>\n",
       "      <th>478043</th>\n",
       "      <td>532935</td>\n",
       "      <td>2000103471066</td>\n",
       "      <td>u-532935</td>\n",
       "      <td>a-2000103471066</td>\n",
       "      <td>16626</td>\n",
       "      <td>2732</td>\n",
       "    </tr>\n",
       "    <tr>\n",
       "      <th>268763</th>\n",
       "      <td>204154</td>\n",
       "      <td>2000103688498</td>\n",
       "      <td>u-204154</td>\n",
       "      <td>a-2000103688498</td>\n",
       "      <td>8520</td>\n",
       "      <td>3228</td>\n",
       "    </tr>\n",
       "  </tbody>\n",
       "</table>\n",
       "<p>447598 rows × 6 columns</p>\n",
       "</div>"
      ],
      "text/plain": [
       "        ID_CommunityIdentity     ID_Article   user_id       article_id  \\\n",
       "491561                537794  2000103382534  u-537794  a-2000103382534   \n",
       "357185                499795  2000102978401  u-499795  a-2000102978401   \n",
       "414148                511521  2000102625670  u-511521  a-2000102625670   \n",
       "601634                574781  2000103767649  u-574781  a-2000103767649   \n",
       "319857                238360  2000103916256  u-238360  a-2000103916256   \n",
       "...                      ...            ...       ...              ...   \n",
       "706299                632037  2000102386715  u-632037  a-2000102386715   \n",
       "527994                551362  2000102517787  u-551362  a-2000102517787   \n",
       "250387                189697  2000103803906  u-189697  a-2000103803906   \n",
       "478043                532935  2000103471066  u-532935  a-2000103471066   \n",
       "268763                204154  2000103688498  u-204154  a-2000103688498   \n",
       "\n",
       "        user_id_enc  article_id_enc  \n",
       "491561        17073            2572  \n",
       "357185        12298            1646  \n",
       "414148        14314             855  \n",
       "601634        21032            3408  \n",
       "319857        10099            3725  \n",
       "...             ...             ...  \n",
       "706299        24576             276  \n",
       "527994        18445             612  \n",
       "250387         7940            3490  \n",
       "478043        16626            2732  \n",
       "268763         8520            3228  \n",
       "\n",
       "[447598 rows x 6 columns]"
      ]
     },
     "execution_count": 9,
     "metadata": {},
     "output_type": "execute_result"
    }
   ],
   "source": [
    "user_article_interaction_subsampled"
   ]
  },
  {
   "cell_type": "code",
   "execution_count": 1,
   "metadata": {},
   "outputs": [
    {
     "ename": "NameError",
     "evalue": "name 'user_article_interaction_subsampled' is not defined",
     "output_type": "error",
     "traceback": [
      "\u001b[0;31m---------------------------------------------------------------------------\u001b[0m",
      "\u001b[0;31mNameError\u001b[0m                                 Traceback (most recent call last)",
      "Cell \u001b[0;32mIn[1], line 3\u001b[0m\n\u001b[1;32m      1\u001b[0m \u001b[38;5;66;03m# generate edge list\u001b[39;00m\n\u001b[1;32m      2\u001b[0m edge_list \u001b[38;5;241m=\u001b[39m []\n\u001b[0;32m----> 3\u001b[0m \u001b[38;5;28;01mfor\u001b[39;00m row \u001b[38;5;129;01min\u001b[39;00m \u001b[43muser_article_interaction_subsampled\u001b[49m\u001b[38;5;241m.\u001b[39mitertuples():\n\u001b[1;32m      4\u001b[0m     edge_list\u001b[38;5;241m.\u001b[39mappend([row\u001b[38;5;241m.\u001b[39muser_id_enc, row\u001b[38;5;241m.\u001b[39marticle_id_enc])\n\u001b[1;32m      6\u001b[0m \u001b[38;5;66;03m# create tensor with nodes\u001b[39;00m\n",
      "\u001b[0;31mNameError\u001b[0m: name 'user_article_interaction_subsampled' is not defined"
     ]
    }
   ],
   "source": [
    "# generate edge list\n",
    "edge_list = []\n",
    "for row in user_article_interaction_subsampled.itertuples():\n",
    "    edge_list.append([row.user_id_enc, row.article_id_enc])\n",
    "\n",
    "# create tensor with nodes\n",
    "x = torch.tensor(nodes_enc, dtype=torch.long)"
   ]
  },
  {
   "cell_type": "code",
   "execution_count": 36,
   "metadata": {},
   "outputs": [
    {
     "data": {
      "text/plain": [
       "True"
      ]
     },
     "execution_count": 36,
     "metadata": {},
     "output_type": "execute_result"
    }
   ],
   "source": [
    "# create tensor with edges\n",
    "edge_index = torch.tensor(edge_list, dtype=torch.long)\n",
    "\n",
    "# initialize graph with nodes and edges\n",
    "graph = Data(x=x, edge_index=edge_index.t())\n",
    "\n",
    "# validate graph\n",
    "graph.validate(raise_on_error=True)\n",
    "# graph = ToUndirected()(graph)"
   ]
  },
  {
   "cell_type": "code",
   "execution_count": 37,
   "metadata": {},
   "outputs": [],
   "source": [
    "# graph = ToUndirected()(graph)"
   ]
  },
  {
   "cell_type": "code",
   "execution_count": 42,
   "metadata": {},
   "outputs": [
    {
     "data": {
      "text/plain": [
       "True"
      ]
     },
     "execution_count": 42,
     "metadata": {},
     "output_type": "execute_result"
    }
   ],
   "source": []
  },
  {
   "cell_type": "code",
   "execution_count": 28,
   "metadata": {},
   "outputs": [
    {
     "data": {
      "text/plain": [
       "33557"
      ]
     },
     "execution_count": 28,
     "metadata": {},
     "output_type": "execute_result"
    }
   ],
   "source": [
    "len(np.unique(graph.edge_index[0]))"
   ]
  },
  {
   "cell_type": "code",
   "execution_count": 29,
   "metadata": {},
   "outputs": [
    {
     "data": {
      "text/plain": [
       "33557"
      ]
     },
     "execution_count": 29,
     "metadata": {},
     "output_type": "execute_result"
    }
   ],
   "source": [
    "len(np.unique(graph.edge_index[1]))"
   ]
  },
  {
   "cell_type": "code",
   "execution_count": 24,
   "metadata": {},
   "outputs": [
    {
     "data": {
      "text/plain": [
       "tensor([2572, 1646,  855,  ..., 3490, 2732, 3228])"
      ]
     },
     "execution_count": 24,
     "metadata": {},
     "output_type": "execute_result"
    }
   ],
   "source": [
    "graph.edge_index[1]"
   ]
  },
  {
   "cell_type": "code",
   "execution_count": 26,
   "metadata": {},
   "outputs": [
    {
     "data": {
      "text/plain": [
       "tensor([17073, 12298, 14314,  ...,  7940, 16626,  8520])"
      ]
     },
     "execution_count": 26,
     "metadata": {},
     "output_type": "execute_result"
    }
   ],
   "source": [
    "graph.edge_index[0]"
   ]
  },
  {
   "cell_type": "markdown",
   "metadata": {},
   "source": [
    "# Modelling with graphSAGE GNN"
   ]
  },
  {
   "cell_type": "code",
   "execution_count": 28,
   "metadata": {},
   "outputs": [],
   "source": [
    "import torch\n",
    "import torch.nn as nn\n",
    "import torch.nn.functional as F\n",
    "import torch_geometric as pyg\n",
    "from torch_geometric.loader import DataLoader\n",
    "from torch_geometric.utils import negative_sampling\n",
    "from ogb.linkproppred import PygLinkPropPredDataset, Evaluator \n",
    "from torch_geometric.transforms import RandomLinkSplit, RandomNodeSplit\n",
    "import matplotlib.pyplot as plt \n",
    "import numpy as np \n",
    "\n",
    "import subprocess as sp\n",
    "import os\n",
    "from tqdm import tqdm\n"
   ]
  },
  {
   "cell_type": "code",
   "execution_count": 29,
   "metadata": {},
   "outputs": [],
   "source": [
    "from graphsage.graphsage import GNNStack, LinkPredictor, train, test"
   ]
  },
  {
   "cell_type": "code",
   "execution_count": 30,
   "metadata": {},
   "outputs": [],
   "source": [
    "class GNNStack(torch.nn.Module):\n",
    "    def __init__(self, input_dim, hidden_dim, output_dim, num_layers, dropout, emb=False):\n",
    "        super(GNNStack, self).__init__()\n",
    "\n",
    "        # GraphSAGE convolutional layers\n",
    "        conv_model = pyg.nn.SAGEConv\n",
    "        # conv_model = pyg.nn.GATConv\n",
    "\n",
    "\n",
    "        self.convs = nn.ModuleList()\n",
    "\n",
    "        # add the first convolutional layer\n",
    "        self.convs.append(conv_model(input_dim, hidden_dim))\n",
    "        self.dropout = dropout\n",
    "        self.num_layers = num_layers\n",
    "        self.emb = emb\n",
    "\n",
    "        # Create num_layers GraphSAGE convs\n",
    "        assert (self.num_layers >= 1), 'Number of layers is not >=1'\n",
    "        for l in range(self.num_layers - 1):\n",
    "            self.convs.append(conv_model(hidden_dim, hidden_dim))\n",
    "\n",
    "        # post-message-passing processing \n",
    "        self.post_mp = nn.Sequential(\n",
    "            nn.Linear(hidden_dim, hidden_dim), nn.Dropout(self.dropout),\n",
    "            nn.Linear(hidden_dim, output_dim))\n",
    "\n",
    "    def forward(self, x, edge_index):\n",
    "\n",
    "        for i in range(self.num_layers):\n",
    "            x = self.convs[i](x, edge_index)\n",
    "            x = F.relu(x)\n",
    "            x = F.dropout(x, p=self.dropout, training=self.training)\n",
    "\n",
    "        x = self.post_mp(x)\n",
    "\n",
    "        # Return final layer of embeddings if specified\n",
    "        if self.emb:\n",
    "            return x\n",
    "\n",
    "        # Else return class probabilities\n",
    "        return F.log_softmax(x, dim=1)\n",
    "\n",
    "    def loss(self, pred, label):\n",
    "        return F.nll_loss(pred, label)"
   ]
  },
  {
   "cell_type": "code",
   "execution_count": null,
   "metadata": {},
   "outputs": [],
   "source": []
  },
  {
   "cell_type": "code",
   "execution_count": 31,
   "metadata": {},
   "outputs": [],
   "source": [
    "def get_gpu_memory():\n",
    "    command = \"nvidia-smi --query-gpu=memory.free --format=csv\"\n",
    "    memory_free_info = sp.check_output(command.split()).decode('ascii').split('\\n')[:-1][1:]\n",
    "    memory_free_values = [int(x.split()[0]) for i, x in enumerate(memory_free_info)]\n",
    "    return memory_free_values"
   ]
  },
  {
   "cell_type": "code",
   "execution_count": 32,
   "metadata": {},
   "outputs": [],
   "source": [
    "import random\n",
    "from typing import Optional, Tuple, Union\n",
    "from torch_geometric.utils.num_nodes import maybe_num_nodes\n",
    "import numpy as np\n",
    "import torch\n",
    "from torch import Tensor\n",
    "\n",
    "from torch_geometric.utils import coalesce, cumsum, degree, remove_self_loops\n",
    "\n",
    "\n",
    "def structured_negative_sampling(edge_index, num_nodes: Optional[int] = None,\n",
    "                                 contains_neg_self_loops: bool = True):\n",
    "    \n",
    "    num_nodes = maybe_num_nodes(edge_index, num_nodes)\n",
    "\n",
    "    row, col = edge_index.cpu()\n",
    "\n",
    "    pos_idx = row * num_nodes + col\n",
    "    if not contains_neg_self_loops:\n",
    "        loop_idx = torch.arange(num_nodes) * (num_nodes + 1)\n",
    "        pos_idx = torch.cat([pos_idx, loop_idx], dim=0)\n",
    "\n",
    "    # Get the unique nodes from the columns of edge_index\n",
    "    unique_nodes = torch.unique(edge_index[1]).cpu()\n",
    "\n",
    "    # Generate random indices for negative edges from unique_nodes\n",
    "    rand = torch.randint(len(unique_nodes), (row.size(0), ), dtype=torch.long)\n",
    "    neg_idx = row * num_nodes + unique_nodes[rand]\n",
    "\n",
    "    mask = torch.from_numpy(np.isin(neg_idx, pos_idx)).to(torch.bool)\n",
    "    rest = mask.nonzero(as_tuple=False).view(-1)\n",
    "\n",
    "    while rest.numel() > 0:  # pragma: no cover\n",
    "        tmp = torch.randint(len(unique_nodes), (rest.size(0), ), dtype=torch.long)\n",
    "        rand[rest] = tmp\n",
    "        neg_idx = row[rest] * num_nodes + unique_nodes[tmp]\n",
    "\n",
    "        mask = torch.from_numpy(np.isin(neg_idx, pos_idx)).to(torch.bool)\n",
    "        rest = rest[mask]\n",
    "\n",
    "\n",
    "    return torch.stack([edge_index[0],torch.tensor(unique_nodes[rand]).to(edge_index.device)], dim=0).long()"
   ]
  },
  {
   "cell_type": "code",
   "execution_count": 33,
   "metadata": {},
   "outputs": [],
   "source": [
    "def calculate_roc_auc(pos_preds, neg_preds):\n",
    "    # Stack predictions and labels together\n",
    "    preds = torch.cat([pos_preds, neg_preds])\n",
    "    labels = torch.cat([torch.ones(pos_preds.size(0)), torch.zeros(neg_preds.size(0))])\n",
    "\n",
    "    # Use sklearn's roc auc function\n",
    "    from sklearn.metrics import roc_auc_score\n",
    "    return roc_auc_score(labels.detach().cpu(), preds.detach().cpu())"
   ]
  },
  {
   "cell_type": "code",
   "execution_count": 127,
   "metadata": {},
   "outputs": [],
   "source": [
    "from torch_geometric.utils import negative_sampling\n",
    "\n",
    "def train(model, link_predictor, emb, edge_index, pos_train_edge, batch_size, optimizer, debug=False):\n",
    "    \"\"\"\n",
    "    Runs offline training for model, link_predictor and node embeddings given the message\n",
    "    edges and supervision edges.\n",
    "    :param model: Torch Graph model used for updating node embeddings based on message passing\n",
    "    :param link_predictor: Torch model used for predicting whether edge exists or not\n",
    "    :param emb: (N, d) Initial node embeddings for all N nodes in graph\n",
    "    :param edge_index: (2, E) Edge index for all edges in the graph\n",
    "    :param pos_train_edge: (PE, 2) Positive edges used for training supervision loss\n",
    "    :param batch_size: Number of positive (and negative) supervision edges to sample per batch\n",
    "    :param optimizer: Torch Optimizer to update model parameters\n",
    "    :return: Average supervision loss over all positive (and correspondingly sampled negative) edges\n",
    "    \"\"\"\n",
    "    model.train()\n",
    "    link_predictor.train()\n",
    "    train_losses = []\n",
    "    \n",
    "    # edge_index = split_edge['train']['edge']\n",
    "    # edge_index = split_edge\n",
    "    \n",
    "    pos_train_edge = torch.tensor(pos_train_edge, dtype=torch.long).T\n",
    "    # neg_train_edge = structured_negative_sampling(edge_index, num_nodes=edge_index.shape[1]).T\n",
    "    neg_train_edge = structured_negative_sampling(pos_train_edge.T, num_nodes=pos_train_edge.shape[0]).T\n",
    "    dataloader = DataLoader(range(pos_train_edge.shape[0]), batch_size, shuffle=True)\n",
    "\n",
    "    for edge_id in tqdm(dataloader):\n",
    "        \n",
    "        optimizer.zero_grad()\n",
    "\n",
    "        # Run message passing on the inital node embeddings to get updated embeddings\n",
    "        node_emb = model(emb, edge_index)  # (N, d)\n",
    "\n",
    "        # Predict the class probabilities on the batch of positive edges using link_predictor\n",
    "        pos_edge = pos_train_edge[edge_id].T  # (2, B)\n",
    "        pos_pred = link_predictor(node_emb[pos_edge[0]], node_emb[pos_edge[1]])  # (B, )\n",
    "        # print(\"Trained on positive edges: \", pos_edge.shape)\n",
    "        \n",
    "\n",
    "        # print(pos_train_edge.T.shape)\n",
    "        neg_edge = neg_train_edge[edge_id].T  # (2, B)\n",
    "        neg_pred = link_predictor(node_emb[neg_edge[0]], node_emb[neg_edge[1]])  # (Ne,)\n",
    "        # neg_edge = structured_negative_sampling(pos_train_edge.T, pos_train_edge.shape[0])\n",
    "        # print(\"Trained on negative edges: \", neg_edge.shape)\n",
    "\n",
    "        # neg_edge = negative_sampling(edge_index, num_nodes=emb.shape[0],\n",
    "        #                              num_neg_samples=edge_id.shape[0], method='dense')  # (Ne,2)\n",
    "        # neg_edge = negative_sampling(neg_train_edge[edge_id].T, num_nodes=emb.shape[0],\n",
    "        #                         num_neg_samples=edge_id.shape[0], method='dense')  # (Ne,2)\n",
    "\n",
    "        loss = -torch.log(pos_pred + 1e-15).mean() - torch.log(1 - neg_pred + 1e-15).mean()\n",
    "        # Backpropagate and update parameters\n",
    "        loss.backward()\n",
    "        optimizer.step()\n",
    "\n",
    "        train_losses.append(loss.item())\n",
    "        if debug:\n",
    "            print(\"Train edges batch shape: \", edge_id.shape)\n",
    "            print(\"Train node embedding shape: \", node_emb.shape)\n",
    "            print(\"Train positive edge shape: \", pos_edge.shape)\n",
    "            print(\"Shape of positive edges (source): \", pos_edge[0].shape)\n",
    "            print(\"Shape of positive edges (target): \", pos_edge[1].shape)\n",
    "            print(\"Node embedding shape: \", node_emb[pos_edge[0]].shape)\n",
    "            print(\"Train positive prediction shape: \", pos_pred.shape)\n",
    "            print(\"Train negative prediction shape: \", neg_pred.shape)\n",
    "            print(\"------------------------------------------\")\n",
    "\n",
    "    print(\"Train loss: \", sum(train_losses) / len(train_losses))\n",
    "\n",
    "    return sum(train_losses) / len(train_losses)"
   ]
  },
  {
   "cell_type": "code",
   "execution_count": 128,
   "metadata": {},
   "outputs": [],
   "source": [
    "# calcilate cosine similarity between 2 vectors\n",
    "def cos_sim(a, b):\n",
    "    return np.dot(a, b)/(np.linalg.norm(a)*np.linalg.norm(b))"
   ]
  },
  {
   "cell_type": "code",
   "execution_count": 129,
   "metadata": {},
   "outputs": [],
   "source": [
    "# from utils import do_edge_split\n",
    "# split_edge = do_edge_split(graph, fast_split = False)"
   ]
  },
  {
   "cell_type": "code",
   "execution_count": null,
   "metadata": {},
   "outputs": [],
   "source": []
  },
  {
   "cell_type": "code",
   "execution_count": 130,
   "metadata": {},
   "outputs": [],
   "source": [
    "def test(model, predictor, emb, edge_index, split_edge, batch_size, evaluator):\n",
    "    \"\"\"\n",
    "    Evaluates graph model on validation and test edges\n",
    "    :param model: Torch Graph model used for updating node embeddings based on message passing\n",
    "    :param predictor: Torch model used for predicting whether edge exists or not\n",
    "    :param emb: (N, d) Initial node embeddings for all N nodes in graph\n",
    "    :param edge_index: (2, E) Edge index for all edges in the graph\n",
    "    :param split_edge: Dictionary of (e, 2) edges for val pos/neg and test pos/neg edges\n",
    "    :param batch_size: Number of positive (and negative) supervision edges to sample per batch\n",
    "    :param evaluator: OGB evaluator to calculate hits @ k metric\n",
    "    :return: hits @ k results\n",
    "    \"\"\"\n",
    "    model.eval()\n",
    "    predictor.eval()\n",
    "\n",
    "    node_emb = model(emb, edge_index)\n",
    "\n",
    "    pos_valid_edge = split_edge['valid']['edge'].T.to(emb.device)\n",
    "    neg_valid_edge = split_edge['valid']['edge_neg'].T.to(emb.device)\n",
    "    pos_test_edge = split_edge['test']['edge'].T.to(emb.device)\n",
    "    neg_test_edge = split_edge['test']['edge_neg'].T.to(emb.device)\n",
    "\n",
    "    with torch.no_grad():\n",
    "\n",
    "        loss_val_pos = []\n",
    "        pos_valid_preds = []\n",
    "        for perm in DataLoader(range(pos_valid_edge.size(0)), batch_size):\n",
    "            edge = pos_valid_edge[perm].t()\n",
    "            pos_valid_preds += [predictor(node_emb[edge[0]], node_emb[edge[1]]).squeeze().cpu()]\n",
    "            # print(\"Shape positive preds\", predictor(node_emb[edge[0]], node_emb[edge[1]]).shape)\n",
    "            loss_val_pos.append(-torch.log(predictor(node_emb[edge[0]], node_emb[edge[1]]).squeeze().cpu() + 1e-15).mean())\n",
    "            # loss_val_pos.append(F.binary_cross_entropy_with_logits(predictor(node_emb[edge[0]], node_emb[edge[1]]).squeeze().cpu(), torch.ones(edge[0].shape[0])).to(torch.float32))\n",
    "            \n",
    "        pos_valid_pred = torch.cat(pos_valid_preds, dim=0)\n",
    "        loss_val_pos_val = sum(loss_val_pos) / len(loss_val_pos)\n",
    "\n",
    "        loss_val_neg = []\n",
    "        neg_valid_preds = []\n",
    "        for perm in DataLoader(range(neg_valid_edge.size(0)), batch_size):\n",
    "            edge = neg_valid_edge[perm].t()\n",
    "            neg_valid_preds += [predictor(node_emb[edge[0]], node_emb[edge[1]]).squeeze().cpu()]\n",
    "            # print(\"Shape negative preds\", predictor(node_emb[edge[0]], node_emb[edge[1]]).shape)\n",
    "            loss_val_neg.append(-torch.log(1 - predictor(node_emb[edge[0]], node_emb[edge[1]]).squeeze().cpu() + 1e-15).mean())\n",
    "            # loss_val_neg.append(F.binary_cross_entropy_with_logits(predictor(node_emb[edge[0]], node_emb[edge[1]]).squeeze().cpu(), torch.zeros(edge[0].shape[0])).to(torch.float32))\n",
    "        \n",
    "        neg_valid_pred = torch.cat(neg_valid_preds, dim=0)\n",
    "        loss_val_neg_val = sum(loss_val_neg) / len(loss_val_neg)\n",
    "\n",
    "        # print(\"Validation ROCAUC: \", calculate_roc_auc(pos_valid_pred, neg_valid_pred))\n",
    "\n",
    "        loss_test_pos = []\n",
    "        pos_test_preds = []\n",
    "        for perm in DataLoader(range(pos_test_edge.size(0)), batch_size):\n",
    "            edge = pos_test_edge[perm].t()\n",
    "            pos_test_preds += [predictor(node_emb[edge[0]], node_emb[edge[1]]).squeeze().cpu()]\n",
    "            loss_test_pos.append(-torch.log(predictor(node_emb[edge[0]], node_emb[edge[1]]).squeeze().cpu() + 1e-15).mean())\n",
    "            # loss_test_pos.append(F.binary_cross_entropy_with_logits(predictor(node_emb[edge[0]], node_emb[edge[1]]).squeeze().cpu(), torch.ones(edge[0].shape[0])).to(torch.float32))\n",
    "        \n",
    "        pos_test_pred = torch.cat(pos_test_preds, dim=0)\n",
    "        loss_test_pos_val = sum(loss_test_pos) / len(loss_test_pos)\n",
    "\n",
    "        loss_test_neg = []\n",
    "        neg_test_preds = []\n",
    "        for perm in DataLoader(range(neg_test_edge.size(0)), batch_size):\n",
    "            edge = neg_test_edge[perm].t()\n",
    "            neg_test_preds += [predictor(node_emb[edge[0]], node_emb[edge[1]]).squeeze().cpu()]\n",
    "            loss_test_neg.append(-torch.log(1 - predictor(node_emb[edge[0]], node_emb[edge[1]]).squeeze().cpu() + 1e-15).mean())\n",
    "            # loss_test_neg.append(F.binary_cross_entropy_with_logits(predictor(node_emb[edge[0]], node_emb[edge[1]]).squeeze().cpu(), torch.zeros(edge[0].shape[0])).to(torch.float32))\n",
    "        \n",
    "        neg_test_pred = torch.cat(neg_test_preds, dim=0)\n",
    "        loss_test_neg_val = sum(loss_test_neg) / len(loss_test_neg)\n",
    "\n",
    "        # print(\"Test ROCAUC: \", calculate_roc_auc(pos_test_pred, neg_test_pred))\n",
    "\n",
    "        results = {}\n",
    "        results[\"loss_val_pos\"] = loss_val_pos_val\n",
    "        results[\"loss_val_neg\"] = loss_val_neg_val\n",
    "        results[\"loss_test_pos\"] = loss_test_pos_val\n",
    "        results[\"loss_test_neg\"] = loss_test_neg_val\n",
    "        results[\"roc_auc_val\"] = calculate_roc_auc(pos_valid_pred, neg_valid_pred)\n",
    "        results[\"roc_auc_test\"] = calculate_roc_auc(pos_test_pred, neg_test_pred)\n",
    "\n",
    "        print(\"Loss val pos: \", loss_val_pos_val)\n",
    "        print(\"Loss val neg: \", loss_val_neg_val)\n",
    "        print(\"Loss test pos: \", loss_test_pos_val)\n",
    "        print(\"Loss test neg: \", loss_test_neg_val)\n",
    "        print(\"ROC-AUC val: \", calculate_roc_auc(pos_valid_pred, neg_valid_pred))\n",
    "        print(\"ROC-AUC test: \", calculate_roc_auc(pos_test_pred, neg_test_pred))\n",
    "\n",
    "        for K in [20, 50, 100]:\n",
    "            evaluator.K = K\n",
    "            valid_hits = evaluator.eval({\n",
    "                'y_pred_pos': pos_valid_pred,\n",
    "                'y_pred_neg': neg_valid_pred,\n",
    "            })[f'hits@{K}']\n",
    "            test_hits = evaluator.eval({\n",
    "                'y_pred_pos': pos_test_pred,\n",
    "                'y_pred_neg': neg_test_pred,\n",
    "            })[f'hits@{K}']\n",
    "\n",
    "            results[f'Hits@{K}'] = (valid_hits, test_hits)\n",
    "\n",
    "    return results"
   ]
  },
  {
   "cell_type": "code",
   "execution_count": 131,
   "metadata": {},
   "outputs": [
    {
     "name": "stdout",
     "output_type": "stream",
     "text": [
      "33557 33557\n"
     ]
    },
    {
     "name": "stderr",
     "output_type": "stream",
     "text": [
      "/tmp/ipykernel_65221/2357634718.py:42: UserWarning: To copy construct from a tensor, it is recommended to use sourceTensor.clone().detach() or sourceTensor.clone().detach().requires_grad_(True), rather than torch.tensor(sourceTensor).\n",
      "  return torch.stack([edge_index[0],torch.tensor(unique_nodes[rand]).to(edge_index.device)], dim=0).long()\n"
     ]
    },
    {
     "name": "stdout",
     "output_type": "stream",
     "text": [
      "Train edges:  torch.Size([2, 716156])\n",
      "Valid positive edges:  torch.Size([2, 89520])\n",
      "Valid negative edges:  torch.Size([2, 89520])\n",
      "Test positive edges:  torch.Size([2, 89520])\n",
      "Test negative edges:  torch.Size([2, 89520])\n"
     ]
    }
   ],
   "source": [
    "\n",
    "\n",
    "from sklearn.model_selection import train_test_split\n",
    "\n",
    "def create_train_test_split_rls(edge_index):\n",
    "\n",
    "    num_users, num_articles= len(np.unique(edge_index[0])), len(np.unique(edge_index[1]))\n",
    "    print(num_users, num_articles)\n",
    "    num_interactions = edge_index.shape[1]\n",
    "    neg_samples = structured_negative_sampling(edge_index, num_nodes=edge_index.shape[1])\n",
    "\n",
    "    all_indices = [i for i in range(num_interactions)]\n",
    "\n",
    "    train_indices, test_indices = train_test_split(all_indices, test_size=0.2, random_state=1)\n",
    "    val_indices, test_indices = train_test_split(test_indices, test_size=0.5, random_state=1)\n",
    "\n",
    "    train_edge_index = edge_index[:, train_indices]\n",
    "    val_edge_index = edge_index[:, val_indices]\n",
    "    test_edge_index = edge_index[:, test_indices]\n",
    "\n",
    "    train_edge_index = train_edge_index.to(torch.long)\n",
    "    val_edge_index = val_edge_index.to(torch.long)\n",
    "    test_edge_index = test_edge_index.to(torch.long)\n",
    "\n",
    "    val_neg_edge_index = neg_samples[:, val_indices]\n",
    "    test_neg_edge_index = neg_samples[:, test_indices]\n",
    "\n",
    "    dataset = {}\n",
    "    dataset['train'] = {}\n",
    "    dataset['train']['edge'] = train_edge_index\n",
    "    dataset['valid'] = {}\n",
    "    dataset['valid']['edge'] = val_edge_index\n",
    "    dataset['valid']['edge_neg'] = val_neg_edge_index\n",
    "    dataset['test'] = {}\n",
    "    dataset['test']['edge'] = test_edge_index\n",
    "    dataset['test']['edge_neg'] = test_neg_edge_index\n",
    "\n",
    "    print(\"Train edges: \", dataset['train']['edge'].shape)\n",
    "    print(\"Valid positive edges: \", dataset['valid']['edge'].shape)\n",
    "    print(\"Valid negative edges: \", dataset['valid']['edge_neg'].shape)\n",
    "    print(\"Test positive edges: \", dataset['test']['edge'].shape)\n",
    "    print(\"Test negative edges: \", dataset['test']['edge_neg'].shape)\n",
    "    return dataset\n",
    "\n",
    "\n",
    "edge_index = graph.edge_index\n",
    "# # create train, test, validation splits with negative sampling and stores them in split_edge dictionary\n",
    "split_edge = create_train_test_split_rls(edge_index)"
   ]
  },
  {
   "cell_type": "code",
   "execution_count": 132,
   "metadata": {},
   "outputs": [
    {
     "data": {
      "text/plain": [
       "tensor([[ 3131,  1844,  7159,  ...,  5629,  6902,  1285],\n",
       "        [ 7614, 16200,   375,  ...,  2986,  3738, 11941]])"
      ]
     },
     "execution_count": 132,
     "metadata": {},
     "output_type": "execute_result"
    }
   ],
   "source": [
    "split_edge['train']['edge']"
   ]
  },
  {
   "cell_type": "code",
   "execution_count": 133,
   "metadata": {},
   "outputs": [
    {
     "data": {
      "text/plain": [
       "tensor([[ 3438, 22830,   445,  ...,  8096,   354,   821],\n",
       "        [20496,  2720, 18118,  ...,  3437,  6156, 10979]])"
      ]
     },
     "execution_count": 133,
     "metadata": {},
     "output_type": "execute_result"
    }
   ],
   "source": [
    "split_edge['test']['edge']"
   ]
  },
  {
   "cell_type": "code",
   "execution_count": 134,
   "metadata": {},
   "outputs": [
    {
     "data": {
      "text/plain": [
       "tensor([[ 3438, 22830,   445,  ...,  8096,   354,   821],\n",
       "        [31772,  5001, 19087,  ...,  5317, 31974, 10070]])"
      ]
     },
     "execution_count": 134,
     "metadata": {},
     "output_type": "execute_result"
    }
   ],
   "source": [
    "split_edge['test']['edge_neg']"
   ]
  },
  {
   "cell_type": "code",
   "execution_count": 135,
   "metadata": {},
   "outputs": [
    {
     "data": {
      "text/plain": [
       "tensor([[ 3728,  6690,  3825,  ...,  2296,  2954, 32716],\n",
       "        [12173,   202, 22780,  ..., 26084, 18462,  2770]])"
      ]
     },
     "execution_count": 135,
     "metadata": {},
     "output_type": "execute_result"
    }
   ],
   "source": [
    "split_edge['valid']['edge']"
   ]
  },
  {
   "cell_type": "code",
   "execution_count": 136,
   "metadata": {},
   "outputs": [
    {
     "data": {
      "text/plain": [
       "tensor([[ 3728,  6690,  3825,  ...,  2296,  2954, 32716],\n",
       "        [18924,  8177,  4366,  ...,  8573, 23971,  6270]])"
      ]
     },
     "execution_count": 136,
     "metadata": {},
     "output_type": "execute_result"
    }
   ],
   "source": [
    "split_edge['valid']['edge_neg']"
   ]
  },
  {
   "cell_type": "code",
   "execution_count": 137,
   "metadata": {},
   "outputs": [
    {
     "name": "stdout",
     "output_type": "stream",
     "text": [
      "==== Expected input format of Evaluator for ogbl-ddi\n",
      "{'y_pred_pos': y_pred_pos, 'y_pred_neg': y_pred_neg}\n",
      "- y_pred_pos: numpy ndarray or torch tensor of shape (num_edges, ). Torch tensor on GPU is recommended for efficiency.\n",
      "- y_pred_neg: numpy ndarray or torch tensor of shape (num_edges, ). Torch tensor on GPU is recommended for efficiency.\n",
      "y_pred_pos is the predicted scores for positive edges.\n",
      "y_pred_neg is the predicted scores for negative edges.\n",
      "Note: As the evaluation metric is ranking-based, the predicted scores need to be different for different edges.\n"
     ]
    }
   ],
   "source": [
    "evaluator = Evaluator(name='ogbl-ddi')\n",
    "print(evaluator.expected_input_format)"
   ]
  },
  {
   "cell_type": "code",
   "execution_count": 138,
   "metadata": {},
   "outputs": [
    {
     "data": {
      "text/plain": [
       "32020"
      ]
     },
     "execution_count": 138,
     "metadata": {},
     "output_type": "execute_result"
    }
   ],
   "source": [
    "len(torch.unique(split_edge['train']['edge'][0]))"
   ]
  },
  {
   "cell_type": "code",
   "execution_count": 139,
   "metadata": {},
   "outputs": [
    {
     "data": {
      "text/plain": [
       "32129"
      ]
     },
     "execution_count": 139,
     "metadata": {},
     "output_type": "execute_result"
    }
   ],
   "source": [
    "len(torch.unique(split_edge['train']['edge'][1]))"
   ]
  },
  {
   "cell_type": "code",
   "execution_count": 140,
   "metadata": {},
   "outputs": [
    {
     "data": {
      "text/plain": [
       "18066"
      ]
     },
     "execution_count": 140,
     "metadata": {},
     "output_type": "execute_result"
    }
   ],
   "source": [
    "len(torch.unique(split_edge['valid']['edge'][0]))"
   ]
  },
  {
   "cell_type": "code",
   "execution_count": 141,
   "metadata": {},
   "outputs": [
    {
     "data": {
      "text/plain": [
       "31256"
      ]
     },
     "execution_count": 141,
     "metadata": {},
     "output_type": "execute_result"
    }
   ],
   "source": [
    "len(torch.unique(split_edge['valid']['edge_neg'][1]))"
   ]
  },
  {
   "cell_type": "code",
   "execution_count": 142,
   "metadata": {},
   "outputs": [
    {
     "data": {
      "text/plain": [
       "tensor([[ 3438, 22830,   445,  ...,  8096,   354,   821],\n",
       "        [20496,  2720, 18118,  ...,  3437,  6156, 10979]])"
      ]
     },
     "execution_count": 142,
     "metadata": {},
     "output_type": "execute_result"
    }
   ],
   "source": [
    "split_edge['test']['edge']"
   ]
  },
  {
   "cell_type": "code",
   "execution_count": 143,
   "metadata": {},
   "outputs": [
    {
     "data": {
      "text/plain": [
       "tensor([[ 3438, 22830,   445,  ...,  8096,   354,   821],\n",
       "        [31772,  5001, 19087,  ...,  5317, 31974, 10070]])"
      ]
     },
     "execution_count": 143,
     "metadata": {},
     "output_type": "execute_result"
    }
   ],
   "source": [
    "split_edge['test']['edge_neg']"
   ]
  },
  {
   "cell_type": "code",
   "execution_count": 144,
   "metadata": {},
   "outputs": [
    {
     "data": {
      "text/plain": [
       "tensor([[ 3728,  6690,  3825,  ...,  2296,  2954, 32716],\n",
       "        [12173,   202, 22780,  ..., 26084, 18462,  2770]])"
      ]
     },
     "execution_count": 144,
     "metadata": {},
     "output_type": "execute_result"
    }
   ],
   "source": [
    "split_edge['valid']['edge']"
   ]
  },
  {
   "cell_type": "code",
   "execution_count": 145,
   "metadata": {},
   "outputs": [
    {
     "data": {
      "text/plain": [
       "tensor([[ 3728,  6690,  3825,  ...,  2296,  2954, 32716],\n",
       "        [18924,  8177,  4366,  ...,  8573, 23971,  6270]])"
      ]
     },
     "execution_count": 145,
     "metadata": {},
     "output_type": "execute_result"
    }
   ],
   "source": [
    "split_edge['valid']['edge_neg']"
   ]
  },
  {
   "cell_type": "code",
   "execution_count": 146,
   "metadata": {},
   "outputs": [
    {
     "data": {
      "text/plain": [
       "tensor([[    0,     1,     1,  ..., 33556, 33556, 33556],\n",
       "        [16577,  4276,  4295,  ...,  3040,  3366,  3982]])"
      ]
     },
     "execution_count": 146,
     "metadata": {},
     "output_type": "execute_result"
    }
   ],
   "source": [
    "graph.edge_index"
   ]
  },
  {
   "cell_type": "code",
   "execution_count": 147,
   "metadata": {},
   "outputs": [
    {
     "data": {
      "text/plain": [
       "33557"
      ]
     },
     "execution_count": 147,
     "metadata": {},
     "output_type": "execute_result"
    }
   ],
   "source": [
    "len(np.unique(graph.edge_index))"
   ]
  },
  {
   "cell_type": "code",
   "execution_count": 154,
   "metadata": {},
   "outputs": [],
   "source": [
    "# hyperparameters\n",
    "device = torch.device('cuda' if torch.cuda.is_available() else 'cpu')\n",
    "# device = 'cpu'\n",
    "optim_wd = 0\n",
    "epochs = 30\n",
    "hidden_dim = 256\n",
    "dropout = 0.3\n",
    "num_layers = 2\n",
    "lr = 5e-3\n",
    "node_emb_dim = 256\n",
    "batch_size = 64*1024"
   ]
  },
  {
   "cell_type": "code",
   "execution_count": 155,
   "metadata": {},
   "outputs": [],
   "source": [
    "# https://colab.research.google.com/drive/1mzvskulGoM9uXCkc4Cke3_Ch0-lz_HnN#scrollTo=gG6mGvs9Uqnt\n",
    "\n",
    "pos_train_edge = split_edge['train']['edge'].to(device)\n",
    "num_nodes = len(np.unique(graph.edge_index))\n",
    "emb = torch.nn.Embedding(num_nodes, node_emb_dim).to(device) # each node has an embedding that has to be learnt\n",
    "model = GNNStack(node_emb_dim, hidden_dim, hidden_dim, num_layers, dropout, emb=True).to(device)\n",
    "link_predictor = LinkPredictor(hidden_dim, hidden_dim, 1, num_layers + 1, dropout).to(device)"
   ]
  },
  {
   "cell_type": "code",
   "execution_count": 156,
   "metadata": {},
   "outputs": [
    {
     "data": {
      "text/plain": [
       "Embedding(33557, 256)"
      ]
     },
     "execution_count": 156,
     "metadata": {},
     "output_type": "execute_result"
    }
   ],
   "source": [
    "emb"
   ]
  },
  {
   "cell_type": "code",
   "execution_count": 157,
   "metadata": {},
   "outputs": [
    {
     "data": {
      "text/plain": [
       "GNNStack(\n",
       "  (convs): ModuleList(\n",
       "    (0-1): 2 x SAGEConv(256, 256, aggr=mean)\n",
       "  )\n",
       "  (post_mp): Sequential(\n",
       "    (0): Linear(in_features=256, out_features=256, bias=True)\n",
       "    (1): Dropout(p=0.3, inplace=False)\n",
       "    (2): Linear(in_features=256, out_features=256, bias=True)\n",
       "  )\n",
       ")"
      ]
     },
     "execution_count": 157,
     "metadata": {},
     "output_type": "execute_result"
    }
   ],
   "source": [
    "model"
   ]
  },
  {
   "cell_type": "code",
   "execution_count": 158,
   "metadata": {},
   "outputs": [
    {
     "data": {
      "text/plain": [
       "LinkPredictor(\n",
       "  (lins): ModuleList(\n",
       "    (0-1): 2 x Linear(in_features=256, out_features=256, bias=True)\n",
       "    (2): Linear(in_features=256, out_features=1, bias=True)\n",
       "  )\n",
       ")"
      ]
     },
     "execution_count": 158,
     "metadata": {},
     "output_type": "execute_result"
    }
   ],
   "source": [
    "link_predictor"
   ]
  },
  {
   "cell_type": "code",
   "execution_count": 159,
   "metadata": {},
   "outputs": [
    {
     "name": "stdout",
     "output_type": "stream",
     "text": [
      "Before training. Available GPU memory:  [1865]\n"
     ]
    },
    {
     "name": "stderr",
     "output_type": "stream",
     "text": [
      "  0%|          | 0/30 [00:00<?, ?it/s]/tmp/ipykernel_65221/201470960.py:23: UserWarning: To copy construct from a tensor, it is recommended to use sourceTensor.clone().detach() or sourceTensor.clone().detach().requires_grad_(True), rather than torch.tensor(sourceTensor).\n",
      "  pos_train_edge = torch.tensor(pos_train_edge, dtype=torch.long).T\n",
      "/tmp/ipykernel_65221/2357634718.py:42: UserWarning: To copy construct from a tensor, it is recommended to use sourceTensor.clone().detach() or sourceTensor.clone().detach().requires_grad_(True), rather than torch.tensor(sourceTensor).\n",
      "  return torch.stack([edge_index[0],torch.tensor(unique_nodes[rand]).to(edge_index.device)], dim=0).long()\n",
      "100%|██████████| 11/11 [00:28<00:00,  2.58s/it]\n"
     ]
    },
    {
     "name": "stdout",
     "output_type": "stream",
     "text": [
      "Train loss:  1.401207533749667\n"
     ]
    },
    {
     "name": "stderr",
     "output_type": "stream",
     "text": [
      "  3%|▎         | 1/30 [00:30<14:57, 30.95s/it]"
     ]
    },
    {
     "name": "stdout",
     "output_type": "stream",
     "text": [
      "Loss val pos:  tensor(0.7414)\n",
      "Loss val neg:  tensor(0.6067)\n",
      "Loss test pos:  tensor(0.7417)\n",
      "Loss test neg:  tensor(0.6065)\n",
      "ROC-AUC val:  0.6886574855639571\n",
      "ROC-AUC test:  0.6878622936667089\n"
     ]
    },
    {
     "name": "stderr",
     "output_type": "stream",
     "text": [
      "/tmp/ipykernel_65221/201470960.py:23: UserWarning: To copy construct from a tensor, it is recommended to use sourceTensor.clone().detach() or sourceTensor.clone().detach().requires_grad_(True), rather than torch.tensor(sourceTensor).\n",
      "  pos_train_edge = torch.tensor(pos_train_edge, dtype=torch.long).T\n",
      "/tmp/ipykernel_65221/2357634718.py:42: UserWarning: To copy construct from a tensor, it is recommended to use sourceTensor.clone().detach() or sourceTensor.clone().detach().requires_grad_(True), rather than torch.tensor(sourceTensor).\n",
      "  return torch.stack([edge_index[0],torch.tensor(unique_nodes[rand]).to(edge_index.device)], dim=0).long()\n",
      "100%|██████████| 11/11 [00:28<00:00,  2.61s/it]\n"
     ]
    },
    {
     "name": "stdout",
     "output_type": "stream",
     "text": [
      "Train loss:  1.2294960563833064\n"
     ]
    },
    {
     "name": "stderr",
     "output_type": "stream",
     "text": [
      "  7%|▋         | 2/30 [01:02<14:35, 31.28s/it]"
     ]
    },
    {
     "name": "stdout",
     "output_type": "stream",
     "text": [
      "Loss val pos:  tensor(0.6082)\n",
      "Loss val neg:  tensor(0.4352)\n",
      "Loss test pos:  tensor(0.6064)\n",
      "Loss test neg:  tensor(0.4350)\n",
      "ROC-AUC val:  0.7624473018545539\n",
      "ROC-AUC test:  0.7627582104807209\n"
     ]
    },
    {
     "name": "stderr",
     "output_type": "stream",
     "text": [
      "/tmp/ipykernel_65221/201470960.py:23: UserWarning: To copy construct from a tensor, it is recommended to use sourceTensor.clone().detach() or sourceTensor.clone().detach().requires_grad_(True), rather than torch.tensor(sourceTensor).\n",
      "  pos_train_edge = torch.tensor(pos_train_edge, dtype=torch.long).T\n",
      "/tmp/ipykernel_65221/2357634718.py:42: UserWarning: To copy construct from a tensor, it is recommended to use sourceTensor.clone().detach() or sourceTensor.clone().detach().requires_grad_(True), rather than torch.tensor(sourceTensor).\n",
      "  return torch.stack([edge_index[0],torch.tensor(unique_nodes[rand]).to(edge_index.device)], dim=0).long()\n",
      "100%|██████████| 11/11 [00:27<00:00,  2.47s/it]\n"
     ]
    },
    {
     "name": "stdout",
     "output_type": "stream",
     "text": [
      "Train loss:  1.0248453617095947\n"
     ]
    },
    {
     "name": "stderr",
     "output_type": "stream",
     "text": [
      " 10%|█         | 3/30 [01:32<13:47, 30.64s/it]"
     ]
    },
    {
     "name": "stdout",
     "output_type": "stream",
     "text": [
      "Loss val pos:  tensor(0.4332)\n",
      "Loss val neg:  tensor(0.5326)\n",
      "Loss test pos:  tensor(0.4330)\n",
      "Loss test neg:  tensor(0.5315)\n",
      "ROC-AUC val:  0.8559465403710065\n",
      "ROC-AUC test:  0.8565192841490632\n"
     ]
    },
    {
     "name": "stderr",
     "output_type": "stream",
     "text": [
      "/tmp/ipykernel_65221/201470960.py:23: UserWarning: To copy construct from a tensor, it is recommended to use sourceTensor.clone().detach() or sourceTensor.clone().detach().requires_grad_(True), rather than torch.tensor(sourceTensor).\n",
      "  pos_train_edge = torch.tensor(pos_train_edge, dtype=torch.long).T\n",
      "/tmp/ipykernel_65221/2357634718.py:42: UserWarning: To copy construct from a tensor, it is recommended to use sourceTensor.clone().detach() or sourceTensor.clone().detach().requires_grad_(True), rather than torch.tensor(sourceTensor).\n",
      "  return torch.stack([edge_index[0],torch.tensor(unique_nodes[rand]).to(edge_index.device)], dim=0).long()\n",
      "100%|██████████| 11/11 [00:26<00:00,  2.42s/it]\n"
     ]
    },
    {
     "name": "stdout",
     "output_type": "stream",
     "text": [
      "Train loss:  0.9355922937393188\n"
     ]
    },
    {
     "name": "stderr",
     "output_type": "stream",
     "text": [
      " 13%|█▎        | 4/30 [02:01<13:00, 30.04s/it]"
     ]
    },
    {
     "name": "stdout",
     "output_type": "stream",
     "text": [
      "Loss val pos:  tensor(0.3207)\n",
      "Loss val neg:  tensor(0.5146)\n",
      "Loss test pos:  tensor(0.3197)\n",
      "Loss test neg:  tensor(0.5119)\n",
      "ROC-AUC val:  0.8818181208327045\n",
      "ROC-AUC test:  0.8825359612052683\n"
     ]
    },
    {
     "name": "stderr",
     "output_type": "stream",
     "text": [
      "/tmp/ipykernel_65221/201470960.py:23: UserWarning: To copy construct from a tensor, it is recommended to use sourceTensor.clone().detach() or sourceTensor.clone().detach().requires_grad_(True), rather than torch.tensor(sourceTensor).\n",
      "  pos_train_edge = torch.tensor(pos_train_edge, dtype=torch.long).T\n",
      "/tmp/ipykernel_65221/2357634718.py:42: UserWarning: To copy construct from a tensor, it is recommended to use sourceTensor.clone().detach() or sourceTensor.clone().detach().requires_grad_(True), rather than torch.tensor(sourceTensor).\n",
      "  return torch.stack([edge_index[0],torch.tensor(unique_nodes[rand]).to(edge_index.device)], dim=0).long()\n",
      "100%|██████████| 11/11 [00:27<00:00,  2.50s/it]\n"
     ]
    },
    {
     "name": "stdout",
     "output_type": "stream",
     "text": [
      "Train loss:  0.856566846370697\n"
     ]
    },
    {
     "name": "stderr",
     "output_type": "stream",
     "text": [
      " 17%|█▋        | 5/30 [02:31<12:29, 30.00s/it]"
     ]
    },
    {
     "name": "stdout",
     "output_type": "stream",
     "text": [
      "Loss val pos:  tensor(0.3267)\n",
      "Loss val neg:  tensor(0.4691)\n",
      "Loss test pos:  tensor(0.3253)\n",
      "Loss test neg:  tensor(0.4668)\n",
      "ROC-AUC val:  0.8906453813896535\n",
      "ROC-AUC test:  0.8915124463452584\n"
     ]
    },
    {
     "name": "stderr",
     "output_type": "stream",
     "text": [
      "/tmp/ipykernel_65221/201470960.py:23: UserWarning: To copy construct from a tensor, it is recommended to use sourceTensor.clone().detach() or sourceTensor.clone().detach().requires_grad_(True), rather than torch.tensor(sourceTensor).\n",
      "  pos_train_edge = torch.tensor(pos_train_edge, dtype=torch.long).T\n",
      "/tmp/ipykernel_65221/2357634718.py:42: UserWarning: To copy construct from a tensor, it is recommended to use sourceTensor.clone().detach() or sourceTensor.clone().detach().requires_grad_(True), rather than torch.tensor(sourceTensor).\n",
      "  return torch.stack([edge_index[0],torch.tensor(unique_nodes[rand]).to(edge_index.device)], dim=0).long()\n",
      "100%|██████████| 11/11 [00:26<00:00,  2.37s/it]\n"
     ]
    },
    {
     "name": "stdout",
     "output_type": "stream",
     "text": [
      "Train loss:  0.8285391493277117\n"
     ]
    },
    {
     "name": "stderr",
     "output_type": "stream",
     "text": [
      " 20%|██        | 6/30 [02:59<11:47, 29.48s/it]"
     ]
    },
    {
     "name": "stdout",
     "output_type": "stream",
     "text": [
      "Loss val pos:  tensor(0.3702)\n",
      "Loss val neg:  tensor(0.4087)\n",
      "Loss test pos:  tensor(0.3702)\n",
      "Loss test neg:  tensor(0.4061)\n",
      "ROC-AUC val:  0.8974425224921156\n",
      "ROC-AUC test:  0.8983158741417836\n"
     ]
    },
    {
     "name": "stderr",
     "output_type": "stream",
     "text": [
      "/tmp/ipykernel_65221/201470960.py:23: UserWarning: To copy construct from a tensor, it is recommended to use sourceTensor.clone().detach() or sourceTensor.clone().detach().requires_grad_(True), rather than torch.tensor(sourceTensor).\n",
      "  pos_train_edge = torch.tensor(pos_train_edge, dtype=torch.long).T\n",
      "/tmp/ipykernel_65221/2357634718.py:42: UserWarning: To copy construct from a tensor, it is recommended to use sourceTensor.clone().detach() or sourceTensor.clone().detach().requires_grad_(True), rather than torch.tensor(sourceTensor).\n",
      "  return torch.stack([edge_index[0],torch.tensor(unique_nodes[rand]).to(edge_index.device)], dim=0).long()\n",
      "100%|██████████| 11/11 [00:28<00:00,  2.55s/it]\n"
     ]
    },
    {
     "name": "stdout",
     "output_type": "stream",
     "text": [
      "Train loss:  0.7975665439258922\n"
     ]
    },
    {
     "name": "stderr",
     "output_type": "stream",
     "text": [
      " 23%|██▎       | 7/30 [03:30<11:24, 29.78s/it]"
     ]
    },
    {
     "name": "stdout",
     "output_type": "stream",
     "text": [
      "Loss val pos:  tensor(0.3622)\n",
      "Loss val neg:  tensor(0.3876)\n",
      "Loss test pos:  tensor(0.3616)\n",
      "Loss test neg:  tensor(0.3855)\n",
      "ROC-AUC val:  0.9011897007453514\n",
      "ROC-AUC test:  0.9017807310346873\n"
     ]
    },
    {
     "name": "stderr",
     "output_type": "stream",
     "text": [
      "/tmp/ipykernel_65221/201470960.py:23: UserWarning: To copy construct from a tensor, it is recommended to use sourceTensor.clone().detach() or sourceTensor.clone().detach().requires_grad_(True), rather than torch.tensor(sourceTensor).\n",
      "  pos_train_edge = torch.tensor(pos_train_edge, dtype=torch.long).T\n",
      "/tmp/ipykernel_65221/2357634718.py:42: UserWarning: To copy construct from a tensor, it is recommended to use sourceTensor.clone().detach() or sourceTensor.clone().detach().requires_grad_(True), rather than torch.tensor(sourceTensor).\n",
      "  return torch.stack([edge_index[0],torch.tensor(unique_nodes[rand]).to(edge_index.device)], dim=0).long()\n",
      "100%|██████████| 11/11 [00:27<00:00,  2.47s/it]\n"
     ]
    },
    {
     "name": "stdout",
     "output_type": "stream",
     "text": [
      "Train loss:  0.7790162238207731\n"
     ]
    },
    {
     "name": "stderr",
     "output_type": "stream",
     "text": [
      " 27%|██▋       | 8/30 [03:59<10:54, 29.75s/it]"
     ]
    },
    {
     "name": "stdout",
     "output_type": "stream",
     "text": [
      "Loss val pos:  tensor(0.3276)\n",
      "Loss val neg:  tensor(0.4159)\n",
      "Loss test pos:  tensor(0.3269)\n",
      "Loss test neg:  tensor(0.4133)\n",
      "ROC-AUC val:  0.9016861926601292\n",
      "ROC-AUC test:  0.9026861253514923\n"
     ]
    },
    {
     "name": "stderr",
     "output_type": "stream",
     "text": [
      "/tmp/ipykernel_65221/201470960.py:23: UserWarning: To copy construct from a tensor, it is recommended to use sourceTensor.clone().detach() or sourceTensor.clone().detach().requires_grad_(True), rather than torch.tensor(sourceTensor).\n",
      "  pos_train_edge = torch.tensor(pos_train_edge, dtype=torch.long).T\n",
      "/tmp/ipykernel_65221/2357634718.py:42: UserWarning: To copy construct from a tensor, it is recommended to use sourceTensor.clone().detach() or sourceTensor.clone().detach().requires_grad_(True), rather than torch.tensor(sourceTensor).\n",
      "  return torch.stack([edge_index[0],torch.tensor(unique_nodes[rand]).to(edge_index.device)], dim=0).long()\n",
      "100%|██████████| 11/11 [00:28<00:00,  2.56s/it]\n"
     ]
    },
    {
     "name": "stdout",
     "output_type": "stream",
     "text": [
      "Train loss:  0.7725015065886758\n"
     ]
    },
    {
     "name": "stderr",
     "output_type": "stream",
     "text": [
      " 30%|███       | 9/30 [04:30<10:29, 29.96s/it]"
     ]
    },
    {
     "name": "stdout",
     "output_type": "stream",
     "text": [
      "Loss val pos:  tensor(0.3303)\n",
      "Loss val neg:  tensor(0.4096)\n",
      "Loss test pos:  tensor(0.3299)\n",
      "Loss test neg:  tensor(0.4067)\n",
      "ROC-AUC val:  0.9022411482529005\n",
      "ROC-AUC test:  0.9032175945475461\n"
     ]
    },
    {
     "name": "stderr",
     "output_type": "stream",
     "text": [
      "/tmp/ipykernel_65221/201470960.py:23: UserWarning: To copy construct from a tensor, it is recommended to use sourceTensor.clone().detach() or sourceTensor.clone().detach().requires_grad_(True), rather than torch.tensor(sourceTensor).\n",
      "  pos_train_edge = torch.tensor(pos_train_edge, dtype=torch.long).T\n",
      "/tmp/ipykernel_65221/2357634718.py:42: UserWarning: To copy construct from a tensor, it is recommended to use sourceTensor.clone().detach() or sourceTensor.clone().detach().requires_grad_(True), rather than torch.tensor(sourceTensor).\n",
      "  return torch.stack([edge_index[0],torch.tensor(unique_nodes[rand]).to(edge_index.device)], dim=0).long()\n",
      "100%|██████████| 11/11 [00:28<00:00,  2.60s/it]\n"
     ]
    },
    {
     "name": "stdout",
     "output_type": "stream",
     "text": [
      "Train loss:  0.7688336318189447\n"
     ]
    },
    {
     "name": "stderr",
     "output_type": "stream",
     "text": [
      " 33%|███▎      | 10/30 [05:01<10:05, 30.25s/it]"
     ]
    },
    {
     "name": "stdout",
     "output_type": "stream",
     "text": [
      "Loss val pos:  tensor(0.3339)\n",
      "Loss val neg:  tensor(0.4049)\n",
      "Loss test pos:  tensor(0.3330)\n",
      "Loss test neg:  tensor(0.4020)\n",
      "ROC-AUC val:  0.9023441465644195\n",
      "ROC-AUC test:  0.9034618073524492\n"
     ]
    },
    {
     "name": "stderr",
     "output_type": "stream",
     "text": [
      "/tmp/ipykernel_65221/201470960.py:23: UserWarning: To copy construct from a tensor, it is recommended to use sourceTensor.clone().detach() or sourceTensor.clone().detach().requires_grad_(True), rather than torch.tensor(sourceTensor).\n",
      "  pos_train_edge = torch.tensor(pos_train_edge, dtype=torch.long).T\n",
      "/tmp/ipykernel_65221/2357634718.py:42: UserWarning: To copy construct from a tensor, it is recommended to use sourceTensor.clone().detach() or sourceTensor.clone().detach().requires_grad_(True), rather than torch.tensor(sourceTensor).\n",
      "  return torch.stack([edge_index[0],torch.tensor(unique_nodes[rand]).to(edge_index.device)], dim=0).long()\n",
      "100%|██████████| 11/11 [00:30<00:00,  2.77s/it]\n"
     ]
    },
    {
     "name": "stdout",
     "output_type": "stream",
     "text": [
      "Train loss:  0.7667371088808234\n"
     ]
    },
    {
     "name": "stderr",
     "output_type": "stream",
     "text": [
      " 37%|███▋      | 11/30 [05:34<09:49, 31.05s/it]"
     ]
    },
    {
     "name": "stdout",
     "output_type": "stream",
     "text": [
      "Loss val pos:  tensor(0.3200)\n",
      "Loss val neg:  tensor(0.4175)\n",
      "Loss test pos:  tensor(0.3194)\n",
      "Loss test neg:  tensor(0.4147)\n",
      "ROC-AUC val:  0.9026978892640403\n",
      "ROC-AUC test:  0.903631472972026\n"
     ]
    },
    {
     "name": "stderr",
     "output_type": "stream",
     "text": [
      "/tmp/ipykernel_65221/201470960.py:23: UserWarning: To copy construct from a tensor, it is recommended to use sourceTensor.clone().detach() or sourceTensor.clone().detach().requires_grad_(True), rather than torch.tensor(sourceTensor).\n",
      "  pos_train_edge = torch.tensor(pos_train_edge, dtype=torch.long).T\n",
      "/tmp/ipykernel_65221/2357634718.py:42: UserWarning: To copy construct from a tensor, it is recommended to use sourceTensor.clone().detach() or sourceTensor.clone().detach().requires_grad_(True), rather than torch.tensor(sourceTensor).\n",
      "  return torch.stack([edge_index[0],torch.tensor(unique_nodes[rand]).to(edge_index.device)], dim=0).long()\n",
      "100%|██████████| 11/11 [00:30<00:00,  2.77s/it]\n"
     ]
    },
    {
     "name": "stdout",
     "output_type": "stream",
     "text": [
      "Train loss:  0.7637564810839567\n"
     ]
    },
    {
     "name": "stderr",
     "output_type": "stream",
     "text": [
      " 40%|████      | 12/30 [06:07<09:29, 31.66s/it]"
     ]
    },
    {
     "name": "stdout",
     "output_type": "stream",
     "text": [
      "Loss val pos:  tensor(0.3003)\n",
      "Loss val neg:  tensor(0.4359)\n",
      "Loss test pos:  tensor(0.2997)\n",
      "Loss test neg:  tensor(0.4329)\n",
      "ROC-AUC val:  0.9030637551925231\n",
      "ROC-AUC test:  0.9041563391458847\n"
     ]
    },
    {
     "name": "stderr",
     "output_type": "stream",
     "text": [
      "/tmp/ipykernel_65221/201470960.py:23: UserWarning: To copy construct from a tensor, it is recommended to use sourceTensor.clone().detach() or sourceTensor.clone().detach().requires_grad_(True), rather than torch.tensor(sourceTensor).\n",
      "  pos_train_edge = torch.tensor(pos_train_edge, dtype=torch.long).T\n",
      "/tmp/ipykernel_65221/2357634718.py:42: UserWarning: To copy construct from a tensor, it is recommended to use sourceTensor.clone().detach() or sourceTensor.clone().detach().requires_grad_(True), rather than torch.tensor(sourceTensor).\n",
      "  return torch.stack([edge_index[0],torch.tensor(unique_nodes[rand]).to(edge_index.device)], dim=0).long()\n",
      "100%|██████████| 11/11 [00:30<00:00,  2.75s/it]\n"
     ]
    },
    {
     "name": "stdout",
     "output_type": "stream",
     "text": [
      "Train loss:  0.7600576064803384\n"
     ]
    },
    {
     "name": "stderr",
     "output_type": "stream",
     "text": [
      " 43%|████▎     | 13/30 [06:40<09:06, 32.15s/it]"
     ]
    },
    {
     "name": "stdout",
     "output_type": "stream",
     "text": [
      "Loss val pos:  tensor(0.3180)\n",
      "Loss val neg:  tensor(0.4133)\n",
      "Loss test pos:  tensor(0.3181)\n",
      "Loss test neg:  tensor(0.4107)\n",
      "ROC-AUC val:  0.9038354060999345\n",
      "ROC-AUC test:  0.9045928700961778\n"
     ]
    },
    {
     "name": "stderr",
     "output_type": "stream",
     "text": [
      "/tmp/ipykernel_65221/201470960.py:23: UserWarning: To copy construct from a tensor, it is recommended to use sourceTensor.clone().detach() or sourceTensor.clone().detach().requires_grad_(True), rather than torch.tensor(sourceTensor).\n",
      "  pos_train_edge = torch.tensor(pos_train_edge, dtype=torch.long).T\n",
      "/tmp/ipykernel_65221/2357634718.py:42: UserWarning: To copy construct from a tensor, it is recommended to use sourceTensor.clone().detach() or sourceTensor.clone().detach().requires_grad_(True), rather than torch.tensor(sourceTensor).\n",
      "  return torch.stack([edge_index[0],torch.tensor(unique_nodes[rand]).to(edge_index.device)], dim=0).long()\n",
      "100%|██████████| 11/11 [00:34<00:00,  3.16s/it]\n"
     ]
    },
    {
     "name": "stdout",
     "output_type": "stream",
     "text": [
      "Train loss:  0.7595488591627642\n"
     ]
    },
    {
     "name": "stderr",
     "output_type": "stream",
     "text": [
      " 47%|████▋     | 14/30 [07:18<09:02, 33.88s/it]"
     ]
    },
    {
     "name": "stdout",
     "output_type": "stream",
     "text": [
      "Loss val pos:  tensor(0.2983)\n",
      "Loss val neg:  tensor(0.4313)\n",
      "Loss test pos:  tensor(0.2987)\n",
      "Loss test neg:  tensor(0.4284)\n",
      "ROC-AUC val:  0.9052457667434539\n",
      "ROC-AUC test:  0.9059419788195168\n"
     ]
    },
    {
     "name": "stderr",
     "output_type": "stream",
     "text": [
      "/tmp/ipykernel_65221/201470960.py:23: UserWarning: To copy construct from a tensor, it is recommended to use sourceTensor.clone().detach() or sourceTensor.clone().detach().requires_grad_(True), rather than torch.tensor(sourceTensor).\n",
      "  pos_train_edge = torch.tensor(pos_train_edge, dtype=torch.long).T\n",
      "/tmp/ipykernel_65221/2357634718.py:42: UserWarning: To copy construct from a tensor, it is recommended to use sourceTensor.clone().detach() or sourceTensor.clone().detach().requires_grad_(True), rather than torch.tensor(sourceTensor).\n",
      "  return torch.stack([edge_index[0],torch.tensor(unique_nodes[rand]).to(edge_index.device)], dim=0).long()\n",
      "100%|██████████| 11/11 [00:40<00:00,  3.67s/it]\n"
     ]
    },
    {
     "name": "stdout",
     "output_type": "stream",
     "text": [
      "Train loss:  0.7540406476367604\n"
     ]
    },
    {
     "name": "stderr",
     "output_type": "stream",
     "text": [
      " 50%|█████     | 15/30 [08:01<09:10, 36.69s/it]"
     ]
    },
    {
     "name": "stdout",
     "output_type": "stream",
     "text": [
      "Loss val pos:  tensor(0.2911)\n",
      "Loss val neg:  tensor(0.4285)\n",
      "Loss test pos:  tensor(0.2918)\n",
      "Loss test neg:  tensor(0.4257)\n",
      "ROC-AUC val:  0.9076936255726101\n",
      "ROC-AUC test:  0.9083547816909127\n"
     ]
    },
    {
     "name": "stderr",
     "output_type": "stream",
     "text": [
      "/tmp/ipykernel_65221/201470960.py:23: UserWarning: To copy construct from a tensor, it is recommended to use sourceTensor.clone().detach() or sourceTensor.clone().detach().requires_grad_(True), rather than torch.tensor(sourceTensor).\n",
      "  pos_train_edge = torch.tensor(pos_train_edge, dtype=torch.long).T\n",
      "/tmp/ipykernel_65221/2357634718.py:42: UserWarning: To copy construct from a tensor, it is recommended to use sourceTensor.clone().detach() or sourceTensor.clone().detach().requires_grad_(True), rather than torch.tensor(sourceTensor).\n",
      "  return torch.stack([edge_index[0],torch.tensor(unique_nodes[rand]).to(edge_index.device)], dim=0).long()\n",
      "100%|██████████| 11/11 [00:55<00:00,  5.07s/it]\n"
     ]
    },
    {
     "name": "stdout",
     "output_type": "stream",
     "text": [
      "Train loss:  0.749512022191828\n"
     ]
    },
    {
     "name": "stderr",
     "output_type": "stream",
     "text": [
      " 53%|█████▎    | 16/30 [09:00<10:05, 43.26s/it]"
     ]
    },
    {
     "name": "stdout",
     "output_type": "stream",
     "text": [
      "Loss val pos:  tensor(0.2825)\n",
      "Loss val neg:  tensor(0.4247)\n",
      "Loss test pos:  tensor(0.2833)\n",
      "Loss test neg:  tensor(0.4228)\n",
      "ROC-AUC val:  0.9103498340818393\n",
      "ROC-AUC test:  0.9107344165282061\n"
     ]
    },
    {
     "name": "stderr",
     "output_type": "stream",
     "text": [
      "/tmp/ipykernel_65221/201470960.py:23: UserWarning: To copy construct from a tensor, it is recommended to use sourceTensor.clone().detach() or sourceTensor.clone().detach().requires_grad_(True), rather than torch.tensor(sourceTensor).\n",
      "  pos_train_edge = torch.tensor(pos_train_edge, dtype=torch.long).T\n",
      "/tmp/ipykernel_65221/2357634718.py:42: UserWarning: To copy construct from a tensor, it is recommended to use sourceTensor.clone().detach() or sourceTensor.clone().detach().requires_grad_(True), rather than torch.tensor(sourceTensor).\n",
      "  return torch.stack([edge_index[0],torch.tensor(unique_nodes[rand]).to(edge_index.device)], dim=0).long()\n",
      "100%|██████████| 11/11 [00:41<00:00,  3.81s/it]\n"
     ]
    },
    {
     "name": "stdout",
     "output_type": "stream",
     "text": [
      "Train loss:  0.7410540797493674\n"
     ]
    },
    {
     "name": "stderr",
     "output_type": "stream",
     "text": [
      " 57%|█████▋    | 17/30 [09:44<09:26, 43.61s/it]"
     ]
    },
    {
     "name": "stdout",
     "output_type": "stream",
     "text": [
      "Loss val pos:  tensor(0.2849)\n",
      "Loss val neg:  tensor(0.4132)\n",
      "Loss test pos:  tensor(0.2859)\n",
      "Loss test neg:  tensor(0.4115)\n",
      "ROC-AUC val:  0.9125086828640646\n",
      "ROC-AUC test:  0.9128177594699284\n"
     ]
    },
    {
     "name": "stderr",
     "output_type": "stream",
     "text": [
      "/tmp/ipykernel_65221/201470960.py:23: UserWarning: To copy construct from a tensor, it is recommended to use sourceTensor.clone().detach() or sourceTensor.clone().detach().requires_grad_(True), rather than torch.tensor(sourceTensor).\n",
      "  pos_train_edge = torch.tensor(pos_train_edge, dtype=torch.long).T\n",
      "/tmp/ipykernel_65221/2357634718.py:42: UserWarning: To copy construct from a tensor, it is recommended to use sourceTensor.clone().detach() or sourceTensor.clone().detach().requires_grad_(True), rather than torch.tensor(sourceTensor).\n",
      "  return torch.stack([edge_index[0],torch.tensor(unique_nodes[rand]).to(edge_index.device)], dim=0).long()\n",
      "100%|██████████| 11/11 [00:35<00:00,  3.23s/it]\n"
     ]
    },
    {
     "name": "stdout",
     "output_type": "stream",
     "text": [
      "Train loss:  0.7363956895741549\n"
     ]
    },
    {
     "name": "stderr",
     "output_type": "stream",
     "text": [
      " 60%|██████    | 18/30 [10:22<08:23, 41.98s/it]"
     ]
    },
    {
     "name": "stdout",
     "output_type": "stream",
     "text": [
      "Loss val pos:  tensor(0.2954)\n",
      "Loss val neg:  tensor(0.4003)\n",
      "Loss test pos:  tensor(0.2961)\n",
      "Loss test neg:  tensor(0.3988)\n",
      "ROC-AUC val:  0.9132743985323173\n",
      "ROC-AUC test:  0.9136997816924102\n"
     ]
    },
    {
     "name": "stderr",
     "output_type": "stream",
     "text": [
      "/tmp/ipykernel_65221/201470960.py:23: UserWarning: To copy construct from a tensor, it is recommended to use sourceTensor.clone().detach() or sourceTensor.clone().detach().requires_grad_(True), rather than torch.tensor(sourceTensor).\n",
      "  pos_train_edge = torch.tensor(pos_train_edge, dtype=torch.long).T\n",
      "/tmp/ipykernel_65221/2357634718.py:42: UserWarning: To copy construct from a tensor, it is recommended to use sourceTensor.clone().detach() or sourceTensor.clone().detach().requires_grad_(True), rather than torch.tensor(sourceTensor).\n",
      "  return torch.stack([edge_index[0],torch.tensor(unique_nodes[rand]).to(edge_index.device)], dim=0).long()\n",
      "100%|██████████| 11/11 [00:34<00:00,  3.11s/it]\n"
     ]
    },
    {
     "name": "stdout",
     "output_type": "stream",
     "text": [
      "Train loss:  0.7343766309998252\n"
     ]
    },
    {
     "name": "stderr",
     "output_type": "stream",
     "text": [
      " 63%|██████▎   | 19/30 [10:59<07:25, 40.53s/it]"
     ]
    },
    {
     "name": "stdout",
     "output_type": "stream",
     "text": [
      "Loss val pos:  tensor(0.3216)\n",
      "Loss val neg:  tensor(0.3730)\n",
      "Loss test pos:  tensor(0.3223)\n",
      "Loss test neg:  tensor(0.3717)\n",
      "ROC-AUC val:  0.9121783139433548\n",
      "ROC-AUC test:  0.9125489188041713\n"
     ]
    },
    {
     "name": "stderr",
     "output_type": "stream",
     "text": [
      "/tmp/ipykernel_65221/201470960.py:23: UserWarning: To copy construct from a tensor, it is recommended to use sourceTensor.clone().detach() or sourceTensor.clone().detach().requires_grad_(True), rather than torch.tensor(sourceTensor).\n",
      "  pos_train_edge = torch.tensor(pos_train_edge, dtype=torch.long).T\n",
      "/tmp/ipykernel_65221/2357634718.py:42: UserWarning: To copy construct from a tensor, it is recommended to use sourceTensor.clone().detach() or sourceTensor.clone().detach().requires_grad_(True), rather than torch.tensor(sourceTensor).\n",
      "  return torch.stack([edge_index[0],torch.tensor(unique_nodes[rand]).to(edge_index.device)], dim=0).long()\n",
      "100%|██████████| 11/11 [00:32<00:00,  2.93s/it]\n"
     ]
    },
    {
     "name": "stdout",
     "output_type": "stream",
     "text": [
      "Train loss:  0.7309613769704645\n"
     ]
    },
    {
     "name": "stderr",
     "output_type": "stream",
     "text": [
      " 67%|██████▋   | 20/30 [11:34<06:29, 38.91s/it]"
     ]
    },
    {
     "name": "stdout",
     "output_type": "stream",
     "text": [
      "Loss val pos:  tensor(0.2871)\n",
      "Loss val neg:  tensor(0.4042)\n",
      "Loss test pos:  tensor(0.2873)\n",
      "Loss test neg:  tensor(0.4028)\n",
      "ROC-AUC val:  0.9137382647878348\n",
      "ROC-AUC test:  0.9142653774529593\n"
     ]
    },
    {
     "name": "stderr",
     "output_type": "stream",
     "text": [
      "/tmp/ipykernel_65221/201470960.py:23: UserWarning: To copy construct from a tensor, it is recommended to use sourceTensor.clone().detach() or sourceTensor.clone().detach().requires_grad_(True), rather than torch.tensor(sourceTensor).\n",
      "  pos_train_edge = torch.tensor(pos_train_edge, dtype=torch.long).T\n",
      "/tmp/ipykernel_65221/2357634718.py:42: UserWarning: To copy construct from a tensor, it is recommended to use sourceTensor.clone().detach() or sourceTensor.clone().detach().requires_grad_(True), rather than torch.tensor(sourceTensor).\n",
      "  return torch.stack([edge_index[0],torch.tensor(unique_nodes[rand]).to(edge_index.device)], dim=0).long()\n",
      "100%|██████████| 11/11 [00:35<00:00,  3.27s/it]\n"
     ]
    },
    {
     "name": "stdout",
     "output_type": "stream",
     "text": [
      "Train loss:  0.7267702872102911\n"
     ]
    },
    {
     "name": "stderr",
     "output_type": "stream",
     "text": [
      " 70%|███████   | 21/30 [12:14<05:50, 38.96s/it]"
     ]
    },
    {
     "name": "stdout",
     "output_type": "stream",
     "text": [
      "Loss val pos:  tensor(0.2669)\n",
      "Loss val neg:  tensor(0.4245)\n",
      "Loss test pos:  tensor(0.2674)\n",
      "Loss test neg:  tensor(0.4225)\n",
      "ROC-AUC val:  0.9129376420294595\n",
      "ROC-AUC test:  0.9134137289079639\n"
     ]
    },
    {
     "name": "stderr",
     "output_type": "stream",
     "text": [
      "/tmp/ipykernel_65221/201470960.py:23: UserWarning: To copy construct from a tensor, it is recommended to use sourceTensor.clone().detach() or sourceTensor.clone().detach().requires_grad_(True), rather than torch.tensor(sourceTensor).\n",
      "  pos_train_edge = torch.tensor(pos_train_edge, dtype=torch.long).T\n",
      "/tmp/ipykernel_65221/2357634718.py:42: UserWarning: To copy construct from a tensor, it is recommended to use sourceTensor.clone().detach() or sourceTensor.clone().detach().requires_grad_(True), rather than torch.tensor(sourceTensor).\n",
      "  return torch.stack([edge_index[0],torch.tensor(unique_nodes[rand]).to(edge_index.device)], dim=0).long()\n",
      "100%|██████████| 11/11 [00:31<00:00,  2.87s/it]\n"
     ]
    },
    {
     "name": "stdout",
     "output_type": "stream",
     "text": [
      "Train loss:  0.7246255874633789\n"
     ]
    },
    {
     "name": "stderr",
     "output_type": "stream",
     "text": [
      " 73%|███████▎  | 22/30 [12:48<05:00, 37.60s/it]"
     ]
    },
    {
     "name": "stdout",
     "output_type": "stream",
     "text": [
      "Loss val pos:  tensor(0.2790)\n",
      "Loss val neg:  tensor(0.4092)\n",
      "Loss test pos:  tensor(0.2795)\n",
      "Loss test neg:  tensor(0.4075)\n",
      "ROC-AUC val:  0.9146851755185635\n",
      "ROC-AUC test:  0.9151820908887714\n"
     ]
    },
    {
     "name": "stderr",
     "output_type": "stream",
     "text": [
      "/tmp/ipykernel_65221/201470960.py:23: UserWarning: To copy construct from a tensor, it is recommended to use sourceTensor.clone().detach() or sourceTensor.clone().detach().requires_grad_(True), rather than torch.tensor(sourceTensor).\n",
      "  pos_train_edge = torch.tensor(pos_train_edge, dtype=torch.long).T\n",
      "/tmp/ipykernel_65221/2357634718.py:42: UserWarning: To copy construct from a tensor, it is recommended to use sourceTensor.clone().detach() or sourceTensor.clone().detach().requires_grad_(True), rather than torch.tensor(sourceTensor).\n",
      "  return torch.stack([edge_index[0],torch.tensor(unique_nodes[rand]).to(edge_index.device)], dim=0).long()\n",
      "100%|██████████| 11/11 [00:29<00:00,  2.71s/it]\n"
     ]
    },
    {
     "name": "stdout",
     "output_type": "stream",
     "text": [
      "Train loss:  0.7234965887936678\n"
     ]
    },
    {
     "name": "stderr",
     "output_type": "stream",
     "text": [
      " 77%|███████▋  | 23/30 [13:20<04:12, 36.06s/it]"
     ]
    },
    {
     "name": "stdout",
     "output_type": "stream",
     "text": [
      "Loss val pos:  tensor(0.2874)\n",
      "Loss val neg:  tensor(0.3968)\n",
      "Loss test pos:  tensor(0.2882)\n",
      "Loss test neg:  tensor(0.3956)\n",
      "ROC-AUC val:  0.9149720785206535\n",
      "ROC-AUC test:  0.9152823466915396\n"
     ]
    },
    {
     "name": "stderr",
     "output_type": "stream",
     "text": [
      "/tmp/ipykernel_65221/201470960.py:23: UserWarning: To copy construct from a tensor, it is recommended to use sourceTensor.clone().detach() or sourceTensor.clone().detach().requires_grad_(True), rather than torch.tensor(sourceTensor).\n",
      "  pos_train_edge = torch.tensor(pos_train_edge, dtype=torch.long).T\n",
      "/tmp/ipykernel_65221/2357634718.py:42: UserWarning: To copy construct from a tensor, it is recommended to use sourceTensor.clone().detach() or sourceTensor.clone().detach().requires_grad_(True), rather than torch.tensor(sourceTensor).\n",
      "  return torch.stack([edge_index[0],torch.tensor(unique_nodes[rand]).to(edge_index.device)], dim=0).long()\n",
      "100%|██████████| 11/11 [00:30<00:00,  2.77s/it]\n"
     ]
    },
    {
     "name": "stdout",
     "output_type": "stream",
     "text": [
      "Train loss:  0.7197931788184426\n"
     ]
    },
    {
     "name": "stderr",
     "output_type": "stream",
     "text": [
      " 80%|████████  | 24/30 [13:53<03:30, 35.16s/it]"
     ]
    },
    {
     "name": "stdout",
     "output_type": "stream",
     "text": [
      "Loss val pos:  tensor(0.2751)\n",
      "Loss val neg:  tensor(0.4111)\n",
      "Loss test pos:  tensor(0.2752)\n",
      "Loss test neg:  tensor(0.4104)\n",
      "ROC-AUC val:  0.9150906983257345\n",
      "ROC-AUC test:  0.9153126549196748\n"
     ]
    },
    {
     "name": "stderr",
     "output_type": "stream",
     "text": [
      "/tmp/ipykernel_65221/201470960.py:23: UserWarning: To copy construct from a tensor, it is recommended to use sourceTensor.clone().detach() or sourceTensor.clone().detach().requires_grad_(True), rather than torch.tensor(sourceTensor).\n",
      "  pos_train_edge = torch.tensor(pos_train_edge, dtype=torch.long).T\n",
      "/tmp/ipykernel_65221/2357634718.py:42: UserWarning: To copy construct from a tensor, it is recommended to use sourceTensor.clone().detach() or sourceTensor.clone().detach().requires_grad_(True), rather than torch.tensor(sourceTensor).\n",
      "  return torch.stack([edge_index[0],torch.tensor(unique_nodes[rand]).to(edge_index.device)], dim=0).long()\n",
      "100%|██████████| 11/11 [00:30<00:00,  2.73s/it]\n"
     ]
    },
    {
     "name": "stdout",
     "output_type": "stream",
     "text": [
      "Train loss:  0.719550447030501\n"
     ]
    },
    {
     "name": "stderr",
     "output_type": "stream",
     "text": [
      " 83%|████████▎ | 25/30 [14:26<02:52, 34.41s/it]"
     ]
    },
    {
     "name": "stdout",
     "output_type": "stream",
     "text": [
      "Loss val pos:  tensor(0.2871)\n",
      "Loss val neg:  tensor(0.3947)\n",
      "Loss test pos:  tensor(0.2871)\n",
      "Loss test neg:  tensor(0.3937)\n",
      "ROC-AUC val:  0.9153580853794958\n",
      "ROC-AUC test:  0.9156520447450448\n"
     ]
    },
    {
     "name": "stderr",
     "output_type": "stream",
     "text": [
      "/tmp/ipykernel_65221/201470960.py:23: UserWarning: To copy construct from a tensor, it is recommended to use sourceTensor.clone().detach() or sourceTensor.clone().detach().requires_grad_(True), rather than torch.tensor(sourceTensor).\n",
      "  pos_train_edge = torch.tensor(pos_train_edge, dtype=torch.long).T\n",
      "/tmp/ipykernel_65221/2357634718.py:42: UserWarning: To copy construct from a tensor, it is recommended to use sourceTensor.clone().detach() or sourceTensor.clone().detach().requires_grad_(True), rather than torch.tensor(sourceTensor).\n",
      "  return torch.stack([edge_index[0],torch.tensor(unique_nodes[rand]).to(edge_index.device)], dim=0).long()\n",
      "100%|██████████| 11/11 [00:27<00:00,  2.54s/it]\n"
     ]
    },
    {
     "name": "stdout",
     "output_type": "stream",
     "text": [
      "Train loss:  0.7182145823131908\n"
     ]
    },
    {
     "name": "stderr",
     "output_type": "stream",
     "text": [
      " 87%|████████▋ | 26/30 [14:57<02:12, 33.21s/it]"
     ]
    },
    {
     "name": "stdout",
     "output_type": "stream",
     "text": [
      "Loss val pos:  tensor(0.2906)\n",
      "Loss val neg:  tensor(0.3920)\n",
      "Loss test pos:  tensor(0.2904)\n",
      "Loss test neg:  tensor(0.3905)\n",
      "ROC-AUC val:  0.9155124143256138\n",
      "ROC-AUC test:  0.9159879982611062\n"
     ]
    },
    {
     "name": "stderr",
     "output_type": "stream",
     "text": [
      "/tmp/ipykernel_65221/201470960.py:23: UserWarning: To copy construct from a tensor, it is recommended to use sourceTensor.clone().detach() or sourceTensor.clone().detach().requires_grad_(True), rather than torch.tensor(sourceTensor).\n",
      "  pos_train_edge = torch.tensor(pos_train_edge, dtype=torch.long).T\n",
      "/tmp/ipykernel_65221/2357634718.py:42: UserWarning: To copy construct from a tensor, it is recommended to use sourceTensor.clone().detach() or sourceTensor.clone().detach().requires_grad_(True), rather than torch.tensor(sourceTensor).\n",
      "  return torch.stack([edge_index[0],torch.tensor(unique_nodes[rand]).to(edge_index.device)], dim=0).long()\n",
      "100%|██████████| 11/11 [00:32<00:00,  2.99s/it]\n"
     ]
    },
    {
     "name": "stdout",
     "output_type": "stream",
     "text": [
      "Train loss:  0.7155939774079756\n"
     ]
    },
    {
     "name": "stderr",
     "output_type": "stream",
     "text": [
      " 90%|█████████ | 27/30 [15:32<01:41, 33.88s/it]"
     ]
    },
    {
     "name": "stdout",
     "output_type": "stream",
     "text": [
      "Loss val pos:  tensor(0.2560)\n",
      "Loss val neg:  tensor(0.4308)\n",
      "Loss test pos:  tensor(0.2558)\n",
      "Loss test neg:  tensor(0.4286)\n",
      "ROC-AUC val:  0.9150162834117378\n",
      "ROC-AUC test:  0.9156623009516148\n"
     ]
    },
    {
     "name": "stderr",
     "output_type": "stream",
     "text": [
      "/tmp/ipykernel_65221/201470960.py:23: UserWarning: To copy construct from a tensor, it is recommended to use sourceTensor.clone().detach() or sourceTensor.clone().detach().requires_grad_(True), rather than torch.tensor(sourceTensor).\n",
      "  pos_train_edge = torch.tensor(pos_train_edge, dtype=torch.long).T\n",
      "/tmp/ipykernel_65221/2357634718.py:42: UserWarning: To copy construct from a tensor, it is recommended to use sourceTensor.clone().detach() or sourceTensor.clone().detach().requires_grad_(True), rather than torch.tensor(sourceTensor).\n",
      "  return torch.stack([edge_index[0],torch.tensor(unique_nodes[rand]).to(edge_index.device)], dim=0).long()\n",
      "100%|██████████| 11/11 [00:32<00:00,  2.98s/it]\n"
     ]
    },
    {
     "name": "stdout",
     "output_type": "stream",
     "text": [
      "Train loss:  0.7126524502580817\n"
     ]
    },
    {
     "name": "stderr",
     "output_type": "stream",
     "text": [
      " 93%|█████████▎| 28/30 [16:07<01:08, 34.27s/it]"
     ]
    },
    {
     "name": "stdout",
     "output_type": "stream",
     "text": [
      "Loss val pos:  tensor(0.2677)\n",
      "Loss val neg:  tensor(0.4158)\n",
      "Loss test pos:  tensor(0.2678)\n",
      "Loss test neg:  tensor(0.4139)\n",
      "ROC-AUC val:  0.9160105812820795\n",
      "ROC-AUC test:  0.9165641480882849\n"
     ]
    },
    {
     "name": "stderr",
     "output_type": "stream",
     "text": [
      "/tmp/ipykernel_65221/201470960.py:23: UserWarning: To copy construct from a tensor, it is recommended to use sourceTensor.clone().detach() or sourceTensor.clone().detach().requires_grad_(True), rather than torch.tensor(sourceTensor).\n",
      "  pos_train_edge = torch.tensor(pos_train_edge, dtype=torch.long).T\n",
      "/tmp/ipykernel_65221/2357634718.py:42: UserWarning: To copy construct from a tensor, it is recommended to use sourceTensor.clone().detach() or sourceTensor.clone().detach().requires_grad_(True), rather than torch.tensor(sourceTensor).\n",
      "  return torch.stack([edge_index[0],torch.tensor(unique_nodes[rand]).to(edge_index.device)], dim=0).long()\n"
     ]
    },
    {
     "ename": "",
     "evalue": "",
     "output_type": "error",
     "traceback": [
      "\u001b[1;31mThe Kernel crashed while executing code in the the current cell or a previous cell. Please review the code in the cell(s) to identify a possible cause of the failure. Click <a href='https://aka.ms/vscodeJupyterKernelCrash'>here</a> for more info. View Jupyter <a href='command:jupyter.viewOutput'>log</a> for further details."
     ]
    }
   ],
   "source": [
    "\n",
    "\n",
    "evaluator = Evaluator(name='ogbl-ddi')\n",
    "\n",
    "optimizer = torch.optim.Adam(\n",
    "    list(model.parameters()) + list(link_predictor.parameters()) + list(emb.parameters()),\n",
    "    lr=lr, weight_decay=optim_wd\n",
    ")\n",
    "edge_index = edge_index.to(device)\n",
    "\n",
    "print(\"Before training. Available GPU memory: \", get_gpu_memory())\n",
    "\n",
    "train_loss = []\n",
    "loss_val_pos_list = []\n",
    "loss_val_neg_list = []\n",
    "loss_test_pos_list = []\n",
    "loss_test_neg_list = []\n",
    "hits_20 = []\n",
    "hits_50 = []\n",
    "hits_100 = []\n",
    "roc_auc_val = []\n",
    "roc_auc_test = []\n",
    "\n",
    "val_hits = []\n",
    "test_hits = []\n",
    "for e in tqdm(range(epochs)):\n",
    "    loss = train(model, link_predictor, emb.weight, edge_index, pos_train_edge, batch_size, optimizer)\n",
    "    train_loss.append(loss)\n",
    "    if (e+1)%50 == 0:\n",
    "        print(f\"Epoch {e + 1}: loss: {round(loss, 5)}\")\n",
    "    \n",
    "    result = test(model, link_predictor, emb.weight, edge_index, split_edge, batch_size, evaluator)\n",
    "    \n",
    "    loss_val_pos_list.append(result[\"loss_val_pos\"])\n",
    "    loss_val_neg_list.append(result[\"loss_val_neg\"])\n",
    "    loss_test_pos_list.append(result[\"loss_test_pos\"])\n",
    "    loss_test_neg_list.append(result[\"loss_test_neg\"])\n",
    "    hits_20.append(result[\"Hits@20\"])\n",
    "    hits_50.append(result[\"Hits@50\"])\n",
    "    hits_100.append(result[\"Hits@100\"])\n",
    "    roc_auc_val.append(result[\"roc_auc_val\"])\n",
    "    roc_auc_test.append(result[\"roc_auc_test\"])"
   ]
  },
  {
   "cell_type": "code",
   "execution_count": 1,
   "metadata": {},
   "outputs": [
    {
     "ename": "NameError",
     "evalue": "name 'plt' is not defined",
     "output_type": "error",
     "traceback": [
      "\u001b[0;31m---------------------------------------------------------------------------\u001b[0m",
      "\u001b[0;31mNameError\u001b[0m                                 Traceback (most recent call last)",
      "Cell \u001b[0;32mIn[1], line 1\u001b[0m\n\u001b[0;32m----> 1\u001b[0m \u001b[43mplt\u001b[49m\u001b[38;5;241m.\u001b[39mtitle(\u001b[38;5;124m'\u001b[39m\u001b[38;5;124mLink Prediction using GraphSAGE GNN\u001b[39m\u001b[38;5;124m'\u001b[39m)\n\u001b[1;32m      2\u001b[0m plt\u001b[38;5;241m.\u001b[39mplot(train_loss,label\u001b[38;5;241m=\u001b[39m\u001b[38;5;124m\"\u001b[39m\u001b[38;5;124mtraining loss\u001b[39m\u001b[38;5;124m\"\u001b[39m)\n\u001b[1;32m      3\u001b[0m plt\u001b[38;5;241m.\u001b[39mplot(loss_val_pos_list,label\u001b[38;5;241m=\u001b[39m\u001b[38;5;124m\"\u001b[39m\u001b[38;5;124mvalidation loss positive\u001b[39m\u001b[38;5;124m\"\u001b[39m)\n",
      "\u001b[0;31mNameError\u001b[0m: name 'plt' is not defined"
     ]
    }
   ],
   "source": [
    "plt.title('Link Prediction using GraphSAGE GNN')\n",
    "plt.plot(train_loss,label=\"training loss\")\n",
    "plt.plot(loss_val_pos_list,label=\"validation loss positive\")\n",
    "plt.plot(loss_val_neg_list,label=\"validation loss negative\")\n",
    "plt.plot(loss_test_pos_list,label=\"test loss positive\")\n",
    "plt.plot(loss_test_neg_list,label=\"test loss negative\")\n",
    "plt.xlabel('Epochs')\n",
    "plt.legend()\n",
    "plt.show()"
   ]
  },
  {
   "cell_type": "code",
   "execution_count": 91,
   "metadata": {},
   "outputs": [
    {
     "data": {
      "image/png": "[encoded data removed]",
      "text/plain": [
       "<Figure size 640x480 with 1 Axes>"
      ]
     },
     "metadata": {},
     "output_type": "display_data"
    }
   ],
   "source": [
    "plt.title('Link Prediction using GraphSAGE GNN')\n",
    "plt.plot(hits_20,label=\"hits@20\")\n",
    "plt.plot(hits_50,label=\"hits@50\")\n",
    "plt.plot(hits_100,label=\"hits@100\")\n",
    "plt.xlabel('Epochs')\n",
    "plt.legend()\n",
    "plt.show()"
   ]
  },
  {
   "cell_type": "code",
   "execution_count": 92,
   "metadata": {},
   "outputs": [
    {
     "data": {
      "image/png": "[encoded data removed]",
      "text/plain": [
       "<Figure size 640x480 with 1 Axes>"
      ]
     },
     "metadata": {},
     "output_type": "display_data"
    }
   ],
   "source": [
    "plt.title('Link Prediction using GraphSAGE GNN')\n",
    "plt.plot(roc_auc_val,label=\"ROC-AUC validation\")\n",
    "plt.plot(roc_auc_test,label=\"ROC-AUC test\")\n",
    "plt.xlabel('Epochs')\n",
    "plt.legend()\n",
    "plt.show()"
   ]
  },
  {
   "cell_type": "code",
   "execution_count": null,
   "metadata": {},
   "outputs": [],
   "source": []
  },
  {
   "cell_type": "code",
   "execution_count": null,
   "metadata": {},
   "outputs": [],
   "source": []
  }
 ],
 "metadata": {
  "kernelspec": {
   "display_name": "sna_link_prediction",
   "language": "python",
   "name": "python3"
  },
  "language_info": {
   "codemirror_mode": {
    "name": "ipython",
    "version": 3
   },
   "file_extension": ".py",
   "mimetype": "text/x-python",
   "name": "python",
   "nbconvert_exporter": "python",
   "pygments_lexer": "ipython3",
   "version": "3.9.18"
  }
 },
 "nbformat": 4,
 "nbformat_minor": 2
}
