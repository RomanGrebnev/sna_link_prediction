{
 "cells": [
  {
   "cell_type": "code",
   "execution_count": 1,
   "metadata": {},
   "outputs": [],
   "source": [
    "import numpy as np\n",
    "import networkx as nx\n",
    "import pandas as pd\n",
    "import matplotlib.pyplot as plt\n",
    "\n",
    "from tqdm import tqdm\n",
    "import matplotlib.pyplot as plt\n",
    "import random\n",
    "from typing import Dict\n",
    "\n",
    "from torch import nn, optim, Tensor, torch"
   ]
  },
  {
   "cell_type": "code",
   "execution_count": 2,
   "metadata": {},
   "outputs": [],
   "source": [
    "from ndl_similarity.data_loader import UserUserDataset\n",
    "from ndl_similarity.ndl_similarity import *"
   ]
  },
  {
   "cell_type": "markdown",
   "metadata": {},
   "source": [
    "### ToDo\n",
    "- Calculate edge attribute weight for the matrix\n",
    "    - postive edges get weight 1, negative edges get weight 0 as a pd.dataframe\n",
    "- How to get the score metrics: recall and precision?"
   ]
  },
  {
   "cell_type": "code",
   "execution_count": 3,
   "metadata": {},
   "outputs": [],
   "source": [
    "postings_1 = pd.read_csv(\"../data/Postings_01052019_15052019.csv\", sep = ';')\n",
    "postings_2 = pd.read_csv(\"../data/Postings_16052019_31052019.csv\", sep = ';')\n",
    "votes_1 = pd.read_csv(\"../data/Votes_01052019_15052019.csv\", sep = ';')\n",
    "votes_2 = pd.read_csv(\"../data/Votes_16052019_31052019.csv\", sep = ';')\n",
    "postings = pd.concat([postings_1, postings_2])\n",
    "votes = pd.concat([votes_1, votes_2])\n",
    "\n",
    "datasets_dict = {\n",
    "    \"postings\": postings,\n",
    "    \"votes\": votes\n",
    "}"
   ]
  },
  {
   "cell_type": "code",
   "execution_count": 4,
   "metadata": {},
   "outputs": [
    {
     "data": {
      "text/plain": [
       "4351"
      ]
     },
     "execution_count": 4,
     "metadata": {},
     "output_type": "execute_result"
    }
   ],
   "source": [
    "len(postings[\"ID_Article\"].unique())"
   ]
  },
  {
   "cell_type": "code",
   "execution_count": 5,
   "metadata": {},
   "outputs": [
    {
     "data": {
      "text/plain": [
       "689"
      ]
     },
     "execution_count": 5,
     "metadata": {},
     "output_type": "execute_result"
    }
   ],
   "source": [
    "len(postings[\"ArticleRessortName\"].unique())"
   ]
  },
  {
   "cell_type": "markdown",
   "metadata": {},
   "source": [
    "To understand the data structure of the data loader and to get a data frame for the mapping"
   ]
  },
  {
   "cell_type": "code",
   "execution_count": 6,
   "metadata": {},
   "outputs": [
    {
     "name": "stdout",
     "output_type": "stream",
     "text": [
      "Size of user-article interaction dataframe:  (895196, 6)\n",
      "Number of unique users:  33703\n",
      "Number of unique articles:  4351\n",
      "Number of edges:  895196\n"
     ]
    }
   ],
   "source": [
    "uu_dataset = UserUserDataset(datasets_dict = datasets_dict, verbose = True)"
   ]
  },
  {
   "cell_type": "code",
   "execution_count": 7,
   "metadata": {},
   "outputs": [],
   "source": [
    "user_article, users_mapping, articles_mapping = uu_dataset.outsource_information()\n",
    "reverse_user_mapping = {v: k for k, v in users_mapping.items()}\n",
    "reverse_article_mapping = {v: k for k, v in articles_mapping.items()}\n",
    "\n",
    "def revMap(enc_list, map_dict):\n",
    "    original = [map_dict[item.item()] for item in enc_list]\n",
    "    return original"
   ]
  },
  {
   "cell_type": "code",
   "execution_count": 8,
   "metadata": {},
   "outputs": [
    {
     "data": {
      "text/html": [
       "<div>\n",
       "<style scoped>\n",
       "    .dataframe tbody tr th:only-of-type {\n",
       "        vertical-align: middle;\n",
       "    }\n",
       "\n",
       "    .dataframe tbody tr th {\n",
       "        vertical-align: top;\n",
       "    }\n",
       "\n",
       "    .dataframe thead th {\n",
       "        text-align: right;\n",
       "    }\n",
       "</style>\n",
       "<table border=\"1\" class=\"dataframe\">\n",
       "  <thead>\n",
       "    <tr style=\"text-align: right;\">\n",
       "      <th></th>\n",
       "      <th>ID_CommunityIdentity</th>\n",
       "      <th>ID_Article</th>\n",
       "      <th>user_id</th>\n",
       "      <th>article_id</th>\n",
       "      <th>user_id_enc</th>\n",
       "      <th>article_enc</th>\n",
       "    </tr>\n",
       "  </thead>\n",
       "  <tbody>\n",
       "    <tr>\n",
       "      <th>0</th>\n",
       "      <td>30</td>\n",
       "      <td>2000102732845</td>\n",
       "      <td>u-30</td>\n",
       "      <td>a-2000102732845</td>\n",
       "      <td>7481</td>\n",
       "      <td>1107</td>\n",
       "    </tr>\n",
       "    <tr>\n",
       "      <th>1</th>\n",
       "      <td>30</td>\n",
       "      <td>2000103774090</td>\n",
       "      <td>u-30</td>\n",
       "      <td>a-2000103774090</td>\n",
       "      <td>7481</td>\n",
       "      <td>3547</td>\n",
       "    </tr>\n",
       "    <tr>\n",
       "      <th>2</th>\n",
       "      <td>30</td>\n",
       "      <td>2000104101028</td>\n",
       "      <td>u-30</td>\n",
       "      <td>a-2000104101028</td>\n",
       "      <td>7481</td>\n",
       "      <td>4239</td>\n",
       "    </tr>\n",
       "    <tr>\n",
       "      <th>3</th>\n",
       "      <td>38</td>\n",
       "      <td>2000102598376</td>\n",
       "      <td>u-38</td>\n",
       "      <td>a-2000102598376</td>\n",
       "      <td>8060</td>\n",
       "      <td>800</td>\n",
       "    </tr>\n",
       "    <tr>\n",
       "      <th>4</th>\n",
       "      <td>38</td>\n",
       "      <td>2000102673879</td>\n",
       "      <td>u-38</td>\n",
       "      <td>a-2000102673879</td>\n",
       "      <td>8060</td>\n",
       "      <td>977</td>\n",
       "    </tr>\n",
       "    <tr>\n",
       "      <th>...</th>\n",
       "      <td>...</td>\n",
       "      <td>...</td>\n",
       "      <td>...</td>\n",
       "      <td>...</td>\n",
       "      <td>...</td>\n",
       "      <td>...</td>\n",
       "    </tr>\n",
       "    <tr>\n",
       "      <th>744097</th>\n",
       "      <td>694428</td>\n",
       "      <td>2000104092603</td>\n",
       "      <td>u-694428</td>\n",
       "      <td>a-2000104092603</td>\n",
       "      <td>32296</td>\n",
       "      <td>4215</td>\n",
       "    </tr>\n",
       "    <tr>\n",
       "      <th>744099</th>\n",
       "      <td>694465</td>\n",
       "      <td>2000104039572</td>\n",
       "      <td>u-694465</td>\n",
       "      <td>a-2000104039572</td>\n",
       "      <td>32302</td>\n",
       "      <td>4119</td>\n",
       "    </tr>\n",
       "    <tr>\n",
       "      <th>744100</th>\n",
       "      <td>694465</td>\n",
       "      <td>2000104075987</td>\n",
       "      <td>u-694465</td>\n",
       "      <td>a-2000104075987</td>\n",
       "      <td>32302</td>\n",
       "      <td>4173</td>\n",
       "    </tr>\n",
       "    <tr>\n",
       "      <th>744101</th>\n",
       "      <td>694465</td>\n",
       "      <td>2000104146249</td>\n",
       "      <td>u-694465</td>\n",
       "      <td>a-2000104146249</td>\n",
       "      <td>32302</td>\n",
       "      <td>4316</td>\n",
       "    </tr>\n",
       "    <tr>\n",
       "      <th>744103</th>\n",
       "      <td>694509</td>\n",
       "      <td>2000103983635</td>\n",
       "      <td>u-694509</td>\n",
       "      <td>a-2000103983635</td>\n",
       "      <td>32309</td>\n",
       "      <td>3991</td>\n",
       "    </tr>\n",
       "  </tbody>\n",
       "</table>\n",
       "<p>895196 rows × 6 columns</p>\n",
       "</div>"
      ],
      "text/plain": [
       "        ID_CommunityIdentity     ID_Article   user_id       article_id  \\\n",
       "0                         30  2000102732845      u-30  a-2000102732845   \n",
       "1                         30  2000103774090      u-30  a-2000103774090   \n",
       "2                         30  2000104101028      u-30  a-2000104101028   \n",
       "3                         38  2000102598376      u-38  a-2000102598376   \n",
       "4                         38  2000102673879      u-38  a-2000102673879   \n",
       "...                      ...            ...       ...              ...   \n",
       "744097                694428  2000104092603  u-694428  a-2000104092603   \n",
       "744099                694465  2000104039572  u-694465  a-2000104039572   \n",
       "744100                694465  2000104075987  u-694465  a-2000104075987   \n",
       "744101                694465  2000104146249  u-694465  a-2000104146249   \n",
       "744103                694509  2000103983635  u-694509  a-2000103983635   \n",
       "\n",
       "        user_id_enc  article_enc  \n",
       "0              7481         1107  \n",
       "1              7481         3547  \n",
       "2              7481         4239  \n",
       "3              8060          800  \n",
       "4              8060          977  \n",
       "...             ...          ...  \n",
       "744097        32296         4215  \n",
       "744099        32302         4119  \n",
       "744100        32302         4173  \n",
       "744101        32302         4316  \n",
       "744103        32309         3991  \n",
       "\n",
       "[895196 rows x 6 columns]"
      ]
     },
     "execution_count": 8,
     "metadata": {},
     "output_type": "execute_result"
    }
   ],
   "source": [
    "user_article"
   ]
  },
  {
   "cell_type": "code",
   "execution_count": 9,
   "metadata": {},
   "outputs": [
    {
     "name": "stdout",
     "output_type": "stream",
     "text": [
      "Train edge index shape:  torch.Size([2, 716156])\n",
      "Val edge index shape:  torch.Size([2, 89520])\n",
      "Test edge index shape:  torch.Size([2, 89520])\n"
     ]
    }
   ],
   "source": [
    "train_edge_index, val_edge_index, test_edge_index = uu_dataset.get_train_test_val_split(val_split_ratio = 0.2, test_split_ratio = 0.5, random_state = 1, sparse = False)"
   ]
  },
  {
   "cell_type": "code",
   "execution_count": 10,
   "metadata": {},
   "outputs": [
    {
     "data": {
      "text/plain": [
       "torch.Size([2, 895196])"
      ]
     },
     "execution_count": 10,
     "metadata": {},
     "output_type": "execute_result"
    }
   ],
   "source": [
    "edges_all = torch.cat([train_edge_index, val_edge_index, test_edge_index], dim=1)\n",
    "edges_all.shape"
   ]
  },
  {
   "cell_type": "code",
   "execution_count": 11,
   "metadata": {},
   "outputs": [
    {
     "data": {
      "text/plain": [
       "tensor([[27952, 13714,  3642,  ...,  4706, 22428,  3550],\n",
       "        [ 4117,  1419,  4045,  ...,   994,  3355,  1599]])"
      ]
     },
     "execution_count": 11,
     "metadata": {},
     "output_type": "execute_result"
    }
   ],
   "source": [
    "edges_all"
   ]
  },
  {
   "cell_type": "code",
   "execution_count": 12,
   "metadata": {},
   "outputs": [],
   "source": [
    "source, target, negative_target = uu_dataset.get_negative_samples(edges_all)"
   ]
  },
  {
   "cell_type": "code",
   "execution_count": 20,
   "metadata": {},
   "outputs": [],
   "source": [
    "G = torch_to_Graph(source= revMap(edges_all[0],reverse_user_mapping), pos_target= revMap(edges_all[1], reverse_article_mapping),neg_target= None)"
   ]
  },
  {
   "cell_type": "code",
   "execution_count": 21,
   "metadata": {},
   "outputs": [
    {
     "data": {
      "text/plain": [
       "895196"
      ]
     },
     "execution_count": 21,
     "metadata": {},
     "output_type": "execute_result"
    }
   ],
   "source": [
    "G.number_of_edges()"
   ]
  },
  {
   "cell_type": "code",
   "execution_count": 22,
   "metadata": {},
   "outputs": [],
   "source": [
    "G_undirected = G.copy().to_undirected()"
   ]
  },
  {
   "cell_type": "code",
   "execution_count": 23,
   "metadata": {},
   "outputs": [],
   "source": [
    "degree_dict = dict(G_undirected.degree())\n",
    "centrality_dict = nx.degree_centrality(G)"
   ]
  },
  {
   "cell_type": "code",
   "execution_count": 24,
   "metadata": {},
   "outputs": [
    {
     "data": {
      "text/html": [
       "<div>\n",
       "<style scoped>\n",
       "    .dataframe tbody tr th:only-of-type {\n",
       "        vertical-align: middle;\n",
       "    }\n",
       "\n",
       "    .dataframe tbody tr th {\n",
       "        vertical-align: top;\n",
       "    }\n",
       "\n",
       "    .dataframe thead th {\n",
       "        text-align: right;\n",
       "    }\n",
       "</style>\n",
       "<table border=\"1\" class=\"dataframe\">\n",
       "  <thead>\n",
       "    <tr style=\"text-align: right;\">\n",
       "      <th></th>\n",
       "      <th>centrality</th>\n",
       "      <th>degree</th>\n",
       "    </tr>\n",
       "  </thead>\n",
       "  <tbody>\n",
       "    <tr>\n",
       "      <th>u-680585</th>\n",
       "      <td>0.002260</td>\n",
       "      <td>86</td>\n",
       "    </tr>\n",
       "    <tr>\n",
       "      <th>a-2000104039148</th>\n",
       "      <td>0.015058</td>\n",
       "      <td>573</td>\n",
       "    </tr>\n",
       "    <tr>\n",
       "      <th>u-531534</th>\n",
       "      <td>0.000447</td>\n",
       "      <td>17</td>\n",
       "    </tr>\n",
       "    <tr>\n",
       "      <th>a-2000102849817</th>\n",
       "      <td>0.008620</td>\n",
       "      <td>328</td>\n",
       "    </tr>\n",
       "    <tr>\n",
       "      <th>u-180735</th>\n",
       "      <td>0.001077</td>\n",
       "      <td>41</td>\n",
       "    </tr>\n",
       "  </tbody>\n",
       "</table>\n",
       "</div>"
      ],
      "text/plain": [
       "                 centrality  degree\n",
       "u-680585           0.002260      86\n",
       "a-2000104039148    0.015058     573\n",
       "u-531534           0.000447      17\n",
       "a-2000102849817    0.008620     328\n",
       "u-180735           0.001077      41"
      ]
     },
     "execution_count": 24,
     "metadata": {},
     "output_type": "execute_result"
    }
   ],
   "source": [
    "centrality_df =pd.DataFrame.from_dict(centrality_dict, orient='index')\n",
    "degree_df =pd.DataFrame.from_dict(degree_dict, orient='index')\n",
    "graph_features_df = pd.merge(centrality_df, degree_df, left_index=True, right_index=True)\n",
    "graph_features_df.columns = [\"centrality\", \"degree\"]\n",
    "graph_features_df.head()"
   ]
  },
  {
   "cell_type": "code",
   "execution_count": 27,
   "metadata": {},
   "outputs": [],
   "source": [
    "#graph_features_df.to_csv(\"../data/graph_features.csv\")\n",
    "graph_features_df.to_csv(\"./ndl_similarity/graph_features.csv\")"
   ]
  }
 ],
 "metadata": {
  "kernelspec": {
   "display_name": "tuw_sna",
   "language": "python",
   "name": "python3"
  },
  "language_info": {
   "codemirror_mode": {
    "name": "ipython",
    "version": 3
   },
   "file_extension": ".py",
   "mimetype": "text/x-python",
   "name": "python",
   "nbconvert_exporter": "python",
   "pygments_lexer": "ipython3",
   "version": "3.11.5"
  }
 },
 "nbformat": 4,
 "nbformat_minor": 2
}
